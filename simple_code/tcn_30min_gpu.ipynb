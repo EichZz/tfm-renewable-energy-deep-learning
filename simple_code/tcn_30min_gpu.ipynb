{
 "cells": [
  {
   "cell_type": "code",
   "execution_count": 2,
   "metadata": {},
   "outputs": [],
   "source": [
    "# !python --version\n",
    "# %pip install --upgrade pandas\n",
    "# %pip install openpyxl\n",
    "# %pip install numpy\n",
    "# %pip install scikit-learn\n",
    "# %pip install matplotlib\n",
    "# %pip install plot_keras_history\n",
    "# %pip install tensorflow\n",
    "# %pip install keras-tuner\n",
    "# %pip install -q keras-tcn --no-dependencies"
   ]
  },
  {
   "cell_type": "code",
   "execution_count": 3,
   "metadata": {},
   "outputs": [
    {
     "name": "stdout",
     "output_type": "stream",
     "text": [
      "TF version: 2.1.0\n",
      "Panda version: 1.1.5\n",
      "Physical devices:  [PhysicalDevice(name='/physical_device:CPU:0', device_type='CPU'), PhysicalDevice(name='/physical_device:GPU:0', device_type='GPU')]\n",
      "Default GPU Device: /device:GPU:0\n",
      "Num GPUs Available:  1\n",
      "Build with CUDA:  True\n"
     ]
    }
   ],
   "source": [
    "import time\n",
    "import datetime\n",
    "\n",
    "import pandas as pd\n",
    "import numpy as np\n",
    "from sklearn.preprocessing import MinMaxScaler\n",
    "from sklearn.model_selection import train_test_split\n",
    "import matplotlib.pyplot as plt\n",
    "from plot_keras_history import plot_history\n",
    "import sklearn.metrics as metrics\n",
    "import os as os\n",
    "\n",
    "import tensorflow as tf\n",
    "import tensorflow.keras as keras\n",
    "from tensorflow.keras.models import Sequential\n",
    "from tensorflow.keras.layers import Dense\n",
    "from tensorflow.keras.layers import Dropout\n",
    "from tensorflow.python.client import device_lib\n",
    "\n",
    "from tcn import TCN, tcn_full_summary\n",
    "\n",
    "import kerastuner as kt\n",
    "from kerastuner.tuners import RandomSearch, BayesianOptimization\n",
    "\n",
    "print(\"TF version:\", tf.__version__)\n",
    "print(\"Panda version:\", pd.__version__)\n",
    "\n",
    "def get_available_devices():\n",
    "    local_device_protos = device_lib.list_local_devices()\n",
    "    return [x.name for x in local_device_protos]\n",
    "\n",
    "print(\"Physical devices: \", tf.config.list_physical_devices())\n",
    "# Se va a habilitar la dedicacion dinamica de memoria para que la GPU vaya asignando recursos al proceso conforme los vaya necesitando\n",
    "\n",
    "if tf.test.gpu_device_name():\n",
    "    print('Default GPU Device: {}'.format(tf.test.gpu_device_name()))\n",
    "else:\n",
    "    print(\"Please install GPU version of TF\")\n",
    "print(\"Num GPUs Available: \", len(tf.config.experimental.list_physical_devices('GPU')))\n",
    "#print(tf.config.list_physical_devices('GPU'))\n",
    "print(\"Build with CUDA: \", tf.test.is_built_with_cuda())\n",
    "\n",
    "# Insantes de tiempo futuros a predecir\n",
    "numPredictions = 20\n",
    "\n",
    "# Number of best models\n",
    "numBestModels = 1\n",
    "\n",
    "# Porcentaje del conjunto de test\n",
    "test_size = 0.3\n",
    "# Porcentaje del conjunto de validacion\n",
    "val_size = 0.3\n",
    "\n",
    "# Establecer objetivo (Name of model metric to minimize or maximize, e.g. \"val_accuracy\"). \n",
    "# El \"val_\" hace referencia a que se coge la métrica en el subconjunto de validación\n",
    "\n",
    "# obje = kerastuner.Objective('val_mean_absolute_percentage_error', 'min')\n",
    "\n",
    "# Epocas\n",
    "epchs = 1000\n",
    "# Tamaño del batch\n",
    "batch = 1024\n",
    "# Nodos internos\n",
    "hidden_nodes = 10\n",
    "\n",
    "# Units parameters\n",
    "minUnits = 50\n",
    "maxUnits = 200\n",
    "stepsUnits = 50\n",
    "defaultUnits = 50\n",
    "\n",
    "# Layers parameters\n",
    "minLayers = 1\n",
    "maxLayers = 10\n",
    "defaultLayers = 3\n",
    "\n",
    "# Dropout Parameters\n",
    "minDropout = 0\n",
    "maxDropout = 0.33\n",
    "defaultDropout = .25\n",
    "\n",
    "# Establecer medida de loss\n",
    "loss = \"mean_absolute_error\"\n",
    "\n",
    "# Model metrics\n",
    "modelMetrics = [keras.metrics.MAE, keras.metrics.RMSE]\n",
    "\n",
    "# Learning rate\n",
    "learningRate = [0.0, 1e-2, 1e-3, 1e-4]\n",
    "\n",
    "# Optimizer objetive: error percetange with the validation set \n",
    "objective = kt.Objective('val_mean_absolute_error', 'min')\n",
    "\n",
    "# Maximum model trials and executions\n",
    "trials = 2\n",
    "executions = 2\n",
    "\n",
    "# Model saving parameters\n",
    "workingDirectory = datetime.datetime.fromtimestamp(time.time()).strftime('%d-%m-%Y %hh:%mm')\n",
    "projectName = \"tcn\"\n",
    "\n"
   ]
  },
  {
   "cell_type": "code",
   "execution_count": 4,
   "metadata": {},
   "outputs": [],
   "source": [
    "df = pd.read_excel(\"C:/Users/hecto/Documents/Master/TFM/tfm-renewable-energy-deep-learning/data/2015_30min.xlsx\", \n",
    "                   header=None, \n",
    "                   engine='openpyxl')[0]\n",
    "\n",
    "df2 = pd.read_excel(\"C:/Users/hecto/Documents/Master/TFM/tfm-renewable-energy-deep-learning/data/2016_30min.xlsx\",\n",
    "                    header = None, \n",
    "                    engine = 'openpyxl')[0]"
   ]
  },
  {
   "cell_type": "code",
   "execution_count": 5,
   "metadata": {},
   "outputs": [
    {
     "name": "stdout",
     "output_type": "stream",
     "text": [
      "X Preproccessed shape:  (364, 20)\n",
      "Y Preproccessed shape:  (364, 20)\n",
      "---------------------------------------------\n",
      "DataFrame Preproccessed:\n",
      "              0           1           2           3           4           5  \\\n",
      "0     96.691833  193.486833  700.986333  587.718333  454.512500  631.489833   \n",
      "1    202.375667  166.977000  403.916667  340.241000  649.179667  708.682500   \n",
      "2    109.810167  152.215167   84.124833  134.679500  183.520167  280.223333   \n",
      "3    385.892667  406.789667  467.582500  380.776333  519.853833  493.757500   \n",
      "4    278.043000  417.771833  342.662667  375.797833  460.997500  426.551500   \n",
      "..          ...         ...         ...         ...         ...         ...   \n",
      "359  366.420667  464.264667  552.852833  619.109000  665.427167  724.307333   \n",
      "360  195.091333  258.723500  361.770833  478.921833  412.853000  273.145167   \n",
      "361  290.458000  348.943000  487.557167  453.287500  454.995500  453.921167   \n",
      "362  194.163333  413.427667  527.695167  358.897000  290.422333  344.844667   \n",
      "363  363.149000  464.485667  546.436500  617.035333  419.664667  571.180833   \n",
      "\n",
      "              6           7           8           9  ...      col_31  \\\n",
      "0    851.174833  603.626833  684.357000  635.482167  ...  649.432333   \n",
      "1    819.760333  856.866000  745.517833  633.774833  ...  422.600000   \n",
      "2    223.922667  319.193500  316.099667  401.729500  ...  679.056333   \n",
      "3    560.251833  629.770833  411.681000  609.663500  ...   95.089500   \n",
      "4    195.413833  133.260500  288.854833  615.148000  ...  826.428833   \n",
      "..          ...         ...         ...         ...  ...         ...   \n",
      "359  680.677667  638.867000  661.925167  635.570833  ...  575.893000   \n",
      "360  152.961000  142.011167  309.897167  562.205167  ...  490.736167   \n",
      "361  686.174667  647.139500  722.517167  598.429000  ...  360.369333   \n",
      "362  506.030833  617.758000  197.139000  162.138000  ...  571.733833   \n",
      "363  660.557333  745.457667  680.039667  566.155500  ...  467.921333   \n",
      "\n",
      "         col_32      col_33      col_34      col_35      col_36      col_37  \\\n",
      "0    665.403833  703.733167  438.760333  198.212667  114.285000  203.239667   \n",
      "1    468.983167  536.752667  301.783333  536.101667  649.429833  654.283500   \n",
      "2    631.856833  602.424333  533.966167  385.516667  327.990500  398.096833   \n",
      "3    142.531833  234.934667  396.294833  158.716000  100.513167  187.186667   \n",
      "4    748.059167  816.386667  713.526667  780.726833  695.429667  621.188500   \n",
      "..          ...         ...         ...         ...         ...         ...   \n",
      "359  596.069833  408.424000  213.926167  145.269833  180.539833  266.187833   \n",
      "360  251.588500  144.801167   84.937000   76.778833   80.476167   72.313333   \n",
      "361  166.942500  390.007500  377.754500  226.036833  166.183833  185.971167   \n",
      "362  562.752667  548.686000  715.050000  446.255333  370.894167  452.765833   \n",
      "363  417.395833  578.181500  655.602167  524.690833  601.943333  494.858833   \n",
      "\n",
      "         col_38      col_39      col_40  \n",
      "0    302.421167  258.986500  129.021833  \n",
      "1    507.839667  365.818667  280.739167  \n",
      "2    225.028500  246.515000  297.455833  \n",
      "3    197.681333  131.180833  141.082333  \n",
      "4    522.770167  415.227667  304.259333  \n",
      "..          ...         ...         ...  \n",
      "359  182.840167  115.933500   95.227167  \n",
      "360  105.669000   71.018500   74.669667  \n",
      "361  249.582500  284.635833   68.268167  \n",
      "362  418.301000  361.319833  224.487667  \n",
      "363  382.829667  374.602167  244.221667  \n",
      "\n",
      "[364 rows x 40 columns]\n",
      "---------------------------------------------\n",
      "Shapes:\n",
      "xTrain:\t(177, 20)\n",
      "yTrain:\t(177, 20)\n",
      "xVal:\t(77, 20)\n",
      "yVal:\t(77, 20)\n",
      "xTest:\t(110, 20)\n",
      "yTest:\t(110, 20)\n",
      "---------------------------------------------\n"
     ]
    }
   ],
   "source": [
    "\n",
    "# Data preprocessing: each row will contain the 20 measures for each day , and the 10 measures for the following day\n",
    "X = pd.DataFrame(np.array(df).reshape(-1, 20))\n",
    "Y = pd.DataFrame.copy(X)\n",
    "\n",
    "Y.columns = [\"col_{}\".format(i) for i in range(21, 41)]\n",
    "Y = Y.drop(0)\n",
    "Y = Y.reset_index(drop=True)\n",
    "Y.loc[len(Y)] = np.zeros(numPredictions)\n",
    "\n",
    "# Last row is deleted because it is the one used for the real prediction, \n",
    "# it is not useful for the training of the model. \n",
    "X.drop(X.tail(1).index,inplace=True)\n",
    "Y.drop(Y.tail(1).index,inplace=True)\n",
    "\n",
    "print(\"X Preproccessed shape: \", X.shape)\n",
    "print(\"Y Preproccessed shape: \", Y.shape)\n",
    "print(\"---------------------------------------------\")\n",
    "\n",
    "#  Uncomment in order to normalize data\n",
    "# Data Normalization\n",
    "# scaler = MinMaxScaler()\n",
    "# X = pd.DataFrame(scaler.fit_transform(X), columns=[\"col_{}\".format(i) for i in range(1, 21)])\n",
    "# Y = pd.DataFrame(scaler.fit_transform(Y), columns=[\"col_{}\".format(i) for i in range(21, 41)])\n",
    "\n",
    "dfPreproccessed = pd.concat([X, Y], axis=1)\n",
    "\n",
    "print(\"DataFrame Preproccessed:\")\n",
    "print(dfPreproccessed)\n",
    "print(\"---------------------------------------------\")\n",
    "\n",
    "# Split the data into training and validation sets\n",
    "xTrain, xTest, yTrain, yTest = train_test_split(X, \n",
    "                                                Y, \n",
    "                                                test_size = test_size, \n",
    "                                                random_state = 0, \n",
    "                                                shuffle=False)\n",
    "xTrain, xVal, yTrain, yVal = train_test_split(xTrain, \n",
    "                                            yTrain, \n",
    "                                            test_size = val_size, \n",
    "                                            random_state = 0,\n",
    "                                            shuffle=False)\n",
    "\n",
    "# Show subsets shapes\n",
    "print(\"Shapes:\")\n",
    "print(\"xTrain:\\t\"+str(xTrain.shape))\n",
    "print(\"yTrain:\\t\"+str(yTrain.shape))\n",
    "print(\"xVal:\\t\"+str(xVal.shape))\n",
    "print(\"yVal:\\t\"+str(yVal.shape))\n",
    "print(\"xTest:\\t\"+str(xTest.shape))\n",
    "print(\"yTest:\\t\"+str(yTest.shape))\n",
    "print(\"---------------------------------------------\")"
   ]
  },
  {
   "cell_type": "code",
   "execution_count": 6,
   "metadata": {},
   "outputs": [],
   "source": [
    "\n",
    "# Model definition:\n",
    "with tf.device('/gpu:0'): \n",
    "    \n",
    "    def build_model(hp): \n",
    "\n",
    "        model = Sequential()\n",
    "        \n",
    "        # First layer: GRU. Number of units optimization\n",
    "        model.add(TCN(units = hp.Int('units', \n",
    "                                    min_value = minUnits,\n",
    "                                    max_value = maxUnits, \n",
    "                                    step = stepsUnits,\n",
    "                                    default = defaultUnits),\n",
    "                        return_sequences = False, \n",
    "                        input_shape = (xTrain.shape[1], 1),\n",
    "                        kernel_size = 2, \n",
    "                        nb_filters = 256, \n",
    "                        dilations = [1, 2, 4, 8, 16, 32]))\n",
    "\n",
    "        # Second layer: Dropout with percetange optimization\n",
    "        model.add(\n",
    "            Dropout(hp.Float('dropout', \n",
    "                            min_value = minDropout,\n",
    "                            max_value = maxDropout,\n",
    "                            default = defaultDropout)))\n",
    "        \n",
    "        # Last layer:\n",
    "        model.add(Dense(numPredictions))\n",
    "\n",
    "        print(\"Summary: \")\n",
    "        model.summary()\n",
    "\n",
    "        # # Set Epsilon to 1, in order to fix huge MAPE values.\n",
    "        # keras.backend.set_epsilon(1)\n",
    "\n",
    "        # Model compilation: learning rate optimization\n",
    "        model.compile(loss = loss,\n",
    "                    optimizer = keras.optimizers.Adam(hp.Choice('learning_rate', \n",
    "                                                                values = learningRate)),\n",
    "                    metrics = modelMetrics)\n",
    "\n",
    "        return model\n",
    "    \n"
   ]
  },
  {
   "cell_type": "code",
   "execution_count": 7,
   "metadata": {},
   "outputs": [
    {
     "name": "stderr",
     "output_type": "stream",
     "text": [
      "Traceback (most recent call last):\n",
      "  File \"c:\\Users\\hecto\\.conda\\envs\\myenv\\lib\\site-packages\\kerastuner\\engine\\hypermodel.py\", line 105, in build\n",
      "    model = self.hypermodel.build(hp)\n",
      "  File \"<ipython-input-6-b109f0bbc73f>\", line 18, in build_model\n",
      "    dilations = [1, 2, 4, 8, 16, 32]))\n",
      "  File \"c:\\Users\\hecto\\.conda\\envs\\myenv\\lib\\site-packages\\tcn\\tcn.py\", line 265, in __init__\n",
      "    super(TCN, self).__init__(**kwargs)\n",
      "  File \"c:\\Users\\hecto\\.conda\\envs\\myenv\\lib\\site-packages\\tensorflow_core\\python\\training\\tracking\\base.py\", line 457, in _method_wrapper\n",
      "    result = method(self, *args, **kwargs)\n",
      "  File \"c:\\Users\\hecto\\.conda\\envs\\myenv\\lib\\site-packages\\tensorflow_core\\python\\keras\\engine\\base_layer.py\", line 186, in __init__\n",
      "    generic_utils.validate_kwargs(kwargs, allowed_kwargs)\n",
      "  File \"c:\\Users\\hecto\\.conda\\envs\\myenv\\lib\\site-packages\\tensorflow_core\\python\\keras\\utils\\generic_utils.py\", line 718, in validate_kwargs\n",
      "    raise TypeError(error_message, kwarg)\n",
      "TypeError: ('Keyword argument not understood:', 'units')\n"
     ]
    },
    {
     "data": {
      "text/html": [
       "<span style=\"color:yellow\">[Warning] Invalid model 0/5</span>"
      ],
      "text/plain": [
       "<IPython.core.display.HTML object>"
      ]
     },
     "metadata": {},
     "output_type": "display_data"
    },
    {
     "name": "stderr",
     "output_type": "stream",
     "text": [
      "Traceback (most recent call last):\n",
      "  File \"c:\\Users\\hecto\\.conda\\envs\\myenv\\lib\\site-packages\\kerastuner\\engine\\hypermodel.py\", line 105, in build\n",
      "    model = self.hypermodel.build(hp)\n",
      "  File \"<ipython-input-6-b109f0bbc73f>\", line 18, in build_model\n",
      "    dilations = [1, 2, 4, 8, 16, 32]))\n",
      "  File \"c:\\Users\\hecto\\.conda\\envs\\myenv\\lib\\site-packages\\tcn\\tcn.py\", line 265, in __init__\n",
      "    super(TCN, self).__init__(**kwargs)\n",
      "  File \"c:\\Users\\hecto\\.conda\\envs\\myenv\\lib\\site-packages\\tensorflow_core\\python\\training\\tracking\\base.py\", line 457, in _method_wrapper\n",
      "    result = method(self, *args, **kwargs)\n",
      "  File \"c:\\Users\\hecto\\.conda\\envs\\myenv\\lib\\site-packages\\tensorflow_core\\python\\keras\\engine\\base_layer.py\", line 186, in __init__\n",
      "    generic_utils.validate_kwargs(kwargs, allowed_kwargs)\n",
      "  File \"c:\\Users\\hecto\\.conda\\envs\\myenv\\lib\\site-packages\\tensorflow_core\\python\\keras\\utils\\generic_utils.py\", line 718, in validate_kwargs\n",
      "    raise TypeError(error_message, kwarg)\n",
      "TypeError: ('Keyword argument not understood:', 'units')\n"
     ]
    },
    {
     "data": {
      "text/html": [
       "<span style=\"color:yellow\">[Warning] Invalid model 1/5</span>"
      ],
      "text/plain": [
       "<IPython.core.display.HTML object>"
      ]
     },
     "metadata": {},
     "output_type": "display_data"
    },
    {
     "name": "stderr",
     "output_type": "stream",
     "text": [
      "Traceback (most recent call last):\n",
      "  File \"c:\\Users\\hecto\\.conda\\envs\\myenv\\lib\\site-packages\\kerastuner\\engine\\hypermodel.py\", line 105, in build\n",
      "    model = self.hypermodel.build(hp)\n",
      "  File \"<ipython-input-6-b109f0bbc73f>\", line 18, in build_model\n",
      "    dilations = [1, 2, 4, 8, 16, 32]))\n",
      "  File \"c:\\Users\\hecto\\.conda\\envs\\myenv\\lib\\site-packages\\tcn\\tcn.py\", line 265, in __init__\n",
      "    super(TCN, self).__init__(**kwargs)\n",
      "  File \"c:\\Users\\hecto\\.conda\\envs\\myenv\\lib\\site-packages\\tensorflow_core\\python\\training\\tracking\\base.py\", line 457, in _method_wrapper\n",
      "    result = method(self, *args, **kwargs)\n",
      "  File \"c:\\Users\\hecto\\.conda\\envs\\myenv\\lib\\site-packages\\tensorflow_core\\python\\keras\\engine\\base_layer.py\", line 186, in __init__\n",
      "    generic_utils.validate_kwargs(kwargs, allowed_kwargs)\n",
      "  File \"c:\\Users\\hecto\\.conda\\envs\\myenv\\lib\\site-packages\\tensorflow_core\\python\\keras\\utils\\generic_utils.py\", line 718, in validate_kwargs\n",
      "    raise TypeError(error_message, kwarg)\n",
      "TypeError: ('Keyword argument not understood:', 'units')\n"
     ]
    },
    {
     "data": {
      "text/html": [
       "<span style=\"color:yellow\">[Warning] Invalid model 2/5</span>"
      ],
      "text/plain": [
       "<IPython.core.display.HTML object>"
      ]
     },
     "metadata": {},
     "output_type": "display_data"
    },
    {
     "name": "stderr",
     "output_type": "stream",
     "text": [
      "Traceback (most recent call last):\n",
      "  File \"c:\\Users\\hecto\\.conda\\envs\\myenv\\lib\\site-packages\\kerastuner\\engine\\hypermodel.py\", line 105, in build\n",
      "    model = self.hypermodel.build(hp)\n",
      "  File \"<ipython-input-6-b109f0bbc73f>\", line 18, in build_model\n",
      "    dilations = [1, 2, 4, 8, 16, 32]))\n",
      "  File \"c:\\Users\\hecto\\.conda\\envs\\myenv\\lib\\site-packages\\tcn\\tcn.py\", line 265, in __init__\n",
      "    super(TCN, self).__init__(**kwargs)\n",
      "  File \"c:\\Users\\hecto\\.conda\\envs\\myenv\\lib\\site-packages\\tensorflow_core\\python\\training\\tracking\\base.py\", line 457, in _method_wrapper\n",
      "    result = method(self, *args, **kwargs)\n",
      "  File \"c:\\Users\\hecto\\.conda\\envs\\myenv\\lib\\site-packages\\tensorflow_core\\python\\keras\\engine\\base_layer.py\", line 186, in __init__\n",
      "    generic_utils.validate_kwargs(kwargs, allowed_kwargs)\n",
      "  File \"c:\\Users\\hecto\\.conda\\envs\\myenv\\lib\\site-packages\\tensorflow_core\\python\\keras\\utils\\generic_utils.py\", line 718, in validate_kwargs\n",
      "    raise TypeError(error_message, kwarg)\n",
      "TypeError: ('Keyword argument not understood:', 'units')\n"
     ]
    },
    {
     "data": {
      "text/html": [
       "<span style=\"color:yellow\">[Warning] Invalid model 3/5</span>"
      ],
      "text/plain": [
       "<IPython.core.display.HTML object>"
      ]
     },
     "metadata": {},
     "output_type": "display_data"
    },
    {
     "name": "stderr",
     "output_type": "stream",
     "text": [
      "Traceback (most recent call last):\n",
      "  File \"c:\\Users\\hecto\\.conda\\envs\\myenv\\lib\\site-packages\\kerastuner\\engine\\hypermodel.py\", line 105, in build\n",
      "    model = self.hypermodel.build(hp)\n",
      "  File \"<ipython-input-6-b109f0bbc73f>\", line 18, in build_model\n",
      "    dilations = [1, 2, 4, 8, 16, 32]))\n",
      "  File \"c:\\Users\\hecto\\.conda\\envs\\myenv\\lib\\site-packages\\tcn\\tcn.py\", line 265, in __init__\n",
      "    super(TCN, self).__init__(**kwargs)\n",
      "  File \"c:\\Users\\hecto\\.conda\\envs\\myenv\\lib\\site-packages\\tensorflow_core\\python\\training\\tracking\\base.py\", line 457, in _method_wrapper\n",
      "    result = method(self, *args, **kwargs)\n",
      "  File \"c:\\Users\\hecto\\.conda\\envs\\myenv\\lib\\site-packages\\tensorflow_core\\python\\keras\\engine\\base_layer.py\", line 186, in __init__\n",
      "    generic_utils.validate_kwargs(kwargs, allowed_kwargs)\n",
      "  File \"c:\\Users\\hecto\\.conda\\envs\\myenv\\lib\\site-packages\\tensorflow_core\\python\\keras\\utils\\generic_utils.py\", line 718, in validate_kwargs\n",
      "    raise TypeError(error_message, kwarg)\n",
      "TypeError: ('Keyword argument not understood:', 'units')\n"
     ]
    },
    {
     "data": {
      "text/html": [
       "<span style=\"color:yellow\">[Warning] Invalid model 4/5</span>"
      ],
      "text/plain": [
       "<IPython.core.display.HTML object>"
      ]
     },
     "metadata": {},
     "output_type": "display_data"
    },
    {
     "name": "stderr",
     "output_type": "stream",
     "text": [
      "Traceback (most recent call last):\n",
      "  File \"c:\\Users\\hecto\\.conda\\envs\\myenv\\lib\\site-packages\\kerastuner\\engine\\hypermodel.py\", line 105, in build\n",
      "    model = self.hypermodel.build(hp)\n",
      "  File \"<ipython-input-6-b109f0bbc73f>\", line 18, in build_model\n",
      "    dilations = [1, 2, 4, 8, 16, 32]))\n",
      "  File \"c:\\Users\\hecto\\.conda\\envs\\myenv\\lib\\site-packages\\tcn\\tcn.py\", line 265, in __init__\n",
      "    super(TCN, self).__init__(**kwargs)\n",
      "  File \"c:\\Users\\hecto\\.conda\\envs\\myenv\\lib\\site-packages\\tensorflow_core\\python\\training\\tracking\\base.py\", line 457, in _method_wrapper\n",
      "    result = method(self, *args, **kwargs)\n",
      "  File \"c:\\Users\\hecto\\.conda\\envs\\myenv\\lib\\site-packages\\tensorflow_core\\python\\keras\\engine\\base_layer.py\", line 186, in __init__\n",
      "    generic_utils.validate_kwargs(kwargs, allowed_kwargs)\n",
      "  File \"c:\\Users\\hecto\\.conda\\envs\\myenv\\lib\\site-packages\\tensorflow_core\\python\\keras\\utils\\generic_utils.py\", line 718, in validate_kwargs\n",
      "    raise TypeError(error_message, kwarg)\n",
      "TypeError: ('Keyword argument not understood:', 'units')\n"
     ]
    },
    {
     "data": {
      "text/html": [
       "<span style=\"color:yellow\">[Warning] Invalid model 5/5</span>"
      ],
      "text/plain": [
       "<IPython.core.display.HTML object>"
      ]
     },
     "metadata": {},
     "output_type": "display_data"
    },
    {
     "ename": "RuntimeError",
     "evalue": "Too many failed attempts to build model.",
     "output_type": "error",
     "traceback": [
      "\u001b[1;31m---------------------------------------------------------------------------\u001b[0m",
      "\u001b[1;31mTypeError\u001b[0m                                 Traceback (most recent call last)",
      "\u001b[1;32mc:\\Users\\hecto\\.conda\\envs\\myenv\\lib\\site-packages\\kerastuner\\engine\\hypermodel.py\u001b[0m in \u001b[0;36mbuild\u001b[1;34m(self, hp)\u001b[0m\n\u001b[0;32m    104\u001b[0m                 \u001b[1;32mwith\u001b[0m \u001b[0mmaybe_distribute\u001b[0m\u001b[1;33m(\u001b[0m\u001b[0mself\u001b[0m\u001b[1;33m.\u001b[0m\u001b[0mdistribution_strategy\u001b[0m\u001b[1;33m)\u001b[0m\u001b[1;33m:\u001b[0m\u001b[1;33m\u001b[0m\u001b[1;33m\u001b[0m\u001b[0m\n\u001b[1;32m--> 105\u001b[1;33m                     \u001b[0mmodel\u001b[0m \u001b[1;33m=\u001b[0m \u001b[0mself\u001b[0m\u001b[1;33m.\u001b[0m\u001b[0mhypermodel\u001b[0m\u001b[1;33m.\u001b[0m\u001b[0mbuild\u001b[0m\u001b[1;33m(\u001b[0m\u001b[0mhp\u001b[0m\u001b[1;33m)\u001b[0m\u001b[1;33m\u001b[0m\u001b[1;33m\u001b[0m\u001b[0m\n\u001b[0m\u001b[0;32m    106\u001b[0m             \u001b[1;32mexcept\u001b[0m\u001b[1;33m:\u001b[0m\u001b[1;33m\u001b[0m\u001b[1;33m\u001b[0m\u001b[0m\n",
      "\u001b[1;32m<ipython-input-6-b109f0bbc73f>\u001b[0m in \u001b[0;36mbuild_model\u001b[1;34m(hp)\u001b[0m\n\u001b[0;32m     17\u001b[0m                         \u001b[0mnb_filters\u001b[0m \u001b[1;33m=\u001b[0m \u001b[1;36m256\u001b[0m\u001b[1;33m,\u001b[0m\u001b[1;33m\u001b[0m\u001b[1;33m\u001b[0m\u001b[0m\n\u001b[1;32m---> 18\u001b[1;33m                         dilations = [1, 2, 4, 8, 16, 32]))\n\u001b[0m\u001b[0;32m     19\u001b[0m \u001b[1;33m\u001b[0m\u001b[0m\n",
      "\u001b[1;32mc:\\Users\\hecto\\.conda\\envs\\myenv\\lib\\site-packages\\tcn\\tcn.py\u001b[0m in \u001b[0;36m__init__\u001b[1;34m(self, nb_filters, kernel_size, nb_stacks, dilations, padding, use_skip_connections, dropout_rate, return_sequences, activation, kernel_initializer, use_batch_norm, use_layer_norm, use_weight_norm, go_backwards, return_state, **kwargs)\u001b[0m\n\u001b[0;32m    264\u001b[0m         \u001b[1;31m# initialize parent class\u001b[0m\u001b[1;33m\u001b[0m\u001b[1;33m\u001b[0m\u001b[1;33m\u001b[0m\u001b[0m\n\u001b[1;32m--> 265\u001b[1;33m         \u001b[0msuper\u001b[0m\u001b[1;33m(\u001b[0m\u001b[0mTCN\u001b[0m\u001b[1;33m,\u001b[0m \u001b[0mself\u001b[0m\u001b[1;33m)\u001b[0m\u001b[1;33m.\u001b[0m\u001b[0m__init__\u001b[0m\u001b[1;33m(\u001b[0m\u001b[1;33m**\u001b[0m\u001b[0mkwargs\u001b[0m\u001b[1;33m)\u001b[0m\u001b[1;33m\u001b[0m\u001b[1;33m\u001b[0m\u001b[0m\n\u001b[0m\u001b[0;32m    266\u001b[0m \u001b[1;33m\u001b[0m\u001b[0m\n",
      "\u001b[1;32mc:\\Users\\hecto\\.conda\\envs\\myenv\\lib\\site-packages\\tensorflow_core\\python\\training\\tracking\\base.py\u001b[0m in \u001b[0;36m_method_wrapper\u001b[1;34m(self, *args, **kwargs)\u001b[0m\n\u001b[0;32m    456\u001b[0m     \u001b[1;32mtry\u001b[0m\u001b[1;33m:\u001b[0m\u001b[1;33m\u001b[0m\u001b[1;33m\u001b[0m\u001b[0m\n\u001b[1;32m--> 457\u001b[1;33m       \u001b[0mresult\u001b[0m \u001b[1;33m=\u001b[0m \u001b[0mmethod\u001b[0m\u001b[1;33m(\u001b[0m\u001b[0mself\u001b[0m\u001b[1;33m,\u001b[0m \u001b[1;33m*\u001b[0m\u001b[0margs\u001b[0m\u001b[1;33m,\u001b[0m \u001b[1;33m**\u001b[0m\u001b[0mkwargs\u001b[0m\u001b[1;33m)\u001b[0m\u001b[1;33m\u001b[0m\u001b[1;33m\u001b[0m\u001b[0m\n\u001b[0m\u001b[0;32m    458\u001b[0m     \u001b[1;32mfinally\u001b[0m\u001b[1;33m:\u001b[0m\u001b[1;33m\u001b[0m\u001b[1;33m\u001b[0m\u001b[0m\n",
      "\u001b[1;32mc:\\Users\\hecto\\.conda\\envs\\myenv\\lib\\site-packages\\tensorflow_core\\python\\keras\\engine\\base_layer.py\u001b[0m in \u001b[0;36m__init__\u001b[1;34m(self, trainable, name, dtype, dynamic, **kwargs)\u001b[0m\n\u001b[0;32m    185\u001b[0m     \u001b[1;31m# Validate optional keyword arguments.\u001b[0m\u001b[1;33m\u001b[0m\u001b[1;33m\u001b[0m\u001b[1;33m\u001b[0m\u001b[0m\n\u001b[1;32m--> 186\u001b[1;33m     \u001b[0mgeneric_utils\u001b[0m\u001b[1;33m.\u001b[0m\u001b[0mvalidate_kwargs\u001b[0m\u001b[1;33m(\u001b[0m\u001b[0mkwargs\u001b[0m\u001b[1;33m,\u001b[0m \u001b[0mallowed_kwargs\u001b[0m\u001b[1;33m)\u001b[0m\u001b[1;33m\u001b[0m\u001b[1;33m\u001b[0m\u001b[0m\n\u001b[0m\u001b[0;32m    187\u001b[0m \u001b[1;33m\u001b[0m\u001b[0m\n",
      "\u001b[1;32mc:\\Users\\hecto\\.conda\\envs\\myenv\\lib\\site-packages\\tensorflow_core\\python\\keras\\utils\\generic_utils.py\u001b[0m in \u001b[0;36mvalidate_kwargs\u001b[1;34m(kwargs, allowed_kwargs, error_message)\u001b[0m\n\u001b[0;32m    717\u001b[0m     \u001b[1;32mif\u001b[0m \u001b[0mkwarg\u001b[0m \u001b[1;32mnot\u001b[0m \u001b[1;32min\u001b[0m \u001b[0mallowed_kwargs\u001b[0m\u001b[1;33m:\u001b[0m\u001b[1;33m\u001b[0m\u001b[1;33m\u001b[0m\u001b[0m\n\u001b[1;32m--> 718\u001b[1;33m       \u001b[1;32mraise\u001b[0m \u001b[0mTypeError\u001b[0m\u001b[1;33m(\u001b[0m\u001b[0merror_message\u001b[0m\u001b[1;33m,\u001b[0m \u001b[0mkwarg\u001b[0m\u001b[1;33m)\u001b[0m\u001b[1;33m\u001b[0m\u001b[1;33m\u001b[0m\u001b[0m\n\u001b[0m",
      "\u001b[1;31mTypeError\u001b[0m: ('Keyword argument not understood:', 'units')",
      "\nDuring handling of the above exception, another exception occurred:\n",
      "\u001b[1;31mRuntimeError\u001b[0m                              Traceback (most recent call last)",
      "\u001b[1;32m<ipython-input-7-41a5b871d37f>\u001b[0m in \u001b[0;36m<module>\u001b[1;34m\u001b[0m\n\u001b[0;32m      6\u001b[0m                                 \u001b[0mmax_trials\u001b[0m \u001b[1;33m=\u001b[0m \u001b[0mtrials\u001b[0m\u001b[1;33m,\u001b[0m\u001b[1;33m\u001b[0m\u001b[1;33m\u001b[0m\u001b[0m\n\u001b[0;32m      7\u001b[0m                                 \u001b[0mexecutions_per_trial\u001b[0m \u001b[1;33m=\u001b[0m \u001b[0mexecutions\u001b[0m\u001b[1;33m,\u001b[0m\u001b[1;33m\u001b[0m\u001b[1;33m\u001b[0m\u001b[0m\n\u001b[1;32m----> 8\u001b[1;33m                                 project_name=\"tcn\")\n\u001b[0m\u001b[0;32m      9\u001b[0m \u001b[1;33m\u001b[0m\u001b[0m\n\u001b[0;32m     10\u001b[0m     \u001b[1;31m# Search space summary\u001b[0m\u001b[1;33m\u001b[0m\u001b[1;33m\u001b[0m\u001b[1;33m\u001b[0m\u001b[0m\n",
      "\u001b[1;32mc:\\Users\\hecto\\.conda\\envs\\myenv\\lib\\site-packages\\kerastuner\\tuners\\randomsearch.py\u001b[0m in \u001b[0;36m__init__\u001b[1;34m(self, hypermodel, objective, max_trials, seed, hyperparameters, tune_new_entries, allow_new_entries, **kwargs)\u001b[0m\n\u001b[0;32m    173\u001b[0m             \u001b[0moracle\u001b[0m\u001b[1;33m,\u001b[0m\u001b[1;33m\u001b[0m\u001b[1;33m\u001b[0m\u001b[0m\n\u001b[0;32m    174\u001b[0m             \u001b[0mhypermodel\u001b[0m\u001b[1;33m,\u001b[0m\u001b[1;33m\u001b[0m\u001b[1;33m\u001b[0m\u001b[0m\n\u001b[1;32m--> 175\u001b[1;33m             **kwargs)\n\u001b[0m",
      "\u001b[1;32mc:\\Users\\hecto\\.conda\\envs\\myenv\\lib\\site-packages\\kerastuner\\engine\\multi_execution_tuner.py\u001b[0m in \u001b[0;36m__init__\u001b[1;34m(self, oracle, hypermodel, executions_per_trial, **kwargs)\u001b[0m\n\u001b[0;32m     56\u001b[0m                  **kwargs):\n\u001b[0;32m     57\u001b[0m         super(MultiExecutionTuner, self).__init__(\n\u001b[1;32m---> 58\u001b[1;33m             oracle, hypermodel, **kwargs)\n\u001b[0m\u001b[0;32m     59\u001b[0m         \u001b[1;32mif\u001b[0m \u001b[0misinstance\u001b[0m\u001b[1;33m(\u001b[0m\u001b[0moracle\u001b[0m\u001b[1;33m.\u001b[0m\u001b[0mobjective\u001b[0m\u001b[1;33m,\u001b[0m \u001b[0mlist\u001b[0m\u001b[1;33m)\u001b[0m\u001b[1;33m:\u001b[0m\u001b[1;33m\u001b[0m\u001b[1;33m\u001b[0m\u001b[0m\n\u001b[0;32m     60\u001b[0m             raise ValueError(\n",
      "\u001b[1;32mc:\\Users\\hecto\\.conda\\envs\\myenv\\lib\\site-packages\\kerastuner\\engine\\tuner.py\u001b[0m in \u001b[0;36m__init__\u001b[1;34m(self, oracle, hypermodel, max_model_size, optimizer, loss, metrics, distribution_strategy, directory, project_name, logger, tuner_id, overwrite)\u001b[0m\n\u001b[0;32m    101\u001b[0m                                     \u001b[0mproject_name\u001b[0m\u001b[1;33m=\u001b[0m\u001b[0mproject_name\u001b[0m\u001b[1;33m,\u001b[0m\u001b[1;33m\u001b[0m\u001b[1;33m\u001b[0m\u001b[0m\n\u001b[0;32m    102\u001b[0m                                     \u001b[0mlogger\u001b[0m\u001b[1;33m=\u001b[0m\u001b[0mlogger\u001b[0m\u001b[1;33m,\u001b[0m\u001b[1;33m\u001b[0m\u001b[1;33m\u001b[0m\u001b[0m\n\u001b[1;32m--> 103\u001b[1;33m                                     overwrite=overwrite)\n\u001b[0m\u001b[0;32m    104\u001b[0m \u001b[1;33m\u001b[0m\u001b[0m\n\u001b[0;32m    105\u001b[0m         \u001b[0mself\u001b[0m\u001b[1;33m.\u001b[0m\u001b[0mdistribution_strategy\u001b[0m \u001b[1;33m=\u001b[0m \u001b[0mdistribution_strategy\u001b[0m\u001b[1;33m\u001b[0m\u001b[1;33m\u001b[0m\u001b[0m\n",
      "\u001b[1;32mc:\\Users\\hecto\\.conda\\envs\\myenv\\lib\\site-packages\\kerastuner\\engine\\base_tuner.py\u001b[0m in \u001b[0;36m__init__\u001b[1;34m(self, oracle, hypermodel, directory, project_name, logger, overwrite)\u001b[0m\n\u001b[0;32m     89\u001b[0m         \u001b[0mself\u001b[0m\u001b[1;33m.\u001b[0m\u001b[0m_display\u001b[0m \u001b[1;33m=\u001b[0m \u001b[0mtuner_utils\u001b[0m\u001b[1;33m.\u001b[0m\u001b[0mDisplay\u001b[0m\u001b[1;33m(\u001b[0m\u001b[1;33m)\u001b[0m\u001b[1;33m\u001b[0m\u001b[1;33m\u001b[0m\u001b[0m\n\u001b[0;32m     90\u001b[0m \u001b[1;33m\u001b[0m\u001b[0m\n\u001b[1;32m---> 91\u001b[1;33m         \u001b[0mself\u001b[0m\u001b[1;33m.\u001b[0m\u001b[0m_populate_initial_space\u001b[0m\u001b[1;33m(\u001b[0m\u001b[1;33m)\u001b[0m\u001b[1;33m\u001b[0m\u001b[1;33m\u001b[0m\u001b[0m\n\u001b[0m\u001b[0;32m     92\u001b[0m \u001b[1;33m\u001b[0m\u001b[0m\n\u001b[0;32m     93\u001b[0m         \u001b[1;32mif\u001b[0m \u001b[1;32mnot\u001b[0m \u001b[0moverwrite\u001b[0m \u001b[1;32mand\u001b[0m \u001b[0mtf\u001b[0m\u001b[1;33m.\u001b[0m\u001b[0mio\u001b[0m\u001b[1;33m.\u001b[0m\u001b[0mgfile\u001b[0m\u001b[1;33m.\u001b[0m\u001b[0mexists\u001b[0m\u001b[1;33m(\u001b[0m\u001b[0mself\u001b[0m\u001b[1;33m.\u001b[0m\u001b[0m_get_tuner_fname\u001b[0m\u001b[1;33m(\u001b[0m\u001b[1;33m)\u001b[0m\u001b[1;33m)\u001b[0m\u001b[1;33m:\u001b[0m\u001b[1;33m\u001b[0m\u001b[1;33m\u001b[0m\u001b[0m\n",
      "\u001b[1;32mc:\\Users\\hecto\\.conda\\envs\\myenv\\lib\\site-packages\\kerastuner\\engine\\base_tuner.py\u001b[0m in \u001b[0;36m_populate_initial_space\u001b[1;34m(self)\u001b[0m\n\u001b[0;32m    104\u001b[0m         \"\"\"\n\u001b[0;32m    105\u001b[0m         \u001b[0mhp\u001b[0m \u001b[1;33m=\u001b[0m \u001b[0mself\u001b[0m\u001b[1;33m.\u001b[0m\u001b[0moracle\u001b[0m\u001b[1;33m.\u001b[0m\u001b[0mget_space\u001b[0m\u001b[1;33m(\u001b[0m\u001b[1;33m)\u001b[0m\u001b[1;33m\u001b[0m\u001b[1;33m\u001b[0m\u001b[0m\n\u001b[1;32m--> 106\u001b[1;33m         \u001b[0mself\u001b[0m\u001b[1;33m.\u001b[0m\u001b[0mhypermodel\u001b[0m\u001b[1;33m.\u001b[0m\u001b[0mbuild\u001b[0m\u001b[1;33m(\u001b[0m\u001b[0mhp\u001b[0m\u001b[1;33m)\u001b[0m\u001b[1;33m\u001b[0m\u001b[1;33m\u001b[0m\u001b[0m\n\u001b[0m\u001b[0;32m    107\u001b[0m         \u001b[0mself\u001b[0m\u001b[1;33m.\u001b[0m\u001b[0moracle\u001b[0m\u001b[1;33m.\u001b[0m\u001b[0mupdate_space\u001b[0m\u001b[1;33m(\u001b[0m\u001b[0mhp\u001b[0m\u001b[1;33m)\u001b[0m\u001b[1;33m\u001b[0m\u001b[1;33m\u001b[0m\u001b[0m\n\u001b[0;32m    108\u001b[0m \u001b[1;33m\u001b[0m\u001b[0m\n",
      "\u001b[1;32mc:\\Users\\hecto\\.conda\\envs\\myenv\\lib\\site-packages\\kerastuner\\engine\\hypermodel.py\u001b[0m in \u001b[0;36m_build_wrapper\u001b[1;34m(self, hp, *args, **kwargs)\u001b[0m\n\u001b[0;32m     63\u001b[0m             \u001b[1;31m# to the search space.\u001b[0m\u001b[1;33m\u001b[0m\u001b[1;33m\u001b[0m\u001b[1;33m\u001b[0m\u001b[0m\n\u001b[0;32m     64\u001b[0m             \u001b[0mhp\u001b[0m \u001b[1;33m=\u001b[0m \u001b[0mhp\u001b[0m\u001b[1;33m.\u001b[0m\u001b[0mcopy\u001b[0m\u001b[1;33m(\u001b[0m\u001b[1;33m)\u001b[0m\u001b[1;33m\u001b[0m\u001b[1;33m\u001b[0m\u001b[0m\n\u001b[1;32m---> 65\u001b[1;33m         \u001b[1;32mreturn\u001b[0m \u001b[0mself\u001b[0m\u001b[1;33m.\u001b[0m\u001b[0m_build\u001b[0m\u001b[1;33m(\u001b[0m\u001b[0mhp\u001b[0m\u001b[1;33m,\u001b[0m \u001b[1;33m*\u001b[0m\u001b[0margs\u001b[0m\u001b[1;33m,\u001b[0m \u001b[1;33m**\u001b[0m\u001b[0mkwargs\u001b[0m\u001b[1;33m)\u001b[0m\u001b[1;33m\u001b[0m\u001b[1;33m\u001b[0m\u001b[0m\n\u001b[0m\u001b[0;32m     66\u001b[0m \u001b[1;33m\u001b[0m\u001b[0m\n\u001b[0;32m     67\u001b[0m \u001b[1;33m\u001b[0m\u001b[0m\n",
      "\u001b[1;32mc:\\Users\\hecto\\.conda\\envs\\myenv\\lib\\site-packages\\kerastuner\\engine\\hypermodel.py\u001b[0m in \u001b[0;36mbuild\u001b[1;34m(self, hp)\u001b[0m\n\u001b[0;32m    113\u001b[0m                 \u001b[1;32mif\u001b[0m \u001b[0mi\u001b[0m \u001b[1;33m==\u001b[0m \u001b[0mself\u001b[0m\u001b[1;33m.\u001b[0m\u001b[0m_max_fail_streak\u001b[0m\u001b[1;33m:\u001b[0m\u001b[1;33m\u001b[0m\u001b[1;33m\u001b[0m\u001b[0m\n\u001b[0;32m    114\u001b[0m                     raise RuntimeError(\n\u001b[1;32m--> 115\u001b[1;33m                         'Too many failed attempts to build model.')\n\u001b[0m\u001b[0;32m    116\u001b[0m                 \u001b[1;32mcontinue\u001b[0m\u001b[1;33m\u001b[0m\u001b[1;33m\u001b[0m\u001b[0m\n\u001b[0;32m    117\u001b[0m \u001b[1;33m\u001b[0m\u001b[0m\n",
      "\u001b[1;31mRuntimeError\u001b[0m: Too many failed attempts to build model."
     ]
    }
   ],
   "source": [
    "# Model training:\n",
    "with tf.device('/gpu:0'): \n",
    "    # Create optimizer\n",
    "    tcnOptimizer = RandomSearch(build_model, \n",
    "                                objective = objective,\n",
    "                                max_trials = trials, \n",
    "                                executions_per_trial = executions,\n",
    "                                project_name = projectName,\n",
    "                                overwrite = True)\n",
    "\n",
    "    # Search space summary\n",
    "    tcnOptimizer.search_space_summary()\n",
    "\n",
    "    # Search execution with epochs\n",
    "    initialTime = time.time()\n",
    "    tcnOptimizer.search(x = xTrain,\n",
    "                        y = yTrain, \n",
    "                        epochs = epchs,\n",
    "                        batch_size = batch,\n",
    "                        validation_data = (xVal.reshape((xVal.shape[0], xVal.shape[1], 1)), yVal))\n",
    "    finalTime = time.time()\n",
    "\n",
    "    # Results summary\n",
    "    tcnOptimizer.results_summary()\n",
    "\n",
    "    # Get best model generated\n",
    "    model = tcnOptimizer.get_best_models(num_models = numBestModels)[0]\n",
    "\n",
    "    # Model training with epochs \n",
    "    history = model.fit(\n",
    "                xTrain.reshape((xTrain.shape[0], xTrain.shape[1], 1)),\n",
    "                yTrain,\n",
    "                epochs = epchs,\n",
    "                batch_size = batch,\n",
    "                validation_data = (xVal.reshape((xVal.shape[0], xVal.shape[1], 1)), yVal))\n",
    "\n",
    "    # Show model info\n",
    "    print(\"---------------------------------------------\")\n",
    "    print(\"Tiempo de entrenamiento (en segundos):\\t\"+str(finalTime - initialTime))\n",
    "    print(\"Tiempo de entrenamiento (en horas):\\t\"+str((finalTime - initialTime)/3600))\n",
    "    print(history.history.keys())\n",
    "    print(model.history.history)\n",
    "    print(model.history.params)"
   ]
  },
  {
   "cell_type": "code",
   "execution_count": null,
   "metadata": {},
   "outputs": [
    {
     "name": "stdout",
     "output_type": "stream",
     "text": [
      "Model: \"sequential\"\n",
      "_________________________________________________________________\n",
      "Layer (type)                 Output Shape              Param #   \n",
      "=================================================================\n",
      "tcn (TCN)                    (None, 256)               1445888   \n",
      "_________________________________________________________________\n",
      "dropout (Dropout)            (None, 256)               0         \n",
      "_________________________________________________________________\n",
      "dense (Dense)                (None, 20)                5140      \n",
      "=================================================================\n",
      "Total params: 1,451,028\n",
      "Trainable params: 1,451,028\n",
      "Non-trainable params: 0\n",
      "_________________________________________________________________\n",
      "Model Summary:  None\n",
      "Train on 177 samples, validate on 77 samples\n",
      "Epoch 1/1000\n"
     ]
    }
   ],
   "source": [
    "with tf.device('/gpu:0'): \n",
    "# Model definition\n",
    "    model = keras.models.Sequential()\n",
    "    model.add(TCN(\n",
    "        input_shape = (xTrain.shape[1], 1),\n",
    "        kernel_size = 2, \n",
    "        nb_filters = 256, \n",
    "        dilations = [1, 2, 4, 8, 16, 32]))\n",
    "    model.add(Dropout(rate = 0.25))\n",
    "    model.add(Dense(numPredictions, activation =\"sigmoid\"))\n",
    "\n",
    "    print(\"Model Summary: \", model.summary())\n",
    "\n",
    "    # Set Epsilon to 1, in order to fix huge MAPE values.\n",
    "    keras.backend.set_epsilon(1)\n",
    "\n",
    "    # Model compilation\n",
    "    model.compile(loss = loss,\n",
    "                optimizer = \"adam\",\n",
    "                metrics = [keras.metrics.MAE, \n",
    "                        keras.metrics.MAPE, \n",
    "                        keras.metrics.MSE])\n",
    "\n",
    "    history = model.fit(\n",
    "        np.reshape(xTrain.values, (xTrain.shape[0], xTrain.shape[1], 1)),\n",
    "        yTrain,\n",
    "        epochs = epchs,\n",
    "        batch_size = batch,\n",
    "        validation_data = (np.reshape(xVal.values, (xVal.shape[0], xVal.shape[1], 1)), yVal))"
   ]
  },
  {
   "cell_type": "code",
   "execution_count": null,
   "metadata": {},
   "outputs": [],
   "source": []
  },
  {
   "cell_type": "code",
   "execution_count": null,
   "metadata": {},
   "outputs": [
    {
     "data": {
      "image/png": "[encoded data removed]",
      "text/plain": [
       "<Figure size 432x288 with 1 Axes>"
      ]
     },
     "metadata": {
      "needs_background": "light"
     },
     "output_type": "display_data"
    },
    {
     "name": "stdout",
     "output_type": "stream",
     "text": [
      "77/77 [==============================] - 0s 2ms/sample - loss: 0.0275 - mean_absolute_error: 0.1249 - mean_absolute_percentage_error: 59.5040 - mean_squared_error: 0.0275\n",
      "Score: [0.02745496288135454, 0.12487876, 59.50399, 0.027454961]\n"
     ]
    }
   ],
   "source": [
    "# Training and Validation loss curves\n",
    "plt.plot(history.history['loss'], label = 'Training loss')\n",
    "plt.plot(history.history['val_loss'], label = 'Validation loss')\n",
    "plt.legend()\n",
    "plt.show()\n",
    "\n",
    "# Model evaluation with validation data\n",
    "score = model.evaluate(np.reshape(xVal.values, (xVal.shape[0], xVal.shape[1], 1)), yVal)\n",
    "print('Score:', score)"
   ]
  }
 ],
 "metadata": {
  "kernelspec": {
   "display_name": "myenv",
   "language": "python",
   "name": "python3"
  },
  "language_info": {
   "codemirror_mode": {
    "name": "ipython",
    "version": 3
   },
   "file_extension": ".py",
   "mimetype": "text/x-python",
   "name": "python",
   "nbconvert_exporter": "python",
   "pygments_lexer": "ipython3",
   "version": "3.6.13"
  }
 },
 "nbformat": 4,
 "nbformat_minor": 2
}
