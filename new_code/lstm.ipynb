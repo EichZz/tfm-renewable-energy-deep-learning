{
 "cells": [
  {
   "cell_type": "code",
   "execution_count": 23,
   "metadata": {},
   "outputs": [
    {
     "name": "stdout",
     "output_type": "stream",
     "text": [
      "Setting GPU Memory Growth...\n"
     ]
    },
    {
     "name": "stderr",
     "output_type": "stream",
     "text": [
      "c:\\Users\\hecto\\.conda\\envs\\myenv\\lib\\site-packages\\tensorflow_core\\python\\client\\session.py:1752: UserWarning: An interactive session is already active. This can cause out-of-memory errors in some cases. You must explicitly call `InteractiveSession.close()` to release resources held by the other session(s).\n",
      "  warnings.warn('An interactive session is already active. This can '\n"
     ]
    },
    {
     "name": "stdout",
     "output_type": "stream",
     "text": [
      "TF version: 2.1.0\n",
      "KT version: 1.0.1\n",
      "Panda version: 1.1.5\n",
      "Physical devices:  [PhysicalDevice(name='/physical_device:CPU:0', device_type='CPU'), PhysicalDevice(name='/physical_device:GPU:0', device_type='GPU')]\n",
      "Default GPU Device: /device:GPU:0\n",
      "Num GPUs Available:  1\n",
      "Build with CUDA:  True\n"
     ]
    }
   ],
   "source": [
    "import tensorflow as tf\n",
    "physical_devices = tf.config.experimental.list_physical_devices('GPU')\n",
    "if len(physical_devices) > 0:\n",
    "        print(\"Setting GPU Memory Growth...\")\n",
    "        tf.config.experimental.set_memory_growth(physical_devices[0], True)\n",
    "        \n",
    "from tensorflow.compat.v1 import ConfigProto\n",
    "from tensorflow.compat.v1 import InteractiveSession\n",
    "config = ConfigProto()\n",
    "config.gpu_options.allow_growth = True\n",
    "session = InteractiveSession(config=config)\n",
    "\n",
    "import time\n",
    "import datetime\n",
    "\n",
    "import pandas as pd\n",
    "import numpy as np\n",
    "from sklearn.preprocessing import MinMaxScaler\n",
    "from sklearn.model_selection import train_test_split\n",
    "import matplotlib.pyplot as plt\n",
    "from plot_keras_history import plot_history\n",
    "import sklearn.metrics as metrics\n",
    "import os as os\n",
    "\n",
    "import tensorflow.keras as keras\n",
    "from tensorflow.keras.models import Sequential\n",
    "from tensorflow.keras.layers import Dense\n",
    "from tensorflow.keras.layers import LSTM\n",
    "from tensorflow.keras.layers import Dropout\n",
    "from tensorflow.python.client import device_lib\n",
    "\n",
    "import kerastuner as kt\n",
    "from kerastuner.tuners import RandomSearch, BayesianOptimization\n",
    "\n",
    "\n",
    "print(\"TF version:\", tf.__version__)\n",
    "print(\"KT version:\", kt.__version__)\n",
    "print(\"Panda version:\", pd.__version__)\n",
    "\n",
    "def get_available_devices():\n",
    "    local_device_protos = device_lib.list_local_devices()\n",
    "    return [x.name for x in local_device_protos]\n",
    "\n",
    "print(\"Physical devices: \", tf.config.list_physical_devices())\n",
    "# Se va a habilitar la dedicacion dinamica de memoria para que la GPU vaya asignando recursos al proceso conforme los vaya necesitando\n",
    "\n",
    "if tf.test.gpu_device_name():\n",
    "    print('Default GPU Device: {}'.format(tf.test.gpu_device_name()))\n",
    "else:\n",
    "    print(\"Please install GPU version of TF\")\n",
    "print(\"Num GPUs Available: \", len(tf.config.experimental.list_physical_devices('GPU')))\n",
    "#print(tf.config.list_physical_devices('GPU'))\n",
    "print(\"Build with CUDA: \", tf.test.is_built_with_cuda())\n",
    "\n",
    "# Number of measurements to predict\n",
    "numPredictions = 20\n",
    "\n",
    "# Number of best models\n",
    "numBestModels = 1 \n",
    "\n",
    "# Validation set percentage\n",
    "val_size = 0.3\n",
    "\n",
    "# Batch size\n",
    "batch = 1024\n",
    "\n",
    "# Nodos internos\n",
    "hidden_nodes = 10\n",
    "\n",
    "# Units parameters\n",
    "minUnits = 10\n",
    "maxUnits = 50\n",
    "stepsUnits = 10\n",
    "defaultUnits = 30\n",
    "\n",
    "# Dropout Parameters\n",
    "minDropout = 0\n",
    "maxDropout = 0.33\n",
    "defaultDropout = .25\n",
    "\n",
    "# Establecer medida de loss\n",
    "loss = \"mean_absolute_error\"\n",
    "\n",
    "# Learning rate\n",
    "learningRate = [0.0, 1e-2, 1e-3, 1e-4]\n",
    "\n",
    "# Model metrics\n",
    "modelMetrics = [keras.metrics.MAE, tf.keras.metrics.RootMeanSquaredError(name = 'rmse')]\n",
    "\n",
    "# Optimizer objetive: error percetange with the validation set \n",
    "objective = kt.Objective('val_mean_absolute_error', 'min')\n",
    "\n",
    "# Maximum model trials and executions\n",
    "trials = 40\n",
    "executions = 2\n",
    "\n",
    "# Epochs\n",
    "epchs = 100"
   ]
  },
  {
   "cell_type": "code",
   "execution_count": 24,
   "metadata": {},
   "outputs": [],
   "source": [
    "df = pd.read_csv(\"C:/Users/hecto/Documents/Master/TFM/tfm-renewable-energy-deep-learning/data/training/2015_PV_W20_H20.csv\",\n",
    "                delimiter=\";\")\n",
    "\n",
    "dfTest = pd.read_csv(\"C:/Users/hecto/Documents/Master/TFM/tfm-renewable-energy-deep-learning/data/test/2016_PV_W20_H20.csv\",\n",
    "                delimiter=\";\")\n",
    "\n",
    "X = pd.read_csv(\"C:/Users/hecto/Documents/Master/TFM/tfm-renewable-energy-deep-learning/data/training/2015_Weather_W7.csv\",\n",
    "                       delimiter=\",\")\n",
    "\n",
    "xTest = pd.read_csv(\"C:/Users/hecto/Documents/Master/TFM/tfm-renewable-energy-deep-learning/data/test/2016_Weather_W7.csv\",\n",
    "                   delimiter=\",\")\n",
    "\n",
    "projectNameBO = \"W7_PV-lstm-bo\"\n",
    "projectNameRS = \"W7_PV-lstm-rs\"\n",
    "\n",
    "# projectNameRS = \"PV_W140_H20-lstm-rs\"\n",
    "# projectNameBO = \"PV_W140_H20-lstm-bo\"\n",
    "\n",
    "W=7\n",
    "H=20\n",
    "\n"
   ]
  },
  {
   "cell_type": "code",
   "execution_count": 25,
   "metadata": {},
   "outputs": [],
   "source": [
    "# # Preprocessing for PV_W_H type files:\n",
    "\n",
    "# df = df.replace(',', '.', regex=True)\n",
    "# dfTest = dfTest.replace(',', '.', regex=True)\n",
    "\n",
    "# #  Uncomment in order to normalize data\n",
    "# # Data Normalization\n",
    "\n",
    "# scaler = MinMaxScaler()\n",
    "# df = pd.DataFrame(scaler.fit_transform(df))\n",
    "# dfTest = pd.DataFrame(scaler.fit_transform(dfTest))\n",
    "\n",
    "# # Filter for PV data\n",
    "# X = df.iloc[:, 0:W]\n",
    "# xTest = dfTest.iloc[:, 0:W]\n",
    "\n",
    "# Y = df.iloc[:, W:]\n",
    "# yTest = dfTest.iloc[:, W:]\n",
    "\n",
    "# numPredictions = H\n",
    "\n",
    "# print(X)\n",
    "# print(yTest)\n",
    "\n"
   ]
  },
  {
   "cell_type": "code",
   "execution_count": 26,
   "metadata": {},
   "outputs": [
    {
     "name": "stdout",
     "output_type": "stream",
     "text": [
      "Source shape:  (364, 138)\n",
      "X Preproccessed shape:  (358, 118)\n",
      "Y Preproccessed shape:  (358, 20)\n",
      "---------------------------------------------\n"
     ]
    }
   ],
   "source": [
    "\n",
    "\n",
    "numPredictions = H\n",
    "\n",
    "df = df.replace(',', '.', regex=True)\n",
    "dfTest = dfTest.replace(',', '.', regex=True)\n",
    "\n",
    "# Data normalization\n",
    "scaler = MinMaxScaler()\n",
    "df = pd.DataFrame(scaler.fit_transform(df))\n",
    "dfTest = pd.DataFrame(scaler.fit_transform(dfTest))\n",
    "\n",
    "# Merge the two data sources\n",
    "X = pd.concat([X, df], axis = 1)\n",
    "xTest = pd.concat([xTest, dfTest], axis = 1)\n",
    "\n",
    "print(\"Source shape: \", X.shape)\n",
    "\n",
    "# NaN treatment\n",
    "if W == 1:\n",
    "    X.drop(X.tail(W).index, inplace = True)\n",
    "    xTest.drop(xTest.tail(W).index, inplace = True)\n",
    "else :\n",
    "    X.drop(X.tail(W-1).index, inplace = True)\n",
    "    xTest.drop(xTest.tail(W-1).index, inplace = True)\n",
    "\n",
    "\n",
    "# Y will contain only the last H columns, the data from the following day\n",
    "Y = X.iloc[:, -H:]\n",
    "yTest = xTest.iloc[:, -H:]\n",
    "\n",
    "# X will contain the rest of the data\n",
    "X = X.iloc[:, :-H]\n",
    "xTest = xTest.iloc[:, :-H]\n",
    "\n",
    "\n",
    "print(\"X Preproccessed shape: \", X.shape)\n",
    "print(\"Y Preproccessed shape: \", Y.shape)\n",
    "print(\"---------------------------------------------\")\n",
    "\n",
    "\n"
   ]
  },
  {
   "cell_type": "code",
   "execution_count": 27,
   "metadata": {},
   "outputs": [],
   "source": [
    "# #  Old ---- W type data preprocessing:\n",
    "\n",
    "# # Y will be the next day pv data, aka the last column from the next row.\n",
    "# shifted_df = X.shift(-1)\n",
    "# Y = pd.DataFrame(shifted_df.iloc[:, -1])\n",
    "\n",
    "# shifted_df = xTest.shift(-1)\n",
    "# yTest = pd.DataFrame(shifted_df.iloc[:, -1])\n",
    "\n",
    "# X.drop(X.tail(1).index, inplace = True)\n",
    "# Y.drop(Y.tail(1).index, inplace = True)\n",
    "\n",
    "# xTest.drop(xTest.tail(1).index, inplace = True)\n",
    "# yTest.drop(yTest.tail(1).index, inplace = True)\n",
    "\n",
    "# numPredictions = 1"
   ]
  },
  {
   "cell_type": "code",
   "execution_count": 28,
   "metadata": {},
   "outputs": [
    {
     "name": "stdout",
     "output_type": "stream",
     "text": [
      "DataFrame Preproccessed:\n",
      "     min_temp_d1  max_temp_d1  rainfall_d1  sun_hours_d1  max_wind_speed_d1  \\\n",
      "0       0.919431     0.699029     0.001095      0.774436           0.261538   \n",
      "1       0.909953     0.621359     0.006572      0.315789           0.369231   \n",
      "2       0.744076     0.684466     0.092004      0.902256           0.230769   \n",
      "3       0.777251     0.582524     0.000000      0.285714           0.138462   \n",
      "4       0.763033     0.650485     0.118291      0.909774           0.338462   \n",
      "..           ...          ...          ...           ...                ...   \n",
      "353     0.781991     0.733010     0.000000      0.864662           0.230769   \n",
      "354     0.767773     0.699029     0.000000      0.721805           0.200000   \n",
      "355     0.729858     0.703883     0.000000      0.902256           0.261538   \n",
      "356     0.729858     0.582524     0.017525      0.097744           0.261538   \n",
      "357     0.677725     0.597087     0.050383      0.774436           0.230769   \n",
      "\n",
      "     temp_9_d1  Rel_hum_9_d1  cloud_cover_d1  wind_speed_9_d1  temp_15_d1  \\\n",
      "0     0.878378      0.581081           0.625         0.003896    0.231441   \n",
      "1     0.819820      0.594595           0.625         0.006817    0.196507   \n",
      "2     0.707207      0.783784           1.000         0.003896    0.203785   \n",
      "3     0.797297      0.472973           0.500         0.006817    0.211063   \n",
      "4     0.761261      0.608108           0.875         0.003896    0.136827   \n",
      "..         ...           ...             ...              ...         ...   \n",
      "353   0.815315      0.256757           0.375         0.003896    0.195051   \n",
      "354   0.824324      0.283784           0.250         0.003896    0.222707   \n",
      "355   0.774775      0.391892           0.750         0.004869    0.192140   \n",
      "356   0.824324      0.337838           0.750         0.004869    0.218341   \n",
      "357   0.725225      0.527027           0.875         0.003896    0.183406   \n",
      "\n",
      "     ...        30        31        32        33        34        35  \\\n",
      "0    ...  0.725309  0.753365  0.826986  0.507453  0.253729  0.160616   \n",
      "1    ...  0.467013  0.528495  0.626616  0.347718  0.686606  0.913557   \n",
      "2    ...  0.759042  0.714959  0.705419  0.618476  0.493688  0.461296   \n",
      "3    ...  0.094073  0.154760  0.264446  0.457932  0.203129  0.141239   \n",
      "4    ...  0.926857  0.847993  0.962166  0.827868  1.000000  0.978278   \n",
      "..   ...       ...       ...       ...       ...       ...       ...   \n",
      "353  ...  0.969834  0.958288  0.963344  0.903828  0.932434  0.937249   \n",
      "354  ...  0.927126  0.918719  0.781446  0.609425  0.887240  0.496700   \n",
      "355  ...  0.916123  0.807177  0.812352  0.767282  0.880050  0.892946   \n",
      "356  ...  0.293190  0.318158  0.388525  0.363299  0.308793  0.433898   \n",
      "357  ...  0.757455  0.836868  0.832718  0.882854  0.910088  0.499205   \n",
      "\n",
      "           36        37        38        39  \n",
      "0    0.310629  0.578497  0.610370  0.383605  \n",
      "1    1.000000  0.971440  0.862149  0.834694  \n",
      "2    0.608447  0.430454  0.580978  0.884396  \n",
      "3    0.286094  0.378142  0.309162  0.419463  \n",
      "4    0.949418  1.000000  0.978594  0.904624  \n",
      "..        ...       ...       ...       ...  \n",
      "353  0.893998  0.940102  0.910022  0.793128  \n",
      "354  0.557657  0.566332  1.000000  0.456849  \n",
      "355  0.940639  0.759151  0.743495  0.756050  \n",
      "356  0.084282  0.041926  0.033168  0.019860  \n",
      "357  0.453737  0.592603  0.820446  0.854800  \n",
      "\n",
      "[358 rows x 138 columns]\n",
      "---------------------------------------------\n",
      "Dimensions afther third dimension added:\n",
      "xTrain:\t(250, 1, 118)\n",
      "yTrain:\t(250, 1, 20)\n",
      "xVal:\t(108, 1, 118)\n",
      "yVal:\t(108, 1, 20)\n",
      "xTest:\t(359, 1, 118)\n",
      "yTest:\t(359, 1, 20)\n"
     ]
    }
   ],
   "source": [
    "dfPreproccessed = pd.concat([X, Y], axis = 1)\n",
    "\n",
    "print(\"DataFrame Preproccessed:\")\n",
    "print(dfPreproccessed)\n",
    "print(\"---------------------------------------------\")\n",
    "\n",
    "# Split the data into training and validation sets\n",
    "xTrain, xVal, yTrain, yVal = train_test_split(X, \n",
    "                                            Y, \n",
    "                                            test_size = val_size, \n",
    "                                            random_state = 0, \n",
    "                                            shuffle=False)\n",
    "\n",
    "# Adding the third dimension needed to use LSTM (samples, timestamps, features)\n",
    "xtrain = np.reshape(xTrain.values, (xTrain.shape[0], 1, xTrain.shape[1]))\n",
    "ytrain = np.reshape(yTrain.values, (yTrain.shape[0], 1, yTrain.shape[1]))\n",
    "xval = np.reshape(xVal.values, (xVal.shape[0], 1,  xVal.shape[1]))\n",
    "yval = np.reshape(yVal.values, (yVal.shape[0], 1, yVal.shape[1]))\n",
    "xtest = np.reshape(xTest.values, (xTest.shape[0], 1, xTest.shape[1]))\n",
    "ytest = np.reshape(yTest.values, (yTest.shape[0], 1, yTest.shape[1]))\n",
    "\n",
    "# New shapes after third dimension added\n",
    "print(\"Dimensions afther third dimension added:\")\n",
    "print(\"xTrain:\\t\"+str(xtrain.shape))\n",
    "print(\"yTrain:\\t\"+str(ytrain.shape))\n",
    "print(\"xVal:\\t\"+str(xval.shape))\n",
    "print(\"yVal:\\t\"+str(yval.shape))\n",
    "print(\"xTest:\\t\"+str(xtest.shape))\n",
    "print(\"yTest:\\t\"+str(ytest.shape))"
   ]
  },
  {
   "cell_type": "code",
   "execution_count": 29,
   "metadata": {},
   "outputs": [],
   "source": [
    "# Model definition:\n",
    "with tf.device('/gpu:0'): \n",
    "    \n",
    "    def build_model(hp): \n",
    "\n",
    "        model = Sequential()\n",
    "        \n",
    "        # model.add(LSTM(hidden_nodes, input_shape=(xtrain.shape[1], 1)))\n",
    "        # First layer: LSTM. Number of units optimization\n",
    "        model.add(LSTM(units = hp.Int('units', \n",
    "                                    min_value = minUnits,\n",
    "                                    max_value = maxUnits, \n",
    "                                    step = stepsUnits,\n",
    "                                    default = defaultUnits),\n",
    "                        return_sequences = True, \n",
    "                        input_shape = (xtrain.shape[1], xtrain.shape[2])))\n",
    "\n",
    "        # Second layer: Dropout with percetange optimization\n",
    "        model.add(\n",
    "            Dropout(hp.Float('dropout', \n",
    "                            min_value = minDropout,\n",
    "                            max_value = maxDropout,\n",
    "                            default = defaultDropout)))\n",
    "        \n",
    "        # Last layer:\n",
    "        model.add(Dense(numPredictions))\n",
    "\n",
    "        #print(\"Summary: \")\n",
    "        #model.summary()\n",
    "\n",
    "        # Model compilation: learning rate optimization\n",
    "        model.compile(loss = loss,\n",
    "                    optimizer = keras.optimizers.Adam(hp.Choice('learning_rate', \n",
    "                                                                values = learningRate)),\n",
    "                    metrics = modelMetrics)\n",
    "\n",
    "        return model"
   ]
  },
  {
   "cell_type": "code",
   "execution_count": 30,
   "metadata": {},
   "outputs": [
    {
     "data": {
      "text/html": [
       "<span style=\"color:#4527A0\"><h1 style=\"font-size:18px\">Trial complete</h1></span>"
      ],
      "text/plain": [
       "<IPython.core.display.HTML object>"
      ]
     },
     "metadata": {},
     "output_type": "display_data"
    },
    {
     "data": {
      "text/html": [
       "<span style=\"color:#4527A0\"><h1 style=\"font-size:18px\">Trial summary</h1></span>"
      ],
      "text/plain": [
       "<IPython.core.display.HTML object>"
      ]
     },
     "metadata": {},
     "output_type": "display_data"
    },
    {
     "data": {
      "text/html": [
       "<span style=\"color:cyan\"> |-Trial ID: 9486e58427e0d5c30f7e0de92677af2a</span>"
      ],
      "text/plain": [
       "<IPython.core.display.HTML object>"
      ]
     },
     "metadata": {},
     "output_type": "display_data"
    },
    {
     "data": {
      "text/html": [
       "<span style=\"color:cyan\"> |-Score: 0.5978254675865173</span>"
      ],
      "text/plain": [
       "<IPython.core.display.HTML object>"
      ]
     },
     "metadata": {},
     "output_type": "display_data"
    },
    {
     "data": {
      "text/html": [
       "<span style=\"color:cyan\"> |-Best step: 0</span>"
      ],
      "text/plain": [
       "<IPython.core.display.HTML object>"
      ]
     },
     "metadata": {},
     "output_type": "display_data"
    },
    {
     "data": {
      "text/html": [
       "<span style=\"color:#7E57C2\"><h2 style=\"font-size:16px\">Hyperparameters:</h2></span>"
      ],
      "text/plain": [
       "<IPython.core.display.HTML object>"
      ]
     },
     "metadata": {},
     "output_type": "display_data"
    },
    {
     "data": {
      "text/html": [
       "<span style=\"color:cyan\"> |-dropout: 0.27249735783542295</span>"
      ],
      "text/plain": [
       "<IPython.core.display.HTML object>"
      ]
     },
     "metadata": {},
     "output_type": "display_data"
    },
    {
     "data": {
      "text/html": [
       "<span style=\"color:blue\"> |-learning_rate: 0.0</span>"
      ],
      "text/plain": [
       "<IPython.core.display.HTML object>"
      ]
     },
     "metadata": {},
     "output_type": "display_data"
    },
    {
     "data": {
      "text/html": [
       "<span style=\"color:cyan\"> |-units: 40</span>"
      ],
      "text/plain": [
       "<IPython.core.display.HTML object>"
      ]
     },
     "metadata": {},
     "output_type": "display_data"
    },
    {
     "data": {
      "text/html": [
       "<span style=\"color:#4527A0\"><h1 style=\"font-size:18px\">Trial complete</h1></span>"
      ],
      "text/plain": [
       "<IPython.core.display.HTML object>"
      ]
     },
     "metadata": {},
     "output_type": "display_data"
    },
    {
     "data": {
      "text/html": [
       "<span style=\"color:#4527A0\"><h1 style=\"font-size:18px\">Trial summary</h1></span>"
      ],
      "text/plain": [
       "<IPython.core.display.HTML object>"
      ]
     },
     "metadata": {},
     "output_type": "display_data"
    },
    {
     "data": {
      "text/html": [
       "<span style=\"color:cyan\"> |-Trial ID: 181a02ad42e0cade90c61b0dfb063069</span>"
      ],
      "text/plain": [
       "<IPython.core.display.HTML object>"
      ]
     },
     "metadata": {},
     "output_type": "display_data"
    },
    {
     "data": {
      "text/html": [
       "<span style=\"color:cyan\"> |-Score: 0.15274891257286072</span>"
      ],
      "text/plain": [
       "<IPython.core.display.HTML object>"
      ]
     },
     "metadata": {},
     "output_type": "display_data"
    },
    {
     "data": {
      "text/html": [
       "<span style=\"color:cyan\"> |-Best step: 0</span>"
      ],
      "text/plain": [
       "<IPython.core.display.HTML object>"
      ]
     },
     "metadata": {},
     "output_type": "display_data"
    },
    {
     "data": {
      "text/html": [
       "<span style=\"color:#7E57C2\"><h2 style=\"font-size:16px\">Hyperparameters:</h2></span>"
      ],
      "text/plain": [
       "<IPython.core.display.HTML object>"
      ]
     },
     "metadata": {},
     "output_type": "display_data"
    },
    {
     "data": {
      "text/html": [
       "<span style=\"color:cyan\"> |-dropout: 0.056704024219930996</span>"
      ],
      "text/plain": [
       "<IPython.core.display.HTML object>"
      ]
     },
     "metadata": {},
     "output_type": "display_data"
    },
    {
     "data": {
      "text/html": [
       "<span style=\"color:blue\"> |-learning_rate: 0.01</span>"
      ],
      "text/plain": [
       "<IPython.core.display.HTML object>"
      ]
     },
     "metadata": {},
     "output_type": "display_data"
    },
    {
     "data": {
      "text/html": [
       "<span style=\"color:cyan\"> |-units: 20</span>"
      ],
      "text/plain": [
       "<IPython.core.display.HTML object>"
      ]
     },
     "metadata": {},
     "output_type": "display_data"
    },
    {
     "data": {
      "text/html": [
       "<span style=\"color:#4527A0\"><h1 style=\"font-size:18px\">Trial complete</h1></span>"
      ],
      "text/plain": [
       "<IPython.core.display.HTML object>"
      ]
     },
     "metadata": {},
     "output_type": "display_data"
    },
    {
     "data": {
      "text/html": [
       "<span style=\"color:#4527A0\"><h1 style=\"font-size:18px\">Trial summary</h1></span>"
      ],
      "text/plain": [
       "<IPython.core.display.HTML object>"
      ]
     },
     "metadata": {},
     "output_type": "display_data"
    },
    {
     "data": {
      "text/html": [
       "<span style=\"color:cyan\"> |-Trial ID: b0c94eef25bf341bae596ae966571ad6</span>"
      ],
      "text/plain": [
       "<IPython.core.display.HTML object>"
      ]
     },
     "metadata": {},
     "output_type": "display_data"
    },
    {
     "data": {
      "text/html": [
       "<span style=\"color:cyan\"> |-Score: 0.4563923478126526</span>"
      ],
      "text/plain": [
       "<IPython.core.display.HTML object>"
      ]
     },
     "metadata": {},
     "output_type": "display_data"
    },
    {
     "data": {
      "text/html": [
       "<span style=\"color:cyan\"> |-Best step: 0</span>"
      ],
      "text/plain": [
       "<IPython.core.display.HTML object>"
      ]
     },
     "metadata": {},
     "output_type": "display_data"
    },
    {
     "data": {
      "text/html": [
       "<span style=\"color:#7E57C2\"><h2 style=\"font-size:16px\">Hyperparameters:</h2></span>"
      ],
      "text/plain": [
       "<IPython.core.display.HTML object>"
      ]
     },
     "metadata": {},
     "output_type": "display_data"
    },
    {
     "data": {
      "text/html": [
       "<span style=\"color:cyan\"> |-dropout: 0.1102311511505161</span>"
      ],
      "text/plain": [
       "<IPython.core.display.HTML object>"
      ]
     },
     "metadata": {},
     "output_type": "display_data"
    },
    {
     "data": {
      "text/html": [
       "<span style=\"color:blue\"> |-learning_rate: 0.0001</span>"
      ],
      "text/plain": [
       "<IPython.core.display.HTML object>"
      ]
     },
     "metadata": {},
     "output_type": "display_data"
    },
    {
     "data": {
      "text/html": [
       "<span style=\"color:cyan\"> |-units: 30</span>"
      ],
      "text/plain": [
       "<IPython.core.display.HTML object>"
      ]
     },
     "metadata": {},
     "output_type": "display_data"
    },
    {
     "data": {
      "text/html": [
       "<span style=\"color:#4527A0\"><h1 style=\"font-size:18px\">Trial complete</h1></span>"
      ],
      "text/plain": [
       "<IPython.core.display.HTML object>"
      ]
     },
     "metadata": {},
     "output_type": "display_data"
    },
    {
     "data": {
      "text/html": [
       "<span style=\"color:#4527A0\"><h1 style=\"font-size:18px\">Trial summary</h1></span>"
      ],
      "text/plain": [
       "<IPython.core.display.HTML object>"
      ]
     },
     "metadata": {},
     "output_type": "display_data"
    },
    {
     "data": {
      "text/html": [
       "<span style=\"color:cyan\"> |-Trial ID: 873f297c73c7507de2050ca2402219f2</span>"
      ],
      "text/plain": [
       "<IPython.core.display.HTML object>"
      ]
     },
     "metadata": {},
     "output_type": "display_data"
    },
    {
     "data": {
      "text/html": [
       "<span style=\"color:cyan\"> |-Score: 0.6415209770202637</span>"
      ],
      "text/plain": [
       "<IPython.core.display.HTML object>"
      ]
     },
     "metadata": {},
     "output_type": "display_data"
    },
    {
     "data": {
      "text/html": [
       "<span style=\"color:cyan\"> |-Best step: 0</span>"
      ],
      "text/plain": [
       "<IPython.core.display.HTML object>"
      ]
     },
     "metadata": {},
     "output_type": "display_data"
    },
    {
     "data": {
      "text/html": [
       "<span style=\"color:#7E57C2\"><h2 style=\"font-size:16px\">Hyperparameters:</h2></span>"
      ],
      "text/plain": [
       "<IPython.core.display.HTML object>"
      ]
     },
     "metadata": {},
     "output_type": "display_data"
    },
    {
     "data": {
      "text/html": [
       "<span style=\"color:cyan\"> |-dropout: 0.19411627671840626</span>"
      ],
      "text/plain": [
       "<IPython.core.display.HTML object>"
      ]
     },
     "metadata": {},
     "output_type": "display_data"
    },
    {
     "data": {
      "text/html": [
       "<span style=\"color:blue\"> |-learning_rate: 0.0</span>"
      ],
      "text/plain": [
       "<IPython.core.display.HTML object>"
      ]
     },
     "metadata": {},
     "output_type": "display_data"
    },
    {
     "data": {
      "text/html": [
       "<span style=\"color:cyan\"> |-units: 30</span>"
      ],
      "text/plain": [
       "<IPython.core.display.HTML object>"
      ]
     },
     "metadata": {},
     "output_type": "display_data"
    },
    {
     "data": {
      "text/html": [
       "<span style=\"color:#4527A0\"><h1 style=\"font-size:18px\">Trial complete</h1></span>"
      ],
      "text/plain": [
       "<IPython.core.display.HTML object>"
      ]
     },
     "metadata": {},
     "output_type": "display_data"
    },
    {
     "data": {
      "text/html": [
       "<span style=\"color:#4527A0\"><h1 style=\"font-size:18px\">Trial summary</h1></span>"
      ],
      "text/plain": [
       "<IPython.core.display.HTML object>"
      ]
     },
     "metadata": {},
     "output_type": "display_data"
    },
    {
     "data": {
      "text/html": [
       "<span style=\"color:cyan\"> |-Trial ID: ed675831158dee67f67a25a4c35acb00</span>"
      ],
      "text/plain": [
       "<IPython.core.display.HTML object>"
      ]
     },
     "metadata": {},
     "output_type": "display_data"
    },
    {
     "data": {
      "text/html": [
       "<span style=\"color:cyan\"> |-Score: 0.6354897022247314</span>"
      ],
      "text/plain": [
       "<IPython.core.display.HTML object>"
      ]
     },
     "metadata": {},
     "output_type": "display_data"
    },
    {
     "data": {
      "text/html": [
       "<span style=\"color:cyan\"> |-Best step: 0</span>"
      ],
      "text/plain": [
       "<IPython.core.display.HTML object>"
      ]
     },
     "metadata": {},
     "output_type": "display_data"
    },
    {
     "data": {
      "text/html": [
       "<span style=\"color:#7E57C2\"><h2 style=\"font-size:16px\">Hyperparameters:</h2></span>"
      ],
      "text/plain": [
       "<IPython.core.display.HTML object>"
      ]
     },
     "metadata": {},
     "output_type": "display_data"
    },
    {
     "data": {
      "text/html": [
       "<span style=\"color:cyan\"> |-dropout: 0.17058352143065617</span>"
      ],
      "text/plain": [
       "<IPython.core.display.HTML object>"
      ]
     },
     "metadata": {},
     "output_type": "display_data"
    },
    {
     "data": {
      "text/html": [
       "<span style=\"color:blue\"> |-learning_rate: 0.0</span>"
      ],
      "text/plain": [
       "<IPython.core.display.HTML object>"
      ]
     },
     "metadata": {},
     "output_type": "display_data"
    },
    {
     "data": {
      "text/html": [
       "<span style=\"color:cyan\"> |-units: 30</span>"
      ],
      "text/plain": [
       "<IPython.core.display.HTML object>"
      ]
     },
     "metadata": {},
     "output_type": "display_data"
    },
    {
     "data": {
      "text/html": [
       "<span style=\"color:#4527A0\"><h1 style=\"font-size:18px\">Trial complete</h1></span>"
      ],
      "text/plain": [
       "<IPython.core.display.HTML object>"
      ]
     },
     "metadata": {},
     "output_type": "display_data"
    },
    {
     "data": {
      "text/html": [
       "<span style=\"color:#4527A0\"><h1 style=\"font-size:18px\">Trial summary</h1></span>"
      ],
      "text/plain": [
       "<IPython.core.display.HTML object>"
      ]
     },
     "metadata": {},
     "output_type": "display_data"
    },
    {
     "data": {
      "text/html": [
       "<span style=\"color:cyan\"> |-Trial ID: a65c6b07263e2e95bdc69d07812ddb24</span>"
      ],
      "text/plain": [
       "<IPython.core.display.HTML object>"
      ]
     },
     "metadata": {},
     "output_type": "display_data"
    },
    {
     "data": {
      "text/html": [
       "<span style=\"color:cyan\"> |-Score: 0.5987256765365601</span>"
      ],
      "text/plain": [
       "<IPython.core.display.HTML object>"
      ]
     },
     "metadata": {},
     "output_type": "display_data"
    },
    {
     "data": {
      "text/html": [
       "<span style=\"color:cyan\"> |-Best step: 0</span>"
      ],
      "text/plain": [
       "<IPython.core.display.HTML object>"
      ]
     },
     "metadata": {},
     "output_type": "display_data"
    },
    {
     "data": {
      "text/html": [
       "<span style=\"color:#7E57C2\"><h2 style=\"font-size:16px\">Hyperparameters:</h2></span>"
      ],
      "text/plain": [
       "<IPython.core.display.HTML object>"
      ]
     },
     "metadata": {},
     "output_type": "display_data"
    },
    {
     "data": {
      "text/html": [
       "<span style=\"color:cyan\"> |-dropout: 0.16030188878872964</span>"
      ],
      "text/plain": [
       "<IPython.core.display.HTML object>"
      ]
     },
     "metadata": {},
     "output_type": "display_data"
    },
    {
     "data": {
      "text/html": [
       "<span style=\"color:blue\"> |-learning_rate: 0.0</span>"
      ],
      "text/plain": [
       "<IPython.core.display.HTML object>"
      ]
     },
     "metadata": {},
     "output_type": "display_data"
    },
    {
     "data": {
      "text/html": [
       "<span style=\"color:cyan\"> |-units: 30</span>"
      ],
      "text/plain": [
       "<IPython.core.display.HTML object>"
      ]
     },
     "metadata": {},
     "output_type": "display_data"
    },
    {
     "data": {
      "text/html": [
       "<span style=\"color:#4527A0\"><h1 style=\"font-size:18px\">Trial complete</h1></span>"
      ],
      "text/plain": [
       "<IPython.core.display.HTML object>"
      ]
     },
     "metadata": {},
     "output_type": "display_data"
    },
    {
     "data": {
      "text/html": [
       "<span style=\"color:#4527A0\"><h1 style=\"font-size:18px\">Trial summary</h1></span>"
      ],
      "text/plain": [
       "<IPython.core.display.HTML object>"
      ]
     },
     "metadata": {},
     "output_type": "display_data"
    },
    {
     "data": {
      "text/html": [
       "<span style=\"color:cyan\"> |-Trial ID: 4ac39a53db08eaabbc92e4925469a19e</span>"
      ],
      "text/plain": [
       "<IPython.core.display.HTML object>"
      ]
     },
     "metadata": {},
     "output_type": "display_data"
    },
    {
     "data": {
      "text/html": [
       "<span style=\"color:cyan\"> |-Score: 0.15396304428577423</span>"
      ],
      "text/plain": [
       "<IPython.core.display.HTML object>"
      ]
     },
     "metadata": {},
     "output_type": "display_data"
    },
    {
     "data": {
      "text/html": [
       "<span style=\"color:cyan\"> |-Best step: 0</span>"
      ],
      "text/plain": [
       "<IPython.core.display.HTML object>"
      ]
     },
     "metadata": {},
     "output_type": "display_data"
    },
    {
     "data": {
      "text/html": [
       "<span style=\"color:#7E57C2\"><h2 style=\"font-size:16px\">Hyperparameters:</h2></span>"
      ],
      "text/plain": [
       "<IPython.core.display.HTML object>"
      ]
     },
     "metadata": {},
     "output_type": "display_data"
    },
    {
     "data": {
      "text/html": [
       "<span style=\"color:cyan\"> |-dropout: 0.17224256483068318</span>"
      ],
      "text/plain": [
       "<IPython.core.display.HTML object>"
      ]
     },
     "metadata": {},
     "output_type": "display_data"
    },
    {
     "data": {
      "text/html": [
       "<span style=\"color:blue\"> |-learning_rate: 0.01</span>"
      ],
      "text/plain": [
       "<IPython.core.display.HTML object>"
      ]
     },
     "metadata": {},
     "output_type": "display_data"
    },
    {
     "data": {
      "text/html": [
       "<span style=\"color:cyan\"> |-units: 40</span>"
      ],
      "text/plain": [
       "<IPython.core.display.HTML object>"
      ]
     },
     "metadata": {},
     "output_type": "display_data"
    },
    {
     "data": {
      "text/html": [
       "<span style=\"color:#4527A0\"><h1 style=\"font-size:18px\">Trial complete</h1></span>"
      ],
      "text/plain": [
       "<IPython.core.display.HTML object>"
      ]
     },
     "metadata": {},
     "output_type": "display_data"
    },
    {
     "data": {
      "text/html": [
       "<span style=\"color:#4527A0\"><h1 style=\"font-size:18px\">Trial summary</h1></span>"
      ],
      "text/plain": [
       "<IPython.core.display.HTML object>"
      ]
     },
     "metadata": {},
     "output_type": "display_data"
    },
    {
     "data": {
      "text/html": [
       "<span style=\"color:cyan\"> |-Trial ID: c8f1d3dcf157bc9fa406458564dd1e37</span>"
      ],
      "text/plain": [
       "<IPython.core.display.HTML object>"
      ]
     },
     "metadata": {},
     "output_type": "display_data"
    },
    {
     "data": {
      "text/html": [
       "<span style=\"color:cyan\"> |-Score: 0.15619555115699768</span>"
      ],
      "text/plain": [
       "<IPython.core.display.HTML object>"
      ]
     },
     "metadata": {},
     "output_type": "display_data"
    },
    {
     "data": {
      "text/html": [
       "<span style=\"color:cyan\"> |-Best step: 0</span>"
      ],
      "text/plain": [
       "<IPython.core.display.HTML object>"
      ]
     },
     "metadata": {},
     "output_type": "display_data"
    },
    {
     "data": {
      "text/html": [
       "<span style=\"color:#7E57C2\"><h2 style=\"font-size:16px\">Hyperparameters:</h2></span>"
      ],
      "text/plain": [
       "<IPython.core.display.HTML object>"
      ]
     },
     "metadata": {},
     "output_type": "display_data"
    },
    {
     "data": {
      "text/html": [
       "<span style=\"color:cyan\"> |-dropout: 0.2449596598860279</span>"
      ],
      "text/plain": [
       "<IPython.core.display.HTML object>"
      ]
     },
     "metadata": {},
     "output_type": "display_data"
    },
    {
     "data": {
      "text/html": [
       "<span style=\"color:blue\"> |-learning_rate: 0.01</span>"
      ],
      "text/plain": [
       "<IPython.core.display.HTML object>"
      ]
     },
     "metadata": {},
     "output_type": "display_data"
    },
    {
     "data": {
      "text/html": [
       "<span style=\"color:cyan\"> |-units: 40</span>"
      ],
      "text/plain": [
       "<IPython.core.display.HTML object>"
      ]
     },
     "metadata": {},
     "output_type": "display_data"
    },
    {
     "data": {
      "text/html": [
       "<span style=\"color:#4527A0\"><h1 style=\"font-size:18px\">Trial complete</h1></span>"
      ],
      "text/plain": [
       "<IPython.core.display.HTML object>"
      ]
     },
     "metadata": {},
     "output_type": "display_data"
    },
    {
     "data": {
      "text/html": [
       "<span style=\"color:#4527A0\"><h1 style=\"font-size:18px\">Trial summary</h1></span>"
      ],
      "text/plain": [
       "<IPython.core.display.HTML object>"
      ]
     },
     "metadata": {},
     "output_type": "display_data"
    },
    {
     "data": {
      "text/html": [
       "<span style=\"color:cyan\"> |-Trial ID: 27aa1cb6f433499e15cb183c9deef3a5</span>"
      ],
      "text/plain": [
       "<IPython.core.display.HTML object>"
      ]
     },
     "metadata": {},
     "output_type": "display_data"
    },
    {
     "data": {
      "text/html": [
       "<span style=\"color:cyan\"> |-Score: 0.6426956057548523</span>"
      ],
      "text/plain": [
       "<IPython.core.display.HTML object>"
      ]
     },
     "metadata": {},
     "output_type": "display_data"
    },
    {
     "data": {
      "text/html": [
       "<span style=\"color:cyan\"> |-Best step: 0</span>"
      ],
      "text/plain": [
       "<IPython.core.display.HTML object>"
      ]
     },
     "metadata": {},
     "output_type": "display_data"
    },
    {
     "data": {
      "text/html": [
       "<span style=\"color:#7E57C2\"><h2 style=\"font-size:16px\">Hyperparameters:</h2></span>"
      ],
      "text/plain": [
       "<IPython.core.display.HTML object>"
      ]
     },
     "metadata": {},
     "output_type": "display_data"
    },
    {
     "data": {
      "text/html": [
       "<span style=\"color:cyan\"> |-dropout: 0.2428793180916461</span>"
      ],
      "text/plain": [
       "<IPython.core.display.HTML object>"
      ]
     },
     "metadata": {},
     "output_type": "display_data"
    },
    {
     "data": {
      "text/html": [
       "<span style=\"color:blue\"> |-learning_rate: 0.0</span>"
      ],
      "text/plain": [
       "<IPython.core.display.HTML object>"
      ]
     },
     "metadata": {},
     "output_type": "display_data"
    },
    {
     "data": {
      "text/html": [
       "<span style=\"color:cyan\"> |-units: 40</span>"
      ],
      "text/plain": [
       "<IPython.core.display.HTML object>"
      ]
     },
     "metadata": {},
     "output_type": "display_data"
    },
    {
     "data": {
      "text/html": [
       "<span style=\"color:#4527A0\"><h1 style=\"font-size:18px\">Trial complete</h1></span>"
      ],
      "text/plain": [
       "<IPython.core.display.HTML object>"
      ]
     },
     "metadata": {},
     "output_type": "display_data"
    },
    {
     "data": {
      "text/html": [
       "<span style=\"color:#4527A0\"><h1 style=\"font-size:18px\">Trial summary</h1></span>"
      ],
      "text/plain": [
       "<IPython.core.display.HTML object>"
      ]
     },
     "metadata": {},
     "output_type": "display_data"
    },
    {
     "data": {
      "text/html": [
       "<span style=\"color:cyan\"> |-Trial ID: 7ed4ccc0de43e4df28a6c3ee5de7265e</span>"
      ],
      "text/plain": [
       "<IPython.core.display.HTML object>"
      ]
     },
     "metadata": {},
     "output_type": "display_data"
    },
    {
     "data": {
      "text/html": [
       "<span style=\"color:cyan\"> |-Score: 0.501649022102356</span>"
      ],
      "text/plain": [
       "<IPython.core.display.HTML object>"
      ]
     },
     "metadata": {},
     "output_type": "display_data"
    },
    {
     "data": {
      "text/html": [
       "<span style=\"color:cyan\"> |-Best step: 0</span>"
      ],
      "text/plain": [
       "<IPython.core.display.HTML object>"
      ]
     },
     "metadata": {},
     "output_type": "display_data"
    },
    {
     "data": {
      "text/html": [
       "<span style=\"color:#7E57C2\"><h2 style=\"font-size:16px\">Hyperparameters:</h2></span>"
      ],
      "text/plain": [
       "<IPython.core.display.HTML object>"
      ]
     },
     "metadata": {},
     "output_type": "display_data"
    },
    {
     "data": {
      "text/html": [
       "<span style=\"color:cyan\"> |-dropout: 0.29476497535380053</span>"
      ],
      "text/plain": [
       "<IPython.core.display.HTML object>"
      ]
     },
     "metadata": {},
     "output_type": "display_data"
    },
    {
     "data": {
      "text/html": [
       "<span style=\"color:blue\"> |-learning_rate: 0.0001</span>"
      ],
      "text/plain": [
       "<IPython.core.display.HTML object>"
      ]
     },
     "metadata": {},
     "output_type": "display_data"
    },
    {
     "data": {
      "text/html": [
       "<span style=\"color:cyan\"> |-units: 20</span>"
      ],
      "text/plain": [
       "<IPython.core.display.HTML object>"
      ]
     },
     "metadata": {},
     "output_type": "display_data"
    },
    {
     "data": {
      "text/html": [
       "<span style=\"color:#4527A0\"><h1 style=\"font-size:18px\">Trial complete</h1></span>"
      ],
      "text/plain": [
       "<IPython.core.display.HTML object>"
      ]
     },
     "metadata": {},
     "output_type": "display_data"
    },
    {
     "data": {
      "text/html": [
       "<span style=\"color:#4527A0\"><h1 style=\"font-size:18px\">Trial summary</h1></span>"
      ],
      "text/plain": [
       "<IPython.core.display.HTML object>"
      ]
     },
     "metadata": {},
     "output_type": "display_data"
    },
    {
     "data": {
      "text/html": [
       "<span style=\"color:cyan\"> |-Trial ID: 278b8f9e4fab998b4deb45100417bdc7</span>"
      ],
      "text/plain": [
       "<IPython.core.display.HTML object>"
      ]
     },
     "metadata": {},
     "output_type": "display_data"
    },
    {
     "data": {
      "text/html": [
       "<span style=\"color:cyan\"> |-Score: 0.15235018730163574</span>"
      ],
      "text/plain": [
       "<IPython.core.display.HTML object>"
      ]
     },
     "metadata": {},
     "output_type": "display_data"
    },
    {
     "data": {
      "text/html": [
       "<span style=\"color:cyan\"> |-Best step: 0</span>"
      ],
      "text/plain": [
       "<IPython.core.display.HTML object>"
      ]
     },
     "metadata": {},
     "output_type": "display_data"
    },
    {
     "data": {
      "text/html": [
       "<span style=\"color:#7E57C2\"><h2 style=\"font-size:16px\">Hyperparameters:</h2></span>"
      ],
      "text/plain": [
       "<IPython.core.display.HTML object>"
      ]
     },
     "metadata": {},
     "output_type": "display_data"
    },
    {
     "data": {
      "text/html": [
       "<span style=\"color:cyan\"> |-dropout: 0.15836789766737794</span>"
      ],
      "text/plain": [
       "<IPython.core.display.HTML object>"
      ]
     },
     "metadata": {},
     "output_type": "display_data"
    },
    {
     "data": {
      "text/html": [
       "<span style=\"color:blue\"> |-learning_rate: 0.01</span>"
      ],
      "text/plain": [
       "<IPython.core.display.HTML object>"
      ]
     },
     "metadata": {},
     "output_type": "display_data"
    },
    {
     "data": {
      "text/html": [
       "<span style=\"color:cyan\"> |-units: 20</span>"
      ],
      "text/plain": [
       "<IPython.core.display.HTML object>"
      ]
     },
     "metadata": {},
     "output_type": "display_data"
    },
    {
     "data": {
      "text/html": [
       "<span style=\"color:#4527A0\"><h1 style=\"font-size:18px\">Trial complete</h1></span>"
      ],
      "text/plain": [
       "<IPython.core.display.HTML object>"
      ]
     },
     "metadata": {},
     "output_type": "display_data"
    },
    {
     "data": {
      "text/html": [
       "<span style=\"color:#4527A0\"><h1 style=\"font-size:18px\">Trial summary</h1></span>"
      ],
      "text/plain": [
       "<IPython.core.display.HTML object>"
      ]
     },
     "metadata": {},
     "output_type": "display_data"
    },
    {
     "data": {
      "text/html": [
       "<span style=\"color:cyan\"> |-Trial ID: 4a5084a215d534829b888d64b8bb772e</span>"
      ],
      "text/plain": [
       "<IPython.core.display.HTML object>"
      ]
     },
     "metadata": {},
     "output_type": "display_data"
    },
    {
     "data": {
      "text/html": [
       "<span style=\"color:cyan\"> |-Score: 0.516494631767273</span>"
      ],
      "text/plain": [
       "<IPython.core.display.HTML object>"
      ]
     },
     "metadata": {},
     "output_type": "display_data"
    },
    {
     "data": {
      "text/html": [
       "<span style=\"color:cyan\"> |-Best step: 0</span>"
      ],
      "text/plain": [
       "<IPython.core.display.HTML object>"
      ]
     },
     "metadata": {},
     "output_type": "display_data"
    },
    {
     "data": {
      "text/html": [
       "<span style=\"color:#7E57C2\"><h2 style=\"font-size:16px\">Hyperparameters:</h2></span>"
      ],
      "text/plain": [
       "<IPython.core.display.HTML object>"
      ]
     },
     "metadata": {},
     "output_type": "display_data"
    },
    {
     "data": {
      "text/html": [
       "<span style=\"color:cyan\"> |-dropout: 0.03563290674844669</span>"
      ],
      "text/plain": [
       "<IPython.core.display.HTML object>"
      ]
     },
     "metadata": {},
     "output_type": "display_data"
    },
    {
     "data": {
      "text/html": [
       "<span style=\"color:blue\"> |-learning_rate: 0.0001</span>"
      ],
      "text/plain": [
       "<IPython.core.display.HTML object>"
      ]
     },
     "metadata": {},
     "output_type": "display_data"
    },
    {
     "data": {
      "text/html": [
       "<span style=\"color:cyan\"> |-units: 20</span>"
      ],
      "text/plain": [
       "<IPython.core.display.HTML object>"
      ]
     },
     "metadata": {},
     "output_type": "display_data"
    },
    {
     "data": {
      "text/html": [
       "<span style=\"color:#4527A0\"><h1 style=\"font-size:18px\">Trial complete</h1></span>"
      ],
      "text/plain": [
       "<IPython.core.display.HTML object>"
      ]
     },
     "metadata": {},
     "output_type": "display_data"
    },
    {
     "data": {
      "text/html": [
       "<span style=\"color:#4527A0\"><h1 style=\"font-size:18px\">Trial summary</h1></span>"
      ],
      "text/plain": [
       "<IPython.core.display.HTML object>"
      ]
     },
     "metadata": {},
     "output_type": "display_data"
    },
    {
     "data": {
      "text/html": [
       "<span style=\"color:cyan\"> |-Trial ID: 497c3cae440be0fe619caa6f2ccc476d</span>"
      ],
      "text/plain": [
       "<IPython.core.display.HTML object>"
      ]
     },
     "metadata": {},
     "output_type": "display_data"
    },
    {
     "data": {
      "text/html": [
       "<span style=\"color:cyan\"> |-Score: 0.19929218292236328</span>"
      ],
      "text/plain": [
       "<IPython.core.display.HTML object>"
      ]
     },
     "metadata": {},
     "output_type": "display_data"
    },
    {
     "data": {
      "text/html": [
       "<span style=\"color:cyan\"> |-Best step: 0</span>"
      ],
      "text/plain": [
       "<IPython.core.display.HTML object>"
      ]
     },
     "metadata": {},
     "output_type": "display_data"
    },
    {
     "data": {
      "text/html": [
       "<span style=\"color:#7E57C2\"><h2 style=\"font-size:16px\">Hyperparameters:</h2></span>"
      ],
      "text/plain": [
       "<IPython.core.display.HTML object>"
      ]
     },
     "metadata": {},
     "output_type": "display_data"
    },
    {
     "data": {
      "text/html": [
       "<span style=\"color:cyan\"> |-dropout: 0.20952429116798768</span>"
      ],
      "text/plain": [
       "<IPython.core.display.HTML object>"
      ]
     },
     "metadata": {},
     "output_type": "display_data"
    },
    {
     "data": {
      "text/html": [
       "<span style=\"color:blue\"> |-learning_rate: 0.001</span>"
      ],
      "text/plain": [
       "<IPython.core.display.HTML object>"
      ]
     },
     "metadata": {},
     "output_type": "display_data"
    },
    {
     "data": {
      "text/html": [
       "<span style=\"color:cyan\"> |-units: 30</span>"
      ],
      "text/plain": [
       "<IPython.core.display.HTML object>"
      ]
     },
     "metadata": {},
     "output_type": "display_data"
    },
    {
     "data": {
      "text/html": [
       "<span style=\"color:#4527A0\"><h1 style=\"font-size:18px\">Trial complete</h1></span>"
      ],
      "text/plain": [
       "<IPython.core.display.HTML object>"
      ]
     },
     "metadata": {},
     "output_type": "display_data"
    },
    {
     "data": {
      "text/html": [
       "<span style=\"color:#4527A0\"><h1 style=\"font-size:18px\">Trial summary</h1></span>"
      ],
      "text/plain": [
       "<IPython.core.display.HTML object>"
      ]
     },
     "metadata": {},
     "output_type": "display_data"
    },
    {
     "data": {
      "text/html": [
       "<span style=\"color:cyan\"> |-Trial ID: 8f3887470e3da6fd30a9ad5962440ede</span>"
      ],
      "text/plain": [
       "<IPython.core.display.HTML object>"
      ]
     },
     "metadata": {},
     "output_type": "display_data"
    },
    {
     "data": {
      "text/html": [
       "<span style=\"color:cyan\"> |-Score: 0.6267110109329224</span>"
      ],
      "text/plain": [
       "<IPython.core.display.HTML object>"
      ]
     },
     "metadata": {},
     "output_type": "display_data"
    },
    {
     "data": {
      "text/html": [
       "<span style=\"color:cyan\"> |-Best step: 0</span>"
      ],
      "text/plain": [
       "<IPython.core.display.HTML object>"
      ]
     },
     "metadata": {},
     "output_type": "display_data"
    },
    {
     "data": {
      "text/html": [
       "<span style=\"color:#7E57C2\"><h2 style=\"font-size:16px\">Hyperparameters:</h2></span>"
      ],
      "text/plain": [
       "<IPython.core.display.HTML object>"
      ]
     },
     "metadata": {},
     "output_type": "display_data"
    },
    {
     "data": {
      "text/html": [
       "<span style=\"color:cyan\"> |-dropout: 0.1814720195118988</span>"
      ],
      "text/plain": [
       "<IPython.core.display.HTML object>"
      ]
     },
     "metadata": {},
     "output_type": "display_data"
    },
    {
     "data": {
      "text/html": [
       "<span style=\"color:blue\"> |-learning_rate: 0.0</span>"
      ],
      "text/plain": [
       "<IPython.core.display.HTML object>"
      ]
     },
     "metadata": {},
     "output_type": "display_data"
    },
    {
     "data": {
      "text/html": [
       "<span style=\"color:cyan\"> |-units: 10</span>"
      ],
      "text/plain": [
       "<IPython.core.display.HTML object>"
      ]
     },
     "metadata": {},
     "output_type": "display_data"
    },
    {
     "data": {
      "text/html": [
       "<span style=\"color:#4527A0\"><h1 style=\"font-size:18px\">Trial complete</h1></span>"
      ],
      "text/plain": [
       "<IPython.core.display.HTML object>"
      ]
     },
     "metadata": {},
     "output_type": "display_data"
    },
    {
     "data": {
      "text/html": [
       "<span style=\"color:#4527A0\"><h1 style=\"font-size:18px\">Trial summary</h1></span>"
      ],
      "text/plain": [
       "<IPython.core.display.HTML object>"
      ]
     },
     "metadata": {},
     "output_type": "display_data"
    },
    {
     "data": {
      "text/html": [
       "<span style=\"color:cyan\"> |-Trial ID: d0f90b95059bac66b25456b7fc8d517c</span>"
      ],
      "text/plain": [
       "<IPython.core.display.HTML object>"
      ]
     },
     "metadata": {},
     "output_type": "display_data"
    },
    {
     "data": {
      "text/html": [
       "<span style=\"color:cyan\"> |-Score: 0.19088047742843628</span>"
      ],
      "text/plain": [
       "<IPython.core.display.HTML object>"
      ]
     },
     "metadata": {},
     "output_type": "display_data"
    },
    {
     "data": {
      "text/html": [
       "<span style=\"color:cyan\"> |-Best step: 0</span>"
      ],
      "text/plain": [
       "<IPython.core.display.HTML object>"
      ]
     },
     "metadata": {},
     "output_type": "display_data"
    },
    {
     "data": {
      "text/html": [
       "<span style=\"color:#7E57C2\"><h2 style=\"font-size:16px\">Hyperparameters:</h2></span>"
      ],
      "text/plain": [
       "<IPython.core.display.HTML object>"
      ]
     },
     "metadata": {},
     "output_type": "display_data"
    },
    {
     "data": {
      "text/html": [
       "<span style=\"color:cyan\"> |-dropout: 0.025635977480977033</span>"
      ],
      "text/plain": [
       "<IPython.core.display.HTML object>"
      ]
     },
     "metadata": {},
     "output_type": "display_data"
    },
    {
     "data": {
      "text/html": [
       "<span style=\"color:blue\"> |-learning_rate: 0.001</span>"
      ],
      "text/plain": [
       "<IPython.core.display.HTML object>"
      ]
     },
     "metadata": {},
     "output_type": "display_data"
    },
    {
     "data": {
      "text/html": [
       "<span style=\"color:cyan\"> |-units: 40</span>"
      ],
      "text/plain": [
       "<IPython.core.display.HTML object>"
      ]
     },
     "metadata": {},
     "output_type": "display_data"
    },
    {
     "data": {
      "text/html": [
       "<span style=\"color:#4527A0\"><h1 style=\"font-size:18px\">Trial complete</h1></span>"
      ],
      "text/plain": [
       "<IPython.core.display.HTML object>"
      ]
     },
     "metadata": {},
     "output_type": "display_data"
    },
    {
     "data": {
      "text/html": [
       "<span style=\"color:#4527A0\"><h1 style=\"font-size:18px\">Trial summary</h1></span>"
      ],
      "text/plain": [
       "<IPython.core.display.HTML object>"
      ]
     },
     "metadata": {},
     "output_type": "display_data"
    },
    {
     "data": {
      "text/html": [
       "<span style=\"color:cyan\"> |-Trial ID: 848b071ae247135fe5716f4834016fba</span>"
      ],
      "text/plain": [
       "<IPython.core.display.HTML object>"
      ]
     },
     "metadata": {},
     "output_type": "display_data"
    },
    {
     "data": {
      "text/html": [
       "<span style=\"color:cyan\"> |-Score: 0.1529483050107956</span>"
      ],
      "text/plain": [
       "<IPython.core.display.HTML object>"
      ]
     },
     "metadata": {},
     "output_type": "display_data"
    },
    {
     "data": {
      "text/html": [
       "<span style=\"color:cyan\"> |-Best step: 0</span>"
      ],
      "text/plain": [
       "<IPython.core.display.HTML object>"
      ]
     },
     "metadata": {},
     "output_type": "display_data"
    },
    {
     "data": {
      "text/html": [
       "<span style=\"color:#7E57C2\"><h2 style=\"font-size:16px\">Hyperparameters:</h2></span>"
      ],
      "text/plain": [
       "<IPython.core.display.HTML object>"
      ]
     },
     "metadata": {},
     "output_type": "display_data"
    },
    {
     "data": {
      "text/html": [
       "<span style=\"color:cyan\"> |-dropout: 0.1575924630303747</span>"
      ],
      "text/plain": [
       "<IPython.core.display.HTML object>"
      ]
     },
     "metadata": {},
     "output_type": "display_data"
    },
    {
     "data": {
      "text/html": [
       "<span style=\"color:blue\"> |-learning_rate: 0.01</span>"
      ],
      "text/plain": [
       "<IPython.core.display.HTML object>"
      ]
     },
     "metadata": {},
     "output_type": "display_data"
    },
    {
     "data": {
      "text/html": [
       "<span style=\"color:cyan\"> |-units: 30</span>"
      ],
      "text/plain": [
       "<IPython.core.display.HTML object>"
      ]
     },
     "metadata": {},
     "output_type": "display_data"
    },
    {
     "data": {
      "text/html": [
       "<span style=\"color:#4527A0\"><h1 style=\"font-size:18px\">Trial complete</h1></span>"
      ],
      "text/plain": [
       "<IPython.core.display.HTML object>"
      ]
     },
     "metadata": {},
     "output_type": "display_data"
    },
    {
     "data": {
      "text/html": [
       "<span style=\"color:#4527A0\"><h1 style=\"font-size:18px\">Trial summary</h1></span>"
      ],
      "text/plain": [
       "<IPython.core.display.HTML object>"
      ]
     },
     "metadata": {},
     "output_type": "display_data"
    },
    {
     "data": {
      "text/html": [
       "<span style=\"color:cyan\"> |-Trial ID: e5b4730b4b33918affc89035efbc1812</span>"
      ],
      "text/plain": [
       "<IPython.core.display.HTML object>"
      ]
     },
     "metadata": {},
     "output_type": "display_data"
    },
    {
     "data": {
      "text/html": [
       "<span style=\"color:cyan\"> |-Score: 0.5198271870613098</span>"
      ],
      "text/plain": [
       "<IPython.core.display.HTML object>"
      ]
     },
     "metadata": {},
     "output_type": "display_data"
    },
    {
     "data": {
      "text/html": [
       "<span style=\"color:cyan\"> |-Best step: 0</span>"
      ],
      "text/plain": [
       "<IPython.core.display.HTML object>"
      ]
     },
     "metadata": {},
     "output_type": "display_data"
    },
    {
     "data": {
      "text/html": [
       "<span style=\"color:#7E57C2\"><h2 style=\"font-size:16px\">Hyperparameters:</h2></span>"
      ],
      "text/plain": [
       "<IPython.core.display.HTML object>"
      ]
     },
     "metadata": {},
     "output_type": "display_data"
    },
    {
     "data": {
      "text/html": [
       "<span style=\"color:cyan\"> |-dropout: 0.09659429014709264</span>"
      ],
      "text/plain": [
       "<IPython.core.display.HTML object>"
      ]
     },
     "metadata": {},
     "output_type": "display_data"
    },
    {
     "data": {
      "text/html": [
       "<span style=\"color:blue\"> |-learning_rate: 0.0001</span>"
      ],
      "text/plain": [
       "<IPython.core.display.HTML object>"
      ]
     },
     "metadata": {},
     "output_type": "display_data"
    },
    {
     "data": {
      "text/html": [
       "<span style=\"color:cyan\"> |-units: 10</span>"
      ],
      "text/plain": [
       "<IPython.core.display.HTML object>"
      ]
     },
     "metadata": {},
     "output_type": "display_data"
    },
    {
     "data": {
      "text/html": [
       "<span style=\"color:#4527A0\"><h1 style=\"font-size:18px\">Trial complete</h1></span>"
      ],
      "text/plain": [
       "<IPython.core.display.HTML object>"
      ]
     },
     "metadata": {},
     "output_type": "display_data"
    },
    {
     "data": {
      "text/html": [
       "<span style=\"color:#4527A0\"><h1 style=\"font-size:18px\">Trial summary</h1></span>"
      ],
      "text/plain": [
       "<IPython.core.display.HTML object>"
      ]
     },
     "metadata": {},
     "output_type": "display_data"
    },
    {
     "data": {
      "text/html": [
       "<span style=\"color:cyan\"> |-Trial ID: 496207ecc508259874fad954c60225b3</span>"
      ],
      "text/plain": [
       "<IPython.core.display.HTML object>"
      ]
     },
     "metadata": {},
     "output_type": "display_data"
    },
    {
     "data": {
      "text/html": [
       "<span style=\"color:cyan\"> |-Score: 0.15989504754543304</span>"
      ],
      "text/plain": [
       "<IPython.core.display.HTML object>"
      ]
     },
     "metadata": {},
     "output_type": "display_data"
    },
    {
     "data": {
      "text/html": [
       "<span style=\"color:cyan\"> |-Best step: 0</span>"
      ],
      "text/plain": [
       "<IPython.core.display.HTML object>"
      ]
     },
     "metadata": {},
     "output_type": "display_data"
    },
    {
     "data": {
      "text/html": [
       "<span style=\"color:#7E57C2\"><h2 style=\"font-size:16px\">Hyperparameters:</h2></span>"
      ],
      "text/plain": [
       "<IPython.core.display.HTML object>"
      ]
     },
     "metadata": {},
     "output_type": "display_data"
    },
    {
     "data": {
      "text/html": [
       "<span style=\"color:cyan\"> |-dropout: 0.29169199033575216</span>"
      ],
      "text/plain": [
       "<IPython.core.display.HTML object>"
      ]
     },
     "metadata": {},
     "output_type": "display_data"
    },
    {
     "data": {
      "text/html": [
       "<span style=\"color:blue\"> |-learning_rate: 0.01</span>"
      ],
      "text/plain": [
       "<IPython.core.display.HTML object>"
      ]
     },
     "metadata": {},
     "output_type": "display_data"
    },
    {
     "data": {
      "text/html": [
       "<span style=\"color:cyan\"> |-units: 20</span>"
      ],
      "text/plain": [
       "<IPython.core.display.HTML object>"
      ]
     },
     "metadata": {},
     "output_type": "display_data"
    },
    {
     "data": {
      "text/html": [
       "<span style=\"color:#4527A0\"><h1 style=\"font-size:18px\">Trial complete</h1></span>"
      ],
      "text/plain": [
       "<IPython.core.display.HTML object>"
      ]
     },
     "metadata": {},
     "output_type": "display_data"
    },
    {
     "data": {
      "text/html": [
       "<span style=\"color:#4527A0\"><h1 style=\"font-size:18px\">Trial summary</h1></span>"
      ],
      "text/plain": [
       "<IPython.core.display.HTML object>"
      ]
     },
     "metadata": {},
     "output_type": "display_data"
    },
    {
     "data": {
      "text/html": [
       "<span style=\"color:cyan\"> |-Trial ID: 6bb7a6a6f482e8c4afb32cdb86fd4d64</span>"
      ],
      "text/plain": [
       "<IPython.core.display.HTML object>"
      ]
     },
     "metadata": {},
     "output_type": "display_data"
    },
    {
     "data": {
      "text/html": [
       "<span style=\"color:cyan\"> |-Score: 0.21982592344284058</span>"
      ],
      "text/plain": [
       "<IPython.core.display.HTML object>"
      ]
     },
     "metadata": {},
     "output_type": "display_data"
    },
    {
     "data": {
      "text/html": [
       "<span style=\"color:cyan\"> |-Best step: 0</span>"
      ],
      "text/plain": [
       "<IPython.core.display.HTML object>"
      ]
     },
     "metadata": {},
     "output_type": "display_data"
    },
    {
     "data": {
      "text/html": [
       "<span style=\"color:#7E57C2\"><h2 style=\"font-size:16px\">Hyperparameters:</h2></span>"
      ],
      "text/plain": [
       "<IPython.core.display.HTML object>"
      ]
     },
     "metadata": {},
     "output_type": "display_data"
    },
    {
     "data": {
      "text/html": [
       "<span style=\"color:cyan\"> |-dropout: 0.2592059771540571</span>"
      ],
      "text/plain": [
       "<IPython.core.display.HTML object>"
      ]
     },
     "metadata": {},
     "output_type": "display_data"
    },
    {
     "data": {
      "text/html": [
       "<span style=\"color:blue\"> |-learning_rate: 0.001</span>"
      ],
      "text/plain": [
       "<IPython.core.display.HTML object>"
      ]
     },
     "metadata": {},
     "output_type": "display_data"
    },
    {
     "data": {
      "text/html": [
       "<span style=\"color:cyan\"> |-units: 20</span>"
      ],
      "text/plain": [
       "<IPython.core.display.HTML object>"
      ]
     },
     "metadata": {},
     "output_type": "display_data"
    },
    {
     "data": {
      "text/html": [
       "<span style=\"color:#4527A0\"><h1 style=\"font-size:18px\">Trial complete</h1></span>"
      ],
      "text/plain": [
       "<IPython.core.display.HTML object>"
      ]
     },
     "metadata": {},
     "output_type": "display_data"
    },
    {
     "data": {
      "text/html": [
       "<span style=\"color:#4527A0\"><h1 style=\"font-size:18px\">Trial summary</h1></span>"
      ],
      "text/plain": [
       "<IPython.core.display.HTML object>"
      ]
     },
     "metadata": {},
     "output_type": "display_data"
    },
    {
     "data": {
      "text/html": [
       "<span style=\"color:cyan\"> |-Trial ID: 5be3e5ae6e74640cb24b51875bb3622a</span>"
      ],
      "text/plain": [
       "<IPython.core.display.HTML object>"
      ]
     },
     "metadata": {},
     "output_type": "display_data"
    },
    {
     "data": {
      "text/html": [
       "<span style=\"color:cyan\"> |-Score: 0.15812811255455017</span>"
      ],
      "text/plain": [
       "<IPython.core.display.HTML object>"
      ]
     },
     "metadata": {},
     "output_type": "display_data"
    },
    {
     "data": {
      "text/html": [
       "<span style=\"color:cyan\"> |-Best step: 0</span>"
      ],
      "text/plain": [
       "<IPython.core.display.HTML object>"
      ]
     },
     "metadata": {},
     "output_type": "display_data"
    },
    {
     "data": {
      "text/html": [
       "<span style=\"color:#7E57C2\"><h2 style=\"font-size:16px\">Hyperparameters:</h2></span>"
      ],
      "text/plain": [
       "<IPython.core.display.HTML object>"
      ]
     },
     "metadata": {},
     "output_type": "display_data"
    },
    {
     "data": {
      "text/html": [
       "<span style=\"color:cyan\"> |-dropout: 0.2864861450304596</span>"
      ],
      "text/plain": [
       "<IPython.core.display.HTML object>"
      ]
     },
     "metadata": {},
     "output_type": "display_data"
    },
    {
     "data": {
      "text/html": [
       "<span style=\"color:blue\"> |-learning_rate: 0.01</span>"
      ],
      "text/plain": [
       "<IPython.core.display.HTML object>"
      ]
     },
     "metadata": {},
     "output_type": "display_data"
    },
    {
     "data": {
      "text/html": [
       "<span style=\"color:cyan\"> |-units: 20</span>"
      ],
      "text/plain": [
       "<IPython.core.display.HTML object>"
      ]
     },
     "metadata": {},
     "output_type": "display_data"
    },
    {
     "data": {
      "text/html": [
       "<span style=\"color:#4527A0\"><h1 style=\"font-size:18px\">Trial complete</h1></span>"
      ],
      "text/plain": [
       "<IPython.core.display.HTML object>"
      ]
     },
     "metadata": {},
     "output_type": "display_data"
    },
    {
     "data": {
      "text/html": [
       "<span style=\"color:#4527A0\"><h1 style=\"font-size:18px\">Trial summary</h1></span>"
      ],
      "text/plain": [
       "<IPython.core.display.HTML object>"
      ]
     },
     "metadata": {},
     "output_type": "display_data"
    },
    {
     "data": {
      "text/html": [
       "<span style=\"color:cyan\"> |-Trial ID: 46135d34bf9d82973d6fa6140b252e26</span>"
      ],
      "text/plain": [
       "<IPython.core.display.HTML object>"
      ]
     },
     "metadata": {},
     "output_type": "display_data"
    },
    {
     "data": {
      "text/html": [
       "<span style=\"color:cyan\"> |-Score: 0.21477541327476501</span>"
      ],
      "text/plain": [
       "<IPython.core.display.HTML object>"
      ]
     },
     "metadata": {},
     "output_type": "display_data"
    },
    {
     "data": {
      "text/html": [
       "<span style=\"color:cyan\"> |-Best step: 0</span>"
      ],
      "text/plain": [
       "<IPython.core.display.HTML object>"
      ]
     },
     "metadata": {},
     "output_type": "display_data"
    },
    {
     "data": {
      "text/html": [
       "<span style=\"color:#7E57C2\"><h2 style=\"font-size:16px\">Hyperparameters:</h2></span>"
      ],
      "text/plain": [
       "<IPython.core.display.HTML object>"
      ]
     },
     "metadata": {},
     "output_type": "display_data"
    },
    {
     "data": {
      "text/html": [
       "<span style=\"color:cyan\"> |-dropout: 0.21648784399244728</span>"
      ],
      "text/plain": [
       "<IPython.core.display.HTML object>"
      ]
     },
     "metadata": {},
     "output_type": "display_data"
    },
    {
     "data": {
      "text/html": [
       "<span style=\"color:blue\"> |-learning_rate: 0.001</span>"
      ],
      "text/plain": [
       "<IPython.core.display.HTML object>"
      ]
     },
     "metadata": {},
     "output_type": "display_data"
    },
    {
     "data": {
      "text/html": [
       "<span style=\"color:cyan\"> |-units: 20</span>"
      ],
      "text/plain": [
       "<IPython.core.display.HTML object>"
      ]
     },
     "metadata": {},
     "output_type": "display_data"
    },
    {
     "data": {
      "text/html": [
       "<span style=\"color:#4527A0\"><h1 style=\"font-size:18px\">Trial complete</h1></span>"
      ],
      "text/plain": [
       "<IPython.core.display.HTML object>"
      ]
     },
     "metadata": {},
     "output_type": "display_data"
    },
    {
     "data": {
      "text/html": [
       "<span style=\"color:#4527A0\"><h1 style=\"font-size:18px\">Trial summary</h1></span>"
      ],
      "text/plain": [
       "<IPython.core.display.HTML object>"
      ]
     },
     "metadata": {},
     "output_type": "display_data"
    },
    {
     "data": {
      "text/html": [
       "<span style=\"color:cyan\"> |-Trial ID: 4f1f52553a996951507e5a9e3cea8732</span>"
      ],
      "text/plain": [
       "<IPython.core.display.HTML object>"
      ]
     },
     "metadata": {},
     "output_type": "display_data"
    },
    {
     "data": {
      "text/html": [
       "<span style=\"color:cyan\"> |-Score: 0.41587281227111816</span>"
      ],
      "text/plain": [
       "<IPython.core.display.HTML object>"
      ]
     },
     "metadata": {},
     "output_type": "display_data"
    },
    {
     "data": {
      "text/html": [
       "<span style=\"color:cyan\"> |-Best step: 0</span>"
      ],
      "text/plain": [
       "<IPython.core.display.HTML object>"
      ]
     },
     "metadata": {},
     "output_type": "display_data"
    },
    {
     "data": {
      "text/html": [
       "<span style=\"color:#7E57C2\"><h2 style=\"font-size:16px\">Hyperparameters:</h2></span>"
      ],
      "text/plain": [
       "<IPython.core.display.HTML object>"
      ]
     },
     "metadata": {},
     "output_type": "display_data"
    },
    {
     "data": {
      "text/html": [
       "<span style=\"color:cyan\"> |-dropout: 0.16562795405288538</span>"
      ],
      "text/plain": [
       "<IPython.core.display.HTML object>"
      ]
     },
     "metadata": {},
     "output_type": "display_data"
    },
    {
     "data": {
      "text/html": [
       "<span style=\"color:blue\"> |-learning_rate: 0.0001</span>"
      ],
      "text/plain": [
       "<IPython.core.display.HTML object>"
      ]
     },
     "metadata": {},
     "output_type": "display_data"
    },
    {
     "data": {
      "text/html": [
       "<span style=\"color:cyan\"> |-units: 30</span>"
      ],
      "text/plain": [
       "<IPython.core.display.HTML object>"
      ]
     },
     "metadata": {},
     "output_type": "display_data"
    },
    {
     "data": {
      "text/html": [
       "<span style=\"color:#4527A0\"><h1 style=\"font-size:18px\">Trial complete</h1></span>"
      ],
      "text/plain": [
       "<IPython.core.display.HTML object>"
      ]
     },
     "metadata": {},
     "output_type": "display_data"
    },
    {
     "data": {
      "text/html": [
       "<span style=\"color:#4527A0\"><h1 style=\"font-size:18px\">Trial summary</h1></span>"
      ],
      "text/plain": [
       "<IPython.core.display.HTML object>"
      ]
     },
     "metadata": {},
     "output_type": "display_data"
    },
    {
     "data": {
      "text/html": [
       "<span style=\"color:cyan\"> |-Trial ID: 4082b64358c42aaba112d4c056a458ca</span>"
      ],
      "text/plain": [
       "<IPython.core.display.HTML object>"
      ]
     },
     "metadata": {},
     "output_type": "display_data"
    },
    {
     "data": {
      "text/html": [
       "<span style=\"color:cyan\"> |-Score: 0.6172909736633301</span>"
      ],
      "text/plain": [
       "<IPython.core.display.HTML object>"
      ]
     },
     "metadata": {},
     "output_type": "display_data"
    },
    {
     "data": {
      "text/html": [
       "<span style=\"color:cyan\"> |-Best step: 0</span>"
      ],
      "text/plain": [
       "<IPython.core.display.HTML object>"
      ]
     },
     "metadata": {},
     "output_type": "display_data"
    },
    {
     "data": {
      "text/html": [
       "<span style=\"color:#7E57C2\"><h2 style=\"font-size:16px\">Hyperparameters:</h2></span>"
      ],
      "text/plain": [
       "<IPython.core.display.HTML object>"
      ]
     },
     "metadata": {},
     "output_type": "display_data"
    },
    {
     "data": {
      "text/html": [
       "<span style=\"color:cyan\"> |-dropout: 0.12761631785733227</span>"
      ],
      "text/plain": [
       "<IPython.core.display.HTML object>"
      ]
     },
     "metadata": {},
     "output_type": "display_data"
    },
    {
     "data": {
      "text/html": [
       "<span style=\"color:blue\"> |-learning_rate: 0.0</span>"
      ],
      "text/plain": [
       "<IPython.core.display.HTML object>"
      ]
     },
     "metadata": {},
     "output_type": "display_data"
    },
    {
     "data": {
      "text/html": [
       "<span style=\"color:cyan\"> |-units: 40</span>"
      ],
      "text/plain": [
       "<IPython.core.display.HTML object>"
      ]
     },
     "metadata": {},
     "output_type": "display_data"
    },
    {
     "data": {
      "text/html": [
       "<span style=\"color:#4527A0\"><h1 style=\"font-size:18px\">Trial complete</h1></span>"
      ],
      "text/plain": [
       "<IPython.core.display.HTML object>"
      ]
     },
     "metadata": {},
     "output_type": "display_data"
    },
    {
     "data": {
      "text/html": [
       "<span style=\"color:#4527A0\"><h1 style=\"font-size:18px\">Trial summary</h1></span>"
      ],
      "text/plain": [
       "<IPython.core.display.HTML object>"
      ]
     },
     "metadata": {},
     "output_type": "display_data"
    },
    {
     "data": {
      "text/html": [
       "<span style=\"color:cyan\"> |-Trial ID: ab8740158695c6fcaa01458a245d5d84</span>"
      ],
      "text/plain": [
       "<IPython.core.display.HTML object>"
      ]
     },
     "metadata": {},
     "output_type": "display_data"
    },
    {
     "data": {
      "text/html": [
       "<span style=\"color:cyan\"> |-Score: 0.15507516264915466</span>"
      ],
      "text/plain": [
       "<IPython.core.display.HTML object>"
      ]
     },
     "metadata": {},
     "output_type": "display_data"
    },
    {
     "data": {
      "text/html": [
       "<span style=\"color:cyan\"> |-Best step: 0</span>"
      ],
      "text/plain": [
       "<IPython.core.display.HTML object>"
      ]
     },
     "metadata": {},
     "output_type": "display_data"
    },
    {
     "data": {
      "text/html": [
       "<span style=\"color:#7E57C2\"><h2 style=\"font-size:16px\">Hyperparameters:</h2></span>"
      ],
      "text/plain": [
       "<IPython.core.display.HTML object>"
      ]
     },
     "metadata": {},
     "output_type": "display_data"
    },
    {
     "data": {
      "text/html": [
       "<span style=\"color:cyan\"> |-dropout: 0.1677096031932073</span>"
      ],
      "text/plain": [
       "<IPython.core.display.HTML object>"
      ]
     },
     "metadata": {},
     "output_type": "display_data"
    },
    {
     "data": {
      "text/html": [
       "<span style=\"color:blue\"> |-learning_rate: 0.01</span>"
      ],
      "text/plain": [
       "<IPython.core.display.HTML object>"
      ]
     },
     "metadata": {},
     "output_type": "display_data"
    },
    {
     "data": {
      "text/html": [
       "<span style=\"color:cyan\"> |-units: 20</span>"
      ],
      "text/plain": [
       "<IPython.core.display.HTML object>"
      ]
     },
     "metadata": {},
     "output_type": "display_data"
    },
    {
     "data": {
      "text/html": [
       "<span style=\"color:#4527A0\"><h1 style=\"font-size:18px\">Trial complete</h1></span>"
      ],
      "text/plain": [
       "<IPython.core.display.HTML object>"
      ]
     },
     "metadata": {},
     "output_type": "display_data"
    },
    {
     "data": {
      "text/html": [
       "<span style=\"color:#4527A0\"><h1 style=\"font-size:18px\">Trial summary</h1></span>"
      ],
      "text/plain": [
       "<IPython.core.display.HTML object>"
      ]
     },
     "metadata": {},
     "output_type": "display_data"
    },
    {
     "data": {
      "text/html": [
       "<span style=\"color:cyan\"> |-Trial ID: c0f2c1077e5865255ce15dc1d129313b</span>"
      ],
      "text/plain": [
       "<IPython.core.display.HTML object>"
      ]
     },
     "metadata": {},
     "output_type": "display_data"
    },
    {
     "data": {
      "text/html": [
       "<span style=\"color:cyan\"> |-Score: 0.16383147239685059</span>"
      ],
      "text/plain": [
       "<IPython.core.display.HTML object>"
      ]
     },
     "metadata": {},
     "output_type": "display_data"
    },
    {
     "data": {
      "text/html": [
       "<span style=\"color:cyan\"> |-Best step: 0</span>"
      ],
      "text/plain": [
       "<IPython.core.display.HTML object>"
      ]
     },
     "metadata": {},
     "output_type": "display_data"
    },
    {
     "data": {
      "text/html": [
       "<span style=\"color:#7E57C2\"><h2 style=\"font-size:16px\">Hyperparameters:</h2></span>"
      ],
      "text/plain": [
       "<IPython.core.display.HTML object>"
      ]
     },
     "metadata": {},
     "output_type": "display_data"
    },
    {
     "data": {
      "text/html": [
       "<span style=\"color:cyan\"> |-dropout: 0.2663670759946571</span>"
      ],
      "text/plain": [
       "<IPython.core.display.HTML object>"
      ]
     },
     "metadata": {},
     "output_type": "display_data"
    },
    {
     "data": {
      "text/html": [
       "<span style=\"color:blue\"> |-learning_rate: 0.01</span>"
      ],
      "text/plain": [
       "<IPython.core.display.HTML object>"
      ]
     },
     "metadata": {},
     "output_type": "display_data"
    },
    {
     "data": {
      "text/html": [
       "<span style=\"color:cyan\"> |-units: 10</span>"
      ],
      "text/plain": [
       "<IPython.core.display.HTML object>"
      ]
     },
     "metadata": {},
     "output_type": "display_data"
    },
    {
     "data": {
      "text/html": [
       "<span style=\"color:#4527A0\"><h1 style=\"font-size:18px\">Trial complete</h1></span>"
      ],
      "text/plain": [
       "<IPython.core.display.HTML object>"
      ]
     },
     "metadata": {},
     "output_type": "display_data"
    },
    {
     "data": {
      "text/html": [
       "<span style=\"color:#4527A0\"><h1 style=\"font-size:18px\">Trial summary</h1></span>"
      ],
      "text/plain": [
       "<IPython.core.display.HTML object>"
      ]
     },
     "metadata": {},
     "output_type": "display_data"
    },
    {
     "data": {
      "text/html": [
       "<span style=\"color:cyan\"> |-Trial ID: 7a013942a37d7c5b63fdf8fed1535e1e</span>"
      ],
      "text/plain": [
       "<IPython.core.display.HTML object>"
      ]
     },
     "metadata": {},
     "output_type": "display_data"
    },
    {
     "data": {
      "text/html": [
       "<span style=\"color:cyan\"> |-Score: 0.6153882741928101</span>"
      ],
      "text/plain": [
       "<IPython.core.display.HTML object>"
      ]
     },
     "metadata": {},
     "output_type": "display_data"
    },
    {
     "data": {
      "text/html": [
       "<span style=\"color:cyan\"> |-Best step: 0</span>"
      ],
      "text/plain": [
       "<IPython.core.display.HTML object>"
      ]
     },
     "metadata": {},
     "output_type": "display_data"
    },
    {
     "data": {
      "text/html": [
       "<span style=\"color:#7E57C2\"><h2 style=\"font-size:16px\">Hyperparameters:</h2></span>"
      ],
      "text/plain": [
       "<IPython.core.display.HTML object>"
      ]
     },
     "metadata": {},
     "output_type": "display_data"
    },
    {
     "data": {
      "text/html": [
       "<span style=\"color:cyan\"> |-dropout: 0.1304221781292055</span>"
      ],
      "text/plain": [
       "<IPython.core.display.HTML object>"
      ]
     },
     "metadata": {},
     "output_type": "display_data"
    },
    {
     "data": {
      "text/html": [
       "<span style=\"color:blue\"> |-learning_rate: 0.0</span>"
      ],
      "text/plain": [
       "<IPython.core.display.HTML object>"
      ]
     },
     "metadata": {},
     "output_type": "display_data"
    },
    {
     "data": {
      "text/html": [
       "<span style=\"color:cyan\"> |-units: 20</span>"
      ],
      "text/plain": [
       "<IPython.core.display.HTML object>"
      ]
     },
     "metadata": {},
     "output_type": "display_data"
    },
    {
     "data": {
      "text/html": [
       "<span style=\"color:#4527A0\"><h1 style=\"font-size:18px\">Trial complete</h1></span>"
      ],
      "text/plain": [
       "<IPython.core.display.HTML object>"
      ]
     },
     "metadata": {},
     "output_type": "display_data"
    },
    {
     "data": {
      "text/html": [
       "<span style=\"color:#4527A0\"><h1 style=\"font-size:18px\">Trial summary</h1></span>"
      ],
      "text/plain": [
       "<IPython.core.display.HTML object>"
      ]
     },
     "metadata": {},
     "output_type": "display_data"
    },
    {
     "data": {
      "text/html": [
       "<span style=\"color:cyan\"> |-Trial ID: e770a7bd9bef9301274275d31a58b4d6</span>"
      ],
      "text/plain": [
       "<IPython.core.display.HTML object>"
      ]
     },
     "metadata": {},
     "output_type": "display_data"
    },
    {
     "data": {
      "text/html": [
       "<span style=\"color:cyan\"> |-Score: 0.635357677936554</span>"
      ],
      "text/plain": [
       "<IPython.core.display.HTML object>"
      ]
     },
     "metadata": {},
     "output_type": "display_data"
    },
    {
     "data": {
      "text/html": [
       "<span style=\"color:cyan\"> |-Best step: 0</span>"
      ],
      "text/plain": [
       "<IPython.core.display.HTML object>"
      ]
     },
     "metadata": {},
     "output_type": "display_data"
    },
    {
     "data": {
      "text/html": [
       "<span style=\"color:#7E57C2\"><h2 style=\"font-size:16px\">Hyperparameters:</h2></span>"
      ],
      "text/plain": [
       "<IPython.core.display.HTML object>"
      ]
     },
     "metadata": {},
     "output_type": "display_data"
    },
    {
     "data": {
      "text/html": [
       "<span style=\"color:cyan\"> |-dropout: 0.2591943604079936</span>"
      ],
      "text/plain": [
       "<IPython.core.display.HTML object>"
      ]
     },
     "metadata": {},
     "output_type": "display_data"
    },
    {
     "data": {
      "text/html": [
       "<span style=\"color:blue\"> |-learning_rate: 0.0</span>"
      ],
      "text/plain": [
       "<IPython.core.display.HTML object>"
      ]
     },
     "metadata": {},
     "output_type": "display_data"
    },
    {
     "data": {
      "text/html": [
       "<span style=\"color:cyan\"> |-units: 10</span>"
      ],
      "text/plain": [
       "<IPython.core.display.HTML object>"
      ]
     },
     "metadata": {},
     "output_type": "display_data"
    },
    {
     "data": {
      "text/html": [
       "<span style=\"color:#4527A0\"><h1 style=\"font-size:18px\">Trial complete</h1></span>"
      ],
      "text/plain": [
       "<IPython.core.display.HTML object>"
      ]
     },
     "metadata": {},
     "output_type": "display_data"
    },
    {
     "data": {
      "text/html": [
       "<span style=\"color:#4527A0\"><h1 style=\"font-size:18px\">Trial summary</h1></span>"
      ],
      "text/plain": [
       "<IPython.core.display.HTML object>"
      ]
     },
     "metadata": {},
     "output_type": "display_data"
    },
    {
     "data": {
      "text/html": [
       "<span style=\"color:cyan\"> |-Trial ID: faa39f600b3b01be05ee4b5c25cef8f4</span>"
      ],
      "text/plain": [
       "<IPython.core.display.HTML object>"
      ]
     },
     "metadata": {},
     "output_type": "display_data"
    },
    {
     "data": {
      "text/html": [
       "<span style=\"color:cyan\"> |-Score: 0.6087669134140015</span>"
      ],
      "text/plain": [
       "<IPython.core.display.HTML object>"
      ]
     },
     "metadata": {},
     "output_type": "display_data"
    },
    {
     "data": {
      "text/html": [
       "<span style=\"color:cyan\"> |-Best step: 0</span>"
      ],
      "text/plain": [
       "<IPython.core.display.HTML object>"
      ]
     },
     "metadata": {},
     "output_type": "display_data"
    },
    {
     "data": {
      "text/html": [
       "<span style=\"color:#7E57C2\"><h2 style=\"font-size:16px\">Hyperparameters:</h2></span>"
      ],
      "text/plain": [
       "<IPython.core.display.HTML object>"
      ]
     },
     "metadata": {},
     "output_type": "display_data"
    },
    {
     "data": {
      "text/html": [
       "<span style=\"color:cyan\"> |-dropout: 0.09567089143504301</span>"
      ],
      "text/plain": [
       "<IPython.core.display.HTML object>"
      ]
     },
     "metadata": {},
     "output_type": "display_data"
    },
    {
     "data": {
      "text/html": [
       "<span style=\"color:blue\"> |-learning_rate: 0.0</span>"
      ],
      "text/plain": [
       "<IPython.core.display.HTML object>"
      ]
     },
     "metadata": {},
     "output_type": "display_data"
    },
    {
     "data": {
      "text/html": [
       "<span style=\"color:cyan\"> |-units: 50</span>"
      ],
      "text/plain": [
       "<IPython.core.display.HTML object>"
      ]
     },
     "metadata": {},
     "output_type": "display_data"
    },
    {
     "data": {
      "text/html": [
       "<span style=\"color:#4527A0\"><h1 style=\"font-size:18px\">Trial complete</h1></span>"
      ],
      "text/plain": [
       "<IPython.core.display.HTML object>"
      ]
     },
     "metadata": {},
     "output_type": "display_data"
    },
    {
     "data": {
      "text/html": [
       "<span style=\"color:#4527A0\"><h1 style=\"font-size:18px\">Trial summary</h1></span>"
      ],
      "text/plain": [
       "<IPython.core.display.HTML object>"
      ]
     },
     "metadata": {},
     "output_type": "display_data"
    },
    {
     "data": {
      "text/html": [
       "<span style=\"color:cyan\"> |-Trial ID: 516bd11c97fad0d38ffc31e1c3a02ea8</span>"
      ],
      "text/plain": [
       "<IPython.core.display.HTML object>"
      ]
     },
     "metadata": {},
     "output_type": "display_data"
    },
    {
     "data": {
      "text/html": [
       "<span style=\"color:cyan\"> |-Score: 0.1488640159368515</span>"
      ],
      "text/plain": [
       "<IPython.core.display.HTML object>"
      ]
     },
     "metadata": {},
     "output_type": "display_data"
    },
    {
     "data": {
      "text/html": [
       "<span style=\"color:cyan\"> |-Best step: 0</span>"
      ],
      "text/plain": [
       "<IPython.core.display.HTML object>"
      ]
     },
     "metadata": {},
     "output_type": "display_data"
    },
    {
     "data": {
      "text/html": [
       "<span style=\"color:#7E57C2\"><h2 style=\"font-size:16px\">Hyperparameters:</h2></span>"
      ],
      "text/plain": [
       "<IPython.core.display.HTML object>"
      ]
     },
     "metadata": {},
     "output_type": "display_data"
    },
    {
     "data": {
      "text/html": [
       "<span style=\"color:cyan\"> |-dropout: 0.02550422830069474</span>"
      ],
      "text/plain": [
       "<IPython.core.display.HTML object>"
      ]
     },
     "metadata": {},
     "output_type": "display_data"
    },
    {
     "data": {
      "text/html": [
       "<span style=\"color:blue\"> |-learning_rate: 0.01</span>"
      ],
      "text/plain": [
       "<IPython.core.display.HTML object>"
      ]
     },
     "metadata": {},
     "output_type": "display_data"
    },
    {
     "data": {
      "text/html": [
       "<span style=\"color:cyan\"> |-units: 30</span>"
      ],
      "text/plain": [
       "<IPython.core.display.HTML object>"
      ]
     },
     "metadata": {},
     "output_type": "display_data"
    },
    {
     "data": {
      "text/html": [
       "<span style=\"color:#4527A0\"><h1 style=\"font-size:18px\">Trial complete</h1></span>"
      ],
      "text/plain": [
       "<IPython.core.display.HTML object>"
      ]
     },
     "metadata": {},
     "output_type": "display_data"
    },
    {
     "data": {
      "text/html": [
       "<span style=\"color:#4527A0\"><h1 style=\"font-size:18px\">Trial summary</h1></span>"
      ],
      "text/plain": [
       "<IPython.core.display.HTML object>"
      ]
     },
     "metadata": {},
     "output_type": "display_data"
    },
    {
     "data": {
      "text/html": [
       "<span style=\"color:cyan\"> |-Trial ID: 7681c5567cddb837c2ca2388331f5322</span>"
      ],
      "text/plain": [
       "<IPython.core.display.HTML object>"
      ]
     },
     "metadata": {},
     "output_type": "display_data"
    },
    {
     "data": {
      "text/html": [
       "<span style=\"color:cyan\"> |-Score: 0.499347984790802</span>"
      ],
      "text/plain": [
       "<IPython.core.display.HTML object>"
      ]
     },
     "metadata": {},
     "output_type": "display_data"
    },
    {
     "data": {
      "text/html": [
       "<span style=\"color:cyan\"> |-Best step: 0</span>"
      ],
      "text/plain": [
       "<IPython.core.display.HTML object>"
      ]
     },
     "metadata": {},
     "output_type": "display_data"
    },
    {
     "data": {
      "text/html": [
       "<span style=\"color:#7E57C2\"><h2 style=\"font-size:16px\">Hyperparameters:</h2></span>"
      ],
      "text/plain": [
       "<IPython.core.display.HTML object>"
      ]
     },
     "metadata": {},
     "output_type": "display_data"
    },
    {
     "data": {
      "text/html": [
       "<span style=\"color:cyan\"> |-dropout: 0.09597950228176846</span>"
      ],
      "text/plain": [
       "<IPython.core.display.HTML object>"
      ]
     },
     "metadata": {},
     "output_type": "display_data"
    },
    {
     "data": {
      "text/html": [
       "<span style=\"color:blue\"> |-learning_rate: 0.0001</span>"
      ],
      "text/plain": [
       "<IPython.core.display.HTML object>"
      ]
     },
     "metadata": {},
     "output_type": "display_data"
    },
    {
     "data": {
      "text/html": [
       "<span style=\"color:cyan\"> |-units: 20</span>"
      ],
      "text/plain": [
       "<IPython.core.display.HTML object>"
      ]
     },
     "metadata": {},
     "output_type": "display_data"
    },
    {
     "data": {
      "text/html": [
       "<span style=\"color:#4527A0\"><h1 style=\"font-size:18px\">Trial complete</h1></span>"
      ],
      "text/plain": [
       "<IPython.core.display.HTML object>"
      ]
     },
     "metadata": {},
     "output_type": "display_data"
    },
    {
     "data": {
      "text/html": [
       "<span style=\"color:#4527A0\"><h1 style=\"font-size:18px\">Trial summary</h1></span>"
      ],
      "text/plain": [
       "<IPython.core.display.HTML object>"
      ]
     },
     "metadata": {},
     "output_type": "display_data"
    },
    {
     "data": {
      "text/html": [
       "<span style=\"color:cyan\"> |-Trial ID: 951f3c7b0b89d8ebe316d6352c0be172</span>"
      ],
      "text/plain": [
       "<IPython.core.display.HTML object>"
      ]
     },
     "metadata": {},
     "output_type": "display_data"
    },
    {
     "data": {
      "text/html": [
       "<span style=\"color:cyan\"> |-Score: 0.18758568167686462</span>"
      ],
      "text/plain": [
       "<IPython.core.display.HTML object>"
      ]
     },
     "metadata": {},
     "output_type": "display_data"
    },
    {
     "data": {
      "text/html": [
       "<span style=\"color:cyan\"> |-Best step: 0</span>"
      ],
      "text/plain": [
       "<IPython.core.display.HTML object>"
      ]
     },
     "metadata": {},
     "output_type": "display_data"
    },
    {
     "data": {
      "text/html": [
       "<span style=\"color:#7E57C2\"><h2 style=\"font-size:16px\">Hyperparameters:</h2></span>"
      ],
      "text/plain": [
       "<IPython.core.display.HTML object>"
      ]
     },
     "metadata": {},
     "output_type": "display_data"
    },
    {
     "data": {
      "text/html": [
       "<span style=\"color:cyan\"> |-dropout: 0.18848322052432415</span>"
      ],
      "text/plain": [
       "<IPython.core.display.HTML object>"
      ]
     },
     "metadata": {},
     "output_type": "display_data"
    },
    {
     "data": {
      "text/html": [
       "<span style=\"color:blue\"> |-learning_rate: 0.001</span>"
      ],
      "text/plain": [
       "<IPython.core.display.HTML object>"
      ]
     },
     "metadata": {},
     "output_type": "display_data"
    },
    {
     "data": {
      "text/html": [
       "<span style=\"color:cyan\"> |-units: 50</span>"
      ],
      "text/plain": [
       "<IPython.core.display.HTML object>"
      ]
     },
     "metadata": {},
     "output_type": "display_data"
    },
    {
     "data": {
      "text/html": [
       "<span style=\"color:#4527A0\"><h1 style=\"font-size:18px\">Trial complete</h1></span>"
      ],
      "text/plain": [
       "<IPython.core.display.HTML object>"
      ]
     },
     "metadata": {},
     "output_type": "display_data"
    },
    {
     "data": {
      "text/html": [
       "<span style=\"color:#4527A0\"><h1 style=\"font-size:18px\">Trial summary</h1></span>"
      ],
      "text/plain": [
       "<IPython.core.display.HTML object>"
      ]
     },
     "metadata": {},
     "output_type": "display_data"
    },
    {
     "data": {
      "text/html": [
       "<span style=\"color:cyan\"> |-Trial ID: 4f42ba2e82beb13bae75c7d6a0504e8a</span>"
      ],
      "text/plain": [
       "<IPython.core.display.HTML object>"
      ]
     },
     "metadata": {},
     "output_type": "display_data"
    },
    {
     "data": {
      "text/html": [
       "<span style=\"color:cyan\"> |-Score: 0.19282536208629608</span>"
      ],
      "text/plain": [
       "<IPython.core.display.HTML object>"
      ]
     },
     "metadata": {},
     "output_type": "display_data"
    },
    {
     "data": {
      "text/html": [
       "<span style=\"color:cyan\"> |-Best step: 0</span>"
      ],
      "text/plain": [
       "<IPython.core.display.HTML object>"
      ]
     },
     "metadata": {},
     "output_type": "display_data"
    },
    {
     "data": {
      "text/html": [
       "<span style=\"color:#7E57C2\"><h2 style=\"font-size:16px\">Hyperparameters:</h2></span>"
      ],
      "text/plain": [
       "<IPython.core.display.HTML object>"
      ]
     },
     "metadata": {},
     "output_type": "display_data"
    },
    {
     "data": {
      "text/html": [
       "<span style=\"color:cyan\"> |-dropout: 0.26219281789680743</span>"
      ],
      "text/plain": [
       "<IPython.core.display.HTML object>"
      ]
     },
     "metadata": {},
     "output_type": "display_data"
    },
    {
     "data": {
      "text/html": [
       "<span style=\"color:blue\"> |-learning_rate: 0.001</span>"
      ],
      "text/plain": [
       "<IPython.core.display.HTML object>"
      ]
     },
     "metadata": {},
     "output_type": "display_data"
    },
    {
     "data": {
      "text/html": [
       "<span style=\"color:cyan\"> |-units: 40</span>"
      ],
      "text/plain": [
       "<IPython.core.display.HTML object>"
      ]
     },
     "metadata": {},
     "output_type": "display_data"
    },
    {
     "data": {
      "text/html": [
       "<span style=\"color:#4527A0\"><h1 style=\"font-size:18px\">Trial complete</h1></span>"
      ],
      "text/plain": [
       "<IPython.core.display.HTML object>"
      ]
     },
     "metadata": {},
     "output_type": "display_data"
    },
    {
     "data": {
      "text/html": [
       "<span style=\"color:#4527A0\"><h1 style=\"font-size:18px\">Trial summary</h1></span>"
      ],
      "text/plain": [
       "<IPython.core.display.HTML object>"
      ]
     },
     "metadata": {},
     "output_type": "display_data"
    },
    {
     "data": {
      "text/html": [
       "<span style=\"color:cyan\"> |-Trial ID: 2e70dd96dafbea5af2cba2e3a26f0d4f</span>"
      ],
      "text/plain": [
       "<IPython.core.display.HTML object>"
      ]
     },
     "metadata": {},
     "output_type": "display_data"
    },
    {
     "data": {
      "text/html": [
       "<span style=\"color:cyan\"> |-Score: 0.14642032980918884</span>"
      ],
      "text/plain": [
       "<IPython.core.display.HTML object>"
      ]
     },
     "metadata": {},
     "output_type": "display_data"
    },
    {
     "data": {
      "text/html": [
       "<span style=\"color:cyan\"> |-Best step: 0</span>"
      ],
      "text/plain": [
       "<IPython.core.display.HTML object>"
      ]
     },
     "metadata": {},
     "output_type": "display_data"
    },
    {
     "data": {
      "text/html": [
       "<span style=\"color:#7E57C2\"><h2 style=\"font-size:16px\">Hyperparameters:</h2></span>"
      ],
      "text/plain": [
       "<IPython.core.display.HTML object>"
      ]
     },
     "metadata": {},
     "output_type": "display_data"
    },
    {
     "data": {
      "text/html": [
       "<span style=\"color:cyan\"> |-dropout: 0.021409646355289125</span>"
      ],
      "text/plain": [
       "<IPython.core.display.HTML object>"
      ]
     },
     "metadata": {},
     "output_type": "display_data"
    },
    {
     "data": {
      "text/html": [
       "<span style=\"color:blue\"> |-learning_rate: 0.01</span>"
      ],
      "text/plain": [
       "<IPython.core.display.HTML object>"
      ]
     },
     "metadata": {},
     "output_type": "display_data"
    },
    {
     "data": {
      "text/html": [
       "<span style=\"color:cyan\"> |-units: 30</span>"
      ],
      "text/plain": [
       "<IPython.core.display.HTML object>"
      ]
     },
     "metadata": {},
     "output_type": "display_data"
    },
    {
     "data": {
      "text/html": [
       "<span style=\"color:#4527A0\"><h1 style=\"font-size:18px\">Trial complete</h1></span>"
      ],
      "text/plain": [
       "<IPython.core.display.HTML object>"
      ]
     },
     "metadata": {},
     "output_type": "display_data"
    },
    {
     "data": {
      "text/html": [
       "<span style=\"color:#4527A0\"><h1 style=\"font-size:18px\">Trial summary</h1></span>"
      ],
      "text/plain": [
       "<IPython.core.display.HTML object>"
      ]
     },
     "metadata": {},
     "output_type": "display_data"
    },
    {
     "data": {
      "text/html": [
       "<span style=\"color:cyan\"> |-Trial ID: 6d86dcdde5918f2a296f87354ea5b47d</span>"
      ],
      "text/plain": [
       "<IPython.core.display.HTML object>"
      ]
     },
     "metadata": {},
     "output_type": "display_data"
    },
    {
     "data": {
      "text/html": [
       "<span style=\"color:cyan\"> |-Score: 0.42651841044425964</span>"
      ],
      "text/plain": [
       "<IPython.core.display.HTML object>"
      ]
     },
     "metadata": {},
     "output_type": "display_data"
    },
    {
     "data": {
      "text/html": [
       "<span style=\"color:cyan\"> |-Best step: 0</span>"
      ],
      "text/plain": [
       "<IPython.core.display.HTML object>"
      ]
     },
     "metadata": {},
     "output_type": "display_data"
    },
    {
     "data": {
      "text/html": [
       "<span style=\"color:#7E57C2\"><h2 style=\"font-size:16px\">Hyperparameters:</h2></span>"
      ],
      "text/plain": [
       "<IPython.core.display.HTML object>"
      ]
     },
     "metadata": {},
     "output_type": "display_data"
    },
    {
     "data": {
      "text/html": [
       "<span style=\"color:cyan\"> |-dropout: 0.19490573279839338</span>"
      ],
      "text/plain": [
       "<IPython.core.display.HTML object>"
      ]
     },
     "metadata": {},
     "output_type": "display_data"
    },
    {
     "data": {
      "text/html": [
       "<span style=\"color:blue\"> |-learning_rate: 0.0001</span>"
      ],
      "text/plain": [
       "<IPython.core.display.HTML object>"
      ]
     },
     "metadata": {},
     "output_type": "display_data"
    },
    {
     "data": {
      "text/html": [
       "<span style=\"color:cyan\"> |-units: 30</span>"
      ],
      "text/plain": [
       "<IPython.core.display.HTML object>"
      ]
     },
     "metadata": {},
     "output_type": "display_data"
    },
    {
     "data": {
      "text/html": [
       "<span style=\"color:#4527A0\"><h1 style=\"font-size:18px\">Trial complete</h1></span>"
      ],
      "text/plain": [
       "<IPython.core.display.HTML object>"
      ]
     },
     "metadata": {},
     "output_type": "display_data"
    },
    {
     "data": {
      "text/html": [
       "<span style=\"color:#4527A0\"><h1 style=\"font-size:18px\">Trial summary</h1></span>"
      ],
      "text/plain": [
       "<IPython.core.display.HTML object>"
      ]
     },
     "metadata": {},
     "output_type": "display_data"
    },
    {
     "data": {
      "text/html": [
       "<span style=\"color:cyan\"> |-Trial ID: d46f0a2c582e0913109755fdfc35ffcf</span>"
      ],
      "text/plain": [
       "<IPython.core.display.HTML object>"
      ]
     },
     "metadata": {},
     "output_type": "display_data"
    },
    {
     "data": {
      "text/html": [
       "<span style=\"color:cyan\"> |-Score: 0.3822000324726105</span>"
      ],
      "text/plain": [
       "<IPython.core.display.HTML object>"
      ]
     },
     "metadata": {},
     "output_type": "display_data"
    },
    {
     "data": {
      "text/html": [
       "<span style=\"color:cyan\"> |-Best step: 0</span>"
      ],
      "text/plain": [
       "<IPython.core.display.HTML object>"
      ]
     },
     "metadata": {},
     "output_type": "display_data"
    },
    {
     "data": {
      "text/html": [
       "<span style=\"color:#7E57C2\"><h2 style=\"font-size:16px\">Hyperparameters:</h2></span>"
      ],
      "text/plain": [
       "<IPython.core.display.HTML object>"
      ]
     },
     "metadata": {},
     "output_type": "display_data"
    },
    {
     "data": {
      "text/html": [
       "<span style=\"color:cyan\"> |-dropout: 0.108904285213919</span>"
      ],
      "text/plain": [
       "<IPython.core.display.HTML object>"
      ]
     },
     "metadata": {},
     "output_type": "display_data"
    },
    {
     "data": {
      "text/html": [
       "<span style=\"color:blue\"> |-learning_rate: 0.0001</span>"
      ],
      "text/plain": [
       "<IPython.core.display.HTML object>"
      ]
     },
     "metadata": {},
     "output_type": "display_data"
    },
    {
     "data": {
      "text/html": [
       "<span style=\"color:cyan\"> |-units: 40</span>"
      ],
      "text/plain": [
       "<IPython.core.display.HTML object>"
      ]
     },
     "metadata": {},
     "output_type": "display_data"
    },
    {
     "data": {
      "text/html": [
       "<span style=\"color:#4527A0\"><h1 style=\"font-size:18px\">Trial complete</h1></span>"
      ],
      "text/plain": [
       "<IPython.core.display.HTML object>"
      ]
     },
     "metadata": {},
     "output_type": "display_data"
    },
    {
     "data": {
      "text/html": [
       "<span style=\"color:#4527A0\"><h1 style=\"font-size:18px\">Trial summary</h1></span>"
      ],
      "text/plain": [
       "<IPython.core.display.HTML object>"
      ]
     },
     "metadata": {},
     "output_type": "display_data"
    },
    {
     "data": {
      "text/html": [
       "<span style=\"color:cyan\"> |-Trial ID: 23d13ba992a4e20c5ca56e8b18ae2fba</span>"
      ],
      "text/plain": [
       "<IPython.core.display.HTML object>"
      ]
     },
     "metadata": {},
     "output_type": "display_data"
    },
    {
     "data": {
      "text/html": [
       "<span style=\"color:cyan\"> |-Score: 0.22162847220897675</span>"
      ],
      "text/plain": [
       "<IPython.core.display.HTML object>"
      ]
     },
     "metadata": {},
     "output_type": "display_data"
    },
    {
     "data": {
      "text/html": [
       "<span style=\"color:cyan\"> |-Best step: 0</span>"
      ],
      "text/plain": [
       "<IPython.core.display.HTML object>"
      ]
     },
     "metadata": {},
     "output_type": "display_data"
    },
    {
     "data": {
      "text/html": [
       "<span style=\"color:#7E57C2\"><h2 style=\"font-size:16px\">Hyperparameters:</h2></span>"
      ],
      "text/plain": [
       "<IPython.core.display.HTML object>"
      ]
     },
     "metadata": {},
     "output_type": "display_data"
    },
    {
     "data": {
      "text/html": [
       "<span style=\"color:cyan\"> |-dropout: 0.25858011042628204</span>"
      ],
      "text/plain": [
       "<IPython.core.display.HTML object>"
      ]
     },
     "metadata": {},
     "output_type": "display_data"
    },
    {
     "data": {
      "text/html": [
       "<span style=\"color:blue\"> |-learning_rate: 0.001</span>"
      ],
      "text/plain": [
       "<IPython.core.display.HTML object>"
      ]
     },
     "metadata": {},
     "output_type": "display_data"
    },
    {
     "data": {
      "text/html": [
       "<span style=\"color:cyan\"> |-units: 20</span>"
      ],
      "text/plain": [
       "<IPython.core.display.HTML object>"
      ]
     },
     "metadata": {},
     "output_type": "display_data"
    },
    {
     "data": {
      "text/html": [
       "<span style=\"color:#4527A0\"><h1 style=\"font-size:18px\">Trial complete</h1></span>"
      ],
      "text/plain": [
       "<IPython.core.display.HTML object>"
      ]
     },
     "metadata": {},
     "output_type": "display_data"
    },
    {
     "data": {
      "text/html": [
       "<span style=\"color:#4527A0\"><h1 style=\"font-size:18px\">Trial summary</h1></span>"
      ],
      "text/plain": [
       "<IPython.core.display.HTML object>"
      ]
     },
     "metadata": {},
     "output_type": "display_data"
    },
    {
     "data": {
      "text/html": [
       "<span style=\"color:cyan\"> |-Trial ID: fe5c097aa58dd5dc8047983c458f17e6</span>"
      ],
      "text/plain": [
       "<IPython.core.display.HTML object>"
      ]
     },
     "metadata": {},
     "output_type": "display_data"
    },
    {
     "data": {
      "text/html": [
       "<span style=\"color:cyan\"> |-Score: 0.15888963639736176</span>"
      ],
      "text/plain": [
       "<IPython.core.display.HTML object>"
      ]
     },
     "metadata": {},
     "output_type": "display_data"
    },
    {
     "data": {
      "text/html": [
       "<span style=\"color:cyan\"> |-Best step: 0</span>"
      ],
      "text/plain": [
       "<IPython.core.display.HTML object>"
      ]
     },
     "metadata": {},
     "output_type": "display_data"
    },
    {
     "data": {
      "text/html": [
       "<span style=\"color:#7E57C2\"><h2 style=\"font-size:16px\">Hyperparameters:</h2></span>"
      ],
      "text/plain": [
       "<IPython.core.display.HTML object>"
      ]
     },
     "metadata": {},
     "output_type": "display_data"
    },
    {
     "data": {
      "text/html": [
       "<span style=\"color:cyan\"> |-dropout: 0.2796278628089765</span>"
      ],
      "text/plain": [
       "<IPython.core.display.HTML object>"
      ]
     },
     "metadata": {},
     "output_type": "display_data"
    },
    {
     "data": {
      "text/html": [
       "<span style=\"color:blue\"> |-learning_rate: 0.01</span>"
      ],
      "text/plain": [
       "<IPython.core.display.HTML object>"
      ]
     },
     "metadata": {},
     "output_type": "display_data"
    },
    {
     "data": {
      "text/html": [
       "<span style=\"color:cyan\"> |-units: 20</span>"
      ],
      "text/plain": [
       "<IPython.core.display.HTML object>"
      ]
     },
     "metadata": {},
     "output_type": "display_data"
    },
    {
     "data": {
      "text/html": [
       "<span style=\"color:#4527A0\"><h1 style=\"font-size:18px\">Trial complete</h1></span>"
      ],
      "text/plain": [
       "<IPython.core.display.HTML object>"
      ]
     },
     "metadata": {},
     "output_type": "display_data"
    },
    {
     "data": {
      "text/html": [
       "<span style=\"color:#4527A0\"><h1 style=\"font-size:18px\">Trial summary</h1></span>"
      ],
      "text/plain": [
       "<IPython.core.display.HTML object>"
      ]
     },
     "metadata": {},
     "output_type": "display_data"
    },
    {
     "data": {
      "text/html": [
       "<span style=\"color:cyan\"> |-Trial ID: e92fcece316eb230e696f22e6eaf2a05</span>"
      ],
      "text/plain": [
       "<IPython.core.display.HTML object>"
      ]
     },
     "metadata": {},
     "output_type": "display_data"
    },
    {
     "data": {
      "text/html": [
       "<span style=\"color:cyan\"> |-Score: 0.610033392906189</span>"
      ],
      "text/plain": [
       "<IPython.core.display.HTML object>"
      ]
     },
     "metadata": {},
     "output_type": "display_data"
    },
    {
     "data": {
      "text/html": [
       "<span style=\"color:cyan\"> |-Best step: 0</span>"
      ],
      "text/plain": [
       "<IPython.core.display.HTML object>"
      ]
     },
     "metadata": {},
     "output_type": "display_data"
    },
    {
     "data": {
      "text/html": [
       "<span style=\"color:#7E57C2\"><h2 style=\"font-size:16px\">Hyperparameters:</h2></span>"
      ],
      "text/plain": [
       "<IPython.core.display.HTML object>"
      ]
     },
     "metadata": {},
     "output_type": "display_data"
    },
    {
     "data": {
      "text/html": [
       "<span style=\"color:cyan\"> |-dropout: 0.3025746960859459</span>"
      ],
      "text/plain": [
       "<IPython.core.display.HTML object>"
      ]
     },
     "metadata": {},
     "output_type": "display_data"
    },
    {
     "data": {
      "text/html": [
       "<span style=\"color:blue\"> |-learning_rate: 0.0</span>"
      ],
      "text/plain": [
       "<IPython.core.display.HTML object>"
      ]
     },
     "metadata": {},
     "output_type": "display_data"
    },
    {
     "data": {
      "text/html": [
       "<span style=\"color:cyan\"> |-units: 30</span>"
      ],
      "text/plain": [
       "<IPython.core.display.HTML object>"
      ]
     },
     "metadata": {},
     "output_type": "display_data"
    },
    {
     "data": {
      "text/html": [
       "<span style=\"color:#4527A0\"><h1 style=\"font-size:18px\">Trial complete</h1></span>"
      ],
      "text/plain": [
       "<IPython.core.display.HTML object>"
      ]
     },
     "metadata": {},
     "output_type": "display_data"
    },
    {
     "data": {
      "text/html": [
       "<span style=\"color:#4527A0\"><h1 style=\"font-size:18px\">Trial summary</h1></span>"
      ],
      "text/plain": [
       "<IPython.core.display.HTML object>"
      ]
     },
     "metadata": {},
     "output_type": "display_data"
    },
    {
     "data": {
      "text/html": [
       "<span style=\"color:cyan\"> |-Trial ID: 516731ca7a3dba9ca8474b506838953e</span>"
      ],
      "text/plain": [
       "<IPython.core.display.HTML object>"
      ]
     },
     "metadata": {},
     "output_type": "display_data"
    },
    {
     "data": {
      "text/html": [
       "<span style=\"color:cyan\"> |-Score: 0.47869816422462463</span>"
      ],
      "text/plain": [
       "<IPython.core.display.HTML object>"
      ]
     },
     "metadata": {},
     "output_type": "display_data"
    },
    {
     "data": {
      "text/html": [
       "<span style=\"color:cyan\"> |-Best step: 0</span>"
      ],
      "text/plain": [
       "<IPython.core.display.HTML object>"
      ]
     },
     "metadata": {},
     "output_type": "display_data"
    },
    {
     "data": {
      "text/html": [
       "<span style=\"color:#7E57C2\"><h2 style=\"font-size:16px\">Hyperparameters:</h2></span>"
      ],
      "text/plain": [
       "<IPython.core.display.HTML object>"
      ]
     },
     "metadata": {},
     "output_type": "display_data"
    },
    {
     "data": {
      "text/html": [
       "<span style=\"color:cyan\"> |-dropout: 0.14452052693012932</span>"
      ],
      "text/plain": [
       "<IPython.core.display.HTML object>"
      ]
     },
     "metadata": {},
     "output_type": "display_data"
    },
    {
     "data": {
      "text/html": [
       "<span style=\"color:blue\"> |-learning_rate: 0.0001</span>"
      ],
      "text/plain": [
       "<IPython.core.display.HTML object>"
      ]
     },
     "metadata": {},
     "output_type": "display_data"
    },
    {
     "data": {
      "text/html": [
       "<span style=\"color:cyan\"> |-units: 20</span>"
      ],
      "text/plain": [
       "<IPython.core.display.HTML object>"
      ]
     },
     "metadata": {},
     "output_type": "display_data"
    },
    {
     "data": {
      "text/html": [
       "<span style=\"color:#4527A0\"><h1 style=\"font-size:18px\">Trial complete</h1></span>"
      ],
      "text/plain": [
       "<IPython.core.display.HTML object>"
      ]
     },
     "metadata": {},
     "output_type": "display_data"
    },
    {
     "data": {
      "text/html": [
       "<span style=\"color:#4527A0\"><h1 style=\"font-size:18px\">Trial summary</h1></span>"
      ],
      "text/plain": [
       "<IPython.core.display.HTML object>"
      ]
     },
     "metadata": {},
     "output_type": "display_data"
    },
    {
     "data": {
      "text/html": [
       "<span style=\"color:cyan\"> |-Trial ID: 0498ae39775e6657120eb3dde6ea0fd2</span>"
      ],
      "text/plain": [
       "<IPython.core.display.HTML object>"
      ]
     },
     "metadata": {},
     "output_type": "display_data"
    },
    {
     "data": {
      "text/html": [
       "<span style=\"color:cyan\"> |-Score: 0.6116543412208557</span>"
      ],
      "text/plain": [
       "<IPython.core.display.HTML object>"
      ]
     },
     "metadata": {},
     "output_type": "display_data"
    },
    {
     "data": {
      "text/html": [
       "<span style=\"color:cyan\"> |-Best step: 0</span>"
      ],
      "text/plain": [
       "<IPython.core.display.HTML object>"
      ]
     },
     "metadata": {},
     "output_type": "display_data"
    },
    {
     "data": {
      "text/html": [
       "<span style=\"color:#7E57C2\"><h2 style=\"font-size:16px\">Hyperparameters:</h2></span>"
      ],
      "text/plain": [
       "<IPython.core.display.HTML object>"
      ]
     },
     "metadata": {},
     "output_type": "display_data"
    },
    {
     "data": {
      "text/html": [
       "<span style=\"color:cyan\"> |-dropout: 0.21780592278206118</span>"
      ],
      "text/plain": [
       "<IPython.core.display.HTML object>"
      ]
     },
     "metadata": {},
     "output_type": "display_data"
    },
    {
     "data": {
      "text/html": [
       "<span style=\"color:blue\"> |-learning_rate: 0.0</span>"
      ],
      "text/plain": [
       "<IPython.core.display.HTML object>"
      ]
     },
     "metadata": {},
     "output_type": "display_data"
    },
    {
     "data": {
      "text/html": [
       "<span style=\"color:cyan\"> |-units: 40</span>"
      ],
      "text/plain": [
       "<IPython.core.display.HTML object>"
      ]
     },
     "metadata": {},
     "output_type": "display_data"
    },
    {
     "name": "stdout",
     "output_type": "stream",
     "text": [
      "INFO:tensorflow:Oracle triggered exit\n",
      "Train on 250 samples, validate on 108 samples\n",
      "Epoch 1/100\n",
      "250/250 [==============================] - 1s 4ms/sample - loss: 0.0841 - mean_absolute_error: 0.0841 - rmse: 0.1199 - val_loss: 0.1440 - val_mean_absolute_error: 0.1440 - val_rmse: 0.1848\n",
      "Epoch 2/100\n",
      "250/250 [==============================] - 0s 74us/sample - loss: 0.0861 - mean_absolute_error: 0.0861 - rmse: 0.1221 - val_loss: 0.1459 - val_mean_absolute_error: 0.1459 - val_rmse: 0.1856\n",
      "Epoch 3/100\n",
      "250/250 [==============================] - 0s 58us/sample - loss: 0.0846 - mean_absolute_error: 0.0846 - rmse: 0.1183 - val_loss: 0.1444 - val_mean_absolute_error: 0.1444 - val_rmse: 0.1855\n",
      "Epoch 4/100\n",
      "250/250 [==============================] - 0s 67us/sample - loss: 0.0859 - mean_absolute_error: 0.0859 - rmse: 0.1217 - val_loss: 0.1433 - val_mean_absolute_error: 0.1433 - val_rmse: 0.1836\n",
      "Epoch 5/100\n",
      "250/250 [==============================] - 0s 66us/sample - loss: 0.0839 - mean_absolute_error: 0.0839 - rmse: 0.1188 - val_loss: 0.1443 - val_mean_absolute_error: 0.1443 - val_rmse: 0.1834\n",
      "Epoch 6/100\n",
      "250/250 [==============================] - 0s 59us/sample - loss: 0.0844 - mean_absolute_error: 0.0844 - rmse: 0.1186 - val_loss: 0.1436 - val_mean_absolute_error: 0.1436 - val_rmse: 0.1850\n",
      "Epoch 7/100\n",
      "250/250 [==============================] - 0s 68us/sample - loss: 0.0846 - mean_absolute_error: 0.0846 - rmse: 0.1212 - val_loss: 0.1458 - val_mean_absolute_error: 0.1458 - val_rmse: 0.1848\n",
      "Epoch 8/100\n",
      "250/250 [==============================] - 0s 70us/sample - loss: 0.0854 - mean_absolute_error: 0.0854 - rmse: 0.1188 - val_loss: 0.1436 - val_mean_absolute_error: 0.1436 - val_rmse: 0.1845\n",
      "Epoch 9/100\n",
      "250/250 [==============================] - 0s 63us/sample - loss: 0.0835 - mean_absolute_error: 0.0835 - rmse: 0.1194 - val_loss: 0.1428 - val_mean_absolute_error: 0.1428 - val_rmse: 0.1834\n",
      "Epoch 10/100\n",
      "250/250 [==============================] - 0s 68us/sample - loss: 0.0822 - mean_absolute_error: 0.0822 - rmse: 0.1179 - val_loss: 0.1449 - val_mean_absolute_error: 0.1449 - val_rmse: 0.1836\n",
      "Epoch 11/100\n",
      "250/250 [==============================] - 0s 65us/sample - loss: 0.0838 - mean_absolute_error: 0.0838 - rmse: 0.1172 - val_loss: 0.1430 - val_mean_absolute_error: 0.1430 - val_rmse: 0.1847\n",
      "Epoch 12/100\n",
      "250/250 [==============================] - 0s 72us/sample - loss: 0.0846 - mean_absolute_error: 0.0846 - rmse: 0.1212 - val_loss: 0.1443 - val_mean_absolute_error: 0.1443 - val_rmse: 0.1831\n",
      "Epoch 13/100\n",
      "250/250 [==============================] - 0s 54us/sample - loss: 0.0852 - mean_absolute_error: 0.0852 - rmse: 0.1187 - val_loss: 0.1422 - val_mean_absolute_error: 0.1422 - val_rmse: 0.1828\n",
      "Epoch 14/100\n",
      "250/250 [==============================] - 0s 61us/sample - loss: 0.0822 - mean_absolute_error: 0.0822 - rmse: 0.1186 - val_loss: 0.1424 - val_mean_absolute_error: 0.1424 - val_rmse: 0.1835\n",
      "Epoch 15/100\n",
      "250/250 [==============================] - 0s 60us/sample - loss: 0.0833 - mean_absolute_error: 0.0833 - rmse: 0.1193 - val_loss: 0.1435 - val_mean_absolute_error: 0.1435 - val_rmse: 0.1826\n",
      "Epoch 16/100\n",
      "250/250 [==============================] - 0s 57us/sample - loss: 0.0828 - mean_absolute_error: 0.0828 - rmse: 0.1171 - val_loss: 0.1414 - val_mean_absolute_error: 0.1414 - val_rmse: 0.1828\n",
      "Epoch 17/100\n",
      "250/250 [==============================] - 0s 60us/sample - loss: 0.0841 - mean_absolute_error: 0.0841 - rmse: 0.1209 - val_loss: 0.1430 - val_mean_absolute_error: 0.1430 - val_rmse: 0.1822\n",
      "Epoch 18/100\n",
      "250/250 [==============================] - 0s 60us/sample - loss: 0.0843 - mean_absolute_error: 0.0843 - rmse: 0.1186 - val_loss: 0.1421 - val_mean_absolute_error: 0.1421 - val_rmse: 0.1826\n",
      "Epoch 19/100\n",
      "250/250 [==============================] - 0s 68us/sample - loss: 0.0818 - mean_absolute_error: 0.0818 - rmse: 0.1180 - val_loss: 0.1413 - val_mean_absolute_error: 0.1413 - val_rmse: 0.1819\n",
      "Epoch 20/100\n",
      "250/250 [==============================] - 0s 56us/sample - loss: 0.0821 - mean_absolute_error: 0.0821 - rmse: 0.1182 - val_loss: 0.1410 - val_mean_absolute_error: 0.1410 - val_rmse: 0.1808\n",
      "Epoch 21/100\n",
      "250/250 [==============================] - 0s 81us/sample - loss: 0.0833 - mean_absolute_error: 0.0833 - rmse: 0.1185 - val_loss: 0.1414 - val_mean_absolute_error: 0.1414 - val_rmse: 0.1828\n",
      "Epoch 22/100\n",
      "250/250 [==============================] - 0s 58us/sample - loss: 0.0829 - mean_absolute_error: 0.0829 - rmse: 0.1199 - val_loss: 0.1434 - val_mean_absolute_error: 0.1434 - val_rmse: 0.1830\n",
      "Epoch 23/100\n",
      "250/250 [==============================] - 0s 74us/sample - loss: 0.0829 - mean_absolute_error: 0.0829 - rmse: 0.1167 - val_loss: 0.1413 - val_mean_absolute_error: 0.1413 - val_rmse: 0.1825\n",
      "Epoch 24/100\n",
      "250/250 [==============================] - 0s 61us/sample - loss: 0.0809 - mean_absolute_error: 0.0809 - rmse: 0.1171 - val_loss: 0.1412 - val_mean_absolute_error: 0.1412 - val_rmse: 0.1801\n",
      "Epoch 25/100\n",
      "250/250 [==============================] - 0s 59us/sample - loss: 0.0828 - mean_absolute_error: 0.0828 - rmse: 0.1165 - val_loss: 0.1398 - val_mean_absolute_error: 0.1398 - val_rmse: 0.1809\n",
      "Epoch 26/100\n",
      "250/250 [==============================] - 0s 62us/sample - loss: 0.0839 - mean_absolute_error: 0.0839 - rmse: 0.1197 - val_loss: 0.1418 - val_mean_absolute_error: 0.1418 - val_rmse: 0.1814\n",
      "Epoch 27/100\n",
      "250/250 [==============================] - 0s 64us/sample - loss: 0.0830 - mean_absolute_error: 0.0830 - rmse: 0.1178 - val_loss: 0.1417 - val_mean_absolute_error: 0.1417 - val_rmse: 0.1831\n",
      "Epoch 28/100\n",
      "250/250 [==============================] - 0s 81us/sample - loss: 0.0817 - mean_absolute_error: 0.0817 - rmse: 0.1172 - val_loss: 0.1395 - val_mean_absolute_error: 0.1395 - val_rmse: 0.1802\n",
      "Epoch 29/100\n",
      "250/250 [==============================] - 0s 62us/sample - loss: 0.0810 - mean_absolute_error: 0.0810 - rmse: 0.1162 - val_loss: 0.1394 - val_mean_absolute_error: 0.1394 - val_rmse: 0.1788\n",
      "Epoch 30/100\n",
      "250/250 [==============================] - 0s 62us/sample - loss: 0.0805 - mean_absolute_error: 0.0805 - rmse: 0.1149 - val_loss: 0.1394 - val_mean_absolute_error: 0.1394 - val_rmse: 0.1803\n",
      "Epoch 31/100\n",
      "250/250 [==============================] - 0s 66us/sample - loss: 0.0813 - mean_absolute_error: 0.0813 - rmse: 0.1169 - val_loss: 0.1419 - val_mean_absolute_error: 0.1419 - val_rmse: 0.1816\n",
      "Epoch 32/100\n",
      "250/250 [==============================] - 0s 58us/sample - loss: 0.0832 - mean_absolute_error: 0.0832 - rmse: 0.1175 - val_loss: 0.1398 - val_mean_absolute_error: 0.1398 - val_rmse: 0.1813\n",
      "Epoch 33/100\n",
      "250/250 [==============================] - 0s 54us/sample - loss: 0.0808 - mean_absolute_error: 0.0808 - rmse: 0.1176 - val_loss: 0.1424 - val_mean_absolute_error: 0.1424 - val_rmse: 0.1802\n",
      "Epoch 34/100\n",
      "250/250 [==============================] - 0s 60us/sample - loss: 0.0827 - mean_absolute_error: 0.0827 - rmse: 0.1154 - val_loss: 0.1394 - val_mean_absolute_error: 0.1394 - val_rmse: 0.1804\n",
      "Epoch 35/100\n",
      "250/250 [==============================] - 0s 58us/sample - loss: 0.0813 - mean_absolute_error: 0.0813 - rmse: 0.1171 - val_loss: 0.1404 - val_mean_absolute_error: 0.1404 - val_rmse: 0.1814\n",
      "Epoch 36/100\n",
      "250/250 [==============================] - 0s 64us/sample - loss: 0.0805 - mean_absolute_error: 0.0805 - rmse: 0.1165 - val_loss: 0.1413 - val_mean_absolute_error: 0.1413 - val_rmse: 0.1806\n",
      "Epoch 37/100\n",
      "250/250 [==============================] - 0s 58us/sample - loss: 0.0812 - mean_absolute_error: 0.0812 - rmse: 0.1166 - val_loss: 0.1388 - val_mean_absolute_error: 0.1388 - val_rmse: 0.1803\n",
      "Epoch 38/100\n",
      "250/250 [==============================] - 0s 62us/sample - loss: 0.0811 - mean_absolute_error: 0.0811 - rmse: 0.1178 - val_loss: 0.1409 - val_mean_absolute_error: 0.1409 - val_rmse: 0.1790\n",
      "Epoch 39/100\n",
      "250/250 [==============================] - 0s 56us/sample - loss: 0.0812 - mean_absolute_error: 0.0812 - rmse: 0.1148 - val_loss: 0.1397 - val_mean_absolute_error: 0.1397 - val_rmse: 0.1809\n",
      "Epoch 40/100\n",
      "250/250 [==============================] - 0s 62us/sample - loss: 0.0798 - mean_absolute_error: 0.0798 - rmse: 0.1161 - val_loss: 0.1400 - val_mean_absolute_error: 0.1400 - val_rmse: 0.1803\n",
      "Epoch 41/100\n",
      "250/250 [==============================] - 0s 62us/sample - loss: 0.0788 - mean_absolute_error: 0.0788 - rmse: 0.1138 - val_loss: 0.1397 - val_mean_absolute_error: 0.1397 - val_rmse: 0.1794\n",
      "Epoch 42/100\n",
      "250/250 [==============================] - 0s 62us/sample - loss: 0.0794 - mean_absolute_error: 0.0794 - rmse: 0.1141 - val_loss: 0.1384 - val_mean_absolute_error: 0.1384 - val_rmse: 0.1789\n",
      "Epoch 43/100\n",
      "250/250 [==============================] - 0s 58us/sample - loss: 0.0795 - mean_absolute_error: 0.0795 - rmse: 0.1155 - val_loss: 0.1416 - val_mean_absolute_error: 0.1416 - val_rmse: 0.1801\n",
      "Epoch 44/100\n",
      "250/250 [==============================] - 0s 65us/sample - loss: 0.0810 - mean_absolute_error: 0.0810 - rmse: 0.1144 - val_loss: 0.1388 - val_mean_absolute_error: 0.1388 - val_rmse: 0.1806\n",
      "Epoch 45/100\n",
      "250/250 [==============================] - 0s 64us/sample - loss: 0.0810 - mean_absolute_error: 0.0810 - rmse: 0.1173 - val_loss: 0.1411 - val_mean_absolute_error: 0.1411 - val_rmse: 0.1791\n",
      "Epoch 46/100\n",
      "250/250 [==============================] - 0s 64us/sample - loss: 0.0806 - mean_absolute_error: 0.0806 - rmse: 0.1135 - val_loss: 0.1388 - val_mean_absolute_error: 0.1388 - val_rmse: 0.1793\n",
      "Epoch 47/100\n",
      "250/250 [==============================] - 0s 59us/sample - loss: 0.0795 - mean_absolute_error: 0.0795 - rmse: 0.1155 - val_loss: 0.1395 - val_mean_absolute_error: 0.1395 - val_rmse: 0.1800\n",
      "Epoch 48/100\n",
      "250/250 [==============================] - 0s 54us/sample - loss: 0.0787 - mean_absolute_error: 0.0787 - rmse: 0.1138 - val_loss: 0.1405 - val_mean_absolute_error: 0.1405 - val_rmse: 0.1792\n",
      "Epoch 49/100\n",
      "250/250 [==============================] - 0s 66us/sample - loss: 0.0811 - mean_absolute_error: 0.0811 - rmse: 0.1162 - val_loss: 0.1385 - val_mean_absolute_error: 0.1385 - val_rmse: 0.1801\n",
      "Epoch 50/100\n",
      "250/250 [==============================] - 0s 62us/sample - loss: 0.0798 - mean_absolute_error: 0.0798 - rmse: 0.1157 - val_loss: 0.1403 - val_mean_absolute_error: 0.1403 - val_rmse: 0.1787\n",
      "Epoch 51/100\n",
      "250/250 [==============================] - 0s 106us/sample - loss: 0.0810 - mean_absolute_error: 0.0810 - rmse: 0.1147 - val_loss: 0.1382 - val_mean_absolute_error: 0.1382 - val_rmse: 0.1790\n",
      "Epoch 52/100\n",
      "250/250 [==============================] - 0s 60us/sample - loss: 0.0802 - mean_absolute_error: 0.0802 - rmse: 0.1162 - val_loss: 0.1387 - val_mean_absolute_error: 0.1387 - val_rmse: 0.1786\n",
      "Epoch 53/100\n",
      "250/250 [==============================] - 0s 62us/sample - loss: 0.0785 - mean_absolute_error: 0.0785 - rmse: 0.1138 - val_loss: 0.1397 - val_mean_absolute_error: 0.1397 - val_rmse: 0.1788\n",
      "Epoch 54/100\n",
      "250/250 [==============================] - 0s 62us/sample - loss: 0.0804 - mean_absolute_error: 0.0804 - rmse: 0.1154 - val_loss: 0.1379 - val_mean_absolute_error: 0.1379 - val_rmse: 0.1797\n",
      "Epoch 55/100\n",
      "250/250 [==============================] - 0s 57us/sample - loss: 0.0796 - mean_absolute_error: 0.0796 - rmse: 0.1160 - val_loss: 0.1418 - val_mean_absolute_error: 0.1418 - val_rmse: 0.1787\n",
      "Epoch 56/100\n",
      "250/250 [==============================] - 0s 84us/sample - loss: 0.0826 - mean_absolute_error: 0.0826 - rmse: 0.1157 - val_loss: 0.1380 - val_mean_absolute_error: 0.1380 - val_rmse: 0.1789\n",
      "Epoch 57/100\n",
      "250/250 [==============================] - 0s 76us/sample - loss: 0.0791 - mean_absolute_error: 0.0791 - rmse: 0.1159 - val_loss: 0.1392 - val_mean_absolute_error: 0.1392 - val_rmse: 0.1783\n",
      "Epoch 58/100\n",
      "250/250 [==============================] - 0s 62us/sample - loss: 0.0791 - mean_absolute_error: 0.0791 - rmse: 0.1129 - val_loss: 0.1382 - val_mean_absolute_error: 0.1382 - val_rmse: 0.1791\n",
      "Epoch 59/100\n",
      "250/250 [==============================] - 0s 70us/sample - loss: 0.0787 - mean_absolute_error: 0.0787 - rmse: 0.1143 - val_loss: 0.1377 - val_mean_absolute_error: 0.1377 - val_rmse: 0.1779\n",
      "Epoch 60/100\n",
      "250/250 [==============================] - 0s 60us/sample - loss: 0.0764 - mean_absolute_error: 0.0764 - rmse: 0.1122 - val_loss: 0.1397 - val_mean_absolute_error: 0.1397 - val_rmse: 0.1779\n",
      "Epoch 61/100\n",
      "250/250 [==============================] - 0s 55us/sample - loss: 0.0788 - mean_absolute_error: 0.0788 - rmse: 0.1126 - val_loss: 0.1382 - val_mean_absolute_error: 0.1382 - val_rmse: 0.1791\n",
      "Epoch 62/100\n",
      "250/250 [==============================] - 0s 62us/sample - loss: 0.0788 - mean_absolute_error: 0.0788 - rmse: 0.1146 - val_loss: 0.1392 - val_mean_absolute_error: 0.1392 - val_rmse: 0.1782\n",
      "Epoch 63/100\n",
      "250/250 [==============================] - 0s 60us/sample - loss: 0.0784 - mean_absolute_error: 0.0784 - rmse: 0.1128 - val_loss: 0.1374 - val_mean_absolute_error: 0.1374 - val_rmse: 0.1786\n",
      "Epoch 64/100\n",
      "250/250 [==============================] - 0s 60us/sample - loss: 0.0792 - mean_absolute_error: 0.0792 - rmse: 0.1149 - val_loss: 0.1381 - val_mean_absolute_error: 0.1381 - val_rmse: 0.1770\n",
      "Epoch 65/100\n",
      "250/250 [==============================] - 0s 67us/sample - loss: 0.0768 - mean_absolute_error: 0.0768 - rmse: 0.1114 - val_loss: 0.1377 - val_mean_absolute_error: 0.1377 - val_rmse: 0.1774\n",
      "Epoch 66/100\n",
      "250/250 [==============================] - 0s 66us/sample - loss: 0.0787 - mean_absolute_error: 0.0787 - rmse: 0.1139 - val_loss: 0.1374 - val_mean_absolute_error: 0.1374 - val_rmse: 0.1785\n",
      "Epoch 67/100\n",
      "250/250 [==============================] - 0s 61us/sample - loss: 0.0778 - mean_absolute_error: 0.0778 - rmse: 0.1134 - val_loss: 0.1417 - val_mean_absolute_error: 0.1417 - val_rmse: 0.1792\n",
      "Epoch 68/100\n",
      "250/250 [==============================] - 0s 62us/sample - loss: 0.0791 - mean_absolute_error: 0.0791 - rmse: 0.1120 - val_loss: 0.1375 - val_mean_absolute_error: 0.1375 - val_rmse: 0.1793\n",
      "Epoch 69/100\n",
      "250/250 [==============================] - 0s 62us/sample - loss: 0.0794 - mean_absolute_error: 0.0794 - rmse: 0.1152 - val_loss: 0.1388 - val_mean_absolute_error: 0.1388 - val_rmse: 0.1774\n",
      "Epoch 70/100\n",
      "250/250 [==============================] - 0s 63us/sample - loss: 0.0773 - mean_absolute_error: 0.0773 - rmse: 0.1120 - val_loss: 0.1390 - val_mean_absolute_error: 0.1390 - val_rmse: 0.1785\n",
      "Epoch 71/100\n",
      "250/250 [==============================] - 0s 63us/sample - loss: 0.0780 - mean_absolute_error: 0.0780 - rmse: 0.1128 - val_loss: 0.1383 - val_mean_absolute_error: 0.1383 - val_rmse: 0.1804\n",
      "Epoch 72/100\n",
      "250/250 [==============================] - 0s 58us/sample - loss: 0.0795 - mean_absolute_error: 0.0795 - rmse: 0.1160 - val_loss: 0.1429 - val_mean_absolute_error: 0.1429 - val_rmse: 0.1792\n",
      "Epoch 73/100\n",
      "250/250 [==============================] - 0s 55us/sample - loss: 0.0824 - mean_absolute_error: 0.0824 - rmse: 0.1139 - val_loss: 0.1364 - val_mean_absolute_error: 0.1364 - val_rmse: 0.1772\n",
      "Epoch 74/100\n",
      "250/250 [==============================] - 0s 62us/sample - loss: 0.0775 - mean_absolute_error: 0.0775 - rmse: 0.1140 - val_loss: 0.1382 - val_mean_absolute_error: 0.1382 - val_rmse: 0.1780\n",
      "Epoch 75/100\n",
      "250/250 [==============================] - 0s 60us/sample - loss: 0.0782 - mean_absolute_error: 0.0782 - rmse: 0.1128 - val_loss: 0.1410 - val_mean_absolute_error: 0.1410 - val_rmse: 0.1790\n",
      "Epoch 76/100\n",
      "250/250 [==============================] - 0s 60us/sample - loss: 0.0770 - mean_absolute_error: 0.0770 - rmse: 0.1108 - val_loss: 0.1371 - val_mean_absolute_error: 0.1371 - val_rmse: 0.1788\n",
      "Epoch 77/100\n",
      "250/250 [==============================] - 0s 55us/sample - loss: 0.0791 - mean_absolute_error: 0.0791 - rmse: 0.1155 - val_loss: 0.1389 - val_mean_absolute_error: 0.1389 - val_rmse: 0.1766\n",
      "Epoch 78/100\n",
      "250/250 [==============================] - 0s 56us/sample - loss: 0.0779 - mean_absolute_error: 0.0779 - rmse: 0.1118 - val_loss: 0.1378 - val_mean_absolute_error: 0.1378 - val_rmse: 0.1772\n",
      "Epoch 79/100\n",
      "250/250 [==============================] - 0s 65us/sample - loss: 0.0772 - mean_absolute_error: 0.0772 - rmse: 0.1119 - val_loss: 0.1378 - val_mean_absolute_error: 0.1378 - val_rmse: 0.1794\n",
      "Epoch 80/100\n",
      "250/250 [==============================] - 0s 54us/sample - loss: 0.0793 - mean_absolute_error: 0.0793 - rmse: 0.1146 - val_loss: 0.1419 - val_mean_absolute_error: 0.1419 - val_rmse: 0.1790\n",
      "Epoch 81/100\n",
      "250/250 [==============================] - 0s 76us/sample - loss: 0.0796 - mean_absolute_error: 0.0796 - rmse: 0.1119 - val_loss: 0.1366 - val_mean_absolute_error: 0.1366 - val_rmse: 0.1769\n",
      "Epoch 82/100\n",
      "250/250 [==============================] - 0s 64us/sample - loss: 0.0772 - mean_absolute_error: 0.0772 - rmse: 0.1126 - val_loss: 0.1377 - val_mean_absolute_error: 0.1377 - val_rmse: 0.1778\n",
      "Epoch 83/100\n",
      "250/250 [==============================] - 0s 56us/sample - loss: 0.0766 - mean_absolute_error: 0.0766 - rmse: 0.1129 - val_loss: 0.1416 - val_mean_absolute_error: 0.1416 - val_rmse: 0.1790\n",
      "Epoch 84/100\n",
      "250/250 [==============================] - 0s 62us/sample - loss: 0.0784 - mean_absolute_error: 0.0784 - rmse: 0.1123 - val_loss: 0.1374 - val_mean_absolute_error: 0.1374 - val_rmse: 0.1783\n",
      "Epoch 85/100\n",
      "250/250 [==============================] - 0s 152us/sample - loss: 0.0782 - mean_absolute_error: 0.0782 - rmse: 0.1145 - val_loss: 0.1362 - val_mean_absolute_error: 0.1362 - val_rmse: 0.1764\n",
      "Epoch 86/100\n",
      "250/250 [==============================] - 0s 79us/sample - loss: 0.0755 - mean_absolute_error: 0.0755 - rmse: 0.1109 - val_loss: 0.1407 - val_mean_absolute_error: 0.1407 - val_rmse: 0.1779\n",
      "Epoch 87/100\n",
      "250/250 [==============================] - 0s 66us/sample - loss: 0.0779 - mean_absolute_error: 0.0779 - rmse: 0.1110 - val_loss: 0.1377 - val_mean_absolute_error: 0.1377 - val_rmse: 0.1793\n",
      "Epoch 88/100\n",
      "250/250 [==============================] - 0s 69us/sample - loss: 0.0763 - mean_absolute_error: 0.0763 - rmse: 0.1133 - val_loss: 0.1396 - val_mean_absolute_error: 0.1396 - val_rmse: 0.1778\n",
      "Epoch 89/100\n",
      "250/250 [==============================] - 0s 54us/sample - loss: 0.0763 - mean_absolute_error: 0.0763 - rmse: 0.1101 - val_loss: 0.1380 - val_mean_absolute_error: 0.1380 - val_rmse: 0.1769\n",
      "Epoch 90/100\n",
      "250/250 [==============================] - 0s 64us/sample - loss: 0.0763 - mean_absolute_error: 0.0763 - rmse: 0.1111 - val_loss: 0.1365 - val_mean_absolute_error: 0.1365 - val_rmse: 0.1772\n",
      "Epoch 91/100\n",
      "250/250 [==============================] - 0s 62us/sample - loss: 0.0760 - mean_absolute_error: 0.0760 - rmse: 0.1121 - val_loss: 0.1395 - val_mean_absolute_error: 0.1395 - val_rmse: 0.1775\n",
      "Epoch 92/100\n",
      "250/250 [==============================] - 0s 54us/sample - loss: 0.0778 - mean_absolute_error: 0.0778 - rmse: 0.1122 - val_loss: 0.1365 - val_mean_absolute_error: 0.1365 - val_rmse: 0.1774\n",
      "Epoch 93/100\n",
      "250/250 [==============================] - 0s 57us/sample - loss: 0.0774 - mean_absolute_error: 0.0774 - rmse: 0.1132 - val_loss: 0.1375 - val_mean_absolute_error: 0.1375 - val_rmse: 0.1764\n",
      "Epoch 94/100\n",
      "250/250 [==============================] - 0s 62us/sample - loss: 0.0748 - mean_absolute_error: 0.0748 - rmse: 0.1092 - val_loss: 0.1377 - val_mean_absolute_error: 0.1377 - val_rmse: 0.1774\n",
      "Epoch 95/100\n",
      "250/250 [==============================] - 0s 65us/sample - loss: 0.0743 - mean_absolute_error: 0.0743 - rmse: 0.1096 - val_loss: 0.1380 - val_mean_absolute_error: 0.1380 - val_rmse: 0.1783\n",
      "Epoch 96/100\n",
      "250/250 [==============================] - 0s 60us/sample - loss: 0.0757 - mean_absolute_error: 0.0757 - rmse: 0.1108 - val_loss: 0.1379 - val_mean_absolute_error: 0.1379 - val_rmse: 0.1765\n",
      "Epoch 97/100\n",
      "250/250 [==============================] - 0s 62us/sample - loss: 0.0754 - mean_absolute_error: 0.0754 - rmse: 0.1104 - val_loss: 0.1366 - val_mean_absolute_error: 0.1366 - val_rmse: 0.1764\n",
      "Epoch 98/100\n",
      "250/250 [==============================] - 0s 62us/sample - loss: 0.0738 - mean_absolute_error: 0.0738 - rmse: 0.1094 - val_loss: 0.1378 - val_mean_absolute_error: 0.1378 - val_rmse: 0.1781\n",
      "Epoch 99/100\n",
      "250/250 [==============================] - 0s 61us/sample - loss: 0.0763 - mean_absolute_error: 0.0763 - rmse: 0.1120 - val_loss: 0.1371 - val_mean_absolute_error: 0.1371 - val_rmse: 0.1772\n",
      "Epoch 100/100\n",
      "250/250 [==============================] - 0s 56us/sample - loss: 0.0743 - mean_absolute_error: 0.0743 - rmse: 0.1096 - val_loss: 0.1361 - val_mean_absolute_error: 0.1361 - val_rmse: 0.1755\n",
      "dict_keys(['loss', 'mean_absolute_error', 'rmse', 'val_loss', 'val_mean_absolute_error', 'val_rmse'])\n",
      "{'loss': [0.08414424955844879, 0.08609656244516373, 0.08459047973155975, 0.08593632280826569, 0.08393509685993195, 0.08439785987138748, 0.08462101966142654, 0.08543571829795837, 0.08350671082735062, 0.08223462104797363, 0.08375518023967743, 0.08464934676885605, 0.08520648628473282, 0.08222027122974396, 0.08328483253717422, 0.08282598108053207, 0.08411772549152374, 0.08427752554416656, 0.08175801485776901, 0.08209100365638733, 0.08328477293252945, 0.08287999033927917, 0.08292892575263977, 0.08094406872987747, 0.08277840167284012, 0.08394244313240051, 0.0830228254199028, 0.0816819816827774, 0.08101095259189606, 0.080502450466156, 0.08132518082857132, 0.08322745561599731, 0.08080407232046127, 0.08269528299570084, 0.08125891536474228, 0.08051958680152893, 0.08121441304683685, 0.08112496137619019, 0.08123675733804703, 0.07976473867893219, 0.07880140095949173, 0.07942531257867813, 0.0794905573129654, 0.0810299962759018, 0.08104165643453598, 0.08055565506219864, 0.07952188700437546, 0.07865358144044876, 0.08114809542894363, 0.07983766496181488, 0.08096975833177567, 0.08019319921731949, 0.07853550463914871, 0.0803622379899025, 0.07960423827171326, 0.08261790126562119, 0.0791148692369461, 0.07907639443874359, 0.07865722477436066, 0.07643216103315353, 0.07879229635000229, 0.07884431630373001, 0.07842855900526047, 0.07920105755329132, 0.07676354795694351, 0.07874520123004913, 0.07775415480136871, 0.0791202187538147, 0.07938005030155182, 0.07734061032533646, 0.07801289111375809, 0.07945366948843002, 0.08239499479532242, 0.07753778249025345, 0.07824636250734329, 0.07704780250787735, 0.0791139304637909, 0.07788547873497009, 0.07719104737043381, 0.07930351048707962, 0.07964809238910675, 0.07715245336294174, 0.07658834755420685, 0.07837262749671936, 0.07820220291614532, 0.07551645487546921, 0.07785550504922867, 0.07633225619792938, 0.07628552615642548, 0.07628552615642548, 0.07600405812263489, 0.07783013582229614, 0.07738206535577774, 0.07475164532661438, 0.07432646304368973, 0.0756809413433075, 0.07540682703256607, 0.07383335381746292, 0.07631388306617737, 0.07429371774196625], 'mean_absolute_error': [0.08414425, 0.08609656, 0.08459048, 0.08593632, 0.0839351, 0.08439786, 0.08462102, 0.08543572, 0.08350671, 0.08223462, 0.08375518, 0.08464935, 0.08520649, 0.08222027, 0.08328483, 0.08282598, 0.084117725, 0.084277526, 0.081758015, 0.082091, 0.08328477, 0.08287999, 0.082928926, 0.08094407, 0.0827784, 0.08394244, 0.083022825, 0.08168198, 0.08101095, 0.08050245, 0.08132518, 0.083227456, 0.08080407, 0.08269528, 0.081258915, 0.08051959, 0.08121441, 0.08112496, 0.08123676, 0.07976474, 0.0788014, 0.07942531, 0.07949056, 0.08103, 0.08104166, 0.080555655, 0.07952189, 0.07865358, 0.081148095, 0.079837665, 0.08096976, 0.0801932, 0.078535505, 0.08036224, 0.07960424, 0.0826179, 0.07911487, 0.079076394, 0.078657225, 0.07643216, 0.0787923, 0.07884432, 0.07842856, 0.07920106, 0.07676355, 0.0787452, 0.077754155, 0.07912022, 0.07938005, 0.07734061, 0.07801289, 0.07945367, 0.082394995, 0.07753778, 0.07824636, 0.0770478, 0.07911393, 0.07788548, 0.07719105, 0.07930351, 0.07964809, 0.07715245, 0.07658835, 0.07837263, 0.0782022, 0.075516455, 0.077855505, 0.076332256, 0.076285526, 0.076285526, 0.07600406, 0.077830136, 0.077382065, 0.074751645, 0.07432646, 0.07568094, 0.07540683, 0.073833354, 0.07631388, 0.07429372], 'rmse': [0.11989439, 0.12208191, 0.11832101, 0.12169381, 0.11882056, 0.11863058, 0.12117284, 0.11879267, 0.11939974, 0.1178921, 0.11723128, 0.121238604, 0.11866168, 0.1185553, 0.119338505, 0.11706623, 0.120916665, 0.11863568, 0.1179993, 0.118208885, 0.118510015, 0.11992634, 0.116721615, 0.117145106, 0.116520666, 0.119707294, 0.11776174, 0.11723079, 0.11616382, 0.11488019, 0.11688937, 0.11747826, 0.11755308, 0.115378074, 0.11706859, 0.11649116, 0.116556205, 0.1177905, 0.11475944, 0.11609528, 0.11376035, 0.11412808, 0.11545181, 0.11439065, 0.11727303, 0.11352875, 0.11550797, 0.11375725, 0.11621088, 0.1156857, 0.114702605, 0.11618934, 0.1137558, 0.11541899, 0.11597862, 0.11568411, 0.11593303, 0.11286121, 0.114281096, 0.11215422, 0.1125554, 0.11458948, 0.11276824, 0.11492787, 0.1113971, 0.11391945, 0.113423064, 0.11201462, 0.11522731, 0.112044334, 0.11278627, 0.1159725, 0.113936774, 0.11401377, 0.112791546, 0.11084052, 0.1154827, 0.11184849, 0.1119175, 0.114604, 0.11188981, 0.11256659, 0.11289398, 0.11228765, 0.114547916, 0.11085469, 0.110983975, 0.11333428, 0.11013548, 0.11108279, 0.11214013, 0.1121948, 0.11315744, 0.109207354, 0.10958384, 0.11079577, 0.11041622, 0.10943723, 0.11197562, 0.10962998], 'val_loss': [0.14404354989528656, 0.1458987444639206, 0.14441202580928802, 0.1432885080575943, 0.14427916705608368, 0.14357484877109528, 0.14579012989997864, 0.14359262585639954, 0.14283378422260284, 0.14491628110408783, 0.1430273801088333, 0.14428065717220306, 0.14221680164337158, 0.1424468606710434, 0.1434909552335739, 0.14141620695590973, 0.14303772151470184, 0.1421022117137909, 0.14127761125564575, 0.14101892709732056, 0.14143358170986176, 0.1433846801519394, 0.1413232535123825, 0.14124871790409088, 0.1398288905620575, 0.14177671074867249, 0.14170201122760773, 0.13949139416217804, 0.13935989141464233, 0.13935907185077667, 0.14188797771930695, 0.13977469503879547, 0.14240719377994537, 0.13938863575458527, 0.14039213955402374, 0.14125627279281616, 0.13881997764110565, 0.1409006416797638, 0.13970354199409485, 0.13998988270759583, 0.13967759907245636, 0.138405904173851, 0.14161820709705353, 0.13876637816429138, 0.14106519520282745, 0.13880011439323425, 0.13947200775146484, 0.14049965143203735, 0.13847646117210388, 0.14034293591976166, 0.13815806806087494, 0.13867004215717316, 0.1397273689508438, 0.13794979453086853, 0.14180971682071686, 0.13802994787693024, 0.13924677670001984, 0.13815505802631378, 0.13767226040363312, 0.13967779278755188, 0.13822151720523834, 0.139199361205101, 0.13741761445999146, 0.13807952404022217, 0.1376773864030838, 0.13743609189987183, 0.14174646139144897, 0.13751471042633057, 0.1387510746717453, 0.13903801143169403, 0.1382574439048767, 0.14286468923091888, 0.13643138110637665, 0.138186976313591, 0.14101551473140717, 0.13710489869117737, 0.13891208171844482, 0.13779650628566742, 0.13780561089515686, 0.14189420640468597, 0.13657717406749725, 0.1376941055059433, 0.14159205555915833, 0.137361541390419, 0.1362496316432953, 0.14071834087371826, 0.13774226605892181, 0.13956116139888763, 0.1379924863576889, 0.13651764392852783, 0.13952848315238953, 0.1364930272102356, 0.13748584687709808, 0.13769176602363586, 0.13803739845752716, 0.13788120448589325, 0.13657644391059875, 0.1377684324979782, 0.137099951505661, 0.1360919177532196], 'val_mean_absolute_error': [0.14404355, 0.14589874, 0.14441203, 0.14328851, 0.14427917, 0.14357485, 0.14579013, 0.14359263, 0.14283378, 0.14491628, 0.14302738, 0.14428066, 0.1422168, 0.14244686, 0.14349096, 0.1414162, 0.14303772, 0.14210221, 0.14127761, 0.14101893, 0.14143358, 0.14338468, 0.14132325, 0.14124872, 0.13982889, 0.14177671, 0.14170201, 0.1394914, 0.13935989, 0.13935907, 0.14188798, 0.1397747, 0.1424072, 0.13938864, 0.14039214, 0.14125627, 0.13881998, 0.14090064, 0.13970354, 0.13998988, 0.1396776, 0.1384059, 0.1416182, 0.13876638, 0.1410652, 0.13880011, 0.13947201, 0.14049965, 0.13847646, 0.14034294, 0.13815807, 0.13867004, 0.13972737, 0.1379498, 0.14180972, 0.13802995, 0.13924678, 0.13815506, 0.13767226, 0.1396778, 0.13822152, 0.13919936, 0.13741761, 0.13807952, 0.13767739, 0.13743609, 0.14174646, 0.13751471, 0.13875107, 0.13903801, 0.13825744, 0.14286469, 0.13643138, 0.13818698, 0.14101551, 0.1371049, 0.13891208, 0.1377965, 0.13780561, 0.1418942, 0.13657717, 0.1376941, 0.14159206, 0.13736154, 0.13624963, 0.14071834, 0.13774227, 0.13956116, 0.13799249, 0.13651764, 0.13952848, 0.13649303, 0.13748585, 0.13769177, 0.1380374, 0.1378812, 0.13657644, 0.13776843, 0.13709995, 0.13609192], 'val_rmse': [0.18476173, 0.1855806, 0.18551366, 0.18359742, 0.18340261, 0.18500154, 0.18476489, 0.1845362, 0.18344311, 0.1836418, 0.18468834, 0.18312351, 0.1827825, 0.18349142, 0.18263547, 0.182846, 0.18216132, 0.18259208, 0.18186453, 0.18082754, 0.18282959, 0.1830403, 0.18245478, 0.18011297, 0.18094505, 0.18135774, 0.18311298, 0.18017267, 0.17878592, 0.18028753, 0.18158515, 0.18131562, 0.18018873, 0.180444, 0.18142979, 0.1806025, 0.1802926, 0.17901917, 0.180858, 0.18034123, 0.17941804, 0.17892076, 0.18007925, 0.18058683, 0.17914377, 0.17929877, 0.17998436, 0.17918283, 0.18005475, 0.17871234, 0.17895073, 0.17860869, 0.17881404, 0.17967741, 0.17867512, 0.17888337, 0.17831348, 0.17909952, 0.17785516, 0.17785963, 0.17914487, 0.17816249, 0.17857063, 0.17701726, 0.17735513, 0.17847152, 0.17924663, 0.1793141, 0.17744556, 0.17852113, 0.1803886, 0.17924307, 0.1772424, 0.17802303, 0.17904061, 0.17882483, 0.17656468, 0.1771734, 0.17937788, 0.17899935, 0.17693439, 0.17781416, 0.17895119, 0.17826246, 0.17636077, 0.17786722, 0.17929941, 0.17776683, 0.17688869, 0.17722578, 0.17745699, 0.17741063, 0.1764434, 0.17735465, 0.17827563, 0.17649177, 0.17639822, 0.17811215, 0.17718633, 0.1754571]}\n",
      "{'batch_size': 1024, 'epochs': 100, 'steps': 1, 'samples': 250, 'verbose': 0, 'do_validation': True, 'metrics': ['loss', 'mean_absolute_error', 'rmse', 'val_loss', 'val_mean_absolute_error', 'val_rmse']}\n"
     ]
    }
   ],
   "source": [
    "# Model training:\n",
    "with tf.device('/gpu:0'): \n",
    "    # Create optimizer using Random Search\n",
    "    lstmOptimizer = RandomSearch(build_model, \n",
    "                                objective = objective,\n",
    "                                max_trials = trials, \n",
    "                                executions_per_trial = executions,\n",
    "                                project_name = projectNameRS,\n",
    "                                overwrite = True)\n",
    "\n",
    "    # Search space summary\n",
    "    #lstmOptimizer.search_space_summary()\n",
    "\n",
    "    # Search execution with epochs\n",
    "    initialTime = time.time()\n",
    "    lstmOptimizer.search(x = xtrain,\n",
    "                        y = ytrain, \n",
    "                        epochs = epchs,\n",
    "                        batch_size = batch,\n",
    "                        validation_data = (xval, yval),\n",
    "                        verbose = 0)\n",
    "    finalTime = time.time()\n",
    "\n",
    "    # Get best model generated\n",
    "    model = lstmOptimizer.get_best_models(num_models = numBestModels)[0]\n",
    "\n",
    "    # Model training with epochs \n",
    "    history = model.fit(\n",
    "                xtrain,\n",
    "                ytrain,\n",
    "                epochs = epchs,\n",
    "                batch_size = batch,\n",
    "                validation_data = (xval, yval))\n",
    "\n",
    "    # Show model info\n",
    "    \n",
    "    print(history.history.keys())\n",
    "    print(model.history.history)\n",
    "    print(model.history.params)"
   ]
  },
  {
   "cell_type": "code",
   "execution_count": 31,
   "metadata": {},
   "outputs": [
    {
     "name": "stdout",
     "output_type": "stream",
     "text": [
      "------------------------------------------------------\n",
      "SUMMARY\n",
      "------------------------------------------------------\n",
      "Tiempo de entrenamiento (en segundos):\t327.6158673763275\n"
     ]
    },
    {
     "data": {
      "image/png": "[encoded data removed]",
      "text/plain": [
       "<Figure size 432x288 with 1 Axes>"
      ]
     },
     "metadata": {
      "needs_background": "light"
     },
     "output_type": "display_data"
    },
    {
     "data": {
      "text/html": [
       "<span style=\"color:#4527A0\"><h1 style=\"font-size:18px\">Results summary</h1></span>"
      ],
      "text/plain": [
       "<IPython.core.display.HTML object>"
      ]
     },
     "metadata": {},
     "output_type": "display_data"
    },
    {
     "data": {
      "text/html": [
       "<span style=\"color:cyan\"> |-Results in .\\W7_PV-lstm-rs</span>"
      ],
      "text/plain": [
       "<IPython.core.display.HTML object>"
      ]
     },
     "metadata": {},
     "output_type": "display_data"
    },
    {
     "data": {
      "text/html": [
       "<span style=\"color:cyan\"> |-Showing 1 best trials</span>"
      ],
      "text/plain": [
       "<IPython.core.display.HTML object>"
      ]
     },
     "metadata": {},
     "output_type": "display_data"
    },
    {
     "data": {
      "text/html": [
       "<span style=\"color:cyan\"> |-Objective(name='val_mean_absolute_error', direction='min')</span>"
      ],
      "text/plain": [
       "<IPython.core.display.HTML object>"
      ]
     },
     "metadata": {},
     "output_type": "display_data"
    },
    {
     "data": {
      "text/html": [
       "<span style=\"color:#4527A0\"><h1 style=\"font-size:18px\">Trial summary</h1></span>"
      ],
      "text/plain": [
       "<IPython.core.display.HTML object>"
      ]
     },
     "metadata": {},
     "output_type": "display_data"
    },
    {
     "data": {
      "text/html": [
       "<span style=\"color:cyan\"> |-Trial ID: 2e70dd96dafbea5af2cba2e3a26f0d4f</span>"
      ],
      "text/plain": [
       "<IPython.core.display.HTML object>"
      ]
     },
     "metadata": {},
     "output_type": "display_data"
    },
    {
     "data": {
      "text/html": [
       "<span style=\"color:cyan\"> |-Score: 0.14642032980918884</span>"
      ],
      "text/plain": [
       "<IPython.core.display.HTML object>"
      ]
     },
     "metadata": {},
     "output_type": "display_data"
    },
    {
     "data": {
      "text/html": [
       "<span style=\"color:cyan\"> |-Best step: 0</span>"
      ],
      "text/plain": [
       "<IPython.core.display.HTML object>"
      ]
     },
     "metadata": {},
     "output_type": "display_data"
    },
    {
     "data": {
      "text/html": [
       "<span style=\"color:#7E57C2\"><h2 style=\"font-size:16px\">Hyperparameters:</h2></span>"
      ],
      "text/plain": [
       "<IPython.core.display.HTML object>"
      ]
     },
     "metadata": {},
     "output_type": "display_data"
    },
    {
     "data": {
      "text/html": [
       "<span style=\"color:cyan\"> |-dropout: 0.021409646355289125</span>"
      ],
      "text/plain": [
       "<IPython.core.display.HTML object>"
      ]
     },
     "metadata": {},
     "output_type": "display_data"
    },
    {
     "data": {
      "text/html": [
       "<span style=\"color:blue\"> |-learning_rate: 0.01</span>"
      ],
      "text/plain": [
       "<IPython.core.display.HTML object>"
      ]
     },
     "metadata": {},
     "output_type": "display_data"
    },
    {
     "data": {
      "text/html": [
       "<span style=\"color:cyan\"> |-units: 30</span>"
      ],
      "text/plain": [
       "<IPython.core.display.HTML object>"
      ]
     },
     "metadata": {},
     "output_type": "display_data"
    },
    {
     "name": "stdout",
     "output_type": "stream",
     "text": [
      "359/359 [==============================] - ETA: 0s - loss: 0.1494 - mean_absolute_error: 0.1494 - rmse: 0.19 - 0s 146us/sample - loss: 0.1277 - mean_absolute_error: 0.1277 - rmse: 0.1830\n",
      "Score: [0.12773228816501278, 0.1277323, 0.18300761]\n"
     ]
    }
   ],
   "source": [
    "# Model evaluation:\n",
    "print(\"------------------------------------------------------\")\n",
    "print(\"SUMMARY\")\n",
    "print(\"------------------------------------------------------\")\n",
    "\n",
    "print(\"Tiempo de entrenamiento (en segundos):\\t\"+str(finalTime - initialTime))\n",
    "\n",
    "# Training and Validation loss curves\n",
    "plt.plot(history.history['loss'], label = 'Training loss')\n",
    "plt.plot(history.history['val_loss'], label = 'Validation loss')\n",
    "plt.legend()\n",
    "plt.show()\n",
    "\n",
    "# Results summary\n",
    "lstmOptimizer.results_summary(num_trials = 1)\n",
    "\n",
    "# Model evaluation with validation data\n",
    "score = model.evaluate(xtest, ytest)\n",
    "print('Score:', score)\n"
   ]
  },
  {
   "cell_type": "code",
   "execution_count": 32,
   "metadata": {},
   "outputs": [
    {
     "data": {
      "text/html": [
       "<span style=\"color:#4527A0\"><h1 style=\"font-size:18px\">Trial complete</h1></span>"
      ],
      "text/plain": [
       "<IPython.core.display.HTML object>"
      ]
     },
     "metadata": {},
     "output_type": "display_data"
    },
    {
     "data": {
      "text/html": [
       "<span style=\"color:#4527A0\"><h1 style=\"font-size:18px\">Trial summary</h1></span>"
      ],
      "text/plain": [
       "<IPython.core.display.HTML object>"
      ]
     },
     "metadata": {},
     "output_type": "display_data"
    },
    {
     "data": {
      "text/html": [
       "<span style=\"color:cyan\"> |-Trial ID: caac55660ed6829c7da4bb6117afdbf3</span>"
      ],
      "text/plain": [
       "<IPython.core.display.HTML object>"
      ]
     },
     "metadata": {},
     "output_type": "display_data"
    },
    {
     "data": {
      "text/html": [
       "<span style=\"color:cyan\"> |-Score: 0.220915287733078</span>"
      ],
      "text/plain": [
       "<IPython.core.display.HTML object>"
      ]
     },
     "metadata": {},
     "output_type": "display_data"
    },
    {
     "data": {
      "text/html": [
       "<span style=\"color:cyan\"> |-Best step: 0</span>"
      ],
      "text/plain": [
       "<IPython.core.display.HTML object>"
      ]
     },
     "metadata": {},
     "output_type": "display_data"
    },
    {
     "data": {
      "text/html": [
       "<span style=\"color:#7E57C2\"><h2 style=\"font-size:16px\">Hyperparameters:</h2></span>"
      ],
      "text/plain": [
       "<IPython.core.display.HTML object>"
      ]
     },
     "metadata": {},
     "output_type": "display_data"
    },
    {
     "data": {
      "text/html": [
       "<span style=\"color:cyan\"> |-dropout: 0.26235314888290057</span>"
      ],
      "text/plain": [
       "<IPython.core.display.HTML object>"
      ]
     },
     "metadata": {},
     "output_type": "display_data"
    },
    {
     "data": {
      "text/html": [
       "<span style=\"color:blue\"> |-learning_rate: 0.001</span>"
      ],
      "text/plain": [
       "<IPython.core.display.HTML object>"
      ]
     },
     "metadata": {},
     "output_type": "display_data"
    },
    {
     "data": {
      "text/html": [
       "<span style=\"color:cyan\"> |-units: 20</span>"
      ],
      "text/plain": [
       "<IPython.core.display.HTML object>"
      ]
     },
     "metadata": {},
     "output_type": "display_data"
    },
    {
     "data": {
      "text/html": [
       "<span style=\"color:#4527A0\"><h1 style=\"font-size:18px\">Trial complete</h1></span>"
      ],
      "text/plain": [
       "<IPython.core.display.HTML object>"
      ]
     },
     "metadata": {},
     "output_type": "display_data"
    },
    {
     "data": {
      "text/html": [
       "<span style=\"color:#4527A0\"><h1 style=\"font-size:18px\">Trial summary</h1></span>"
      ],
      "text/plain": [
       "<IPython.core.display.HTML object>"
      ]
     },
     "metadata": {},
     "output_type": "display_data"
    },
    {
     "data": {
      "text/html": [
       "<span style=\"color:cyan\"> |-Trial ID: 972f85fc2ea25e3d3d74475d61a8ac8b</span>"
      ],
      "text/plain": [
       "<IPython.core.display.HTML object>"
      ]
     },
     "metadata": {},
     "output_type": "display_data"
    },
    {
     "data": {
      "text/html": [
       "<span style=\"color:cyan\"> |-Score: 0.4076590836048126</span>"
      ],
      "text/plain": [
       "<IPython.core.display.HTML object>"
      ]
     },
     "metadata": {},
     "output_type": "display_data"
    },
    {
     "data": {
      "text/html": [
       "<span style=\"color:cyan\"> |-Best step: 0</span>"
      ],
      "text/plain": [
       "<IPython.core.display.HTML object>"
      ]
     },
     "metadata": {},
     "output_type": "display_data"
    },
    {
     "data": {
      "text/html": [
       "<span style=\"color:#7E57C2\"><h2 style=\"font-size:16px\">Hyperparameters:</h2></span>"
      ],
      "text/plain": [
       "<IPython.core.display.HTML object>"
      ]
     },
     "metadata": {},
     "output_type": "display_data"
    },
    {
     "data": {
      "text/html": [
       "<span style=\"color:cyan\"> |-dropout: 0.09609801787214357</span>"
      ],
      "text/plain": [
       "<IPython.core.display.HTML object>"
      ]
     },
     "metadata": {},
     "output_type": "display_data"
    },
    {
     "data": {
      "text/html": [
       "<span style=\"color:blue\"> |-learning_rate: 0.0001</span>"
      ],
      "text/plain": [
       "<IPython.core.display.HTML object>"
      ]
     },
     "metadata": {},
     "output_type": "display_data"
    },
    {
     "data": {
      "text/html": [
       "<span style=\"color:cyan\"> |-units: 40</span>"
      ],
      "text/plain": [
       "<IPython.core.display.HTML object>"
      ]
     },
     "metadata": {},
     "output_type": "display_data"
    },
    {
     "data": {
      "text/html": [
       "<span style=\"color:#4527A0\"><h1 style=\"font-size:18px\">Trial complete</h1></span>"
      ],
      "text/plain": [
       "<IPython.core.display.HTML object>"
      ]
     },
     "metadata": {},
     "output_type": "display_data"
    },
    {
     "data": {
      "text/html": [
       "<span style=\"color:#4527A0\"><h1 style=\"font-size:18px\">Trial summary</h1></span>"
      ],
      "text/plain": [
       "<IPython.core.display.HTML object>"
      ]
     },
     "metadata": {},
     "output_type": "display_data"
    },
    {
     "data": {
      "text/html": [
       "<span style=\"color:cyan\"> |-Trial ID: c9347b491a8c29523e1897a2168cc964</span>"
      ],
      "text/plain": [
       "<IPython.core.display.HTML object>"
      ]
     },
     "metadata": {},
     "output_type": "display_data"
    },
    {
     "data": {
      "text/html": [
       "<span style=\"color:cyan\"> |-Score: 0.21784622967243195</span>"
      ],
      "text/plain": [
       "<IPython.core.display.HTML object>"
      ]
     },
     "metadata": {},
     "output_type": "display_data"
    },
    {
     "data": {
      "text/html": [
       "<span style=\"color:cyan\"> |-Best step: 0</span>"
      ],
      "text/plain": [
       "<IPython.core.display.HTML object>"
      ]
     },
     "metadata": {},
     "output_type": "display_data"
    },
    {
     "data": {
      "text/html": [
       "<span style=\"color:#7E57C2\"><h2 style=\"font-size:16px\">Hyperparameters:</h2></span>"
      ],
      "text/plain": [
       "<IPython.core.display.HTML object>"
      ]
     },
     "metadata": {},
     "output_type": "display_data"
    },
    {
     "data": {
      "text/html": [
       "<span style=\"color:cyan\"> |-dropout: 0.2577669660716635</span>"
      ],
      "text/plain": [
       "<IPython.core.display.HTML object>"
      ]
     },
     "metadata": {},
     "output_type": "display_data"
    },
    {
     "data": {
      "text/html": [
       "<span style=\"color:blue\"> |-learning_rate: 0.001</span>"
      ],
      "text/plain": [
       "<IPython.core.display.HTML object>"
      ]
     },
     "metadata": {},
     "output_type": "display_data"
    },
    {
     "data": {
      "text/html": [
       "<span style=\"color:cyan\"> |-units: 20</span>"
      ],
      "text/plain": [
       "<IPython.core.display.HTML object>"
      ]
     },
     "metadata": {},
     "output_type": "display_data"
    },
    {
     "data": {
      "text/html": [
       "<span style=\"color:#4527A0\"><h1 style=\"font-size:18px\">Trial complete</h1></span>"
      ],
      "text/plain": [
       "<IPython.core.display.HTML object>"
      ]
     },
     "metadata": {},
     "output_type": "display_data"
    },
    {
     "data": {
      "text/html": [
       "<span style=\"color:#4527A0\"><h1 style=\"font-size:18px\">Trial summary</h1></span>"
      ],
      "text/plain": [
       "<IPython.core.display.HTML object>"
      ]
     },
     "metadata": {},
     "output_type": "display_data"
    },
    {
     "data": {
      "text/html": [
       "<span style=\"color:cyan\"> |-Trial ID: 10d541bfea41537195c92e24564eaefd</span>"
      ],
      "text/plain": [
       "<IPython.core.display.HTML object>"
      ]
     },
     "metadata": {},
     "output_type": "display_data"
    },
    {
     "data": {
      "text/html": [
       "<span style=\"color:cyan\"> |-Score: 0.1616765260696411</span>"
      ],
      "text/plain": [
       "<IPython.core.display.HTML object>"
      ]
     },
     "metadata": {},
     "output_type": "display_data"
    },
    {
     "data": {
      "text/html": [
       "<span style=\"color:cyan\"> |-Best step: 0</span>"
      ],
      "text/plain": [
       "<IPython.core.display.HTML object>"
      ]
     },
     "metadata": {},
     "output_type": "display_data"
    },
    {
     "data": {
      "text/html": [
       "<span style=\"color:#7E57C2\"><h2 style=\"font-size:16px\">Hyperparameters:</h2></span>"
      ],
      "text/plain": [
       "<IPython.core.display.HTML object>"
      ]
     },
     "metadata": {},
     "output_type": "display_data"
    },
    {
     "data": {
      "text/html": [
       "<span style=\"color:cyan\"> |-dropout: 0.17877884771827823</span>"
      ],
      "text/plain": [
       "<IPython.core.display.HTML object>"
      ]
     },
     "metadata": {},
     "output_type": "display_data"
    },
    {
     "data": {
      "text/html": [
       "<span style=\"color:blue\"> |-learning_rate: 0.01</span>"
      ],
      "text/plain": [
       "<IPython.core.display.HTML object>"
      ]
     },
     "metadata": {},
     "output_type": "display_data"
    },
    {
     "data": {
      "text/html": [
       "<span style=\"color:cyan\"> |-units: 10</span>"
      ],
      "text/plain": [
       "<IPython.core.display.HTML object>"
      ]
     },
     "metadata": {},
     "output_type": "display_data"
    },
    {
     "data": {
      "text/html": [
       "<span style=\"color:#4527A0\"><h1 style=\"font-size:18px\">Trial complete</h1></span>"
      ],
      "text/plain": [
       "<IPython.core.display.HTML object>"
      ]
     },
     "metadata": {},
     "output_type": "display_data"
    },
    {
     "data": {
      "text/html": [
       "<span style=\"color:#4527A0\"><h1 style=\"font-size:18px\">Trial summary</h1></span>"
      ],
      "text/plain": [
       "<IPython.core.display.HTML object>"
      ]
     },
     "metadata": {},
     "output_type": "display_data"
    },
    {
     "data": {
      "text/html": [
       "<span style=\"color:cyan\"> |-Trial ID: 9b8e6a2749ad240e78067d71489e23d1</span>"
      ],
      "text/plain": [
       "<IPython.core.display.HTML object>"
      ]
     },
     "metadata": {},
     "output_type": "display_data"
    },
    {
     "data": {
      "text/html": [
       "<span style=\"color:cyan\"> |-Score: 0.6379154920578003</span>"
      ],
      "text/plain": [
       "<IPython.core.display.HTML object>"
      ]
     },
     "metadata": {},
     "output_type": "display_data"
    },
    {
     "data": {
      "text/html": [
       "<span style=\"color:cyan\"> |-Best step: 0</span>"
      ],
      "text/plain": [
       "<IPython.core.display.HTML object>"
      ]
     },
     "metadata": {},
     "output_type": "display_data"
    },
    {
     "data": {
      "text/html": [
       "<span style=\"color:#7E57C2\"><h2 style=\"font-size:16px\">Hyperparameters:</h2></span>"
      ],
      "text/plain": [
       "<IPython.core.display.HTML object>"
      ]
     },
     "metadata": {},
     "output_type": "display_data"
    },
    {
     "data": {
      "text/html": [
       "<span style=\"color:cyan\"> |-dropout: 0.03347031421780873</span>"
      ],
      "text/plain": [
       "<IPython.core.display.HTML object>"
      ]
     },
     "metadata": {},
     "output_type": "display_data"
    },
    {
     "data": {
      "text/html": [
       "<span style=\"color:blue\"> |-learning_rate: 0.0</span>"
      ],
      "text/plain": [
       "<IPython.core.display.HTML object>"
      ]
     },
     "metadata": {},
     "output_type": "display_data"
    },
    {
     "data": {
      "text/html": [
       "<span style=\"color:cyan\"> |-units: 10</span>"
      ],
      "text/plain": [
       "<IPython.core.display.HTML object>"
      ]
     },
     "metadata": {},
     "output_type": "display_data"
    },
    {
     "data": {
      "text/html": [
       "<span style=\"color:#4527A0\"><h1 style=\"font-size:18px\">Trial complete</h1></span>"
      ],
      "text/plain": [
       "<IPython.core.display.HTML object>"
      ]
     },
     "metadata": {},
     "output_type": "display_data"
    },
    {
     "data": {
      "text/html": [
       "<span style=\"color:#4527A0\"><h1 style=\"font-size:18px\">Trial summary</h1></span>"
      ],
      "text/plain": [
       "<IPython.core.display.HTML object>"
      ]
     },
     "metadata": {},
     "output_type": "display_data"
    },
    {
     "data": {
      "text/html": [
       "<span style=\"color:cyan\"> |-Trial ID: a7986ebdcfa1507269a9a37508ddf839</span>"
      ],
      "text/plain": [
       "<IPython.core.display.HTML object>"
      ]
     },
     "metadata": {},
     "output_type": "display_data"
    },
    {
     "data": {
      "text/html": [
       "<span style=\"color:cyan\"> |-Score: 0.6119071245193481</span>"
      ],
      "text/plain": [
       "<IPython.core.display.HTML object>"
      ]
     },
     "metadata": {},
     "output_type": "display_data"
    },
    {
     "data": {
      "text/html": [
       "<span style=\"color:cyan\"> |-Best step: 0</span>"
      ],
      "text/plain": [
       "<IPython.core.display.HTML object>"
      ]
     },
     "metadata": {},
     "output_type": "display_data"
    },
    {
     "data": {
      "text/html": [
       "<span style=\"color:#7E57C2\"><h2 style=\"font-size:16px\">Hyperparameters:</h2></span>"
      ],
      "text/plain": [
       "<IPython.core.display.HTML object>"
      ]
     },
     "metadata": {},
     "output_type": "display_data"
    },
    {
     "data": {
      "text/html": [
       "<span style=\"color:cyan\"> |-dropout: 0.2943313225341701</span>"
      ],
      "text/plain": [
       "<IPython.core.display.HTML object>"
      ]
     },
     "metadata": {},
     "output_type": "display_data"
    },
    {
     "data": {
      "text/html": [
       "<span style=\"color:blue\"> |-learning_rate: 0.0</span>"
      ],
      "text/plain": [
       "<IPython.core.display.HTML object>"
      ]
     },
     "metadata": {},
     "output_type": "display_data"
    },
    {
     "data": {
      "text/html": [
       "<span style=\"color:cyan\"> |-units: 10</span>"
      ],
      "text/plain": [
       "<IPython.core.display.HTML object>"
      ]
     },
     "metadata": {},
     "output_type": "display_data"
    },
    {
     "data": {
      "text/html": [
       "<span style=\"color:#4527A0\"><h1 style=\"font-size:18px\">Trial complete</h1></span>"
      ],
      "text/plain": [
       "<IPython.core.display.HTML object>"
      ]
     },
     "metadata": {},
     "output_type": "display_data"
    },
    {
     "data": {
      "text/html": [
       "<span style=\"color:#4527A0\"><h1 style=\"font-size:18px\">Trial summary</h1></span>"
      ],
      "text/plain": [
       "<IPython.core.display.HTML object>"
      ]
     },
     "metadata": {},
     "output_type": "display_data"
    },
    {
     "data": {
      "text/html": [
       "<span style=\"color:cyan\"> |-Trial ID: 44942786b1e8b6dba7b4021593d3a707</span>"
      ],
      "text/plain": [
       "<IPython.core.display.HTML object>"
      ]
     },
     "metadata": {},
     "output_type": "display_data"
    },
    {
     "data": {
      "text/html": [
       "<span style=\"color:cyan\"> |-Score: 0.25669774413108826</span>"
      ],
      "text/plain": [
       "<IPython.core.display.HTML object>"
      ]
     },
     "metadata": {},
     "output_type": "display_data"
    },
    {
     "data": {
      "text/html": [
       "<span style=\"color:cyan\"> |-Best step: 0</span>"
      ],
      "text/plain": [
       "<IPython.core.display.HTML object>"
      ]
     },
     "metadata": {},
     "output_type": "display_data"
    },
    {
     "data": {
      "text/html": [
       "<span style=\"color:#7E57C2\"><h2 style=\"font-size:16px\">Hyperparameters:</h2></span>"
      ],
      "text/plain": [
       "<IPython.core.display.HTML object>"
      ]
     },
     "metadata": {},
     "output_type": "display_data"
    },
    {
     "data": {
      "text/html": [
       "<span style=\"color:cyan\"> |-dropout: 0.18078444634759877</span>"
      ],
      "text/plain": [
       "<IPython.core.display.HTML object>"
      ]
     },
     "metadata": {},
     "output_type": "display_data"
    },
    {
     "data": {
      "text/html": [
       "<span style=\"color:blue\"> |-learning_rate: 0.001</span>"
      ],
      "text/plain": [
       "<IPython.core.display.HTML object>"
      ]
     },
     "metadata": {},
     "output_type": "display_data"
    },
    {
     "data": {
      "text/html": [
       "<span style=\"color:cyan\"> |-units: 10</span>"
      ],
      "text/plain": [
       "<IPython.core.display.HTML object>"
      ]
     },
     "metadata": {},
     "output_type": "display_data"
    },
    {
     "data": {
      "text/html": [
       "<span style=\"color:#4527A0\"><h1 style=\"font-size:18px\">Trial complete</h1></span>"
      ],
      "text/plain": [
       "<IPython.core.display.HTML object>"
      ]
     },
     "metadata": {},
     "output_type": "display_data"
    },
    {
     "data": {
      "text/html": [
       "<span style=\"color:#4527A0\"><h1 style=\"font-size:18px\">Trial summary</h1></span>"
      ],
      "text/plain": [
       "<IPython.core.display.HTML object>"
      ]
     },
     "metadata": {},
     "output_type": "display_data"
    },
    {
     "data": {
      "text/html": [
       "<span style=\"color:cyan\"> |-Trial ID: 7f553d485c0d4646c5656d0043386a26</span>"
      ],
      "text/plain": [
       "<IPython.core.display.HTML object>"
      ]
     },
     "metadata": {},
     "output_type": "display_data"
    },
    {
     "data": {
      "text/html": [
       "<span style=\"color:cyan\"> |-Score: 0.15575608611106873</span>"
      ],
      "text/plain": [
       "<IPython.core.display.HTML object>"
      ]
     },
     "metadata": {},
     "output_type": "display_data"
    },
    {
     "data": {
      "text/html": [
       "<span style=\"color:cyan\"> |-Best step: 0</span>"
      ],
      "text/plain": [
       "<IPython.core.display.HTML object>"
      ]
     },
     "metadata": {},
     "output_type": "display_data"
    },
    {
     "data": {
      "text/html": [
       "<span style=\"color:#7E57C2\"><h2 style=\"font-size:16px\">Hyperparameters:</h2></span>"
      ],
      "text/plain": [
       "<IPython.core.display.HTML object>"
      ]
     },
     "metadata": {},
     "output_type": "display_data"
    },
    {
     "data": {
      "text/html": [
       "<span style=\"color:cyan\"> |-dropout: 0.16656183425430254</span>"
      ],
      "text/plain": [
       "<IPython.core.display.HTML object>"
      ]
     },
     "metadata": {},
     "output_type": "display_data"
    },
    {
     "data": {
      "text/html": [
       "<span style=\"color:blue\"> |-learning_rate: 0.01</span>"
      ],
      "text/plain": [
       "<IPython.core.display.HTML object>"
      ]
     },
     "metadata": {},
     "output_type": "display_data"
    },
    {
     "data": {
      "text/html": [
       "<span style=\"color:cyan\"> |-units: 20</span>"
      ],
      "text/plain": [
       "<IPython.core.display.HTML object>"
      ]
     },
     "metadata": {},
     "output_type": "display_data"
    },
    {
     "data": {
      "text/html": [
       "<span style=\"color:#4527A0\"><h1 style=\"font-size:18px\">Trial complete</h1></span>"
      ],
      "text/plain": [
       "<IPython.core.display.HTML object>"
      ]
     },
     "metadata": {},
     "output_type": "display_data"
    },
    {
     "data": {
      "text/html": [
       "<span style=\"color:#4527A0\"><h1 style=\"font-size:18px\">Trial summary</h1></span>"
      ],
      "text/plain": [
       "<IPython.core.display.HTML object>"
      ]
     },
     "metadata": {},
     "output_type": "display_data"
    },
    {
     "data": {
      "text/html": [
       "<span style=\"color:cyan\"> |-Trial ID: c345190fe2d805801aa7c853234b2ce7</span>"
      ],
      "text/plain": [
       "<IPython.core.display.HTML object>"
      ]
     },
     "metadata": {},
     "output_type": "display_data"
    },
    {
     "data": {
      "text/html": [
       "<span style=\"color:cyan\"> |-Score: 0.15446634590625763</span>"
      ],
      "text/plain": [
       "<IPython.core.display.HTML object>"
      ]
     },
     "metadata": {},
     "output_type": "display_data"
    },
    {
     "data": {
      "text/html": [
       "<span style=\"color:cyan\"> |-Best step: 0</span>"
      ],
      "text/plain": [
       "<IPython.core.display.HTML object>"
      ]
     },
     "metadata": {},
     "output_type": "display_data"
    },
    {
     "data": {
      "text/html": [
       "<span style=\"color:#7E57C2\"><h2 style=\"font-size:16px\">Hyperparameters:</h2></span>"
      ],
      "text/plain": [
       "<IPython.core.display.HTML object>"
      ]
     },
     "metadata": {},
     "output_type": "display_data"
    },
    {
     "data": {
      "text/html": [
       "<span style=\"color:cyan\"> |-dropout: 0.22318740677269058</span>"
      ],
      "text/plain": [
       "<IPython.core.display.HTML object>"
      ]
     },
     "metadata": {},
     "output_type": "display_data"
    },
    {
     "data": {
      "text/html": [
       "<span style=\"color:blue\"> |-learning_rate: 0.01</span>"
      ],
      "text/plain": [
       "<IPython.core.display.HTML object>"
      ]
     },
     "metadata": {},
     "output_type": "display_data"
    },
    {
     "data": {
      "text/html": [
       "<span style=\"color:cyan\"> |-units: 30</span>"
      ],
      "text/plain": [
       "<IPython.core.display.HTML object>"
      ]
     },
     "metadata": {},
     "output_type": "display_data"
    },
    {
     "data": {
      "text/html": [
       "<span style=\"color:#4527A0\"><h1 style=\"font-size:18px\">Trial complete</h1></span>"
      ],
      "text/plain": [
       "<IPython.core.display.HTML object>"
      ]
     },
     "metadata": {},
     "output_type": "display_data"
    },
    {
     "data": {
      "text/html": [
       "<span style=\"color:#4527A0\"><h1 style=\"font-size:18px\">Trial summary</h1></span>"
      ],
      "text/plain": [
       "<IPython.core.display.HTML object>"
      ]
     },
     "metadata": {},
     "output_type": "display_data"
    },
    {
     "data": {
      "text/html": [
       "<span style=\"color:cyan\"> |-Trial ID: e344448432ff90c1354a9f36f5ad1875</span>"
      ],
      "text/plain": [
       "<IPython.core.display.HTML object>"
      ]
     },
     "metadata": {},
     "output_type": "display_data"
    },
    {
     "data": {
      "text/html": [
       "<span style=\"color:cyan\"> |-Score: 0.197788268327713</span>"
      ],
      "text/plain": [
       "<IPython.core.display.HTML object>"
      ]
     },
     "metadata": {},
     "output_type": "display_data"
    },
    {
     "data": {
      "text/html": [
       "<span style=\"color:cyan\"> |-Best step: 0</span>"
      ],
      "text/plain": [
       "<IPython.core.display.HTML object>"
      ]
     },
     "metadata": {},
     "output_type": "display_data"
    },
    {
     "data": {
      "text/html": [
       "<span style=\"color:#7E57C2\"><h2 style=\"font-size:16px\">Hyperparameters:</h2></span>"
      ],
      "text/plain": [
       "<IPython.core.display.HTML object>"
      ]
     },
     "metadata": {},
     "output_type": "display_data"
    },
    {
     "data": {
      "text/html": [
       "<span style=\"color:cyan\"> |-dropout: 0.3129569981655486</span>"
      ],
      "text/plain": [
       "<IPython.core.display.HTML object>"
      ]
     },
     "metadata": {},
     "output_type": "display_data"
    },
    {
     "data": {
      "text/html": [
       "<span style=\"color:blue\"> |-learning_rate: 0.001</span>"
      ],
      "text/plain": [
       "<IPython.core.display.HTML object>"
      ]
     },
     "metadata": {},
     "output_type": "display_data"
    },
    {
     "data": {
      "text/html": [
       "<span style=\"color:cyan\"> |-units: 40</span>"
      ],
      "text/plain": [
       "<IPython.core.display.HTML object>"
      ]
     },
     "metadata": {},
     "output_type": "display_data"
    },
    {
     "data": {
      "text/html": [
       "<span style=\"color:#4527A0\"><h1 style=\"font-size:18px\">Trial complete</h1></span>"
      ],
      "text/plain": [
       "<IPython.core.display.HTML object>"
      ]
     },
     "metadata": {},
     "output_type": "display_data"
    },
    {
     "data": {
      "text/html": [
       "<span style=\"color:#4527A0\"><h1 style=\"font-size:18px\">Trial summary</h1></span>"
      ],
      "text/plain": [
       "<IPython.core.display.HTML object>"
      ]
     },
     "metadata": {},
     "output_type": "display_data"
    },
    {
     "data": {
      "text/html": [
       "<span style=\"color:cyan\"> |-Trial ID: bd244de42b53d0bf78878f67f837031a</span>"
      ],
      "text/plain": [
       "<IPython.core.display.HTML object>"
      ]
     },
     "metadata": {},
     "output_type": "display_data"
    },
    {
     "data": {
      "text/html": [
       "<span style=\"color:cyan\"> |-Score: 0.6084710359573364</span>"
      ],
      "text/plain": [
       "<IPython.core.display.HTML object>"
      ]
     },
     "metadata": {},
     "output_type": "display_data"
    },
    {
     "data": {
      "text/html": [
       "<span style=\"color:cyan\"> |-Best step: 0</span>"
      ],
      "text/plain": [
       "<IPython.core.display.HTML object>"
      ]
     },
     "metadata": {},
     "output_type": "display_data"
    },
    {
     "data": {
      "text/html": [
       "<span style=\"color:#7E57C2\"><h2 style=\"font-size:16px\">Hyperparameters:</h2></span>"
      ],
      "text/plain": [
       "<IPython.core.display.HTML object>"
      ]
     },
     "metadata": {},
     "output_type": "display_data"
    },
    {
     "data": {
      "text/html": [
       "<span style=\"color:cyan\"> |-dropout: 0.25459294752558015</span>"
      ],
      "text/plain": [
       "<IPython.core.display.HTML object>"
      ]
     },
     "metadata": {},
     "output_type": "display_data"
    },
    {
     "data": {
      "text/html": [
       "<span style=\"color:blue\"> |-learning_rate: 0.0</span>"
      ],
      "text/plain": [
       "<IPython.core.display.HTML object>"
      ]
     },
     "metadata": {},
     "output_type": "display_data"
    },
    {
     "data": {
      "text/html": [
       "<span style=\"color:cyan\"> |-units: 50</span>"
      ],
      "text/plain": [
       "<IPython.core.display.HTML object>"
      ]
     },
     "metadata": {},
     "output_type": "display_data"
    },
    {
     "data": {
      "text/html": [
       "<span style=\"color:#4527A0\"><h1 style=\"font-size:18px\">Trial complete</h1></span>"
      ],
      "text/plain": [
       "<IPython.core.display.HTML object>"
      ]
     },
     "metadata": {},
     "output_type": "display_data"
    },
    {
     "data": {
      "text/html": [
       "<span style=\"color:#4527A0\"><h1 style=\"font-size:18px\">Trial summary</h1></span>"
      ],
      "text/plain": [
       "<IPython.core.display.HTML object>"
      ]
     },
     "metadata": {},
     "output_type": "display_data"
    },
    {
     "data": {
      "text/html": [
       "<span style=\"color:cyan\"> |-Trial ID: c7b266fde629826cb5ac6f41f0161f55</span>"
      ],
      "text/plain": [
       "<IPython.core.display.HTML object>"
      ]
     },
     "metadata": {},
     "output_type": "display_data"
    },
    {
     "data": {
      "text/html": [
       "<span style=\"color:cyan\"> |-Score: 0.4232391119003296</span>"
      ],
      "text/plain": [
       "<IPython.core.display.HTML object>"
      ]
     },
     "metadata": {},
     "output_type": "display_data"
    },
    {
     "data": {
      "text/html": [
       "<span style=\"color:cyan\"> |-Best step: 0</span>"
      ],
      "text/plain": [
       "<IPython.core.display.HTML object>"
      ]
     },
     "metadata": {},
     "output_type": "display_data"
    },
    {
     "data": {
      "text/html": [
       "<span style=\"color:#7E57C2\"><h2 style=\"font-size:16px\">Hyperparameters:</h2></span>"
      ],
      "text/plain": [
       "<IPython.core.display.HTML object>"
      ]
     },
     "metadata": {},
     "output_type": "display_data"
    },
    {
     "data": {
      "text/html": [
       "<span style=\"color:cyan\"> |-dropout: 0.33</span>"
      ],
      "text/plain": [
       "<IPython.core.display.HTML object>"
      ]
     },
     "metadata": {},
     "output_type": "display_data"
    },
    {
     "data": {
      "text/html": [
       "<span style=\"color:blue\"> |-learning_rate: 0.0001</span>"
      ],
      "text/plain": [
       "<IPython.core.display.HTML object>"
      ]
     },
     "metadata": {},
     "output_type": "display_data"
    },
    {
     "data": {
      "text/html": [
       "<span style=\"color:cyan\"> |-units: 30</span>"
      ],
      "text/plain": [
       "<IPython.core.display.HTML object>"
      ]
     },
     "metadata": {},
     "output_type": "display_data"
    },
    {
     "data": {
      "text/html": [
       "<span style=\"color:#4527A0\"><h1 style=\"font-size:18px\">Trial complete</h1></span>"
      ],
      "text/plain": [
       "<IPython.core.display.HTML object>"
      ]
     },
     "metadata": {},
     "output_type": "display_data"
    },
    {
     "data": {
      "text/html": [
       "<span style=\"color:#4527A0\"><h1 style=\"font-size:18px\">Trial summary</h1></span>"
      ],
      "text/plain": [
       "<IPython.core.display.HTML object>"
      ]
     },
     "metadata": {},
     "output_type": "display_data"
    },
    {
     "data": {
      "text/html": [
       "<span style=\"color:cyan\"> |-Trial ID: 829e0bd74dccb6694d3c85667fe1ff56</span>"
      ],
      "text/plain": [
       "<IPython.core.display.HTML object>"
      ]
     },
     "metadata": {},
     "output_type": "display_data"
    },
    {
     "data": {
      "text/html": [
       "<span style=\"color:cyan\"> |-Score: 0.19861416518688202</span>"
      ],
      "text/plain": [
       "<IPython.core.display.HTML object>"
      ]
     },
     "metadata": {},
     "output_type": "display_data"
    },
    {
     "data": {
      "text/html": [
       "<span style=\"color:cyan\"> |-Best step: 0</span>"
      ],
      "text/plain": [
       "<IPython.core.display.HTML object>"
      ]
     },
     "metadata": {},
     "output_type": "display_data"
    },
    {
     "data": {
      "text/html": [
       "<span style=\"color:#7E57C2\"><h2 style=\"font-size:16px\">Hyperparameters:</h2></span>"
      ],
      "text/plain": [
       "<IPython.core.display.HTML object>"
      ]
     },
     "metadata": {},
     "output_type": "display_data"
    },
    {
     "data": {
      "text/html": [
       "<span style=\"color:cyan\"> |-dropout: 0.16026173961253012</span>"
      ],
      "text/plain": [
       "<IPython.core.display.HTML object>"
      ]
     },
     "metadata": {},
     "output_type": "display_data"
    },
    {
     "data": {
      "text/html": [
       "<span style=\"color:blue\"> |-learning_rate: 0.001</span>"
      ],
      "text/plain": [
       "<IPython.core.display.HTML object>"
      ]
     },
     "metadata": {},
     "output_type": "display_data"
    },
    {
     "data": {
      "text/html": [
       "<span style=\"color:cyan\"> |-units: 30</span>"
      ],
      "text/plain": [
       "<IPython.core.display.HTML object>"
      ]
     },
     "metadata": {},
     "output_type": "display_data"
    },
    {
     "data": {
      "text/html": [
       "<span style=\"color:#4527A0\"><h1 style=\"font-size:18px\">Trial complete</h1></span>"
      ],
      "text/plain": [
       "<IPython.core.display.HTML object>"
      ]
     },
     "metadata": {},
     "output_type": "display_data"
    },
    {
     "data": {
      "text/html": [
       "<span style=\"color:#4527A0\"><h1 style=\"font-size:18px\">Trial summary</h1></span>"
      ],
      "text/plain": [
       "<IPython.core.display.HTML object>"
      ]
     },
     "metadata": {},
     "output_type": "display_data"
    },
    {
     "data": {
      "text/html": [
       "<span style=\"color:cyan\"> |-Trial ID: e892614813c2b3834e5b094850890049</span>"
      ],
      "text/plain": [
       "<IPython.core.display.HTML object>"
      ]
     },
     "metadata": {},
     "output_type": "display_data"
    },
    {
     "data": {
      "text/html": [
       "<span style=\"color:cyan\"> |-Score: 0.15245568752288818</span>"
      ],
      "text/plain": [
       "<IPython.core.display.HTML object>"
      ]
     },
     "metadata": {},
     "output_type": "display_data"
    },
    {
     "data": {
      "text/html": [
       "<span style=\"color:cyan\"> |-Best step: 0</span>"
      ],
      "text/plain": [
       "<IPython.core.display.HTML object>"
      ]
     },
     "metadata": {},
     "output_type": "display_data"
    },
    {
     "data": {
      "text/html": [
       "<span style=\"color:#7E57C2\"><h2 style=\"font-size:16px\">Hyperparameters:</h2></span>"
      ],
      "text/plain": [
       "<IPython.core.display.HTML object>"
      ]
     },
     "metadata": {},
     "output_type": "display_data"
    },
    {
     "data": {
      "text/html": [
       "<span style=\"color:cyan\"> |-dropout: 0.11111067751796981</span>"
      ],
      "text/plain": [
       "<IPython.core.display.HTML object>"
      ]
     },
     "metadata": {},
     "output_type": "display_data"
    },
    {
     "data": {
      "text/html": [
       "<span style=\"color:blue\"> |-learning_rate: 0.01</span>"
      ],
      "text/plain": [
       "<IPython.core.display.HTML object>"
      ]
     },
     "metadata": {},
     "output_type": "display_data"
    },
    {
     "data": {
      "text/html": [
       "<span style=\"color:cyan\"> |-units: 30</span>"
      ],
      "text/plain": [
       "<IPython.core.display.HTML object>"
      ]
     },
     "metadata": {},
     "output_type": "display_data"
    },
    {
     "data": {
      "text/html": [
       "<span style=\"color:#4527A0\"><h1 style=\"font-size:18px\">Trial complete</h1></span>"
      ],
      "text/plain": [
       "<IPython.core.display.HTML object>"
      ]
     },
     "metadata": {},
     "output_type": "display_data"
    },
    {
     "data": {
      "text/html": [
       "<span style=\"color:#4527A0\"><h1 style=\"font-size:18px\">Trial summary</h1></span>"
      ],
      "text/plain": [
       "<IPython.core.display.HTML object>"
      ]
     },
     "metadata": {},
     "output_type": "display_data"
    },
    {
     "data": {
      "text/html": [
       "<span style=\"color:cyan\"> |-Trial ID: 17f3e3b4724b408d7ef5432f42d98d3a</span>"
      ],
      "text/plain": [
       "<IPython.core.display.HTML object>"
      ]
     },
     "metadata": {},
     "output_type": "display_data"
    },
    {
     "data": {
      "text/html": [
       "<span style=\"color:cyan\"> |-Score: 0.14421597123146057</span>"
      ],
      "text/plain": [
       "<IPython.core.display.HTML object>"
      ]
     },
     "metadata": {},
     "output_type": "display_data"
    },
    {
     "data": {
      "text/html": [
       "<span style=\"color:cyan\"> |-Best step: 0</span>"
      ],
      "text/plain": [
       "<IPython.core.display.HTML object>"
      ]
     },
     "metadata": {},
     "output_type": "display_data"
    },
    {
     "data": {
      "text/html": [
       "<span style=\"color:#7E57C2\"><h2 style=\"font-size:16px\">Hyperparameters:</h2></span>"
      ],
      "text/plain": [
       "<IPython.core.display.HTML object>"
      ]
     },
     "metadata": {},
     "output_type": "display_data"
    },
    {
     "data": {
      "text/html": [
       "<span style=\"color:cyan\"> |-dropout: 0.0</span>"
      ],
      "text/plain": [
       "<IPython.core.display.HTML object>"
      ]
     },
     "metadata": {},
     "output_type": "display_data"
    },
    {
     "data": {
      "text/html": [
       "<span style=\"color:blue\"> |-learning_rate: 0.01</span>"
      ],
      "text/plain": [
       "<IPython.core.display.HTML object>"
      ]
     },
     "metadata": {},
     "output_type": "display_data"
    },
    {
     "data": {
      "text/html": [
       "<span style=\"color:cyan\"> |-units: 40</span>"
      ],
      "text/plain": [
       "<IPython.core.display.HTML object>"
      ]
     },
     "metadata": {},
     "output_type": "display_data"
    },
    {
     "data": {
      "text/html": [
       "<span style=\"color:#4527A0\"><h1 style=\"font-size:18px\">Trial complete</h1></span>"
      ],
      "text/plain": [
       "<IPython.core.display.HTML object>"
      ]
     },
     "metadata": {},
     "output_type": "display_data"
    },
    {
     "data": {
      "text/html": [
       "<span style=\"color:#4527A0\"><h1 style=\"font-size:18px\">Trial summary</h1></span>"
      ],
      "text/plain": [
       "<IPython.core.display.HTML object>"
      ]
     },
     "metadata": {},
     "output_type": "display_data"
    },
    {
     "data": {
      "text/html": [
       "<span style=\"color:cyan\"> |-Trial ID: 185e002dc083af8c6e31725f4a3ac3dd</span>"
      ],
      "text/plain": [
       "<IPython.core.display.HTML object>"
      ]
     },
     "metadata": {},
     "output_type": "display_data"
    },
    {
     "data": {
      "text/html": [
       "<span style=\"color:cyan\"> |-Score: 0.6107780933380127</span>"
      ],
      "text/plain": [
       "<IPython.core.display.HTML object>"
      ]
     },
     "metadata": {},
     "output_type": "display_data"
    },
    {
     "data": {
      "text/html": [
       "<span style=\"color:cyan\"> |-Best step: 0</span>"
      ],
      "text/plain": [
       "<IPython.core.display.HTML object>"
      ]
     },
     "metadata": {},
     "output_type": "display_data"
    },
    {
     "data": {
      "text/html": [
       "<span style=\"color:#7E57C2\"><h2 style=\"font-size:16px\">Hyperparameters:</h2></span>"
      ],
      "text/plain": [
       "<IPython.core.display.HTML object>"
      ]
     },
     "metadata": {},
     "output_type": "display_data"
    },
    {
     "data": {
      "text/html": [
       "<span style=\"color:cyan\"> |-dropout: 0.0</span>"
      ],
      "text/plain": [
       "<IPython.core.display.HTML object>"
      ]
     },
     "metadata": {},
     "output_type": "display_data"
    },
    {
     "data": {
      "text/html": [
       "<span style=\"color:blue\"> |-learning_rate: 0.0</span>"
      ],
      "text/plain": [
       "<IPython.core.display.HTML object>"
      ]
     },
     "metadata": {},
     "output_type": "display_data"
    },
    {
     "data": {
      "text/html": [
       "<span style=\"color:cyan\"> |-units: 40</span>"
      ],
      "text/plain": [
       "<IPython.core.display.HTML object>"
      ]
     },
     "metadata": {},
     "output_type": "display_data"
    },
    {
     "data": {
      "text/html": [
       "<span style=\"color:#4527A0\"><h1 style=\"font-size:18px\">Trial complete</h1></span>"
      ],
      "text/plain": [
       "<IPython.core.display.HTML object>"
      ]
     },
     "metadata": {},
     "output_type": "display_data"
    },
    {
     "data": {
      "text/html": [
       "<span style=\"color:#4527A0\"><h1 style=\"font-size:18px\">Trial summary</h1></span>"
      ],
      "text/plain": [
       "<IPython.core.display.HTML object>"
      ]
     },
     "metadata": {},
     "output_type": "display_data"
    },
    {
     "data": {
      "text/html": [
       "<span style=\"color:cyan\"> |-Trial ID: deeb0ebb8de500cdc3c52f069570f643</span>"
      ],
      "text/plain": [
       "<IPython.core.display.HTML object>"
      ]
     },
     "metadata": {},
     "output_type": "display_data"
    },
    {
     "data": {
      "text/html": [
       "<span style=\"color:cyan\"> |-Score: 0.20046110451221466</span>"
      ],
      "text/plain": [
       "<IPython.core.display.HTML object>"
      ]
     },
     "metadata": {},
     "output_type": "display_data"
    },
    {
     "data": {
      "text/html": [
       "<span style=\"color:cyan\"> |-Best step: 0</span>"
      ],
      "text/plain": [
       "<IPython.core.display.HTML object>"
      ]
     },
     "metadata": {},
     "output_type": "display_data"
    },
    {
     "data": {
      "text/html": [
       "<span style=\"color:#7E57C2\"><h2 style=\"font-size:16px\">Hyperparameters:</h2></span>"
      ],
      "text/plain": [
       "<IPython.core.display.HTML object>"
      ]
     },
     "metadata": {},
     "output_type": "display_data"
    },
    {
     "data": {
      "text/html": [
       "<span style=\"color:cyan\"> |-dropout: 0.02327290104598051</span>"
      ],
      "text/plain": [
       "<IPython.core.display.HTML object>"
      ]
     },
     "metadata": {},
     "output_type": "display_data"
    },
    {
     "data": {
      "text/html": [
       "<span style=\"color:blue\"> |-learning_rate: 0.001</span>"
      ],
      "text/plain": [
       "<IPython.core.display.HTML object>"
      ]
     },
     "metadata": {},
     "output_type": "display_data"
    },
    {
     "data": {
      "text/html": [
       "<span style=\"color:cyan\"> |-units: 30</span>"
      ],
      "text/plain": [
       "<IPython.core.display.HTML object>"
      ]
     },
     "metadata": {},
     "output_type": "display_data"
    },
    {
     "data": {
      "text/html": [
       "<span style=\"color:#4527A0\"><h1 style=\"font-size:18px\">Trial complete</h1></span>"
      ],
      "text/plain": [
       "<IPython.core.display.HTML object>"
      ]
     },
     "metadata": {},
     "output_type": "display_data"
    },
    {
     "data": {
      "text/html": [
       "<span style=\"color:#4527A0\"><h1 style=\"font-size:18px\">Trial summary</h1></span>"
      ],
      "text/plain": [
       "<IPython.core.display.HTML object>"
      ]
     },
     "metadata": {},
     "output_type": "display_data"
    },
    {
     "data": {
      "text/html": [
       "<span style=\"color:cyan\"> |-Trial ID: 366a3243cb44ee46465871a46d31eb32</span>"
      ],
      "text/plain": [
       "<IPython.core.display.HTML object>"
      ]
     },
     "metadata": {},
     "output_type": "display_data"
    },
    {
     "data": {
      "text/html": [
       "<span style=\"color:cyan\"> |-Score: 0.1875661313533783</span>"
      ],
      "text/plain": [
       "<IPython.core.display.HTML object>"
      ]
     },
     "metadata": {},
     "output_type": "display_data"
    },
    {
     "data": {
      "text/html": [
       "<span style=\"color:cyan\"> |-Best step: 0</span>"
      ],
      "text/plain": [
       "<IPython.core.display.HTML object>"
      ]
     },
     "metadata": {},
     "output_type": "display_data"
    },
    {
     "data": {
      "text/html": [
       "<span style=\"color:#7E57C2\"><h2 style=\"font-size:16px\">Hyperparameters:</h2></span>"
      ],
      "text/plain": [
       "<IPython.core.display.HTML object>"
      ]
     },
     "metadata": {},
     "output_type": "display_data"
    },
    {
     "data": {
      "text/html": [
       "<span style=\"color:cyan\"> |-dropout: 0.0</span>"
      ],
      "text/plain": [
       "<IPython.core.display.HTML object>"
      ]
     },
     "metadata": {},
     "output_type": "display_data"
    },
    {
     "data": {
      "text/html": [
       "<span style=\"color:blue\"> |-learning_rate: 0.001</span>"
      ],
      "text/plain": [
       "<IPython.core.display.HTML object>"
      ]
     },
     "metadata": {},
     "output_type": "display_data"
    },
    {
     "data": {
      "text/html": [
       "<span style=\"color:cyan\"> |-units: 40</span>"
      ],
      "text/plain": [
       "<IPython.core.display.HTML object>"
      ]
     },
     "metadata": {},
     "output_type": "display_data"
    },
    {
     "data": {
      "text/html": [
       "<span style=\"color:#4527A0\"><h1 style=\"font-size:18px\">Trial complete</h1></span>"
      ],
      "text/plain": [
       "<IPython.core.display.HTML object>"
      ]
     },
     "metadata": {},
     "output_type": "display_data"
    },
    {
     "data": {
      "text/html": [
       "<span style=\"color:#4527A0\"><h1 style=\"font-size:18px\">Trial summary</h1></span>"
      ],
      "text/plain": [
       "<IPython.core.display.HTML object>"
      ]
     },
     "metadata": {},
     "output_type": "display_data"
    },
    {
     "data": {
      "text/html": [
       "<span style=\"color:cyan\"> |-Trial ID: 25d8a80e57822ed09e51280f7b1bd4ca</span>"
      ],
      "text/plain": [
       "<IPython.core.display.HTML object>"
      ]
     },
     "metadata": {},
     "output_type": "display_data"
    },
    {
     "data": {
      "text/html": [
       "<span style=\"color:cyan\"> |-Score: 0.14973682165145874</span>"
      ],
      "text/plain": [
       "<IPython.core.display.HTML object>"
      ]
     },
     "metadata": {},
     "output_type": "display_data"
    },
    {
     "data": {
      "text/html": [
       "<span style=\"color:cyan\"> |-Best step: 0</span>"
      ],
      "text/plain": [
       "<IPython.core.display.HTML object>"
      ]
     },
     "metadata": {},
     "output_type": "display_data"
    },
    {
     "data": {
      "text/html": [
       "<span style=\"color:#7E57C2\"><h2 style=\"font-size:16px\">Hyperparameters:</h2></span>"
      ],
      "text/plain": [
       "<IPython.core.display.HTML object>"
      ]
     },
     "metadata": {},
     "output_type": "display_data"
    },
    {
     "data": {
      "text/html": [
       "<span style=\"color:cyan\"> |-dropout: 0.07745906447995668</span>"
      ],
      "text/plain": [
       "<IPython.core.display.HTML object>"
      ]
     },
     "metadata": {},
     "output_type": "display_data"
    },
    {
     "data": {
      "text/html": [
       "<span style=\"color:blue\"> |-learning_rate: 0.01</span>"
      ],
      "text/plain": [
       "<IPython.core.display.HTML object>"
      ]
     },
     "metadata": {},
     "output_type": "display_data"
    },
    {
     "data": {
      "text/html": [
       "<span style=\"color:cyan\"> |-units: 40</span>"
      ],
      "text/plain": [
       "<IPython.core.display.HTML object>"
      ]
     },
     "metadata": {},
     "output_type": "display_data"
    },
    {
     "data": {
      "text/html": [
       "<span style=\"color:#4527A0\"><h1 style=\"font-size:18px\">Trial complete</h1></span>"
      ],
      "text/plain": [
       "<IPython.core.display.HTML object>"
      ]
     },
     "metadata": {},
     "output_type": "display_data"
    },
    {
     "data": {
      "text/html": [
       "<span style=\"color:#4527A0\"><h1 style=\"font-size:18px\">Trial summary</h1></span>"
      ],
      "text/plain": [
       "<IPython.core.display.HTML object>"
      ]
     },
     "metadata": {},
     "output_type": "display_data"
    },
    {
     "data": {
      "text/html": [
       "<span style=\"color:cyan\"> |-Trial ID: 68ff57dc766250b67864cc7aefb701d9</span>"
      ],
      "text/plain": [
       "<IPython.core.display.HTML object>"
      ]
     },
     "metadata": {},
     "output_type": "display_data"
    },
    {
     "data": {
      "text/html": [
       "<span style=\"color:cyan\"> |-Score: 0.14678721129894257</span>"
      ],
      "text/plain": [
       "<IPython.core.display.HTML object>"
      ]
     },
     "metadata": {},
     "output_type": "display_data"
    },
    {
     "data": {
      "text/html": [
       "<span style=\"color:cyan\"> |-Best step: 0</span>"
      ],
      "text/plain": [
       "<IPython.core.display.HTML object>"
      ]
     },
     "metadata": {},
     "output_type": "display_data"
    },
    {
     "data": {
      "text/html": [
       "<span style=\"color:#7E57C2\"><h2 style=\"font-size:16px\">Hyperparameters:</h2></span>"
      ],
      "text/plain": [
       "<IPython.core.display.HTML object>"
      ]
     },
     "metadata": {},
     "output_type": "display_data"
    },
    {
     "data": {
      "text/html": [
       "<span style=\"color:cyan\"> |-dropout: 0.023720383871291918</span>"
      ],
      "text/plain": [
       "<IPython.core.display.HTML object>"
      ]
     },
     "metadata": {},
     "output_type": "display_data"
    },
    {
     "data": {
      "text/html": [
       "<span style=\"color:blue\"> |-learning_rate: 0.01</span>"
      ],
      "text/plain": [
       "<IPython.core.display.HTML object>"
      ]
     },
     "metadata": {},
     "output_type": "display_data"
    },
    {
     "data": {
      "text/html": [
       "<span style=\"color:cyan\"> |-units: 50</span>"
      ],
      "text/plain": [
       "<IPython.core.display.HTML object>"
      ]
     },
     "metadata": {},
     "output_type": "display_data"
    },
    {
     "data": {
      "text/html": [
       "<span style=\"color:#4527A0\"><h1 style=\"font-size:18px\">Trial complete</h1></span>"
      ],
      "text/plain": [
       "<IPython.core.display.HTML object>"
      ]
     },
     "metadata": {},
     "output_type": "display_data"
    },
    {
     "data": {
      "text/html": [
       "<span style=\"color:#4527A0\"><h1 style=\"font-size:18px\">Trial summary</h1></span>"
      ],
      "text/plain": [
       "<IPython.core.display.HTML object>"
      ]
     },
     "metadata": {},
     "output_type": "display_data"
    },
    {
     "data": {
      "text/html": [
       "<span style=\"color:cyan\"> |-Trial ID: 087b9d9c8525104b4b3e346114ce2d2c</span>"
      ],
      "text/plain": [
       "<IPython.core.display.HTML object>"
      ]
     },
     "metadata": {},
     "output_type": "display_data"
    },
    {
     "data": {
      "text/html": [
       "<span style=\"color:cyan\"> |-Score: 0.1870230734348297</span>"
      ],
      "text/plain": [
       "<IPython.core.display.HTML object>"
      ]
     },
     "metadata": {},
     "output_type": "display_data"
    },
    {
     "data": {
      "text/html": [
       "<span style=\"color:cyan\"> |-Best step: 0</span>"
      ],
      "text/plain": [
       "<IPython.core.display.HTML object>"
      ]
     },
     "metadata": {},
     "output_type": "display_data"
    },
    {
     "data": {
      "text/html": [
       "<span style=\"color:#7E57C2\"><h2 style=\"font-size:16px\">Hyperparameters:</h2></span>"
      ],
      "text/plain": [
       "<IPython.core.display.HTML object>"
      ]
     },
     "metadata": {},
     "output_type": "display_data"
    },
    {
     "data": {
      "text/html": [
       "<span style=\"color:cyan\"> |-dropout: 0.09556045265375838</span>"
      ],
      "text/plain": [
       "<IPython.core.display.HTML object>"
      ]
     },
     "metadata": {},
     "output_type": "display_data"
    },
    {
     "data": {
      "text/html": [
       "<span style=\"color:blue\"> |-learning_rate: 0.001</span>"
      ],
      "text/plain": [
       "<IPython.core.display.HTML object>"
      ]
     },
     "metadata": {},
     "output_type": "display_data"
    },
    {
     "data": {
      "text/html": [
       "<span style=\"color:cyan\"> |-units: 50</span>"
      ],
      "text/plain": [
       "<IPython.core.display.HTML object>"
      ]
     },
     "metadata": {},
     "output_type": "display_data"
    },
    {
     "data": {
      "text/html": [
       "<span style=\"color:#4527A0\"><h1 style=\"font-size:18px\">Trial complete</h1></span>"
      ],
      "text/plain": [
       "<IPython.core.display.HTML object>"
      ]
     },
     "metadata": {},
     "output_type": "display_data"
    },
    {
     "data": {
      "text/html": [
       "<span style=\"color:#4527A0\"><h1 style=\"font-size:18px\">Trial summary</h1></span>"
      ],
      "text/plain": [
       "<IPython.core.display.HTML object>"
      ]
     },
     "metadata": {},
     "output_type": "display_data"
    },
    {
     "data": {
      "text/html": [
       "<span style=\"color:cyan\"> |-Trial ID: a466272fe9a1d6c16ba462ad705b29f7</span>"
      ],
      "text/plain": [
       "<IPython.core.display.HTML object>"
      ]
     },
     "metadata": {},
     "output_type": "display_data"
    },
    {
     "data": {
      "text/html": [
       "<span style=\"color:cyan\"> |-Score: 0.5552370548248291</span>"
      ],
      "text/plain": [
       "<IPython.core.display.HTML object>"
      ]
     },
     "metadata": {},
     "output_type": "display_data"
    },
    {
     "data": {
      "text/html": [
       "<span style=\"color:cyan\"> |-Best step: 0</span>"
      ],
      "text/plain": [
       "<IPython.core.display.HTML object>"
      ]
     },
     "metadata": {},
     "output_type": "display_data"
    },
    {
     "data": {
      "text/html": [
       "<span style=\"color:#7E57C2\"><h2 style=\"font-size:16px\">Hyperparameters:</h2></span>"
      ],
      "text/plain": [
       "<IPython.core.display.HTML object>"
      ]
     },
     "metadata": {},
     "output_type": "display_data"
    },
    {
     "data": {
      "text/html": [
       "<span style=\"color:cyan\"> |-dropout: 0.0</span>"
      ],
      "text/plain": [
       "<IPython.core.display.HTML object>"
      ]
     },
     "metadata": {},
     "output_type": "display_data"
    },
    {
     "data": {
      "text/html": [
       "<span style=\"color:blue\"> |-learning_rate: 0.0001</span>"
      ],
      "text/plain": [
       "<IPython.core.display.HTML object>"
      ]
     },
     "metadata": {},
     "output_type": "display_data"
    },
    {
     "data": {
      "text/html": [
       "<span style=\"color:cyan\"> |-units: 10</span>"
      ],
      "text/plain": [
       "<IPython.core.display.HTML object>"
      ]
     },
     "metadata": {},
     "output_type": "display_data"
    },
    {
     "data": {
      "text/html": [
       "<span style=\"color:#4527A0\"><h1 style=\"font-size:18px\">Trial complete</h1></span>"
      ],
      "text/plain": [
       "<IPython.core.display.HTML object>"
      ]
     },
     "metadata": {},
     "output_type": "display_data"
    },
    {
     "data": {
      "text/html": [
       "<span style=\"color:#4527A0\"><h1 style=\"font-size:18px\">Trial summary</h1></span>"
      ],
      "text/plain": [
       "<IPython.core.display.HTML object>"
      ]
     },
     "metadata": {},
     "output_type": "display_data"
    },
    {
     "data": {
      "text/html": [
       "<span style=\"color:cyan\"> |-Trial ID: 6cb7c1113c41553b83cd665eebe073d0</span>"
      ],
      "text/plain": [
       "<IPython.core.display.HTML object>"
      ]
     },
     "metadata": {},
     "output_type": "display_data"
    },
    {
     "data": {
      "text/html": [
       "<span style=\"color:cyan\"> |-Score: 0.35479456186294556</span>"
      ],
      "text/plain": [
       "<IPython.core.display.HTML object>"
      ]
     },
     "metadata": {},
     "output_type": "display_data"
    },
    {
     "data": {
      "text/html": [
       "<span style=\"color:cyan\"> |-Best step: 0</span>"
      ],
      "text/plain": [
       "<IPython.core.display.HTML object>"
      ]
     },
     "metadata": {},
     "output_type": "display_data"
    },
    {
     "data": {
      "text/html": [
       "<span style=\"color:#7E57C2\"><h2 style=\"font-size:16px\">Hyperparameters:</h2></span>"
      ],
      "text/plain": [
       "<IPython.core.display.HTML object>"
      ]
     },
     "metadata": {},
     "output_type": "display_data"
    },
    {
     "data": {
      "text/html": [
       "<span style=\"color:cyan\"> |-dropout: 0.27285172527830603</span>"
      ],
      "text/plain": [
       "<IPython.core.display.HTML object>"
      ]
     },
     "metadata": {},
     "output_type": "display_data"
    },
    {
     "data": {
      "text/html": [
       "<span style=\"color:blue\"> |-learning_rate: 0.0001</span>"
      ],
      "text/plain": [
       "<IPython.core.display.HTML object>"
      ]
     },
     "metadata": {},
     "output_type": "display_data"
    },
    {
     "data": {
      "text/html": [
       "<span style=\"color:cyan\"> |-units: 50</span>"
      ],
      "text/plain": [
       "<IPython.core.display.HTML object>"
      ]
     },
     "metadata": {},
     "output_type": "display_data"
    },
    {
     "data": {
      "text/html": [
       "<span style=\"color:#4527A0\"><h1 style=\"font-size:18px\">Trial complete</h1></span>"
      ],
      "text/plain": [
       "<IPython.core.display.HTML object>"
      ]
     },
     "metadata": {},
     "output_type": "display_data"
    },
    {
     "data": {
      "text/html": [
       "<span style=\"color:#4527A0\"><h1 style=\"font-size:18px\">Trial summary</h1></span>"
      ],
      "text/plain": [
       "<IPython.core.display.HTML object>"
      ]
     },
     "metadata": {},
     "output_type": "display_data"
    },
    {
     "data": {
      "text/html": [
       "<span style=\"color:cyan\"> |-Trial ID: 451bc9d64e445b7ab4093f3b0b0b8cce</span>"
      ],
      "text/plain": [
       "<IPython.core.display.HTML object>"
      ]
     },
     "metadata": {},
     "output_type": "display_data"
    },
    {
     "data": {
      "text/html": [
       "<span style=\"color:cyan\"> |-Score: 0.15464280545711517</span>"
      ],
      "text/plain": [
       "<IPython.core.display.HTML object>"
      ]
     },
     "metadata": {},
     "output_type": "display_data"
    },
    {
     "data": {
      "text/html": [
       "<span style=\"color:cyan\"> |-Best step: 0</span>"
      ],
      "text/plain": [
       "<IPython.core.display.HTML object>"
      ]
     },
     "metadata": {},
     "output_type": "display_data"
    },
    {
     "data": {
      "text/html": [
       "<span style=\"color:#7E57C2\"><h2 style=\"font-size:16px\">Hyperparameters:</h2></span>"
      ],
      "text/plain": [
       "<IPython.core.display.HTML object>"
      ]
     },
     "metadata": {},
     "output_type": "display_data"
    },
    {
     "data": {
      "text/html": [
       "<span style=\"color:cyan\"> |-dropout: 0.17970055614988542</span>"
      ],
      "text/plain": [
       "<IPython.core.display.HTML object>"
      ]
     },
     "metadata": {},
     "output_type": "display_data"
    },
    {
     "data": {
      "text/html": [
       "<span style=\"color:blue\"> |-learning_rate: 0.01</span>"
      ],
      "text/plain": [
       "<IPython.core.display.HTML object>"
      ]
     },
     "metadata": {},
     "output_type": "display_data"
    },
    {
     "data": {
      "text/html": [
       "<span style=\"color:cyan\"> |-units: 40</span>"
      ],
      "text/plain": [
       "<IPython.core.display.HTML object>"
      ]
     },
     "metadata": {},
     "output_type": "display_data"
    },
    {
     "data": {
      "text/html": [
       "<span style=\"color:#4527A0\"><h1 style=\"font-size:18px\">Trial complete</h1></span>"
      ],
      "text/plain": [
       "<IPython.core.display.HTML object>"
      ]
     },
     "metadata": {},
     "output_type": "display_data"
    },
    {
     "data": {
      "text/html": [
       "<span style=\"color:#4527A0\"><h1 style=\"font-size:18px\">Trial summary</h1></span>"
      ],
      "text/plain": [
       "<IPython.core.display.HTML object>"
      ]
     },
     "metadata": {},
     "output_type": "display_data"
    },
    {
     "data": {
      "text/html": [
       "<span style=\"color:cyan\"> |-Trial ID: ab0f8dc95710d9e7f003e2d958d94bcb</span>"
      ],
      "text/plain": [
       "<IPython.core.display.HTML object>"
      ]
     },
     "metadata": {},
     "output_type": "display_data"
    },
    {
     "data": {
      "text/html": [
       "<span style=\"color:cyan\"> |-Score: 0.1800905168056488</span>"
      ],
      "text/plain": [
       "<IPython.core.display.HTML object>"
      ]
     },
     "metadata": {},
     "output_type": "display_data"
    },
    {
     "data": {
      "text/html": [
       "<span style=\"color:cyan\"> |-Best step: 0</span>"
      ],
      "text/plain": [
       "<IPython.core.display.HTML object>"
      ]
     },
     "metadata": {},
     "output_type": "display_data"
    },
    {
     "data": {
      "text/html": [
       "<span style=\"color:#7E57C2\"><h2 style=\"font-size:16px\">Hyperparameters:</h2></span>"
      ],
      "text/plain": [
       "<IPython.core.display.HTML object>"
      ]
     },
     "metadata": {},
     "output_type": "display_data"
    },
    {
     "data": {
      "text/html": [
       "<span style=\"color:cyan\"> |-dropout: 0.0</span>"
      ],
      "text/plain": [
       "<IPython.core.display.HTML object>"
      ]
     },
     "metadata": {},
     "output_type": "display_data"
    },
    {
     "data": {
      "text/html": [
       "<span style=\"color:blue\"> |-learning_rate: 0.001</span>"
      ],
      "text/plain": [
       "<IPython.core.display.HTML object>"
      ]
     },
     "metadata": {},
     "output_type": "display_data"
    },
    {
     "data": {
      "text/html": [
       "<span style=\"color:cyan\"> |-units: 50</span>"
      ],
      "text/plain": [
       "<IPython.core.display.HTML object>"
      ]
     },
     "metadata": {},
     "output_type": "display_data"
    },
    {
     "data": {
      "text/html": [
       "<span style=\"color:#4527A0\"><h1 style=\"font-size:18px\">Trial complete</h1></span>"
      ],
      "text/plain": [
       "<IPython.core.display.HTML object>"
      ]
     },
     "metadata": {},
     "output_type": "display_data"
    },
    {
     "data": {
      "text/html": [
       "<span style=\"color:#4527A0\"><h1 style=\"font-size:18px\">Trial summary</h1></span>"
      ],
      "text/plain": [
       "<IPython.core.display.HTML object>"
      ]
     },
     "metadata": {},
     "output_type": "display_data"
    },
    {
     "data": {
      "text/html": [
       "<span style=\"color:cyan\"> |-Trial ID: d6179095720add4ba29f83616d2d8051</span>"
      ],
      "text/plain": [
       "<IPython.core.display.HTML object>"
      ]
     },
     "metadata": {},
     "output_type": "display_data"
    },
    {
     "data": {
      "text/html": [
       "<span style=\"color:cyan\"> |-Score: 0.5379561185836792</span>"
      ],
      "text/plain": [
       "<IPython.core.display.HTML object>"
      ]
     },
     "metadata": {},
     "output_type": "display_data"
    },
    {
     "data": {
      "text/html": [
       "<span style=\"color:cyan\"> |-Best step: 0</span>"
      ],
      "text/plain": [
       "<IPython.core.display.HTML object>"
      ]
     },
     "metadata": {},
     "output_type": "display_data"
    },
    {
     "data": {
      "text/html": [
       "<span style=\"color:#7E57C2\"><h2 style=\"font-size:16px\">Hyperparameters:</h2></span>"
      ],
      "text/plain": [
       "<IPython.core.display.HTML object>"
      ]
     },
     "metadata": {},
     "output_type": "display_data"
    },
    {
     "data": {
      "text/html": [
       "<span style=\"color:cyan\"> |-dropout: 0.33</span>"
      ],
      "text/plain": [
       "<IPython.core.display.HTML object>"
      ]
     },
     "metadata": {},
     "output_type": "display_data"
    },
    {
     "data": {
      "text/html": [
       "<span style=\"color:blue\"> |-learning_rate: 0.0001</span>"
      ],
      "text/plain": [
       "<IPython.core.display.HTML object>"
      ]
     },
     "metadata": {},
     "output_type": "display_data"
    },
    {
     "data": {
      "text/html": [
       "<span style=\"color:cyan\"> |-units: 10</span>"
      ],
      "text/plain": [
       "<IPython.core.display.HTML object>"
      ]
     },
     "metadata": {},
     "output_type": "display_data"
    },
    {
     "data": {
      "text/html": [
       "<span style=\"color:#4527A0\"><h1 style=\"font-size:18px\">Trial complete</h1></span>"
      ],
      "text/plain": [
       "<IPython.core.display.HTML object>"
      ]
     },
     "metadata": {},
     "output_type": "display_data"
    },
    {
     "data": {
      "text/html": [
       "<span style=\"color:#4527A0\"><h1 style=\"font-size:18px\">Trial summary</h1></span>"
      ],
      "text/plain": [
       "<IPython.core.display.HTML object>"
      ]
     },
     "metadata": {},
     "output_type": "display_data"
    },
    {
     "data": {
      "text/html": [
       "<span style=\"color:cyan\"> |-Trial ID: c4bfcddef45cdf3809ea5ff27919d03c</span>"
      ],
      "text/plain": [
       "<IPython.core.display.HTML object>"
      ]
     },
     "metadata": {},
     "output_type": "display_data"
    },
    {
     "data": {
      "text/html": [
       "<span style=\"color:cyan\"> |-Score: 0.15735965967178345</span>"
      ],
      "text/plain": [
       "<IPython.core.display.HTML object>"
      ]
     },
     "metadata": {},
     "output_type": "display_data"
    },
    {
     "data": {
      "text/html": [
       "<span style=\"color:cyan\"> |-Best step: 0</span>"
      ],
      "text/plain": [
       "<IPython.core.display.HTML object>"
      ]
     },
     "metadata": {},
     "output_type": "display_data"
    },
    {
     "data": {
      "text/html": [
       "<span style=\"color:#7E57C2\"><h2 style=\"font-size:16px\">Hyperparameters:</h2></span>"
      ],
      "text/plain": [
       "<IPython.core.display.HTML object>"
      ]
     },
     "metadata": {},
     "output_type": "display_data"
    },
    {
     "data": {
      "text/html": [
       "<span style=\"color:cyan\"> |-dropout: 0.33</span>"
      ],
      "text/plain": [
       "<IPython.core.display.HTML object>"
      ]
     },
     "metadata": {},
     "output_type": "display_data"
    },
    {
     "data": {
      "text/html": [
       "<span style=\"color:blue\"> |-learning_rate: 0.01</span>"
      ],
      "text/plain": [
       "<IPython.core.display.HTML object>"
      ]
     },
     "metadata": {},
     "output_type": "display_data"
    },
    {
     "data": {
      "text/html": [
       "<span style=\"color:cyan\"> |-units: 30</span>"
      ],
      "text/plain": [
       "<IPython.core.display.HTML object>"
      ]
     },
     "metadata": {},
     "output_type": "display_data"
    },
    {
     "data": {
      "text/html": [
       "<span style=\"color:#4527A0\"><h1 style=\"font-size:18px\">Trial complete</h1></span>"
      ],
      "text/plain": [
       "<IPython.core.display.HTML object>"
      ]
     },
     "metadata": {},
     "output_type": "display_data"
    },
    {
     "data": {
      "text/html": [
       "<span style=\"color:#4527A0\"><h1 style=\"font-size:18px\">Trial summary</h1></span>"
      ],
      "text/plain": [
       "<IPython.core.display.HTML object>"
      ]
     },
     "metadata": {},
     "output_type": "display_data"
    },
    {
     "data": {
      "text/html": [
       "<span style=\"color:cyan\"> |-Trial ID: 82a34a5fb27be2dd98f1811b9cf4186a</span>"
      ],
      "text/plain": [
       "<IPython.core.display.HTML object>"
      ]
     },
     "metadata": {},
     "output_type": "display_data"
    },
    {
     "data": {
      "text/html": [
       "<span style=\"color:cyan\"> |-Score: 0.19245284795761108</span>"
      ],
      "text/plain": [
       "<IPython.core.display.HTML object>"
      ]
     },
     "metadata": {},
     "output_type": "display_data"
    },
    {
     "data": {
      "text/html": [
       "<span style=\"color:cyan\"> |-Best step: 0</span>"
      ],
      "text/plain": [
       "<IPython.core.display.HTML object>"
      ]
     },
     "metadata": {},
     "output_type": "display_data"
    },
    {
     "data": {
      "text/html": [
       "<span style=\"color:#7E57C2\"><h2 style=\"font-size:16px\">Hyperparameters:</h2></span>"
      ],
      "text/plain": [
       "<IPython.core.display.HTML object>"
      ]
     },
     "metadata": {},
     "output_type": "display_data"
    },
    {
     "data": {
      "text/html": [
       "<span style=\"color:cyan\"> |-dropout: 0.2303648618004609</span>"
      ],
      "text/plain": [
       "<IPython.core.display.HTML object>"
      ]
     },
     "metadata": {},
     "output_type": "display_data"
    },
    {
     "data": {
      "text/html": [
       "<span style=\"color:blue\"> |-learning_rate: 0.001</span>"
      ],
      "text/plain": [
       "<IPython.core.display.HTML object>"
      ]
     },
     "metadata": {},
     "output_type": "display_data"
    },
    {
     "data": {
      "text/html": [
       "<span style=\"color:cyan\"> |-units: 40</span>"
      ],
      "text/plain": [
       "<IPython.core.display.HTML object>"
      ]
     },
     "metadata": {},
     "output_type": "display_data"
    },
    {
     "data": {
      "text/html": [
       "<span style=\"color:#4527A0\"><h1 style=\"font-size:18px\">Trial complete</h1></span>"
      ],
      "text/plain": [
       "<IPython.core.display.HTML object>"
      ]
     },
     "metadata": {},
     "output_type": "display_data"
    },
    {
     "data": {
      "text/html": [
       "<span style=\"color:#4527A0\"><h1 style=\"font-size:18px\">Trial summary</h1></span>"
      ],
      "text/plain": [
       "<IPython.core.display.HTML object>"
      ]
     },
     "metadata": {},
     "output_type": "display_data"
    },
    {
     "data": {
      "text/html": [
       "<span style=\"color:cyan\"> |-Trial ID: 5486e1f00b2dcbcf3bff9513641c2039</span>"
      ],
      "text/plain": [
       "<IPython.core.display.HTML object>"
      ]
     },
     "metadata": {},
     "output_type": "display_data"
    },
    {
     "data": {
      "text/html": [
       "<span style=\"color:cyan\"> |-Score: 0.19377264380455017</span>"
      ],
      "text/plain": [
       "<IPython.core.display.HTML object>"
      ]
     },
     "metadata": {},
     "output_type": "display_data"
    },
    {
     "data": {
      "text/html": [
       "<span style=\"color:cyan\"> |-Best step: 0</span>"
      ],
      "text/plain": [
       "<IPython.core.display.HTML object>"
      ]
     },
     "metadata": {},
     "output_type": "display_data"
    },
    {
     "data": {
      "text/html": [
       "<span style=\"color:#7E57C2\"><h2 style=\"font-size:16px\">Hyperparameters:</h2></span>"
      ],
      "text/plain": [
       "<IPython.core.display.HTML object>"
      ]
     },
     "metadata": {},
     "output_type": "display_data"
    },
    {
     "data": {
      "text/html": [
       "<span style=\"color:cyan\"> |-dropout: 0.1219210365911606</span>"
      ],
      "text/plain": [
       "<IPython.core.display.HTML object>"
      ]
     },
     "metadata": {},
     "output_type": "display_data"
    },
    {
     "data": {
      "text/html": [
       "<span style=\"color:blue\"> |-learning_rate: 0.001</span>"
      ],
      "text/plain": [
       "<IPython.core.display.HTML object>"
      ]
     },
     "metadata": {},
     "output_type": "display_data"
    },
    {
     "data": {
      "text/html": [
       "<span style=\"color:cyan\"> |-units: 40</span>"
      ],
      "text/plain": [
       "<IPython.core.display.HTML object>"
      ]
     },
     "metadata": {},
     "output_type": "display_data"
    },
    {
     "data": {
      "text/html": [
       "<span style=\"color:#4527A0\"><h1 style=\"font-size:18px\">Trial complete</h1></span>"
      ],
      "text/plain": [
       "<IPython.core.display.HTML object>"
      ]
     },
     "metadata": {},
     "output_type": "display_data"
    },
    {
     "data": {
      "text/html": [
       "<span style=\"color:#4527A0\"><h1 style=\"font-size:18px\">Trial summary</h1></span>"
      ],
      "text/plain": [
       "<IPython.core.display.HTML object>"
      ]
     },
     "metadata": {},
     "output_type": "display_data"
    },
    {
     "data": {
      "text/html": [
       "<span style=\"color:cyan\"> |-Trial ID: 733b9bb8ca6c56355bc8f0fb1055f570</span>"
      ],
      "text/plain": [
       "<IPython.core.display.HTML object>"
      ]
     },
     "metadata": {},
     "output_type": "display_data"
    },
    {
     "data": {
      "text/html": [
       "<span style=\"color:cyan\"> |-Score: 0.2094520777463913</span>"
      ],
      "text/plain": [
       "<IPython.core.display.HTML object>"
      ]
     },
     "metadata": {},
     "output_type": "display_data"
    },
    {
     "data": {
      "text/html": [
       "<span style=\"color:cyan\"> |-Best step: 0</span>"
      ],
      "text/plain": [
       "<IPython.core.display.HTML object>"
      ]
     },
     "metadata": {},
     "output_type": "display_data"
    },
    {
     "data": {
      "text/html": [
       "<span style=\"color:#7E57C2\"><h2 style=\"font-size:16px\">Hyperparameters:</h2></span>"
      ],
      "text/plain": [
       "<IPython.core.display.HTML object>"
      ]
     },
     "metadata": {},
     "output_type": "display_data"
    },
    {
     "data": {
      "text/html": [
       "<span style=\"color:cyan\"> |-dropout: 0.27771143237111523</span>"
      ],
      "text/plain": [
       "<IPython.core.display.HTML object>"
      ]
     },
     "metadata": {},
     "output_type": "display_data"
    },
    {
     "data": {
      "text/html": [
       "<span style=\"color:blue\"> |-learning_rate: 0.001</span>"
      ],
      "text/plain": [
       "<IPython.core.display.HTML object>"
      ]
     },
     "metadata": {},
     "output_type": "display_data"
    },
    {
     "data": {
      "text/html": [
       "<span style=\"color:cyan\"> |-units: 30</span>"
      ],
      "text/plain": [
       "<IPython.core.display.HTML object>"
      ]
     },
     "metadata": {},
     "output_type": "display_data"
    },
    {
     "data": {
      "text/html": [
       "<span style=\"color:#4527A0\"><h1 style=\"font-size:18px\">Trial complete</h1></span>"
      ],
      "text/plain": [
       "<IPython.core.display.HTML object>"
      ]
     },
     "metadata": {},
     "output_type": "display_data"
    },
    {
     "data": {
      "text/html": [
       "<span style=\"color:#4527A0\"><h1 style=\"font-size:18px\">Trial summary</h1></span>"
      ],
      "text/plain": [
       "<IPython.core.display.HTML object>"
      ]
     },
     "metadata": {},
     "output_type": "display_data"
    },
    {
     "data": {
      "text/html": [
       "<span style=\"color:cyan\"> |-Trial ID: 20afdb656e7e3019069d51eee958ebc5</span>"
      ],
      "text/plain": [
       "<IPython.core.display.HTML object>"
      ]
     },
     "metadata": {},
     "output_type": "display_data"
    },
    {
     "data": {
      "text/html": [
       "<span style=\"color:cyan\"> |-Score: 0.1443777084350586</span>"
      ],
      "text/plain": [
       "<IPython.core.display.HTML object>"
      ]
     },
     "metadata": {},
     "output_type": "display_data"
    },
    {
     "data": {
      "text/html": [
       "<span style=\"color:cyan\"> |-Best step: 0</span>"
      ],
      "text/plain": [
       "<IPython.core.display.HTML object>"
      ]
     },
     "metadata": {},
     "output_type": "display_data"
    },
    {
     "data": {
      "text/html": [
       "<span style=\"color:#7E57C2\"><h2 style=\"font-size:16px\">Hyperparameters:</h2></span>"
      ],
      "text/plain": [
       "<IPython.core.display.HTML object>"
      ]
     },
     "metadata": {},
     "output_type": "display_data"
    },
    {
     "data": {
      "text/html": [
       "<span style=\"color:cyan\"> |-dropout: 0.04031247930108245</span>"
      ],
      "text/plain": [
       "<IPython.core.display.HTML object>"
      ]
     },
     "metadata": {},
     "output_type": "display_data"
    },
    {
     "data": {
      "text/html": [
       "<span style=\"color:blue\"> |-learning_rate: 0.01</span>"
      ],
      "text/plain": [
       "<IPython.core.display.HTML object>"
      ]
     },
     "metadata": {},
     "output_type": "display_data"
    },
    {
     "data": {
      "text/html": [
       "<span style=\"color:cyan\"> |-units: 40</span>"
      ],
      "text/plain": [
       "<IPython.core.display.HTML object>"
      ]
     },
     "metadata": {},
     "output_type": "display_data"
    },
    {
     "data": {
      "text/html": [
       "<span style=\"color:#4527A0\"><h1 style=\"font-size:18px\">Trial complete</h1></span>"
      ],
      "text/plain": [
       "<IPython.core.display.HTML object>"
      ]
     },
     "metadata": {},
     "output_type": "display_data"
    },
    {
     "data": {
      "text/html": [
       "<span style=\"color:#4527A0\"><h1 style=\"font-size:18px\">Trial summary</h1></span>"
      ],
      "text/plain": [
       "<IPython.core.display.HTML object>"
      ]
     },
     "metadata": {},
     "output_type": "display_data"
    },
    {
     "data": {
      "text/html": [
       "<span style=\"color:cyan\"> |-Trial ID: 18d57acc099139d1cd17db0ce969dad0</span>"
      ],
      "text/plain": [
       "<IPython.core.display.HTML object>"
      ]
     },
     "metadata": {},
     "output_type": "display_data"
    },
    {
     "data": {
      "text/html": [
       "<span style=\"color:cyan\"> |-Score: 0.14921492338180542</span>"
      ],
      "text/plain": [
       "<IPython.core.display.HTML object>"
      ]
     },
     "metadata": {},
     "output_type": "display_data"
    },
    {
     "data": {
      "text/html": [
       "<span style=\"color:cyan\"> |-Best step: 0</span>"
      ],
      "text/plain": [
       "<IPython.core.display.HTML object>"
      ]
     },
     "metadata": {},
     "output_type": "display_data"
    },
    {
     "data": {
      "text/html": [
       "<span style=\"color:#7E57C2\"><h2 style=\"font-size:16px\">Hyperparameters:</h2></span>"
      ],
      "text/plain": [
       "<IPython.core.display.HTML object>"
      ]
     },
     "metadata": {},
     "output_type": "display_data"
    },
    {
     "data": {
      "text/html": [
       "<span style=\"color:cyan\"> |-dropout: 0.12164274061887256</span>"
      ],
      "text/plain": [
       "<IPython.core.display.HTML object>"
      ]
     },
     "metadata": {},
     "output_type": "display_data"
    },
    {
     "data": {
      "text/html": [
       "<span style=\"color:blue\"> |-learning_rate: 0.01</span>"
      ],
      "text/plain": [
       "<IPython.core.display.HTML object>"
      ]
     },
     "metadata": {},
     "output_type": "display_data"
    },
    {
     "data": {
      "text/html": [
       "<span style=\"color:cyan\"> |-units: 50</span>"
      ],
      "text/plain": [
       "<IPython.core.display.HTML object>"
      ]
     },
     "metadata": {},
     "output_type": "display_data"
    },
    {
     "data": {
      "text/html": [
       "<span style=\"color:#4527A0\"><h1 style=\"font-size:18px\">Trial complete</h1></span>"
      ],
      "text/plain": [
       "<IPython.core.display.HTML object>"
      ]
     },
     "metadata": {},
     "output_type": "display_data"
    },
    {
     "data": {
      "text/html": [
       "<span style=\"color:#4527A0\"><h1 style=\"font-size:18px\">Trial summary</h1></span>"
      ],
      "text/plain": [
       "<IPython.core.display.HTML object>"
      ]
     },
     "metadata": {},
     "output_type": "display_data"
    },
    {
     "data": {
      "text/html": [
       "<span style=\"color:cyan\"> |-Trial ID: 7b1989a299a3c16067622d7d460b20a2</span>"
      ],
      "text/plain": [
       "<IPython.core.display.HTML object>"
      ]
     },
     "metadata": {},
     "output_type": "display_data"
    },
    {
     "data": {
      "text/html": [
       "<span style=\"color:cyan\"> |-Score: 0.14826907217502594</span>"
      ],
      "text/plain": [
       "<IPython.core.display.HTML object>"
      ]
     },
     "metadata": {},
     "output_type": "display_data"
    },
    {
     "data": {
      "text/html": [
       "<span style=\"color:cyan\"> |-Best step: 0</span>"
      ],
      "text/plain": [
       "<IPython.core.display.HTML object>"
      ]
     },
     "metadata": {},
     "output_type": "display_data"
    },
    {
     "data": {
      "text/html": [
       "<span style=\"color:#7E57C2\"><h2 style=\"font-size:16px\">Hyperparameters:</h2></span>"
      ],
      "text/plain": [
       "<IPython.core.display.HTML object>"
      ]
     },
     "metadata": {},
     "output_type": "display_data"
    },
    {
     "data": {
      "text/html": [
       "<span style=\"color:cyan\"> |-dropout: 0.049283157998767695</span>"
      ],
      "text/plain": [
       "<IPython.core.display.HTML object>"
      ]
     },
     "metadata": {},
     "output_type": "display_data"
    },
    {
     "data": {
      "text/html": [
       "<span style=\"color:blue\"> |-learning_rate: 0.01</span>"
      ],
      "text/plain": [
       "<IPython.core.display.HTML object>"
      ]
     },
     "metadata": {},
     "output_type": "display_data"
    },
    {
     "data": {
      "text/html": [
       "<span style=\"color:cyan\"> |-units: 50</span>"
      ],
      "text/plain": [
       "<IPython.core.display.HTML object>"
      ]
     },
     "metadata": {},
     "output_type": "display_data"
    },
    {
     "data": {
      "text/html": [
       "<span style=\"color:#4527A0\"><h1 style=\"font-size:18px\">Trial complete</h1></span>"
      ],
      "text/plain": [
       "<IPython.core.display.HTML object>"
      ]
     },
     "metadata": {},
     "output_type": "display_data"
    },
    {
     "data": {
      "text/html": [
       "<span style=\"color:#4527A0\"><h1 style=\"font-size:18px\">Trial summary</h1></span>"
      ],
      "text/plain": [
       "<IPython.core.display.HTML object>"
      ]
     },
     "metadata": {},
     "output_type": "display_data"
    },
    {
     "data": {
      "text/html": [
       "<span style=\"color:cyan\"> |-Trial ID: 4b5be4306595b3e19cead753bd97f770</span>"
      ],
      "text/plain": [
       "<IPython.core.display.HTML object>"
      ]
     },
     "metadata": {},
     "output_type": "display_data"
    },
    {
     "data": {
      "text/html": [
       "<span style=\"color:cyan\"> |-Score: 0.18704521656036377</span>"
      ],
      "text/plain": [
       "<IPython.core.display.HTML object>"
      ]
     },
     "metadata": {},
     "output_type": "display_data"
    },
    {
     "data": {
      "text/html": [
       "<span style=\"color:cyan\"> |-Best step: 0</span>"
      ],
      "text/plain": [
       "<IPython.core.display.HTML object>"
      ]
     },
     "metadata": {},
     "output_type": "display_data"
    },
    {
     "data": {
      "text/html": [
       "<span style=\"color:#7E57C2\"><h2 style=\"font-size:16px\">Hyperparameters:</h2></span>"
      ],
      "text/plain": [
       "<IPython.core.display.HTML object>"
      ]
     },
     "metadata": {},
     "output_type": "display_data"
    },
    {
     "data": {
      "text/html": [
       "<span style=\"color:cyan\"> |-dropout: 0.18699265340686722</span>"
      ],
      "text/plain": [
       "<IPython.core.display.HTML object>"
      ]
     },
     "metadata": {},
     "output_type": "display_data"
    },
    {
     "data": {
      "text/html": [
       "<span style=\"color:blue\"> |-learning_rate: 0.001</span>"
      ],
      "text/plain": [
       "<IPython.core.display.HTML object>"
      ]
     },
     "metadata": {},
     "output_type": "display_data"
    },
    {
     "data": {
      "text/html": [
       "<span style=\"color:cyan\"> |-units: 50</span>"
      ],
      "text/plain": [
       "<IPython.core.display.HTML object>"
      ]
     },
     "metadata": {},
     "output_type": "display_data"
    },
    {
     "data": {
      "text/html": [
       "<span style=\"color:#4527A0\"><h1 style=\"font-size:18px\">Trial complete</h1></span>"
      ],
      "text/plain": [
       "<IPython.core.display.HTML object>"
      ]
     },
     "metadata": {},
     "output_type": "display_data"
    },
    {
     "data": {
      "text/html": [
       "<span style=\"color:#4527A0\"><h1 style=\"font-size:18px\">Trial summary</h1></span>"
      ],
      "text/plain": [
       "<IPython.core.display.HTML object>"
      ]
     },
     "metadata": {},
     "output_type": "display_data"
    },
    {
     "data": {
      "text/html": [
       "<span style=\"color:cyan\"> |-Trial ID: bd753adc078f3059e34be8be902870f5</span>"
      ],
      "text/plain": [
       "<IPython.core.display.HTML object>"
      ]
     },
     "metadata": {},
     "output_type": "display_data"
    },
    {
     "data": {
      "text/html": [
       "<span style=\"color:cyan\"> |-Score: 0.1467268019914627</span>"
      ],
      "text/plain": [
       "<IPython.core.display.HTML object>"
      ]
     },
     "metadata": {},
     "output_type": "display_data"
    },
    {
     "data": {
      "text/html": [
       "<span style=\"color:cyan\"> |-Best step: 0</span>"
      ],
      "text/plain": [
       "<IPython.core.display.HTML object>"
      ]
     },
     "metadata": {},
     "output_type": "display_data"
    },
    {
     "data": {
      "text/html": [
       "<span style=\"color:#7E57C2\"><h2 style=\"font-size:16px\">Hyperparameters:</h2></span>"
      ],
      "text/plain": [
       "<IPython.core.display.HTML object>"
      ]
     },
     "metadata": {},
     "output_type": "display_data"
    },
    {
     "data": {
      "text/html": [
       "<span style=\"color:cyan\"> |-dropout: 0.028394763783272072</span>"
      ],
      "text/plain": [
       "<IPython.core.display.HTML object>"
      ]
     },
     "metadata": {},
     "output_type": "display_data"
    },
    {
     "data": {
      "text/html": [
       "<span style=\"color:blue\"> |-learning_rate: 0.01</span>"
      ],
      "text/plain": [
       "<IPython.core.display.HTML object>"
      ]
     },
     "metadata": {},
     "output_type": "display_data"
    },
    {
     "data": {
      "text/html": [
       "<span style=\"color:cyan\"> |-units: 40</span>"
      ],
      "text/plain": [
       "<IPython.core.display.HTML object>"
      ]
     },
     "metadata": {},
     "output_type": "display_data"
    },
    {
     "data": {
      "text/html": [
       "<span style=\"color:#4527A0\"><h1 style=\"font-size:18px\">Trial complete</h1></span>"
      ],
      "text/plain": [
       "<IPython.core.display.HTML object>"
      ]
     },
     "metadata": {},
     "output_type": "display_data"
    },
    {
     "data": {
      "text/html": [
       "<span style=\"color:#4527A0\"><h1 style=\"font-size:18px\">Trial summary</h1></span>"
      ],
      "text/plain": [
       "<IPython.core.display.HTML object>"
      ]
     },
     "metadata": {},
     "output_type": "display_data"
    },
    {
     "data": {
      "text/html": [
       "<span style=\"color:cyan\"> |-Trial ID: 9bfebf5581aa72843e0de1ad125a1e7d</span>"
      ],
      "text/plain": [
       "<IPython.core.display.HTML object>"
      ]
     },
     "metadata": {},
     "output_type": "display_data"
    },
    {
     "data": {
      "text/html": [
       "<span style=\"color:cyan\"> |-Score: 0.1487698256969452</span>"
      ],
      "text/plain": [
       "<IPython.core.display.HTML object>"
      ]
     },
     "metadata": {},
     "output_type": "display_data"
    },
    {
     "data": {
      "text/html": [
       "<span style=\"color:cyan\"> |-Best step: 0</span>"
      ],
      "text/plain": [
       "<IPython.core.display.HTML object>"
      ]
     },
     "metadata": {},
     "output_type": "display_data"
    },
    {
     "data": {
      "text/html": [
       "<span style=\"color:#7E57C2\"><h2 style=\"font-size:16px\">Hyperparameters:</h2></span>"
      ],
      "text/plain": [
       "<IPython.core.display.HTML object>"
      ]
     },
     "metadata": {},
     "output_type": "display_data"
    },
    {
     "data": {
      "text/html": [
       "<span style=\"color:cyan\"> |-dropout: 0.0</span>"
      ],
      "text/plain": [
       "<IPython.core.display.HTML object>"
      ]
     },
     "metadata": {},
     "output_type": "display_data"
    },
    {
     "data": {
      "text/html": [
       "<span style=\"color:blue\"> |-learning_rate: 0.01</span>"
      ],
      "text/plain": [
       "<IPython.core.display.HTML object>"
      ]
     },
     "metadata": {},
     "output_type": "display_data"
    },
    {
     "data": {
      "text/html": [
       "<span style=\"color:cyan\"> |-units: 30</span>"
      ],
      "text/plain": [
       "<IPython.core.display.HTML object>"
      ]
     },
     "metadata": {},
     "output_type": "display_data"
    },
    {
     "data": {
      "text/html": [
       "<span style=\"color:#4527A0\"><h1 style=\"font-size:18px\">Trial complete</h1></span>"
      ],
      "text/plain": [
       "<IPython.core.display.HTML object>"
      ]
     },
     "metadata": {},
     "output_type": "display_data"
    },
    {
     "data": {
      "text/html": [
       "<span style=\"color:#4527A0\"><h1 style=\"font-size:18px\">Trial summary</h1></span>"
      ],
      "text/plain": [
       "<IPython.core.display.HTML object>"
      ]
     },
     "metadata": {},
     "output_type": "display_data"
    },
    {
     "data": {
      "text/html": [
       "<span style=\"color:cyan\"> |-Trial ID: 7168695d4381275b758fb47190c41e82</span>"
      ],
      "text/plain": [
       "<IPython.core.display.HTML object>"
      ]
     },
     "metadata": {},
     "output_type": "display_data"
    },
    {
     "data": {
      "text/html": [
       "<span style=\"color:cyan\"> |-Score: 0.14962732791900635</span>"
      ],
      "text/plain": [
       "<IPython.core.display.HTML object>"
      ]
     },
     "metadata": {},
     "output_type": "display_data"
    },
    {
     "data": {
      "text/html": [
       "<span style=\"color:cyan\"> |-Best step: 0</span>"
      ],
      "text/plain": [
       "<IPython.core.display.HTML object>"
      ]
     },
     "metadata": {},
     "output_type": "display_data"
    },
    {
     "data": {
      "text/html": [
       "<span style=\"color:#7E57C2\"><h2 style=\"font-size:16px\">Hyperparameters:</h2></span>"
      ],
      "text/plain": [
       "<IPython.core.display.HTML object>"
      ]
     },
     "metadata": {},
     "output_type": "display_data"
    },
    {
     "data": {
      "text/html": [
       "<span style=\"color:cyan\"> |-dropout: 0.046529852570346954</span>"
      ],
      "text/plain": [
       "<IPython.core.display.HTML object>"
      ]
     },
     "metadata": {},
     "output_type": "display_data"
    },
    {
     "data": {
      "text/html": [
       "<span style=\"color:blue\"> |-learning_rate: 0.01</span>"
      ],
      "text/plain": [
       "<IPython.core.display.HTML object>"
      ]
     },
     "metadata": {},
     "output_type": "display_data"
    },
    {
     "data": {
      "text/html": [
       "<span style=\"color:cyan\"> |-units: 30</span>"
      ],
      "text/plain": [
       "<IPython.core.display.HTML object>"
      ]
     },
     "metadata": {},
     "output_type": "display_data"
    },
    {
     "data": {
      "text/html": [
       "<span style=\"color:#4527A0\"><h1 style=\"font-size:18px\">Trial complete</h1></span>"
      ],
      "text/plain": [
       "<IPython.core.display.HTML object>"
      ]
     },
     "metadata": {},
     "output_type": "display_data"
    },
    {
     "data": {
      "text/html": [
       "<span style=\"color:#4527A0\"><h1 style=\"font-size:18px\">Trial summary</h1></span>"
      ],
      "text/plain": [
       "<IPython.core.display.HTML object>"
      ]
     },
     "metadata": {},
     "output_type": "display_data"
    },
    {
     "data": {
      "text/html": [
       "<span style=\"color:cyan\"> |-Trial ID: 61ef28e8bf0c6988962edbde35726c95</span>"
      ],
      "text/plain": [
       "<IPython.core.display.HTML object>"
      ]
     },
     "metadata": {},
     "output_type": "display_data"
    },
    {
     "data": {
      "text/html": [
       "<span style=\"color:cyan\"> |-Score: 0.14573660492897034</span>"
      ],
      "text/plain": [
       "<IPython.core.display.HTML object>"
      ]
     },
     "metadata": {},
     "output_type": "display_data"
    },
    {
     "data": {
      "text/html": [
       "<span style=\"color:cyan\"> |-Best step: 0</span>"
      ],
      "text/plain": [
       "<IPython.core.display.HTML object>"
      ]
     },
     "metadata": {},
     "output_type": "display_data"
    },
    {
     "data": {
      "text/html": [
       "<span style=\"color:#7E57C2\"><h2 style=\"font-size:16px\">Hyperparameters:</h2></span>"
      ],
      "text/plain": [
       "<IPython.core.display.HTML object>"
      ]
     },
     "metadata": {},
     "output_type": "display_data"
    },
    {
     "data": {
      "text/html": [
       "<span style=\"color:cyan\"> |-dropout: 0.0</span>"
      ],
      "text/plain": [
       "<IPython.core.display.HTML object>"
      ]
     },
     "metadata": {},
     "output_type": "display_data"
    },
    {
     "data": {
      "text/html": [
       "<span style=\"color:blue\"> |-learning_rate: 0.01</span>"
      ],
      "text/plain": [
       "<IPython.core.display.HTML object>"
      ]
     },
     "metadata": {},
     "output_type": "display_data"
    },
    {
     "data": {
      "text/html": [
       "<span style=\"color:cyan\"> |-units: 30</span>"
      ],
      "text/plain": [
       "<IPython.core.display.HTML object>"
      ]
     },
     "metadata": {},
     "output_type": "display_data"
    },
    {
     "data": {
      "text/html": [
       "<span style=\"color:#4527A0\"><h1 style=\"font-size:18px\">Trial complete</h1></span>"
      ],
      "text/plain": [
       "<IPython.core.display.HTML object>"
      ]
     },
     "metadata": {},
     "output_type": "display_data"
    },
    {
     "data": {
      "text/html": [
       "<span style=\"color:#4527A0\"><h1 style=\"font-size:18px\">Trial summary</h1></span>"
      ],
      "text/plain": [
       "<IPython.core.display.HTML object>"
      ]
     },
     "metadata": {},
     "output_type": "display_data"
    },
    {
     "data": {
      "text/html": [
       "<span style=\"color:cyan\"> |-Trial ID: 8075883afabeedb08ae4e2ebc4771254</span>"
      ],
      "text/plain": [
       "<IPython.core.display.HTML object>"
      ]
     },
     "metadata": {},
     "output_type": "display_data"
    },
    {
     "data": {
      "text/html": [
       "<span style=\"color:cyan\"> |-Score: 0.14633476734161377</span>"
      ],
      "text/plain": [
       "<IPython.core.display.HTML object>"
      ]
     },
     "metadata": {},
     "output_type": "display_data"
    },
    {
     "data": {
      "text/html": [
       "<span style=\"color:cyan\"> |-Best step: 0</span>"
      ],
      "text/plain": [
       "<IPython.core.display.HTML object>"
      ]
     },
     "metadata": {},
     "output_type": "display_data"
    },
    {
     "data": {
      "text/html": [
       "<span style=\"color:#7E57C2\"><h2 style=\"font-size:16px\">Hyperparameters:</h2></span>"
      ],
      "text/plain": [
       "<IPython.core.display.HTML object>"
      ]
     },
     "metadata": {},
     "output_type": "display_data"
    },
    {
     "data": {
      "text/html": [
       "<span style=\"color:cyan\"> |-dropout: 0.0</span>"
      ],
      "text/plain": [
       "<IPython.core.display.HTML object>"
      ]
     },
     "metadata": {},
     "output_type": "display_data"
    },
    {
     "data": {
      "text/html": [
       "<span style=\"color:blue\"> |-learning_rate: 0.01</span>"
      ],
      "text/plain": [
       "<IPython.core.display.HTML object>"
      ]
     },
     "metadata": {},
     "output_type": "display_data"
    },
    {
     "data": {
      "text/html": [
       "<span style=\"color:cyan\"> |-units: 30</span>"
      ],
      "text/plain": [
       "<IPython.core.display.HTML object>"
      ]
     },
     "metadata": {},
     "output_type": "display_data"
    },
    {
     "data": {
      "text/html": [
       "<span style=\"color:#4527A0\"><h1 style=\"font-size:18px\">Trial complete</h1></span>"
      ],
      "text/plain": [
       "<IPython.core.display.HTML object>"
      ]
     },
     "metadata": {},
     "output_type": "display_data"
    },
    {
     "data": {
      "text/html": [
       "<span style=\"color:#4527A0\"><h1 style=\"font-size:18px\">Trial summary</h1></span>"
      ],
      "text/plain": [
       "<IPython.core.display.HTML object>"
      ]
     },
     "metadata": {},
     "output_type": "display_data"
    },
    {
     "data": {
      "text/html": [
       "<span style=\"color:cyan\"> |-Trial ID: b01fefe33f0c8e592b57c15cc1a5a78f</span>"
      ],
      "text/plain": [
       "<IPython.core.display.HTML object>"
      ]
     },
     "metadata": {},
     "output_type": "display_data"
    },
    {
     "data": {
      "text/html": [
       "<span style=\"color:cyan\"> |-Score: 0.1463727056980133</span>"
      ],
      "text/plain": [
       "<IPython.core.display.HTML object>"
      ]
     },
     "metadata": {},
     "output_type": "display_data"
    },
    {
     "data": {
      "text/html": [
       "<span style=\"color:cyan\"> |-Best step: 0</span>"
      ],
      "text/plain": [
       "<IPython.core.display.HTML object>"
      ]
     },
     "metadata": {},
     "output_type": "display_data"
    },
    {
     "data": {
      "text/html": [
       "<span style=\"color:#7E57C2\"><h2 style=\"font-size:16px\">Hyperparameters:</h2></span>"
      ],
      "text/plain": [
       "<IPython.core.display.HTML object>"
      ]
     },
     "metadata": {},
     "output_type": "display_data"
    },
    {
     "data": {
      "text/html": [
       "<span style=\"color:cyan\"> |-dropout: 0.0</span>"
      ],
      "text/plain": [
       "<IPython.core.display.HTML object>"
      ]
     },
     "metadata": {},
     "output_type": "display_data"
    },
    {
     "data": {
      "text/html": [
       "<span style=\"color:blue\"> |-learning_rate: 0.01</span>"
      ],
      "text/plain": [
       "<IPython.core.display.HTML object>"
      ]
     },
     "metadata": {},
     "output_type": "display_data"
    },
    {
     "data": {
      "text/html": [
       "<span style=\"color:cyan\"> |-units: 30</span>"
      ],
      "text/plain": [
       "<IPython.core.display.HTML object>"
      ]
     },
     "metadata": {},
     "output_type": "display_data"
    },
    {
     "name": "stdout",
     "output_type": "stream",
     "text": [
      "INFO:tensorflow:Oracle triggered exit\n",
      "Train on 250 samples, validate on 108 samples\n",
      "Epoch 1/100\n",
      "250/250 [==============================] - 1s 4ms/sample - loss: 0.0792 - mean_absolute_error: 0.0792 - rmse: 0.1166 - val_loss: 0.1451 - val_mean_absolute_error: 0.1451 - val_rmse: 0.1829\n",
      "Epoch 2/100\n",
      "250/250 [==============================] - 0s 66us/sample - loss: 0.0797 - mean_absolute_error: 0.0797 - rmse: 0.1147 - val_loss: 0.1446 - val_mean_absolute_error: 0.1446 - val_rmse: 0.1854\n",
      "Epoch 3/100\n",
      "250/250 [==============================] - 0s 63us/sample - loss: 0.0800 - mean_absolute_error: 0.0800 - rmse: 0.1178 - val_loss: 0.1448 - val_mean_absolute_error: 0.1448 - val_rmse: 0.1823\n",
      "Epoch 4/100\n",
      "250/250 [==============================] - 0s 69us/sample - loss: 0.0791 - mean_absolute_error: 0.0791 - rmse: 0.1142 - val_loss: 0.1423 - val_mean_absolute_error: 0.1423 - val_rmse: 0.1817\n",
      "Epoch 5/100\n",
      "250/250 [==============================] - 0s 80us/sample - loss: 0.0781 - mean_absolute_error: 0.0781 - rmse: 0.1153 - val_loss: 0.1440 - val_mean_absolute_error: 0.1440 - val_rmse: 0.1835\n",
      "Epoch 6/100\n",
      "250/250 [==============================] - 0s 63us/sample - loss: 0.0780 - mean_absolute_error: 0.0780 - rmse: 0.1148 - val_loss: 0.1433 - val_mean_absolute_error: 0.1433 - val_rmse: 0.1815\n",
      "Epoch 7/100\n",
      "250/250 [==============================] - 0s 62us/sample - loss: 0.0779 - mean_absolute_error: 0.0779 - rmse: 0.1137 - val_loss: 0.1419 - val_mean_absolute_error: 0.1419 - val_rmse: 0.1827\n",
      "Epoch 8/100\n",
      "250/250 [==============================] - 0s 56us/sample - loss: 0.0788 - mean_absolute_error: 0.0788 - rmse: 0.1163 - val_loss: 0.1462 - val_mean_absolute_error: 0.1462 - val_rmse: 0.1843\n",
      "Epoch 9/100\n",
      "250/250 [==============================] - 0s 60us/sample - loss: 0.0797 - mean_absolute_error: 0.0797 - rmse: 0.1139 - val_loss: 0.1420 - val_mean_absolute_error: 0.1420 - val_rmse: 0.1828\n",
      "Epoch 10/100\n",
      "250/250 [==============================] - 0s 59us/sample - loss: 0.0787 - mean_absolute_error: 0.0787 - rmse: 0.1164 - val_loss: 0.1421 - val_mean_absolute_error: 0.1421 - val_rmse: 0.1800\n",
      "Epoch 11/100\n",
      "250/250 [==============================] - 0s 69us/sample - loss: 0.0778 - mean_absolute_error: 0.0778 - rmse: 0.1133 - val_loss: 0.1434 - val_mean_absolute_error: 0.1434 - val_rmse: 0.1830\n",
      "Epoch 12/100\n",
      "250/250 [==============================] - 0s 80us/sample - loss: 0.0770 - mean_absolute_error: 0.0770 - rmse: 0.1136 - val_loss: 0.1415 - val_mean_absolute_error: 0.1415 - val_rmse: 0.1817\n",
      "Epoch 13/100\n",
      "250/250 [==============================] - 0s 87us/sample - loss: 0.0772 - mean_absolute_error: 0.0772 - rmse: 0.1145 - val_loss: 0.1428 - val_mean_absolute_error: 0.1428 - val_rmse: 0.1802\n",
      "Epoch 14/100\n",
      "250/250 [==============================] - 0s 75us/sample - loss: 0.0783 - mean_absolute_error: 0.0783 - rmse: 0.1130 - val_loss: 0.1423 - val_mean_absolute_error: 0.1423 - val_rmse: 0.1838\n",
      "Epoch 15/100\n",
      "250/250 [==============================] - 0s 67us/sample - loss: 0.0787 - mean_absolute_error: 0.0787 - rmse: 0.1166 - val_loss: 0.1445 - val_mean_absolute_error: 0.1445 - val_rmse: 0.1820\n",
      "Epoch 16/100\n",
      "250/250 [==============================] - 0s 62us/sample - loss: 0.0784 - mean_absolute_error: 0.0784 - rmse: 0.1125 - val_loss: 0.1399 - val_mean_absolute_error: 0.1399 - val_rmse: 0.1796\n",
      "Epoch 17/100\n",
      "250/250 [==============================] - 0s 64us/sample - loss: 0.0768 - mean_absolute_error: 0.0768 - rmse: 0.1137 - val_loss: 0.1413 - val_mean_absolute_error: 0.1413 - val_rmse: 0.1809\n",
      "Epoch 18/100\n",
      "250/250 [==============================] - 0s 77us/sample - loss: 0.0762 - mean_absolute_error: 0.0762 - rmse: 0.1132 - val_loss: 0.1425 - val_mean_absolute_error: 0.1425 - val_rmse: 0.1803\n",
      "Epoch 19/100\n",
      "250/250 [==============================] - 0s 61us/sample - loss: 0.0767 - mean_absolute_error: 0.0767 - rmse: 0.1119 - val_loss: 0.1403 - val_mean_absolute_error: 0.1403 - val_rmse: 0.1813\n",
      "Epoch 20/100\n",
      "250/250 [==============================] - 0s 67us/sample - loss: 0.0778 - mean_absolute_error: 0.0778 - rmse: 0.1149 - val_loss: 0.1439 - val_mean_absolute_error: 0.1439 - val_rmse: 0.1819\n",
      "Epoch 21/100\n",
      "250/250 [==============================] - 0s 68us/sample - loss: 0.0779 - mean_absolute_error: 0.0779 - rmse: 0.1121 - val_loss: 0.1411 - val_mean_absolute_error: 0.1411 - val_rmse: 0.1823\n",
      "Epoch 22/100\n",
      "250/250 [==============================] - 0s 72us/sample - loss: 0.0767 - mean_absolute_error: 0.0767 - rmse: 0.1144 - val_loss: 0.1404 - val_mean_absolute_error: 0.1404 - val_rmse: 0.1789\n",
      "Epoch 23/100\n",
      "250/250 [==============================] - 0s 58us/sample - loss: 0.0758 - mean_absolute_error: 0.0758 - rmse: 0.1116 - val_loss: 0.1415 - val_mean_absolute_error: 0.1415 - val_rmse: 0.1802\n",
      "Epoch 24/100\n",
      "250/250 [==============================] - 0s 63us/sample - loss: 0.0756 - mean_absolute_error: 0.0756 - rmse: 0.1114 - val_loss: 0.1399 - val_mean_absolute_error: 0.1399 - val_rmse: 0.1806\n",
      "Epoch 25/100\n",
      "250/250 [==============================] - 0s 62us/sample - loss: 0.0763 - mean_absolute_error: 0.0763 - rmse: 0.1139 - val_loss: 0.1423 - val_mean_absolute_error: 0.1423 - val_rmse: 0.1796\n",
      "Epoch 26/100\n",
      "250/250 [==============================] - 0s 61us/sample - loss: 0.0770 - mean_absolute_error: 0.0770 - rmse: 0.1115 - val_loss: 0.1405 - val_mean_absolute_error: 0.1405 - val_rmse: 0.1816\n",
      "Epoch 27/100\n",
      "250/250 [==============================] - 0s 60us/sample - loss: 0.0765 - mean_absolute_error: 0.0765 - rmse: 0.1137 - val_loss: 0.1415 - val_mean_absolute_error: 0.1415 - val_rmse: 0.1805\n",
      "Epoch 28/100\n",
      "250/250 [==============================] - 0s 72us/sample - loss: 0.0752 - mean_absolute_error: 0.0752 - rmse: 0.1111 - val_loss: 0.1397 - val_mean_absolute_error: 0.1397 - val_rmse: 0.1787\n",
      "Epoch 29/100\n",
      "250/250 [==============================] - 0s 63us/sample - loss: 0.0751 - mean_absolute_error: 0.0751 - rmse: 0.1115 - val_loss: 0.1404 - val_mean_absolute_error: 0.1404 - val_rmse: 0.1805\n",
      "Epoch 30/100\n",
      "250/250 [==============================] - 0s 130us/sample - loss: 0.0751 - mean_absolute_error: 0.0751 - rmse: 0.1119 - val_loss: 0.1410 - val_mean_absolute_error: 0.1410 - val_rmse: 0.1794\n",
      "Epoch 31/100\n",
      "250/250 [==============================] - 0s 90us/sample - loss: 0.0752 - mean_absolute_error: 0.0752 - rmse: 0.1105 - val_loss: 0.1383 - val_mean_absolute_error: 0.1383 - val_rmse: 0.1789\n",
      "Epoch 32/100\n",
      "250/250 [==============================] - 0s 96us/sample - loss: 0.0754 - mean_absolute_error: 0.0754 - rmse: 0.1127 - val_loss: 0.1421 - val_mean_absolute_error: 0.1421 - val_rmse: 0.1810\n",
      "Epoch 33/100\n",
      "250/250 [==============================] - 0s 64us/sample - loss: 0.0756 - mean_absolute_error: 0.0756 - rmse: 0.1107 - val_loss: 0.1394 - val_mean_absolute_error: 0.1394 - val_rmse: 0.1804\n",
      "Epoch 34/100\n",
      "250/250 [==============================] - 0s 71us/sample - loss: 0.0754 - mean_absolute_error: 0.0754 - rmse: 0.1126 - val_loss: 0.1408 - val_mean_absolute_error: 0.1408 - val_rmse: 0.1784\n",
      "Epoch 35/100\n",
      "250/250 [==============================] - 0s 64us/sample - loss: 0.0754 - mean_absolute_error: 0.0754 - rmse: 0.1105 - val_loss: 0.1399 - val_mean_absolute_error: 0.1399 - val_rmse: 0.1803\n",
      "Epoch 36/100\n",
      "250/250 [==============================] - 0s 65us/sample - loss: 0.0749 - mean_absolute_error: 0.0749 - rmse: 0.1121 - val_loss: 0.1400 - val_mean_absolute_error: 0.1400 - val_rmse: 0.1784\n",
      "Epoch 37/100\n",
      "250/250 [==============================] - 0s 58us/sample - loss: 0.0741 - mean_absolute_error: 0.0741 - rmse: 0.1099 - val_loss: 0.1391 - val_mean_absolute_error: 0.1391 - val_rmse: 0.1780\n",
      "Epoch 38/100\n",
      "250/250 [==============================] - 0s 61us/sample - loss: 0.0740 - mean_absolute_error: 0.0740 - rmse: 0.1101 - val_loss: 0.1396 - val_mean_absolute_error: 0.1396 - val_rmse: 0.1800\n",
      "Epoch 39/100\n",
      "250/250 [==============================] - 0s 69us/sample - loss: 0.0742 - mean_absolute_error: 0.0742 - rmse: 0.1113 - val_loss: 0.1397 - val_mean_absolute_error: 0.1397 - val_rmse: 0.1780\n",
      "Epoch 40/100\n",
      "250/250 [==============================] - 0s 68us/sample - loss: 0.0746 - mean_absolute_error: 0.0746 - rmse: 0.1099 - val_loss: 0.1402 - val_mean_absolute_error: 0.1402 - val_rmse: 0.1811\n",
      "Epoch 41/100\n",
      "250/250 [==============================] - 0s 68us/sample - loss: 0.0742 - mean_absolute_error: 0.0742 - rmse: 0.1113 - val_loss: 0.1406 - val_mean_absolute_error: 0.1406 - val_rmse: 0.1793\n",
      "Epoch 42/100\n",
      "250/250 [==============================] - 0s 60us/sample - loss: 0.0743 - mean_absolute_error: 0.0743 - rmse: 0.1095 - val_loss: 0.1378 - val_mean_absolute_error: 0.1378 - val_rmse: 0.1792\n",
      "Epoch 43/100\n",
      "250/250 [==============================] - 0s 94us/sample - loss: 0.0754 - mean_absolute_error: 0.0754 - rmse: 0.1125 - val_loss: 0.1436 - val_mean_absolute_error: 0.1436 - val_rmse: 0.1814\n",
      "Epoch 44/100\n",
      "250/250 [==============================] - 0s 62us/sample - loss: 0.0765 - mean_absolute_error: 0.0765 - rmse: 0.1101 - val_loss: 0.1402 - val_mean_absolute_error: 0.1402 - val_rmse: 0.1818\n",
      "Epoch 45/100\n",
      "250/250 [==============================] - 0s 56us/sample - loss: 0.0754 - mean_absolute_error: 0.0754 - rmse: 0.1128 - val_loss: 0.1404 - val_mean_absolute_error: 0.1404 - val_rmse: 0.1781\n",
      "Epoch 46/100\n",
      "250/250 [==============================] - 0s 68us/sample - loss: 0.0743 - mean_absolute_error: 0.0743 - rmse: 0.1092 - val_loss: 0.1404 - val_mean_absolute_error: 0.1404 - val_rmse: 0.1802\n",
      "Epoch 47/100\n",
      "250/250 [==============================] - 0s 55us/sample - loss: 0.0734 - mean_absolute_error: 0.0734 - rmse: 0.1097 - val_loss: 0.1396 - val_mean_absolute_error: 0.1396 - val_rmse: 0.1802\n",
      "Epoch 48/100\n",
      "250/250 [==============================] - 0s 62us/sample - loss: 0.0735 - mean_absolute_error: 0.0735 - rmse: 0.1105 - val_loss: 0.1420 - val_mean_absolute_error: 0.1420 - val_rmse: 0.1791\n",
      "Epoch 49/100\n",
      "250/250 [==============================] - 0s 63us/sample - loss: 0.0755 - mean_absolute_error: 0.0755 - rmse: 0.1093 - val_loss: 0.1396 - val_mean_absolute_error: 0.1396 - val_rmse: 0.1811\n",
      "Epoch 50/100\n",
      "250/250 [==============================] - 0s 69us/sample - loss: 0.0756 - mean_absolute_error: 0.0756 - rmse: 0.1131 - val_loss: 0.1422 - val_mean_absolute_error: 0.1422 - val_rmse: 0.1803\n",
      "Epoch 51/100\n",
      "250/250 [==============================] - 0s 61us/sample - loss: 0.0747 - mean_absolute_error: 0.0747 - rmse: 0.1088 - val_loss: 0.1390 - val_mean_absolute_error: 0.1390 - val_rmse: 0.1794\n",
      "Epoch 52/100\n",
      "250/250 [==============================] - 0s 64us/sample - loss: 0.0733 - mean_absolute_error: 0.0733 - rmse: 0.1100 - val_loss: 0.1391 - val_mean_absolute_error: 0.1391 - val_rmse: 0.1787\n",
      "Epoch 53/100\n",
      "250/250 [==============================] - 0s 59us/sample - loss: 0.0725 - mean_absolute_error: 0.0725 - rmse: 0.1091 - val_loss: 0.1403 - val_mean_absolute_error: 0.1403 - val_rmse: 0.1782\n",
      "Epoch 54/100\n",
      "250/250 [==============================] - 0s 63us/sample - loss: 0.0734 - mean_absolute_error: 0.0734 - rmse: 0.1086 - val_loss: 0.1381 - val_mean_absolute_error: 0.1381 - val_rmse: 0.1790\n",
      "Epoch 55/100\n",
      "250/250 [==============================] - 0s 55us/sample - loss: 0.0738 - mean_absolute_error: 0.0738 - rmse: 0.1110 - val_loss: 0.1416 - val_mean_absolute_error: 0.1416 - val_rmse: 0.1801\n",
      "Epoch 56/100\n",
      "250/250 [==============================] - 0s 64us/sample - loss: 0.0739 - mean_absolute_error: 0.0739 - rmse: 0.1084 - val_loss: 0.1391 - val_mean_absolute_error: 0.1391 - val_rmse: 0.1804\n",
      "Epoch 57/100\n",
      "250/250 [==============================] - 0s 67us/sample - loss: 0.0734 - mean_absolute_error: 0.0734 - rmse: 0.1105 - val_loss: 0.1398 - val_mean_absolute_error: 0.1398 - val_rmse: 0.1782\n",
      "Epoch 58/100\n",
      "250/250 [==============================] - 0s 63us/sample - loss: 0.0725 - mean_absolute_error: 0.0725 - rmse: 0.1080 - val_loss: 0.1394 - val_mean_absolute_error: 0.1394 - val_rmse: 0.1789\n",
      "Epoch 59/100\n",
      "250/250 [==============================] - 0s 57us/sample - loss: 0.0722 - mean_absolute_error: 0.0722 - rmse: 0.1089 - val_loss: 0.1381 - val_mean_absolute_error: 0.1381 - val_rmse: 0.1774\n",
      "Epoch 60/100\n",
      "250/250 [==============================] - 0s 76us/sample - loss: 0.0720 - mean_absolute_error: 0.0720 - rmse: 0.1084 - val_loss: 0.1404 - val_mean_absolute_error: 0.1404 - val_rmse: 0.1798\n",
      "Epoch 61/100\n",
      "250/250 [==============================] - 0s 62us/sample - loss: 0.0725 - mean_absolute_error: 0.0725 - rmse: 0.1080 - val_loss: 0.1386 - val_mean_absolute_error: 0.1386 - val_rmse: 0.1796\n",
      "Epoch 62/100\n",
      "250/250 [==============================] - 0s 54us/sample - loss: 0.0724 - mean_absolute_error: 0.0724 - rmse: 0.1095 - val_loss: 0.1407 - val_mean_absolute_error: 0.1407 - val_rmse: 0.1787\n",
      "Epoch 63/100\n",
      "250/250 [==============================] - 0s 62us/sample - loss: 0.0730 - mean_absolute_error: 0.0730 - rmse: 0.1077 - val_loss: 0.1383 - val_mean_absolute_error: 0.1383 - val_rmse: 0.1788\n",
      "Epoch 64/100\n",
      "250/250 [==============================] - 0s 65us/sample - loss: 0.0725 - mean_absolute_error: 0.0725 - rmse: 0.1097 - val_loss: 0.1397 - val_mean_absolute_error: 0.1397 - val_rmse: 0.1784\n",
      "Epoch 65/100\n",
      "250/250 [==============================] - 0s 62us/sample - loss: 0.0722 - mean_absolute_error: 0.0722 - rmse: 0.1074 - val_loss: 0.1393 - val_mean_absolute_error: 0.1393 - val_rmse: 0.1799\n",
      "Epoch 66/100\n",
      "250/250 [==============================] - 0s 63us/sample - loss: 0.0720 - mean_absolute_error: 0.0720 - rmse: 0.1086 - val_loss: 0.1394 - val_mean_absolute_error: 0.1394 - val_rmse: 0.1778\n",
      "Epoch 67/100\n",
      "250/250 [==============================] - 0s 64us/sample - loss: 0.0719 - mean_absolute_error: 0.0719 - rmse: 0.1077 - val_loss: 0.1382 - val_mean_absolute_error: 0.1382 - val_rmse: 0.1777\n",
      "Epoch 68/100\n",
      "250/250 [==============================] - 0s 59us/sample - loss: 0.0717 - mean_absolute_error: 0.0717 - rmse: 0.1082 - val_loss: 0.1409 - val_mean_absolute_error: 0.1409 - val_rmse: 0.1804\n",
      "Epoch 69/100\n",
      "250/250 [==============================] - 0s 64us/sample - loss: 0.0721 - mean_absolute_error: 0.0721 - rmse: 0.1074 - val_loss: 0.1380 - val_mean_absolute_error: 0.1380 - val_rmse: 0.1783\n",
      "Epoch 70/100\n",
      "250/250 [==============================] - 0s 61us/sample - loss: 0.0725 - mean_absolute_error: 0.0725 - rmse: 0.1088 - val_loss: 0.1395 - val_mean_absolute_error: 0.1395 - val_rmse: 0.1786\n",
      "Epoch 71/100\n",
      "250/250 [==============================] - 0s 85us/sample - loss: 0.0714 - mean_absolute_error: 0.0714 - rmse: 0.1072 - val_loss: 0.1394 - val_mean_absolute_error: 0.1394 - val_rmse: 0.1789\n",
      "Epoch 72/100\n",
      "250/250 [==============================] - 0s 62us/sample - loss: 0.0716 - mean_absolute_error: 0.0716 - rmse: 0.1082 - val_loss: 0.1390 - val_mean_absolute_error: 0.1390 - val_rmse: 0.1782\n",
      "Epoch 73/100\n",
      "250/250 [==============================] - 0s 68us/sample - loss: 0.0706 - mean_absolute_error: 0.0706 - rmse: 0.1068 - val_loss: 0.1388 - val_mean_absolute_error: 0.1388 - val_rmse: 0.1788\n",
      "Epoch 74/100\n",
      "250/250 [==============================] - 0s 67us/sample - loss: 0.0711 - mean_absolute_error: 0.0711 - rmse: 0.1073 - val_loss: 0.1388 - val_mean_absolute_error: 0.1388 - val_rmse: 0.1787\n",
      "Epoch 75/100\n",
      "250/250 [==============================] - 0s 62us/sample - loss: 0.0706 - mean_absolute_error: 0.0706 - rmse: 0.1070 - val_loss: 0.1401 - val_mean_absolute_error: 0.1401 - val_rmse: 0.1793\n",
      "Epoch 76/100\n",
      "250/250 [==============================] - 0s 76us/sample - loss: 0.0709 - mean_absolute_error: 0.0709 - rmse: 0.1068 - val_loss: 0.1376 - val_mean_absolute_error: 0.1376 - val_rmse: 0.1771\n",
      "Epoch 77/100\n",
      "250/250 [==============================] - 0s 80us/sample - loss: 0.0708 - mean_absolute_error: 0.0708 - rmse: 0.1075 - val_loss: 0.1405 - val_mean_absolute_error: 0.1405 - val_rmse: 0.1794\n",
      "Epoch 78/100\n",
      "250/250 [==============================] - 0s 76us/sample - loss: 0.0715 - mean_absolute_error: 0.0715 - rmse: 0.1064 - val_loss: 0.1385 - val_mean_absolute_error: 0.1385 - val_rmse: 0.1798\n",
      "Epoch 79/100\n",
      "250/250 [==============================] - 0s 74us/sample - loss: 0.0719 - mean_absolute_error: 0.0719 - rmse: 0.1090 - val_loss: 0.1424 - val_mean_absolute_error: 0.1424 - val_rmse: 0.1798\n",
      "Epoch 80/100\n",
      "250/250 [==============================] - 0s 58us/sample - loss: 0.0733 - mean_absolute_error: 0.0733 - rmse: 0.1067 - val_loss: 0.1403 - val_mean_absolute_error: 0.1403 - val_rmse: 0.1813\n",
      "Epoch 81/100\n",
      "250/250 [==============================] - 0s 65us/sample - loss: 0.0737 - mean_absolute_error: 0.0737 - rmse: 0.1105 - val_loss: 0.1409 - val_mean_absolute_error: 0.1409 - val_rmse: 0.1786\n",
      "Epoch 82/100\n",
      "250/250 [==============================] - 0s 66us/sample - loss: 0.0722 - mean_absolute_error: 0.0722 - rmse: 0.1064 - val_loss: 0.1394 - val_mean_absolute_error: 0.1394 - val_rmse: 0.1798\n",
      "Epoch 83/100\n",
      "250/250 [==============================] - 0s 63us/sample - loss: 0.0710 - mean_absolute_error: 0.0710 - rmse: 0.1077 - val_loss: 0.1408 - val_mean_absolute_error: 0.1408 - val_rmse: 0.1789\n",
      "Epoch 84/100\n",
      "250/250 [==============================] - 0s 67us/sample - loss: 0.0707 - mean_absolute_error: 0.0707 - rmse: 0.1055 - val_loss: 0.1383 - val_mean_absolute_error: 0.1383 - val_rmse: 0.1786\n",
      "Epoch 85/100\n",
      "250/250 [==============================] - 0s 70us/sample - loss: 0.0714 - mean_absolute_error: 0.0714 - rmse: 0.1084 - val_loss: 0.1416 - val_mean_absolute_error: 0.1416 - val_rmse: 0.1796\n",
      "Epoch 86/100\n",
      "250/250 [==============================] - 0s 62us/sample - loss: 0.0716 - mean_absolute_error: 0.0716 - rmse: 0.1058 - val_loss: 0.1377 - val_mean_absolute_error: 0.1377 - val_rmse: 0.1781\n",
      "Epoch 87/100\n",
      "250/250 [==============================] - 0s 60us/sample - loss: 0.0705 - mean_absolute_error: 0.0705 - rmse: 0.1073 - val_loss: 0.1395 - val_mean_absolute_error: 0.1395 - val_rmse: 0.1782\n",
      "Epoch 88/100\n",
      "250/250 [==============================] - 0s 74us/sample - loss: 0.0704 - mean_absolute_error: 0.0704 - rmse: 0.1058 - val_loss: 0.1399 - val_mean_absolute_error: 0.1399 - val_rmse: 0.1794\n",
      "Epoch 89/100\n",
      "250/250 [==============================] - 0s 57us/sample - loss: 0.0703 - mean_absolute_error: 0.0703 - rmse: 0.1067 - val_loss: 0.1394 - val_mean_absolute_error: 0.1394 - val_rmse: 0.1777\n",
      "Epoch 90/100\n",
      "250/250 [==============================] - 0s 149us/sample - loss: 0.0703 - mean_absolute_error: 0.0703 - rmse: 0.1056 - val_loss: 0.1412 - val_mean_absolute_error: 0.1412 - val_rmse: 0.1820\n",
      "Epoch 91/100\n",
      "250/250 [==============================] - 0s 82us/sample - loss: 0.0711 - mean_absolute_error: 0.0711 - rmse: 0.1076 - val_loss: 0.1398 - val_mean_absolute_error: 0.1398 - val_rmse: 0.1781\n",
      "Epoch 92/100\n",
      "250/250 [==============================] - 0s 70us/sample - loss: 0.0708 - mean_absolute_error: 0.0708 - rmse: 0.1054 - val_loss: 0.1393 - val_mean_absolute_error: 0.1393 - val_rmse: 0.1795\n",
      "Epoch 93/100\n",
      "250/250 [==============================] - 0s 63us/sample - loss: 0.0695 - mean_absolute_error: 0.0695 - rmse: 0.1064 - val_loss: 0.1412 - val_mean_absolute_error: 0.1412 - val_rmse: 0.1797\n",
      "Epoch 94/100\n",
      "250/250 [==============================] - 0s 74us/sample - loss: 0.0704 - mean_absolute_error: 0.0704 - rmse: 0.1054 - val_loss: 0.1379 - val_mean_absolute_error: 0.1379 - val_rmse: 0.1776\n",
      "Epoch 95/100\n",
      "250/250 [==============================] - 0s 65us/sample - loss: 0.0703 - mean_absolute_error: 0.0703 - rmse: 0.1066 - val_loss: 0.1405 - val_mean_absolute_error: 0.1405 - val_rmse: 0.1786\n",
      "Epoch 96/100\n",
      "250/250 [==============================] - 0s 71us/sample - loss: 0.0700 - mean_absolute_error: 0.0700 - rmse: 0.1046 - val_loss: 0.1399 - val_mean_absolute_error: 0.1399 - val_rmse: 0.1814\n",
      "Epoch 97/100\n",
      "250/250 [==============================] - 0s 58us/sample - loss: 0.0710 - mean_absolute_error: 0.0710 - rmse: 0.1081 - val_loss: 0.1427 - val_mean_absolute_error: 0.1427 - val_rmse: 0.1801\n",
      "Epoch 98/100\n",
      "250/250 [==============================] - 0s 66us/sample - loss: 0.0725 - mean_absolute_error: 0.0725 - rmse: 0.1053 - val_loss: 0.1397 - val_mean_absolute_error: 0.1397 - val_rmse: 0.1801\n",
      "Epoch 99/100\n",
      "250/250 [==============================] - 0s 68us/sample - loss: 0.0699 - mean_absolute_error: 0.0699 - rmse: 0.1067 - val_loss: 0.1409 - val_mean_absolute_error: 0.1409 - val_rmse: 0.1799\n",
      "Epoch 100/100\n",
      "250/250 [==============================] - 0s 60us/sample - loss: 0.0694 - mean_absolute_error: 0.0694 - rmse: 0.1048 - val_loss: 0.1383 - val_mean_absolute_error: 0.1383 - val_rmse: 0.1774\n",
      "dict_keys(['loss', 'mean_absolute_error', 'rmse', 'val_loss', 'val_mean_absolute_error', 'val_rmse'])\n",
      "{'loss': [0.07920382171869278, 0.07974491268396378, 0.07998839765787125, 0.07912500947713852, 0.07813173532485962, 0.07802766561508179, 0.07785721868276596, 0.07879459857940674, 0.07969658076763153, 0.07866896688938141, 0.07777946442365646, 0.07703420519828796, 0.07724012434482574, 0.0783187597990036, 0.07874342799186707, 0.078353151679039, 0.0767562985420227, 0.07624543458223343, 0.07665028423070908, 0.0777837485074997, 0.07785592973232269, 0.07666326314210892, 0.07576051354408264, 0.07563836127519608, 0.07633672654628754, 0.07695861160755157, 0.07645663619041443, 0.07524850964546204, 0.07513866573572159, 0.07506722956895828, 0.07519637793302536, 0.07538449019193649, 0.07561752200126648, 0.07544774562120438, 0.07538387924432755, 0.07487943023443222, 0.07414716482162476, 0.0739721953868866, 0.07417895644903183, 0.07462917268276215, 0.07418854534626007, 0.0742979571223259, 0.07538696378469467, 0.07645777612924576, 0.07543225586414337, 0.07433657348155975, 0.07335731387138367, 0.07345833629369736, 0.07554947584867477, 0.07562826573848724, 0.07469619065523148, 0.07334619760513306, 0.07248757034540176, 0.07335224747657776, 0.0738283321261406, 0.07394516468048096, 0.07338053733110428, 0.07253161072731018, 0.07222508639097214, 0.07195831090211868, 0.07246138900518417, 0.07243185490369797, 0.07298185676336288, 0.07250846922397614, 0.07223422080278397, 0.07199250906705856, 0.07189023494720459, 0.07169413566589355, 0.07205891609191895, 0.07251480966806412, 0.07136218994855881, 0.07161793857812881, 0.07064132392406464, 0.07112392783164978, 0.07062778621912003, 0.070896215736866, 0.07081641256809235, 0.07146939635276794, 0.07186950743198395, 0.07334034889936447, 0.0736941248178482, 0.07220610231161118, 0.07096298784017563, 0.07066304236650467, 0.07143207639455795, 0.07164400070905685, 0.07053276151418686, 0.07037506997585297, 0.07031860947608948, 0.07033468782901764, 0.07111790776252747, 0.07075778394937515, 0.06950292736291885, 0.07038401812314987, 0.07030297070741653, 0.07003965973854065, 0.07104873657226562, 0.0725264698266983, 0.06987334042787552, 0.06942965090274811], 'mean_absolute_error': [0.07920382, 0.07974491, 0.0799884, 0.07912501, 0.078131735, 0.078027666, 0.07785722, 0.0787946, 0.07969658, 0.07866897, 0.077779464, 0.077034205, 0.077240124, 0.07831876, 0.07874343, 0.07835315, 0.0767563, 0.076245435, 0.076650284, 0.07778375, 0.07785593, 0.07666326, 0.07576051, 0.07563836, 0.07633673, 0.07695861, 0.076456636, 0.07524851, 0.075138666, 0.07506723, 0.07519638, 0.07538449, 0.07561752, 0.075447746, 0.07538388, 0.07487943, 0.074147165, 0.073972195, 0.07417896, 0.07462917, 0.074188545, 0.07429796, 0.075386964, 0.076457776, 0.075432256, 0.07433657, 0.073357314, 0.07345834, 0.075549476, 0.075628266, 0.07469619, 0.0733462, 0.07248757, 0.07335225, 0.07382833, 0.073945165, 0.07338054, 0.07253161, 0.07222509, 0.07195831, 0.07246139, 0.072431855, 0.07298186, 0.07250847, 0.07223422, 0.07199251, 0.071890235, 0.071694136, 0.072058916, 0.07251481, 0.07136219, 0.07161794, 0.070641324, 0.07112393, 0.070627786, 0.070896216, 0.07081641, 0.0714694, 0.07186951, 0.07334035, 0.073694125, 0.0722061, 0.07096299, 0.07066304, 0.07143208, 0.071644, 0.07053276, 0.07037507, 0.07031861, 0.07033469, 0.07111791, 0.070757784, 0.06950293, 0.07038402, 0.07030297, 0.07003966, 0.07104874, 0.07252647, 0.06987334, 0.06942965], 'rmse': [0.11664942, 0.11465889, 0.11781951, 0.11423236, 0.115313396, 0.11478865, 0.1136815, 0.11633292, 0.11392081, 0.11638796, 0.113318875, 0.11357152, 0.11448543, 0.11301386, 0.11655211, 0.11254641, 0.11372764, 0.11323242, 0.1118744, 0.114913106, 0.112114646, 0.1143559, 0.11162972, 0.11138948, 0.1138823, 0.1114609, 0.113657355, 0.11110282, 0.11146629, 0.11194285, 0.11051568, 0.1126796, 0.1107352, 0.11261466, 0.1104516, 0.112126626, 0.10989658, 0.110093996, 0.11125901, 0.10994302, 0.111343175, 0.10947958, 0.112518065, 0.11008461, 0.11277232, 0.10924343, 0.10969693, 0.11052807, 0.10928659, 0.113139704, 0.10878179, 0.109975785, 0.10910298, 0.108583964, 0.11097372, 0.108389355, 0.11050007, 0.10798751, 0.108854935, 0.10840225, 0.108032264, 0.10948897, 0.107681096, 0.10969923, 0.10743359, 0.10863739, 0.107668065, 0.1082273, 0.10737449, 0.10877517, 0.10718702, 0.108169466, 0.10683071, 0.1072575, 0.106962405, 0.10680319, 0.10745756, 0.10642787, 0.108987354, 0.106670655, 0.11052648, 0.10637047, 0.10765678, 0.10548334, 0.10842318, 0.1057664, 0.10728872, 0.105836354, 0.10672267, 0.1055933, 0.10763307, 0.10536494, 0.10644871, 0.10542763, 0.10660882, 0.10460884, 0.10814262, 0.10527564, 0.10665161, 0.104773395], 'val_loss': [0.14509405195713043, 0.1445816159248352, 0.14475329220294952, 0.14229242503643036, 0.1440383642911911, 0.1432623565196991, 0.1419198215007782, 0.14620809257030487, 0.14202572405338287, 0.142061248421669, 0.14339126646518707, 0.14154301583766937, 0.14277376234531403, 0.14225909113883972, 0.14451579749584198, 0.13990679383277893, 0.14128749072551727, 0.1424514651298523, 0.1402854025363922, 0.14391140639781952, 0.14108367264270782, 0.1403542459011078, 0.14154399931430817, 0.1398909091949463, 0.14227014780044556, 0.14047451317310333, 0.14145532250404358, 0.13970695436000824, 0.14039070904254913, 0.14102903008460999, 0.13825064897537231, 0.14205454289913177, 0.13937194645404816, 0.14081038534641266, 0.13992977142333984, 0.1399642825126648, 0.13908076286315918, 0.13961826264858246, 0.13966651260852814, 0.14017993211746216, 0.14057657122612, 0.13779796659946442, 0.1435709148645401, 0.14024969935417175, 0.14041078090667725, 0.1404169201850891, 0.13957123458385468, 0.14201343059539795, 0.139572411775589, 0.14215847849845886, 0.13896621763706207, 0.1390872597694397, 0.14029203355312347, 0.1380823701620102, 0.141564279794693, 0.13913284242153168, 0.13983280956745148, 0.1394212692975998, 0.1381044089794159, 0.1403682976961136, 0.1386423259973526, 0.140654519200325, 0.13832132518291473, 0.1396743357181549, 0.13934122025966644, 0.1394323706626892, 0.1381787657737732, 0.14085057377815247, 0.1379520297050476, 0.13950484991073608, 0.13939140737056732, 0.13900403678417206, 0.13884547352790833, 0.13878454267978668, 0.14013251662254333, 0.137619286775589, 0.14050880074501038, 0.13849027454853058, 0.14244507253170013, 0.14030613005161285, 0.1409013420343399, 0.13937093317508698, 0.1407851278781891, 0.13831979036331177, 0.141560897231102, 0.13765527307987213, 0.13947542011737823, 0.13993948698043823, 0.1394149214029312, 0.14120863378047943, 0.13983608782291412, 0.139263316988945, 0.14120110869407654, 0.13793088495731354, 0.14054784178733826, 0.13990633189678192, 0.14270590245723724, 0.1396757960319519, 0.1408691108226776, 0.13832509517669678], 'val_mean_absolute_error': [0.14509405, 0.14458162, 0.14475329, 0.14229243, 0.14403836, 0.14326236, 0.14191982, 0.1462081, 0.14202572, 0.14206125, 0.14339127, 0.14154302, 0.14277376, 0.14225909, 0.1445158, 0.1399068, 0.14128749, 0.14245147, 0.1402854, 0.1439114, 0.14108367, 0.14035425, 0.141544, 0.13989091, 0.14227015, 0.14047451, 0.14145532, 0.13970695, 0.14039071, 0.14102903, 0.13825065, 0.14205454, 0.13937195, 0.14081039, 0.13992977, 0.13996428, 0.13908076, 0.13961826, 0.13966651, 0.14017993, 0.14057657, 0.13779797, 0.14357091, 0.1402497, 0.14041078, 0.14041692, 0.13957123, 0.14201343, 0.13957241, 0.14215848, 0.13896622, 0.13908726, 0.14029203, 0.13808237, 0.14156428, 0.13913284, 0.13983281, 0.13942127, 0.13810441, 0.1403683, 0.13864233, 0.14065452, 0.13832133, 0.13967434, 0.13934122, 0.13943237, 0.13817877, 0.14085057, 0.13795203, 0.13950485, 0.1393914, 0.13900404, 0.13884547, 0.13878454, 0.14013252, 0.13761929, 0.1405088, 0.13849027, 0.14244507, 0.14030613, 0.14090134, 0.13937093, 0.14078513, 0.13831979, 0.1415609, 0.13765527, 0.13947542, 0.13993949, 0.13941492, 0.14120863, 0.13983609, 0.13926332, 0.14120111, 0.13793088, 0.14054784, 0.13990633, 0.1427059, 0.1396758, 0.14086911, 0.1383251], 'val_rmse': [0.18291922, 0.18540509, 0.18234429, 0.1817137, 0.18346144, 0.18153092, 0.18269438, 0.18433969, 0.18275891, 0.18001233, 0.18299617, 0.18173355, 0.1802435, 0.18383475, 0.1819929, 0.17958894, 0.18090285, 0.18026744, 0.18125102, 0.18194737, 0.18231378, 0.1789345, 0.18018694, 0.18061554, 0.17959554, 0.18160571, 0.18053843, 0.17868388, 0.18045531, 0.1793782, 0.17885397, 0.1810274, 0.1803698, 0.1784174, 0.1803374, 0.1784264, 0.17803532, 0.17999734, 0.17798266, 0.18109737, 0.179253, 0.17916548, 0.18144496, 0.1818308, 0.17809337, 0.18016328, 0.1801541, 0.17912519, 0.1810523, 0.18025978, 0.17940602, 0.17868519, 0.17824544, 0.1789506, 0.18014497, 0.18039426, 0.17824921, 0.17889705, 0.1774292, 0.17977396, 0.17960148, 0.17874543, 0.17875302, 0.17838465, 0.17991835, 0.17777108, 0.17770906, 0.18035093, 0.17826493, 0.17862009, 0.17891237, 0.17822123, 0.1787638, 0.17868823, 0.17933682, 0.17705613, 0.17943695, 0.17977855, 0.17976366, 0.18129402, 0.17858902, 0.17976187, 0.17891584, 0.17864758, 0.1796138, 0.1780676, 0.17819893, 0.17942065, 0.17770949, 0.18196943, 0.17810832, 0.17947932, 0.17968105, 0.17758828, 0.1786061, 0.1813699, 0.18009672, 0.18008383, 0.17992865, 0.17739914]}\n",
      "{'batch_size': 1024, 'epochs': 100, 'steps': 1, 'samples': 250, 'verbose': 0, 'do_validation': True, 'metrics': ['loss', 'mean_absolute_error', 'rmse', 'val_loss', 'val_mean_absolute_error', 'val_rmse']}\n"
     ]
    }
   ],
   "source": [
    "# Model training:\n",
    "with tf.device('/gpu:0'): \n",
    "    # Create optimizer using Bayesian Optimization\n",
    "    lstmOptimizerBO = BayesianOptimization(build_model, \n",
    "                                objective = objective,\n",
    "                                max_trials = trials, \n",
    "                                executions_per_trial = executions,\n",
    "                                project_name = projectNameBO,\n",
    "                                overwrite = True)\n",
    "\n",
    "    # Search space summary\n",
    "    #lstmOptimizer.search_space_summary()\n",
    "\n",
    "    # Search execution with epochs\n",
    "    initialTime = time.time()\n",
    "    lstmOptimizerBO.search(x = xtrain,\n",
    "                        y = ytrain, \n",
    "                        epochs = epchs,\n",
    "                        batch_size = batch,\n",
    "                        validation_data = (xval, yval),\n",
    "                        verbose = 0)\n",
    "    finalTime = time.time()\n",
    "\n",
    "    # Get best model generated\n",
    "    model = lstmOptimizerBO.get_best_models(num_models = numBestModels)[0]\n",
    "\n",
    "    # Model training with epochs \n",
    "    history = model.fit(\n",
    "                xtrain,\n",
    "                ytrain,\n",
    "                epochs = epchs,\n",
    "                batch_size = batch,\n",
    "                validation_data = (xval, yval))\n",
    "\n",
    "    # Show model info\n",
    "    \n",
    "    print(history.history.keys())\n",
    "    print(model.history.history)\n",
    "    print(model.history.params)"
   ]
  },
  {
   "cell_type": "code",
   "execution_count": 33,
   "metadata": {},
   "outputs": [
    {
     "name": "stdout",
     "output_type": "stream",
     "text": [
      "------------------------------------------------------\n",
      "SUMMARY BO\n",
      "------------------------------------------------------\n",
      "Tiempo de entrenamiento (en segundos):\t336.37377524375916\n"
     ]
    },
    {
     "data": {
      "image/png": "[encoded data removed]",
      "text/plain": [
       "<Figure size 432x288 with 1 Axes>"
      ]
     },
     "metadata": {
      "needs_background": "light"
     },
     "output_type": "display_data"
    },
    {
     "data": {
      "text/html": [
       "<span style=\"color:#4527A0\"><h1 style=\"font-size:18px\">Results summary</h1></span>"
      ],
      "text/plain": [
       "<IPython.core.display.HTML object>"
      ]
     },
     "metadata": {},
     "output_type": "display_data"
    },
    {
     "data": {
      "text/html": [
       "<span style=\"color:cyan\"> |-Results in .\\W7_PV-lstm-bo</span>"
      ],
      "text/plain": [
       "<IPython.core.display.HTML object>"
      ]
     },
     "metadata": {},
     "output_type": "display_data"
    },
    {
     "data": {
      "text/html": [
       "<span style=\"color:cyan\"> |-Showing 1 best trials</span>"
      ],
      "text/plain": [
       "<IPython.core.display.HTML object>"
      ]
     },
     "metadata": {},
     "output_type": "display_data"
    },
    {
     "data": {
      "text/html": [
       "<span style=\"color:cyan\"> |-Objective(name='val_mean_absolute_error', direction='min')</span>"
      ],
      "text/plain": [
       "<IPython.core.display.HTML object>"
      ]
     },
     "metadata": {},
     "output_type": "display_data"
    },
    {
     "data": {
      "text/html": [
       "<span style=\"color:#4527A0\"><h1 style=\"font-size:18px\">Trial summary</h1></span>"
      ],
      "text/plain": [
       "<IPython.core.display.HTML object>"
      ]
     },
     "metadata": {},
     "output_type": "display_data"
    },
    {
     "data": {
      "text/html": [
       "<span style=\"color:cyan\"> |-Trial ID: 17f3e3b4724b408d7ef5432f42d98d3a</span>"
      ],
      "text/plain": [
       "<IPython.core.display.HTML object>"
      ]
     },
     "metadata": {},
     "output_type": "display_data"
    },
    {
     "data": {
      "text/html": [
       "<span style=\"color:cyan\"> |-Score: 0.14421597123146057</span>"
      ],
      "text/plain": [
       "<IPython.core.display.HTML object>"
      ]
     },
     "metadata": {},
     "output_type": "display_data"
    },
    {
     "data": {
      "text/html": [
       "<span style=\"color:cyan\"> |-Best step: 0</span>"
      ],
      "text/plain": [
       "<IPython.core.display.HTML object>"
      ]
     },
     "metadata": {},
     "output_type": "display_data"
    },
    {
     "data": {
      "text/html": [
       "<span style=\"color:#7E57C2\"><h2 style=\"font-size:16px\">Hyperparameters:</h2></span>"
      ],
      "text/plain": [
       "<IPython.core.display.HTML object>"
      ]
     },
     "metadata": {},
     "output_type": "display_data"
    },
    {
     "data": {
      "text/html": [
       "<span style=\"color:cyan\"> |-dropout: 0.0</span>"
      ],
      "text/plain": [
       "<IPython.core.display.HTML object>"
      ]
     },
     "metadata": {},
     "output_type": "display_data"
    },
    {
     "data": {
      "text/html": [
       "<span style=\"color:blue\"> |-learning_rate: 0.01</span>"
      ],
      "text/plain": [
       "<IPython.core.display.HTML object>"
      ]
     },
     "metadata": {},
     "output_type": "display_data"
    },
    {
     "data": {
      "text/html": [
       "<span style=\"color:cyan\"> |-units: 40</span>"
      ],
      "text/plain": [
       "<IPython.core.display.HTML object>"
      ]
     },
     "metadata": {},
     "output_type": "display_data"
    },
    {
     "name": "stdout",
     "output_type": "stream",
     "text": [
      "359/359 [==============================] - ETA: 0s - loss: 0.1477 - mean_absolute_error: 0.1477 - rmse: 0.19 - 0s 128us/sample - loss: 0.1279 - mean_absolute_error: 0.1279 - rmse: 0.1806\n",
      "Score: [0.12787712707825025, 0.12787712, 0.18058112]\n"
     ]
    }
   ],
   "source": [
    "# Model evaluation:\n",
    "print(\"------------------------------------------------------\")\n",
    "print(\"SUMMARY BO\")\n",
    "print(\"------------------------------------------------------\")\n",
    "\n",
    "print(\"Tiempo de entrenamiento (en segundos):\\t\"+str(finalTime - initialTime))\n",
    "\n",
    "# Training and Validation loss curves\n",
    "plt.plot(history.history['loss'], label = 'Training loss')\n",
    "plt.plot(history.history['val_loss'], label = 'Validation loss')\n",
    "plt.legend()\n",
    "plt.show()\n",
    "\n",
    "# Results summary\n",
    "lstmOptimizerBO.results_summary(num_trials = 1)\n",
    "\n",
    "# Model evaluation with validation data\n",
    "score = model.evaluate(xtest, ytest)\n",
    "print('Score:', score)"
   ]
  }
 ],
 "metadata": {
  "kernelspec": {
   "display_name": "myenv",
   "language": "python",
   "name": "python3"
  },
  "language_info": {
   "codemirror_mode": {
    "name": "ipython",
    "version": 3
   },
   "file_extension": ".py",
   "mimetype": "text/x-python",
   "name": "python",
   "nbconvert_exporter": "python",
   "pygments_lexer": "ipython3",
   "version": "3.6.13"
  }
 },
 "nbformat": 4,
 "nbformat_minor": 2
}
