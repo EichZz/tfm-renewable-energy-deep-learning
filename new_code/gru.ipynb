{
 "cells": [
  {
   "cell_type": "code",
   "execution_count": 129,
   "metadata": {},
   "outputs": [
    {
     "name": "stdout",
     "output_type": "stream",
     "text": [
      "Setting GPU Memory Growth...\n"
     ]
    },
    {
     "name": "stderr",
     "output_type": "stream",
     "text": [
      "c:\\Users\\hecto\\.conda\\envs\\myenv\\lib\\site-packages\\tensorflow_core\\python\\client\\session.py:1752: UserWarning: An interactive session is already active. This can cause out-of-memory errors in some cases. You must explicitly call `InteractiveSession.close()` to release resources held by the other session(s).\n",
      "  warnings.warn('An interactive session is already active. This can '\n"
     ]
    },
    {
     "name": "stdout",
     "output_type": "stream",
     "text": [
      "TF version: 2.1.0\n",
      "KT version: 1.0.1\n",
      "Panda version: 1.1.5\n",
      "Physical devices:  [PhysicalDevice(name='/physical_device:CPU:0', device_type='CPU'), PhysicalDevice(name='/physical_device:GPU:0', device_type='GPU')]\n",
      "Default GPU Device: /device:GPU:0\n",
      "Num GPUs Available:  1\n",
      "Build with CUDA:  True\n"
     ]
    }
   ],
   "source": [
    "import tensorflow as tf\n",
    "physical_devices = tf.config.experimental.list_physical_devices('GPU')\n",
    "if len(physical_devices) > 0:\n",
    "        print(\"Setting GPU Memory Growth...\")\n",
    "        tf.config.experimental.set_memory_growth(physical_devices[0], True)\n",
    "        \n",
    "from tensorflow.compat.v1 import ConfigProto\n",
    "from tensorflow.compat.v1 import InteractiveSession\n",
    "config = ConfigProto()\n",
    "config.gpu_options.allow_growth = True\n",
    "session = InteractiveSession(config=config)\n",
    "\n",
    "import time\n",
    "import datetime\n",
    "\n",
    "import pandas as pd\n",
    "import numpy as np\n",
    "from sklearn.preprocessing import MinMaxScaler\n",
    "from sklearn.model_selection import train_test_split\n",
    "import matplotlib.pyplot as plt\n",
    "from plot_keras_history import plot_history\n",
    "import sklearn.metrics as metrics\n",
    "import os as os\n",
    "\n",
    "import tensorflow.keras as keras\n",
    "from tensorflow.keras.models import Sequential\n",
    "from tensorflow.keras.layers import Dense\n",
    "from tensorflow.keras.layers import GRU\n",
    "from tensorflow.keras.layers import Dropout\n",
    "from tensorflow.python.client import device_lib\n",
    "\n",
    "import kerastuner as kt\n",
    "from kerastuner.tuners import RandomSearch, BayesianOptimization\n",
    "\n",
    "\n",
    "print(\"TF version:\", tf.__version__)\n",
    "print(\"KT version:\", kt.__version__)\n",
    "print(\"Panda version:\", pd.__version__)\n",
    "\n",
    "def get_available_devices():\n",
    "    local_device_protos = device_lib.list_local_devices()\n",
    "    return [x.name for x in local_device_protos]\n",
    "\n",
    "print(\"Physical devices: \", tf.config.list_physical_devices())\n",
    "# Se va a habilitar la dedicacion dinamica de memoria para que la GPU vaya asignando recursos al proceso conforme los vaya necesitando\n",
    "\n",
    "if tf.test.gpu_device_name():\n",
    "    print('Default GPU Device: {}'.format(tf.test.gpu_device_name()))\n",
    "else:\n",
    "    print(\"Please install GPU version of TF\")\n",
    "print(\"Num GPUs Available: \", len(tf.config.experimental.list_physical_devices('GPU')))\n",
    "#print(tf.config.list_physical_devices('GPU'))\n",
    "print(\"Build with CUDA: \", tf.test.is_built_with_cuda())\n",
    "\n",
    "# Number of best models\n",
    "numBestModels = 1 \n",
    "\n",
    "# Validation set percentage\n",
    "val_size = 0.3\n",
    "\n",
    "# Batch size\n",
    "batch = 1024\n",
    "\n",
    "# Nodos internos\n",
    "hidden_nodes = 10\n",
    "\n",
    "# Units parameters\n",
    "minUnits = 10\n",
    "maxUnits = 50\n",
    "stepsUnits = 10\n",
    "defaultUnits = 30\n",
    "\n",
    "# Dropout Parameters\n",
    "minDropout = 0\n",
    "maxDropout = 0.33\n",
    "defaultDropout = .25\n",
    "\n",
    "# Establecer medida de loss\n",
    "loss = \"mean_absolute_error\"\n",
    "\n",
    "# Learning rate\n",
    "learningRate = [0.0, 1e-2, 1e-3, 1e-4]\n",
    "\n",
    "# Model metrics\n",
    "modelMetrics = [keras.metrics.MAE, tf.keras.metrics.RootMeanSquaredError(name = 'rmse')]\n",
    "\n",
    "# Optimizer objetive: error percetange with the validation set \n",
    "objective = kt.Objective('val_mean_absolute_error', 'min')\n",
    "\n",
    "# Maximum model trials and executions\n",
    "trials = 40\n",
    "executions = 2\n",
    "\n",
    "# Epochs\n",
    "epchs = 100"
   ]
  },
  {
   "cell_type": "code",
   "execution_count": 130,
   "metadata": {},
   "outputs": [],
   "source": [
    "df = pd.read_csv(\"C:/Users/hecto/Documents/Master/TFM/tfm-renewable-energy-deep-learning/data/training/2015_PV_W20_H20.csv\",\n",
    "                delimiter=\";\")\n",
    "\n",
    "dfTest = pd.read_csv(\"C:/Users/hecto/Documents/Master/TFM/tfm-renewable-energy-deep-learning/data/test/2016_PV_W20_H20.csv\",\n",
    "                delimiter=\";\")\n",
    "\n",
    "X = pd.read_csv(\"C:/Users/hecto/Documents/Master/TFM/tfm-renewable-energy-deep-learning/data/training/2015_Weather_W7.csv\",\n",
    "                       delimiter=\",\")\n",
    "\n",
    "xTest = pd.read_csv(\"C:/Users/hecto/Documents/Master/TFM/tfm-renewable-energy-deep-learning/data/test/2016_Weather_W7.csv\",\n",
    "                   delimiter=\",\")\n",
    "\n",
    "projectNameBO = \"W7_PV-gru-bo\"\n",
    "projectNameRS = \"W7_PV-gru-rs\"\n",
    "\n",
    "# projectNameRS = \"PV_W140_H20-gru-rs\"\n",
    "# projectNameBO = \"PV_W140_H20-gru-bo\"\n",
    "\n",
    "W=7\n",
    "H=20"
   ]
  },
  {
   "cell_type": "code",
   "execution_count": 131,
   "metadata": {},
   "outputs": [],
   "source": [
    "# # Old data preprocessing: each row will contain the 20 measures for each day , and the 10 measures for the following day\n",
    "# # X = pd.DataFrame(np.array(training).reshape(-1, W))\n",
    "# Y = pd.DataFrame.copy(X)\n",
    "# yTest = pd.DataFrame.copy(xTest)\n",
    "\n",
    "# Y.columns = [\"col_{}\".format(i) for i in range(W+1, (2*W)+1)]\n",
    "# Y = Y.drop(0)\n",
    "# Y = Y.reset_index(drop = True)\n",
    "# Y.loc[len(Y)] = np.zeros(numPredictions)\n",
    "\n",
    "# # Last row is deleted because it is the one used for the real prediction, \n",
    "# # it is not useful for the training of the model. \n",
    "# X.drop(X.tail(1).index, inplace = True)\n",
    "# Y.drop(Y.tail(1).index, inplace = True)\n",
    "\n",
    "# print(\"X Preproccessed shape: \", X.shape)\n",
    "# print(\"Y Preproccessed shape: \", Y.shape)\n",
    "# print(\"---------------------------------------------\")\n",
    "\n",
    "# #  Uncomment in order to normalize data\n",
    "# # Data Normalization\n",
    "# # scaler = MinMaxScaler()\n",
    "# # X = pd.DataFrame(scaler.fit_transform(X), columns=[\"col_{}\".format(i) for i in range(1, 21)])\n",
    "# # Y = pd.DataFrame(scaler.fit_transform(Y), columns=[\"col_{}\".format(i) for i in range(21, 41)])\n"
   ]
  },
  {
   "cell_type": "code",
   "execution_count": 132,
   "metadata": {},
   "outputs": [],
   "source": [
    "# # Preprocessing for PV_W_H type files:\n",
    "\n",
    "# #  Uncomment in order to normalize data\n",
    "# # Data Normalization\n",
    "\n",
    "# df = df.replace(',', '.', regex=True)\n",
    "# dfTest = dfTest.replace(',', '.', regex=True)\n",
    "\n",
    "# scaler = MinMaxScaler()\n",
    "# df = pd.DataFrame(scaler.fit_transform(df))\n",
    "# dfTest = pd.DataFrame(scaler.fit_transform(dfTest))\n",
    "\n",
    "# # Filter for PV data\n",
    "# X = df.iloc[:, 0:W]\n",
    "# xTest = dfTest.iloc[:, 0:W]\n",
    "\n",
    "# Y = df.iloc[:, W:]\n",
    "# yTest = dfTest.iloc[:, W:]\n",
    "\n",
    "# numPredictions = H\n",
    "\n",
    "# print(X)\n",
    "# print(yTest)"
   ]
  },
  {
   "cell_type": "code",
   "execution_count": 133,
   "metadata": {},
   "outputs": [
    {
     "name": "stdout",
     "output_type": "stream",
     "text": [
      "Source shape:  (364, 138)\n",
      "X Preproccessed shape:  (358, 118)\n",
      "Y Preproccessed shape:  (358, 20)\n",
      "---------------------------------------------\n"
     ]
    }
   ],
   "source": [
    "\n",
    "\n",
    "numPredictions = H\n",
    "\n",
    "df = df.replace(',', '.', regex=True)\n",
    "dfTest = dfTest.replace(',', '.', regex=True)\n",
    "\n",
    "# Data normalization\n",
    "scaler = MinMaxScaler()\n",
    "df = pd.DataFrame(scaler.fit_transform(df))\n",
    "dfTest = pd.DataFrame(scaler.fit_transform(dfTest))\n",
    "\n",
    "# Merge the two data sources\n",
    "X = pd.concat([X, df], axis = 1)\n",
    "xTest = pd.concat([xTest, dfTest], axis = 1)\n",
    "\n",
    "print(\"Source shape: \", X.shape)\n",
    "\n",
    "# NaN treatment\n",
    "if W == 1:\n",
    "    X.drop(X.tail(W).index, inplace = True)\n",
    "    xTest.drop(xTest.tail(W).index, inplace = True)\n",
    "else :\n",
    "    X.drop(X.tail(W-1).index, inplace = True)\n",
    "    xTest.drop(xTest.tail(W-1).index, inplace = True)\n",
    "\n",
    "\n",
    "# Y will contain only the last H columns, the data from the following day\n",
    "Y = X.iloc[:, -H:]\n",
    "yTest = xTest.iloc[:, -H:]\n",
    "\n",
    "# X will contain the rest of the data\n",
    "X = X.iloc[:, :-H]\n",
    "xTest = xTest.iloc[:, :-H]\n",
    "\n",
    "\n",
    "print(\"X Preproccessed shape: \", X.shape)\n",
    "print(\"Y Preproccessed shape: \", Y.shape)\n",
    "print(\"---------------------------------------------\")"
   ]
  },
  {
   "cell_type": "code",
   "execution_count": 134,
   "metadata": {},
   "outputs": [],
   "source": [
    "# # OLD ----- W type data preprocessing:\n",
    "\n",
    "# # Y will be the next day pv data, aka the last column from the next row.\n",
    "# shifted_df = X.shift(-1)\n",
    "# Y = pd.DataFrame(shifted_df.iloc[:, -1])\n",
    "\n",
    "# shifted_df = xTest.shift(-1)\n",
    "# yTest = pd.DataFrame(shifted_df.iloc[:, -1])\n",
    "\n",
    "# X.drop(X.tail(1).index, inplace = True)\n",
    "# Y.drop(Y.tail(1).index, inplace = True)\n",
    "\n",
    "# xTest.drop(xTest.tail(1).index, inplace = True)\n",
    "# yTest.drop(yTest.tail(1).index, inplace = True)\n",
    "\n",
    "# numPredictions = 1\n",
    "\n",
    "# print(\"X Preproccessed shape: \", X.shape)\n",
    "# print(\"Y Preproccessed shape: \", Y.shape)\n",
    "# print(\"---------------------------------------------\")\n",
    "\n",
    "# print(\"X: \", X)\n",
    "# print(\"Y: \", Y)"
   ]
  },
  {
   "cell_type": "code",
   "execution_count": 135,
   "metadata": {},
   "outputs": [
    {
     "name": "stdout",
     "output_type": "stream",
     "text": [
      "DataFrame Preproccessed:\n",
      "     min_temp_d1  max_temp_d1  rainfall_d1  sun_hours_d1  max_wind_speed_d1  \\\n",
      "0       0.919431     0.699029     0.001095      0.774436           0.261538   \n",
      "1       0.909953     0.621359     0.006572      0.315789           0.369231   \n",
      "2       0.744076     0.684466     0.092004      0.902256           0.230769   \n",
      "3       0.777251     0.582524     0.000000      0.285714           0.138462   \n",
      "4       0.763033     0.650485     0.118291      0.909774           0.338462   \n",
      "..           ...          ...          ...           ...                ...   \n",
      "353     0.781991     0.733010     0.000000      0.864662           0.230769   \n",
      "354     0.767773     0.699029     0.000000      0.721805           0.200000   \n",
      "355     0.729858     0.703883     0.000000      0.902256           0.261538   \n",
      "356     0.729858     0.582524     0.017525      0.097744           0.261538   \n",
      "357     0.677725     0.597087     0.050383      0.774436           0.230769   \n",
      "\n",
      "     temp_9_d1  Rel_hum_9_d1  cloud_cover_d1  wind_speed_9_d1  temp_15_d1  \\\n",
      "0     0.878378      0.581081           0.625         0.003896    0.231441   \n",
      "1     0.819820      0.594595           0.625         0.006817    0.196507   \n",
      "2     0.707207      0.783784           1.000         0.003896    0.203785   \n",
      "3     0.797297      0.472973           0.500         0.006817    0.211063   \n",
      "4     0.761261      0.608108           0.875         0.003896    0.136827   \n",
      "..         ...           ...             ...              ...         ...   \n",
      "353   0.815315      0.256757           0.375         0.003896    0.195051   \n",
      "354   0.824324      0.283784           0.250         0.003896    0.222707   \n",
      "355   0.774775      0.391892           0.750         0.004869    0.192140   \n",
      "356   0.824324      0.337838           0.750         0.004869    0.218341   \n",
      "357   0.725225      0.527027           0.875         0.003896    0.183406   \n",
      "\n",
      "     ...        30        31        32        33        34        35  \\\n",
      "0    ...  0.725309  0.753365  0.826986  0.507453  0.253729  0.160616   \n",
      "1    ...  0.467013  0.528495  0.626616  0.347718  0.686606  0.913557   \n",
      "2    ...  0.759042  0.714959  0.705419  0.618476  0.493688  0.461296   \n",
      "3    ...  0.094073  0.154760  0.264446  0.457932  0.203129  0.141239   \n",
      "4    ...  0.926857  0.847993  0.962166  0.827868  1.000000  0.978278   \n",
      "..   ...       ...       ...       ...       ...       ...       ...   \n",
      "353  ...  0.969834  0.958288  0.963344  0.903828  0.932434  0.937249   \n",
      "354  ...  0.927126  0.918719  0.781446  0.609425  0.887240  0.496700   \n",
      "355  ...  0.916123  0.807177  0.812352  0.767282  0.880050  0.892946   \n",
      "356  ...  0.293190  0.318158  0.388525  0.363299  0.308793  0.433898   \n",
      "357  ...  0.757455  0.836868  0.832718  0.882854  0.910088  0.499205   \n",
      "\n",
      "           36        37        38        39  \n",
      "0    0.310629  0.578497  0.610370  0.383605  \n",
      "1    1.000000  0.971440  0.862149  0.834694  \n",
      "2    0.608447  0.430454  0.580978  0.884396  \n",
      "3    0.286094  0.378142  0.309162  0.419463  \n",
      "4    0.949418  1.000000  0.978594  0.904624  \n",
      "..        ...       ...       ...       ...  \n",
      "353  0.893998  0.940102  0.910022  0.793128  \n",
      "354  0.557657  0.566332  1.000000  0.456849  \n",
      "355  0.940639  0.759151  0.743495  0.756050  \n",
      "356  0.084282  0.041926  0.033168  0.019860  \n",
      "357  0.453737  0.592603  0.820446  0.854800  \n",
      "\n",
      "[358 rows x 138 columns]\n",
      "---------------------------------------------\n",
      "Dimensions afther third dimension added:\n",
      "xTrain:\t(250, 1, 118)\n",
      "yTrain:\t(250, 1, 20)\n",
      "xVal:\t(108, 1, 118)\n",
      "yVal:\t(108, 1, 20)\n",
      "xTest:\t(359, 1, 118)\n",
      "yTest:\t(359, 1, 20)\n"
     ]
    }
   ],
   "source": [
    "dfPreproccessed = pd.concat([X, Y], axis = 1)\n",
    "\n",
    "print(\"DataFrame Preproccessed:\")\n",
    "print(dfPreproccessed)\n",
    "print(\"---------------------------------------------\")\n",
    "\n",
    "# Split the data into training and validation sets\n",
    "xTrain, xVal, yTrain, yVal = train_test_split(X, \n",
    "                                            Y, \n",
    "                                            test_size = val_size, \n",
    "                                            random_state = 0, \n",
    "                                            shuffle=False)\n",
    "\n",
    "# Adding the third dimension needed to use LSTM (samples, timestamps, features)\n",
    "xtrain = np.reshape(xTrain.values, (xTrain.shape[0], 1, xTrain.shape[1]))\n",
    "ytrain = np.reshape(yTrain.values, (yTrain.shape[0], 1, yTrain.shape[1]))\n",
    "xval = np.reshape(xVal.values, (xVal.shape[0], 1,  xVal.shape[1]))\n",
    "yval = np.reshape(yVal.values, (yVal.shape[0], 1, yVal.shape[1]))\n",
    "xtest = np.reshape(xTest.values, (xTest.shape[0], 1, xTest.shape[1]))\n",
    "ytest = np.reshape(yTest.values, (yTest.shape[0], 1, yTest.shape[1]))\n",
    "\n",
    "# New shapes after third dimension added\n",
    "print(\"Dimensions afther third dimension added:\")\n",
    "print(\"xTrain:\\t\"+str(xtrain.shape))\n",
    "print(\"yTrain:\\t\"+str(ytrain.shape))\n",
    "print(\"xVal:\\t\"+str(xval.shape))\n",
    "print(\"yVal:\\t\"+str(yval.shape))\n",
    "print(\"xTest:\\t\"+str(xtest.shape))\n",
    "print(\"yTest:\\t\"+str(ytest.shape))"
   ]
  },
  {
   "cell_type": "code",
   "execution_count": 136,
   "metadata": {},
   "outputs": [],
   "source": [
    "\n",
    "# Model definition:\n",
    "with tf.device('/gpu:0'): \n",
    "    \n",
    "    def build_model(hp): \n",
    "\n",
    "        model = Sequential()\n",
    "        \n",
    "        # First layer: GRU. Number of units optimization\n",
    "        model.add(GRU(units = hp.Int('units', \n",
    "                                    min_value = minUnits,\n",
    "                                    max_value = maxUnits, \n",
    "                                    step = stepsUnits,\n",
    "                                    default = defaultUnits),\n",
    "                        return_sequences = False, \n",
    "                        input_shape = (xtrain.shape[1], xtrain.shape[2])))\n",
    "\n",
    "        # Second layer: Dropout with percetange optimization\n",
    "        model.add(\n",
    "            Dropout(hp.Float('dropout', \n",
    "                            min_value = minDropout,\n",
    "                            max_value = maxDropout,\n",
    "                            default = defaultDropout)))\n",
    "        \n",
    "        # Last layer:\n",
    "        model.add(Dense(numPredictions))\n",
    "\n",
    "        # # Set Epsilon to 1, in order to fix huge MAPE values.\n",
    "        # keras.backend.set_epsilon(1)\n",
    "\n",
    "        # Model compilation: learning rate optimization\n",
    "        model.compile(loss = loss,\n",
    "                    optimizer = keras.optimizers.Adam(hp.Choice('learning_rate', \n",
    "                                                                values = learningRate)),\n",
    "                    metrics = modelMetrics)\n",
    "\n",
    "        return model"
   ]
  },
  {
   "cell_type": "code",
   "execution_count": 137,
   "metadata": {},
   "outputs": [
    {
     "data": {
      "text/html": [
       "<span style=\"color:#4527A0\"><h1 style=\"font-size:18px\">Trial complete</h1></span>"
      ],
      "text/plain": [
       "<IPython.core.display.HTML object>"
      ]
     },
     "metadata": {},
     "output_type": "display_data"
    },
    {
     "data": {
      "text/html": [
       "<span style=\"color:#4527A0\"><h1 style=\"font-size:18px\">Trial summary</h1></span>"
      ],
      "text/plain": [
       "<IPython.core.display.HTML object>"
      ]
     },
     "metadata": {},
     "output_type": "display_data"
    },
    {
     "data": {
      "text/html": [
       "<span style=\"color:cyan\"> |-Trial ID: a10a124c341a547865617d74326f6c84</span>"
      ],
      "text/plain": [
       "<IPython.core.display.HTML object>"
      ]
     },
     "metadata": {},
     "output_type": "display_data"
    },
    {
     "data": {
      "text/html": [
       "<span style=\"color:cyan\"> |-Score: 0.2744869589805603</span>"
      ],
      "text/plain": [
       "<IPython.core.display.HTML object>"
      ]
     },
     "metadata": {},
     "output_type": "display_data"
    },
    {
     "data": {
      "text/html": [
       "<span style=\"color:cyan\"> |-Best step: 0</span>"
      ],
      "text/plain": [
       "<IPython.core.display.HTML object>"
      ]
     },
     "metadata": {},
     "output_type": "display_data"
    },
    {
     "data": {
      "text/html": [
       "<span style=\"color:#7E57C2\"><h2 style=\"font-size:16px\">Hyperparameters:</h2></span>"
      ],
      "text/plain": [
       "<IPython.core.display.HTML object>"
      ]
     },
     "metadata": {},
     "output_type": "display_data"
    },
    {
     "data": {
      "text/html": [
       "<span style=\"color:cyan\"> |-dropout: 0.2359734077446855</span>"
      ],
      "text/plain": [
       "<IPython.core.display.HTML object>"
      ]
     },
     "metadata": {},
     "output_type": "display_data"
    },
    {
     "data": {
      "text/html": [
       "<span style=\"color:blue\"> |-learning_rate: 0.001</span>"
      ],
      "text/plain": [
       "<IPython.core.display.HTML object>"
      ]
     },
     "metadata": {},
     "output_type": "display_data"
    },
    {
     "data": {
      "text/html": [
       "<span style=\"color:cyan\"> |-units: 30</span>"
      ],
      "text/plain": [
       "<IPython.core.display.HTML object>"
      ]
     },
     "metadata": {},
     "output_type": "display_data"
    },
    {
     "data": {
      "text/html": [
       "<span style=\"color:#4527A0\"><h1 style=\"font-size:18px\">Trial complete</h1></span>"
      ],
      "text/plain": [
       "<IPython.core.display.HTML object>"
      ]
     },
     "metadata": {},
     "output_type": "display_data"
    },
    {
     "data": {
      "text/html": [
       "<span style=\"color:#4527A0\"><h1 style=\"font-size:18px\">Trial summary</h1></span>"
      ],
      "text/plain": [
       "<IPython.core.display.HTML object>"
      ]
     },
     "metadata": {},
     "output_type": "display_data"
    },
    {
     "data": {
      "text/html": [
       "<span style=\"color:cyan\"> |-Trial ID: 4cf963a787114c4dfd3cd2331854ce2d</span>"
      ],
      "text/plain": [
       "<IPython.core.display.HTML object>"
      ]
     },
     "metadata": {},
     "output_type": "display_data"
    },
    {
     "data": {
      "text/html": [
       "<span style=\"color:cyan\"> |-Score: 0.5219401121139526</span>"
      ],
      "text/plain": [
       "<IPython.core.display.HTML object>"
      ]
     },
     "metadata": {},
     "output_type": "display_data"
    },
    {
     "data": {
      "text/html": [
       "<span style=\"color:cyan\"> |-Best step: 0</span>"
      ],
      "text/plain": [
       "<IPython.core.display.HTML object>"
      ]
     },
     "metadata": {},
     "output_type": "display_data"
    },
    {
     "data": {
      "text/html": [
       "<span style=\"color:#7E57C2\"><h2 style=\"font-size:16px\">Hyperparameters:</h2></span>"
      ],
      "text/plain": [
       "<IPython.core.display.HTML object>"
      ]
     },
     "metadata": {},
     "output_type": "display_data"
    },
    {
     "data": {
      "text/html": [
       "<span style=\"color:cyan\"> |-dropout: 0.10684646992695156</span>"
      ],
      "text/plain": [
       "<IPython.core.display.HTML object>"
      ]
     },
     "metadata": {},
     "output_type": "display_data"
    },
    {
     "data": {
      "text/html": [
       "<span style=\"color:blue\"> |-learning_rate: 0.0001</span>"
      ],
      "text/plain": [
       "<IPython.core.display.HTML object>"
      ]
     },
     "metadata": {},
     "output_type": "display_data"
    },
    {
     "data": {
      "text/html": [
       "<span style=\"color:cyan\"> |-units: 10</span>"
      ],
      "text/plain": [
       "<IPython.core.display.HTML object>"
      ]
     },
     "metadata": {},
     "output_type": "display_data"
    },
    {
     "data": {
      "text/html": [
       "<span style=\"color:#4527A0\"><h1 style=\"font-size:18px\">Trial complete</h1></span>"
      ],
      "text/plain": [
       "<IPython.core.display.HTML object>"
      ]
     },
     "metadata": {},
     "output_type": "display_data"
    },
    {
     "data": {
      "text/html": [
       "<span style=\"color:#4527A0\"><h1 style=\"font-size:18px\">Trial summary</h1></span>"
      ],
      "text/plain": [
       "<IPython.core.display.HTML object>"
      ]
     },
     "metadata": {},
     "output_type": "display_data"
    },
    {
     "data": {
      "text/html": [
       "<span style=\"color:cyan\"> |-Trial ID: 7c4f7a11fd7c5f7c5a9b0e73a977684d</span>"
      ],
      "text/plain": [
       "<IPython.core.display.HTML object>"
      ]
     },
     "metadata": {},
     "output_type": "display_data"
    },
    {
     "data": {
      "text/html": [
       "<span style=\"color:cyan\"> |-Score: 0.5116912126541138</span>"
      ],
      "text/plain": [
       "<IPython.core.display.HTML object>"
      ]
     },
     "metadata": {},
     "output_type": "display_data"
    },
    {
     "data": {
      "text/html": [
       "<span style=\"color:cyan\"> |-Best step: 0</span>"
      ],
      "text/plain": [
       "<IPython.core.display.HTML object>"
      ]
     },
     "metadata": {},
     "output_type": "display_data"
    },
    {
     "data": {
      "text/html": [
       "<span style=\"color:#7E57C2\"><h2 style=\"font-size:16px\">Hyperparameters:</h2></span>"
      ],
      "text/plain": [
       "<IPython.core.display.HTML object>"
      ]
     },
     "metadata": {},
     "output_type": "display_data"
    },
    {
     "data": {
      "text/html": [
       "<span style=\"color:cyan\"> |-dropout: 0.027867998046877347</span>"
      ],
      "text/plain": [
       "<IPython.core.display.HTML object>"
      ]
     },
     "metadata": {},
     "output_type": "display_data"
    },
    {
     "data": {
      "text/html": [
       "<span style=\"color:blue\"> |-learning_rate: 0.0001</span>"
      ],
      "text/plain": [
       "<IPython.core.display.HTML object>"
      ]
     },
     "metadata": {},
     "output_type": "display_data"
    },
    {
     "data": {
      "text/html": [
       "<span style=\"color:cyan\"> |-units: 10</span>"
      ],
      "text/plain": [
       "<IPython.core.display.HTML object>"
      ]
     },
     "metadata": {},
     "output_type": "display_data"
    },
    {
     "data": {
      "text/html": [
       "<span style=\"color:#4527A0\"><h1 style=\"font-size:18px\">Trial complete</h1></span>"
      ],
      "text/plain": [
       "<IPython.core.display.HTML object>"
      ]
     },
     "metadata": {},
     "output_type": "display_data"
    },
    {
     "data": {
      "text/html": [
       "<span style=\"color:#4527A0\"><h1 style=\"font-size:18px\">Trial summary</h1></span>"
      ],
      "text/plain": [
       "<IPython.core.display.HTML object>"
      ]
     },
     "metadata": {},
     "output_type": "display_data"
    },
    {
     "data": {
      "text/html": [
       "<span style=\"color:cyan\"> |-Trial ID: 32a836f905610da0cefbe7aaf7e9f4ba</span>"
      ],
      "text/plain": [
       "<IPython.core.display.HTML object>"
      ]
     },
     "metadata": {},
     "output_type": "display_data"
    },
    {
     "data": {
      "text/html": [
       "<span style=\"color:cyan\"> |-Score: 0.26184695959091187</span>"
      ],
      "text/plain": [
       "<IPython.core.display.HTML object>"
      ]
     },
     "metadata": {},
     "output_type": "display_data"
    },
    {
     "data": {
      "text/html": [
       "<span style=\"color:cyan\"> |-Best step: 0</span>"
      ],
      "text/plain": [
       "<IPython.core.display.HTML object>"
      ]
     },
     "metadata": {},
     "output_type": "display_data"
    },
    {
     "data": {
      "text/html": [
       "<span style=\"color:#7E57C2\"><h2 style=\"font-size:16px\">Hyperparameters:</h2></span>"
      ],
      "text/plain": [
       "<IPython.core.display.HTML object>"
      ]
     },
     "metadata": {},
     "output_type": "display_data"
    },
    {
     "data": {
      "text/html": [
       "<span style=\"color:cyan\"> |-dropout: 0.06754383815570812</span>"
      ],
      "text/plain": [
       "<IPython.core.display.HTML object>"
      ]
     },
     "metadata": {},
     "output_type": "display_data"
    },
    {
     "data": {
      "text/html": [
       "<span style=\"color:blue\"> |-learning_rate: 0.001</span>"
      ],
      "text/plain": [
       "<IPython.core.display.HTML object>"
      ]
     },
     "metadata": {},
     "output_type": "display_data"
    },
    {
     "data": {
      "text/html": [
       "<span style=\"color:cyan\"> |-units: 30</span>"
      ],
      "text/plain": [
       "<IPython.core.display.HTML object>"
      ]
     },
     "metadata": {},
     "output_type": "display_data"
    },
    {
     "data": {
      "text/html": [
       "<span style=\"color:#4527A0\"><h1 style=\"font-size:18px\">Trial complete</h1></span>"
      ],
      "text/plain": [
       "<IPython.core.display.HTML object>"
      ]
     },
     "metadata": {},
     "output_type": "display_data"
    },
    {
     "data": {
      "text/html": [
       "<span style=\"color:#4527A0\"><h1 style=\"font-size:18px\">Trial summary</h1></span>"
      ],
      "text/plain": [
       "<IPython.core.display.HTML object>"
      ]
     },
     "metadata": {},
     "output_type": "display_data"
    },
    {
     "data": {
      "text/html": [
       "<span style=\"color:cyan\"> |-Trial ID: 9f24269b8b2376d2088c93e99df75d81</span>"
      ],
      "text/plain": [
       "<IPython.core.display.HTML object>"
      ]
     },
     "metadata": {},
     "output_type": "display_data"
    },
    {
     "data": {
      "text/html": [
       "<span style=\"color:cyan\"> |-Score: 0.39242082834243774</span>"
      ],
      "text/plain": [
       "<IPython.core.display.HTML object>"
      ]
     },
     "metadata": {},
     "output_type": "display_data"
    },
    {
     "data": {
      "text/html": [
       "<span style=\"color:cyan\"> |-Best step: 0</span>"
      ],
      "text/plain": [
       "<IPython.core.display.HTML object>"
      ]
     },
     "metadata": {},
     "output_type": "display_data"
    },
    {
     "data": {
      "text/html": [
       "<span style=\"color:#7E57C2\"><h2 style=\"font-size:16px\">Hyperparameters:</h2></span>"
      ],
      "text/plain": [
       "<IPython.core.display.HTML object>"
      ]
     },
     "metadata": {},
     "output_type": "display_data"
    },
    {
     "data": {
      "text/html": [
       "<span style=\"color:cyan\"> |-dropout: 0.15718222050963546</span>"
      ],
      "text/plain": [
       "<IPython.core.display.HTML object>"
      ]
     },
     "metadata": {},
     "output_type": "display_data"
    },
    {
     "data": {
      "text/html": [
       "<span style=\"color:blue\"> |-learning_rate: 0.0001</span>"
      ],
      "text/plain": [
       "<IPython.core.display.HTML object>"
      ]
     },
     "metadata": {},
     "output_type": "display_data"
    },
    {
     "data": {
      "text/html": [
       "<span style=\"color:cyan\"> |-units: 30</span>"
      ],
      "text/plain": [
       "<IPython.core.display.HTML object>"
      ]
     },
     "metadata": {},
     "output_type": "display_data"
    },
    {
     "data": {
      "text/html": [
       "<span style=\"color:#4527A0\"><h1 style=\"font-size:18px\">Trial complete</h1></span>"
      ],
      "text/plain": [
       "<IPython.core.display.HTML object>"
      ]
     },
     "metadata": {},
     "output_type": "display_data"
    },
    {
     "data": {
      "text/html": [
       "<span style=\"color:#4527A0\"><h1 style=\"font-size:18px\">Trial summary</h1></span>"
      ],
      "text/plain": [
       "<IPython.core.display.HTML object>"
      ]
     },
     "metadata": {},
     "output_type": "display_data"
    },
    {
     "data": {
      "text/html": [
       "<span style=\"color:cyan\"> |-Trial ID: 677069863eb5855f5fdf3d6399696c6e</span>"
      ],
      "text/plain": [
       "<IPython.core.display.HTML object>"
      ]
     },
     "metadata": {},
     "output_type": "display_data"
    },
    {
     "data": {
      "text/html": [
       "<span style=\"color:cyan\"> |-Score: 0.41587722301483154</span>"
      ],
      "text/plain": [
       "<IPython.core.display.HTML object>"
      ]
     },
     "metadata": {},
     "output_type": "display_data"
    },
    {
     "data": {
      "text/html": [
       "<span style=\"color:cyan\"> |-Best step: 0</span>"
      ],
      "text/plain": [
       "<IPython.core.display.HTML object>"
      ]
     },
     "metadata": {},
     "output_type": "display_data"
    },
    {
     "data": {
      "text/html": [
       "<span style=\"color:#7E57C2\"><h2 style=\"font-size:16px\">Hyperparameters:</h2></span>"
      ],
      "text/plain": [
       "<IPython.core.display.HTML object>"
      ]
     },
     "metadata": {},
     "output_type": "display_data"
    },
    {
     "data": {
      "text/html": [
       "<span style=\"color:cyan\"> |-dropout: 0.2413891749233684</span>"
      ],
      "text/plain": [
       "<IPython.core.display.HTML object>"
      ]
     },
     "metadata": {},
     "output_type": "display_data"
    },
    {
     "data": {
      "text/html": [
       "<span style=\"color:blue\"> |-learning_rate: 0.0001</span>"
      ],
      "text/plain": [
       "<IPython.core.display.HTML object>"
      ]
     },
     "metadata": {},
     "output_type": "display_data"
    },
    {
     "data": {
      "text/html": [
       "<span style=\"color:cyan\"> |-units: 30</span>"
      ],
      "text/plain": [
       "<IPython.core.display.HTML object>"
      ]
     },
     "metadata": {},
     "output_type": "display_data"
    },
    {
     "data": {
      "text/html": [
       "<span style=\"color:#4527A0\"><h1 style=\"font-size:18px\">Trial complete</h1></span>"
      ],
      "text/plain": [
       "<IPython.core.display.HTML object>"
      ]
     },
     "metadata": {},
     "output_type": "display_data"
    },
    {
     "data": {
      "text/html": [
       "<span style=\"color:#4527A0\"><h1 style=\"font-size:18px\">Trial summary</h1></span>"
      ],
      "text/plain": [
       "<IPython.core.display.HTML object>"
      ]
     },
     "metadata": {},
     "output_type": "display_data"
    },
    {
     "data": {
      "text/html": [
       "<span style=\"color:cyan\"> |-Trial ID: caa85473cb6886140dd31ec85a8ee742</span>"
      ],
      "text/plain": [
       "<IPython.core.display.HTML object>"
      ]
     },
     "metadata": {},
     "output_type": "display_data"
    },
    {
     "data": {
      "text/html": [
       "<span style=\"color:cyan\"> |-Score: 0.2702023983001709</span>"
      ],
      "text/plain": [
       "<IPython.core.display.HTML object>"
      ]
     },
     "metadata": {},
     "output_type": "display_data"
    },
    {
     "data": {
      "text/html": [
       "<span style=\"color:cyan\"> |-Best step: 0</span>"
      ],
      "text/plain": [
       "<IPython.core.display.HTML object>"
      ]
     },
     "metadata": {},
     "output_type": "display_data"
    },
    {
     "data": {
      "text/html": [
       "<span style=\"color:#7E57C2\"><h2 style=\"font-size:16px\">Hyperparameters:</h2></span>"
      ],
      "text/plain": [
       "<IPython.core.display.HTML object>"
      ]
     },
     "metadata": {},
     "output_type": "display_data"
    },
    {
     "data": {
      "text/html": [
       "<span style=\"color:cyan\"> |-dropout: 0.18692764554553626</span>"
      ],
      "text/plain": [
       "<IPython.core.display.HTML object>"
      ]
     },
     "metadata": {},
     "output_type": "display_data"
    },
    {
     "data": {
      "text/html": [
       "<span style=\"color:blue\"> |-learning_rate: 0.01</span>"
      ],
      "text/plain": [
       "<IPython.core.display.HTML object>"
      ]
     },
     "metadata": {},
     "output_type": "display_data"
    },
    {
     "data": {
      "text/html": [
       "<span style=\"color:cyan\"> |-units: 40</span>"
      ],
      "text/plain": [
       "<IPython.core.display.HTML object>"
      ]
     },
     "metadata": {},
     "output_type": "display_data"
    },
    {
     "data": {
      "text/html": [
       "<span style=\"color:#4527A0\"><h1 style=\"font-size:18px\">Trial complete</h1></span>"
      ],
      "text/plain": [
       "<IPython.core.display.HTML object>"
      ]
     },
     "metadata": {},
     "output_type": "display_data"
    },
    {
     "data": {
      "text/html": [
       "<span style=\"color:#4527A0\"><h1 style=\"font-size:18px\">Trial summary</h1></span>"
      ],
      "text/plain": [
       "<IPython.core.display.HTML object>"
      ]
     },
     "metadata": {},
     "output_type": "display_data"
    },
    {
     "data": {
      "text/html": [
       "<span style=\"color:cyan\"> |-Trial ID: f1b31fd0b36d4db23b63fb699966b520</span>"
      ],
      "text/plain": [
       "<IPython.core.display.HTML object>"
      ]
     },
     "metadata": {},
     "output_type": "display_data"
    },
    {
     "data": {
      "text/html": [
       "<span style=\"color:cyan\"> |-Score: 0.6111008524894714</span>"
      ],
      "text/plain": [
       "<IPython.core.display.HTML object>"
      ]
     },
     "metadata": {},
     "output_type": "display_data"
    },
    {
     "data": {
      "text/html": [
       "<span style=\"color:cyan\"> |-Best step: 0</span>"
      ],
      "text/plain": [
       "<IPython.core.display.HTML object>"
      ]
     },
     "metadata": {},
     "output_type": "display_data"
    },
    {
     "data": {
      "text/html": [
       "<span style=\"color:#7E57C2\"><h2 style=\"font-size:16px\">Hyperparameters:</h2></span>"
      ],
      "text/plain": [
       "<IPython.core.display.HTML object>"
      ]
     },
     "metadata": {},
     "output_type": "display_data"
    },
    {
     "data": {
      "text/html": [
       "<span style=\"color:cyan\"> |-dropout: 0.309468712344586</span>"
      ],
      "text/plain": [
       "<IPython.core.display.HTML object>"
      ]
     },
     "metadata": {},
     "output_type": "display_data"
    },
    {
     "data": {
      "text/html": [
       "<span style=\"color:blue\"> |-learning_rate: 0.0</span>"
      ],
      "text/plain": [
       "<IPython.core.display.HTML object>"
      ]
     },
     "metadata": {},
     "output_type": "display_data"
    },
    {
     "data": {
      "text/html": [
       "<span style=\"color:cyan\"> |-units: 30</span>"
      ],
      "text/plain": [
       "<IPython.core.display.HTML object>"
      ]
     },
     "metadata": {},
     "output_type": "display_data"
    },
    {
     "data": {
      "text/html": [
       "<span style=\"color:#4527A0\"><h1 style=\"font-size:18px\">Trial complete</h1></span>"
      ],
      "text/plain": [
       "<IPython.core.display.HTML object>"
      ]
     },
     "metadata": {},
     "output_type": "display_data"
    },
    {
     "data": {
      "text/html": [
       "<span style=\"color:#4527A0\"><h1 style=\"font-size:18px\">Trial summary</h1></span>"
      ],
      "text/plain": [
       "<IPython.core.display.HTML object>"
      ]
     },
     "metadata": {},
     "output_type": "display_data"
    },
    {
     "data": {
      "text/html": [
       "<span style=\"color:cyan\"> |-Trial ID: 681ecc76909cd871409da495a8de52c8</span>"
      ],
      "text/plain": [
       "<IPython.core.display.HTML object>"
      ]
     },
     "metadata": {},
     "output_type": "display_data"
    },
    {
     "data": {
      "text/html": [
       "<span style=\"color:cyan\"> |-Score: 0.582374632358551</span>"
      ],
      "text/plain": [
       "<IPython.core.display.HTML object>"
      ]
     },
     "metadata": {},
     "output_type": "display_data"
    },
    {
     "data": {
      "text/html": [
       "<span style=\"color:cyan\"> |-Best step: 0</span>"
      ],
      "text/plain": [
       "<IPython.core.display.HTML object>"
      ]
     },
     "metadata": {},
     "output_type": "display_data"
    },
    {
     "data": {
      "text/html": [
       "<span style=\"color:#7E57C2\"><h2 style=\"font-size:16px\">Hyperparameters:</h2></span>"
      ],
      "text/plain": [
       "<IPython.core.display.HTML object>"
      ]
     },
     "metadata": {},
     "output_type": "display_data"
    },
    {
     "data": {
      "text/html": [
       "<span style=\"color:cyan\"> |-dropout: 0.09931108825223751</span>"
      ],
      "text/plain": [
       "<IPython.core.display.HTML object>"
      ]
     },
     "metadata": {},
     "output_type": "display_data"
    },
    {
     "data": {
      "text/html": [
       "<span style=\"color:blue\"> |-learning_rate: 0.0</span>"
      ],
      "text/plain": [
       "<IPython.core.display.HTML object>"
      ]
     },
     "metadata": {},
     "output_type": "display_data"
    },
    {
     "data": {
      "text/html": [
       "<span style=\"color:cyan\"> |-units: 20</span>"
      ],
      "text/plain": [
       "<IPython.core.display.HTML object>"
      ]
     },
     "metadata": {},
     "output_type": "display_data"
    },
    {
     "data": {
      "text/html": [
       "<span style=\"color:#4527A0\"><h1 style=\"font-size:18px\">Trial complete</h1></span>"
      ],
      "text/plain": [
       "<IPython.core.display.HTML object>"
      ]
     },
     "metadata": {},
     "output_type": "display_data"
    },
    {
     "data": {
      "text/html": [
       "<span style=\"color:#4527A0\"><h1 style=\"font-size:18px\">Trial summary</h1></span>"
      ],
      "text/plain": [
       "<IPython.core.display.HTML object>"
      ]
     },
     "metadata": {},
     "output_type": "display_data"
    },
    {
     "data": {
      "text/html": [
       "<span style=\"color:cyan\"> |-Trial ID: f91555605c214ef1b42acae139050708</span>"
      ],
      "text/plain": [
       "<IPython.core.display.HTML object>"
      ]
     },
     "metadata": {},
     "output_type": "display_data"
    },
    {
     "data": {
      "text/html": [
       "<span style=\"color:cyan\"> |-Score: 0.2635694146156311</span>"
      ],
      "text/plain": [
       "<IPython.core.display.HTML object>"
      ]
     },
     "metadata": {},
     "output_type": "display_data"
    },
    {
     "data": {
      "text/html": [
       "<span style=\"color:cyan\"> |-Best step: 0</span>"
      ],
      "text/plain": [
       "<IPython.core.display.HTML object>"
      ]
     },
     "metadata": {},
     "output_type": "display_data"
    },
    {
     "data": {
      "text/html": [
       "<span style=\"color:#7E57C2\"><h2 style=\"font-size:16px\">Hyperparameters:</h2></span>"
      ],
      "text/plain": [
       "<IPython.core.display.HTML object>"
      ]
     },
     "metadata": {},
     "output_type": "display_data"
    },
    {
     "data": {
      "text/html": [
       "<span style=\"color:cyan\"> |-dropout: 0.017160822869277205</span>"
      ],
      "text/plain": [
       "<IPython.core.display.HTML object>"
      ]
     },
     "metadata": {},
     "output_type": "display_data"
    },
    {
     "data": {
      "text/html": [
       "<span style=\"color:blue\"> |-learning_rate: 0.001</span>"
      ],
      "text/plain": [
       "<IPython.core.display.HTML object>"
      ]
     },
     "metadata": {},
     "output_type": "display_data"
    },
    {
     "data": {
      "text/html": [
       "<span style=\"color:cyan\"> |-units: 20</span>"
      ],
      "text/plain": [
       "<IPython.core.display.HTML object>"
      ]
     },
     "metadata": {},
     "output_type": "display_data"
    },
    {
     "data": {
      "text/html": [
       "<span style=\"color:#4527A0\"><h1 style=\"font-size:18px\">Trial complete</h1></span>"
      ],
      "text/plain": [
       "<IPython.core.display.HTML object>"
      ]
     },
     "metadata": {},
     "output_type": "display_data"
    },
    {
     "data": {
      "text/html": [
       "<span style=\"color:#4527A0\"><h1 style=\"font-size:18px\">Trial summary</h1></span>"
      ],
      "text/plain": [
       "<IPython.core.display.HTML object>"
      ]
     },
     "metadata": {},
     "output_type": "display_data"
    },
    {
     "data": {
      "text/html": [
       "<span style=\"color:cyan\"> |-Trial ID: c2cf4c680103daaf6044d8a0bc214efd</span>"
      ],
      "text/plain": [
       "<IPython.core.display.HTML object>"
      ]
     },
     "metadata": {},
     "output_type": "display_data"
    },
    {
     "data": {
      "text/html": [
       "<span style=\"color:cyan\"> |-Score: 0.39674901962280273</span>"
      ],
      "text/plain": [
       "<IPython.core.display.HTML object>"
      ]
     },
     "metadata": {},
     "output_type": "display_data"
    },
    {
     "data": {
      "text/html": [
       "<span style=\"color:cyan\"> |-Best step: 0</span>"
      ],
      "text/plain": [
       "<IPython.core.display.HTML object>"
      ]
     },
     "metadata": {},
     "output_type": "display_data"
    },
    {
     "data": {
      "text/html": [
       "<span style=\"color:#7E57C2\"><h2 style=\"font-size:16px\">Hyperparameters:</h2></span>"
      ],
      "text/plain": [
       "<IPython.core.display.HTML object>"
      ]
     },
     "metadata": {},
     "output_type": "display_data"
    },
    {
     "data": {
      "text/html": [
       "<span style=\"color:cyan\"> |-dropout: 0.09226272596828819</span>"
      ],
      "text/plain": [
       "<IPython.core.display.HTML object>"
      ]
     },
     "metadata": {},
     "output_type": "display_data"
    },
    {
     "data": {
      "text/html": [
       "<span style=\"color:blue\"> |-learning_rate: 0.0001</span>"
      ],
      "text/plain": [
       "<IPython.core.display.HTML object>"
      ]
     },
     "metadata": {},
     "output_type": "display_data"
    },
    {
     "data": {
      "text/html": [
       "<span style=\"color:cyan\"> |-units: 40</span>"
      ],
      "text/plain": [
       "<IPython.core.display.HTML object>"
      ]
     },
     "metadata": {},
     "output_type": "display_data"
    },
    {
     "data": {
      "text/html": [
       "<span style=\"color:#4527A0\"><h1 style=\"font-size:18px\">Trial complete</h1></span>"
      ],
      "text/plain": [
       "<IPython.core.display.HTML object>"
      ]
     },
     "metadata": {},
     "output_type": "display_data"
    },
    {
     "data": {
      "text/html": [
       "<span style=\"color:#4527A0\"><h1 style=\"font-size:18px\">Trial summary</h1></span>"
      ],
      "text/plain": [
       "<IPython.core.display.HTML object>"
      ]
     },
     "metadata": {},
     "output_type": "display_data"
    },
    {
     "data": {
      "text/html": [
       "<span style=\"color:cyan\"> |-Trial ID: 4443d55f2a55b58178b465b30ec2fc50</span>"
      ],
      "text/plain": [
       "<IPython.core.display.HTML object>"
      ]
     },
     "metadata": {},
     "output_type": "display_data"
    },
    {
     "data": {
      "text/html": [
       "<span style=\"color:cyan\"> |-Score: 0.26766470074653625</span>"
      ],
      "text/plain": [
       "<IPython.core.display.HTML object>"
      ]
     },
     "metadata": {},
     "output_type": "display_data"
    },
    {
     "data": {
      "text/html": [
       "<span style=\"color:cyan\"> |-Best step: 0</span>"
      ],
      "text/plain": [
       "<IPython.core.display.HTML object>"
      ]
     },
     "metadata": {},
     "output_type": "display_data"
    },
    {
     "data": {
      "text/html": [
       "<span style=\"color:#7E57C2\"><h2 style=\"font-size:16px\">Hyperparameters:</h2></span>"
      ],
      "text/plain": [
       "<IPython.core.display.HTML object>"
      ]
     },
     "metadata": {},
     "output_type": "display_data"
    },
    {
     "data": {
      "text/html": [
       "<span style=\"color:cyan\"> |-dropout: 0.254799223323455</span>"
      ],
      "text/plain": [
       "<IPython.core.display.HTML object>"
      ]
     },
     "metadata": {},
     "output_type": "display_data"
    },
    {
     "data": {
      "text/html": [
       "<span style=\"color:blue\"> |-learning_rate: 0.001</span>"
      ],
      "text/plain": [
       "<IPython.core.display.HTML object>"
      ]
     },
     "metadata": {},
     "output_type": "display_data"
    },
    {
     "data": {
      "text/html": [
       "<span style=\"color:cyan\"> |-units: 50</span>"
      ],
      "text/plain": [
       "<IPython.core.display.HTML object>"
      ]
     },
     "metadata": {},
     "output_type": "display_data"
    },
    {
     "data": {
      "text/html": [
       "<span style=\"color:#4527A0\"><h1 style=\"font-size:18px\">Trial complete</h1></span>"
      ],
      "text/plain": [
       "<IPython.core.display.HTML object>"
      ]
     },
     "metadata": {},
     "output_type": "display_data"
    },
    {
     "data": {
      "text/html": [
       "<span style=\"color:#4527A0\"><h1 style=\"font-size:18px\">Trial summary</h1></span>"
      ],
      "text/plain": [
       "<IPython.core.display.HTML object>"
      ]
     },
     "metadata": {},
     "output_type": "display_data"
    },
    {
     "data": {
      "text/html": [
       "<span style=\"color:cyan\"> |-Trial ID: 357eaf48c2a8a359bf4aaac72bd96484</span>"
      ],
      "text/plain": [
       "<IPython.core.display.HTML object>"
      ]
     },
     "metadata": {},
     "output_type": "display_data"
    },
    {
     "data": {
      "text/html": [
       "<span style=\"color:cyan\"> |-Score: 0.2467525154352188</span>"
      ],
      "text/plain": [
       "<IPython.core.display.HTML object>"
      ]
     },
     "metadata": {},
     "output_type": "display_data"
    },
    {
     "data": {
      "text/html": [
       "<span style=\"color:cyan\"> |-Best step: 0</span>"
      ],
      "text/plain": [
       "<IPython.core.display.HTML object>"
      ]
     },
     "metadata": {},
     "output_type": "display_data"
    },
    {
     "data": {
      "text/html": [
       "<span style=\"color:#7E57C2\"><h2 style=\"font-size:16px\">Hyperparameters:</h2></span>"
      ],
      "text/plain": [
       "<IPython.core.display.HTML object>"
      ]
     },
     "metadata": {},
     "output_type": "display_data"
    },
    {
     "data": {
      "text/html": [
       "<span style=\"color:cyan\"> |-dropout: 0.1250724304355518</span>"
      ],
      "text/plain": [
       "<IPython.core.display.HTML object>"
      ]
     },
     "metadata": {},
     "output_type": "display_data"
    },
    {
     "data": {
      "text/html": [
       "<span style=\"color:blue\"> |-learning_rate: 0.01</span>"
      ],
      "text/plain": [
       "<IPython.core.display.HTML object>"
      ]
     },
     "metadata": {},
     "output_type": "display_data"
    },
    {
     "data": {
      "text/html": [
       "<span style=\"color:cyan\"> |-units: 50</span>"
      ],
      "text/plain": [
       "<IPython.core.display.HTML object>"
      ]
     },
     "metadata": {},
     "output_type": "display_data"
    },
    {
     "data": {
      "text/html": [
       "<span style=\"color:#4527A0\"><h1 style=\"font-size:18px\">Trial complete</h1></span>"
      ],
      "text/plain": [
       "<IPython.core.display.HTML object>"
      ]
     },
     "metadata": {},
     "output_type": "display_data"
    },
    {
     "data": {
      "text/html": [
       "<span style=\"color:#4527A0\"><h1 style=\"font-size:18px\">Trial summary</h1></span>"
      ],
      "text/plain": [
       "<IPython.core.display.HTML object>"
      ]
     },
     "metadata": {},
     "output_type": "display_data"
    },
    {
     "data": {
      "text/html": [
       "<span style=\"color:cyan\"> |-Trial ID: 81f795121ca6085d94b2f79008f96371</span>"
      ],
      "text/plain": [
       "<IPython.core.display.HTML object>"
      ]
     },
     "metadata": {},
     "output_type": "display_data"
    },
    {
     "data": {
      "text/html": [
       "<span style=\"color:cyan\"> |-Score: 0.30709466338157654</span>"
      ],
      "text/plain": [
       "<IPython.core.display.HTML object>"
      ]
     },
     "metadata": {},
     "output_type": "display_data"
    },
    {
     "data": {
      "text/html": [
       "<span style=\"color:cyan\"> |-Best step: 0</span>"
      ],
      "text/plain": [
       "<IPython.core.display.HTML object>"
      ]
     },
     "metadata": {},
     "output_type": "display_data"
    },
    {
     "data": {
      "text/html": [
       "<span style=\"color:#7E57C2\"><h2 style=\"font-size:16px\">Hyperparameters:</h2></span>"
      ],
      "text/plain": [
       "<IPython.core.display.HTML object>"
      ]
     },
     "metadata": {},
     "output_type": "display_data"
    },
    {
     "data": {
      "text/html": [
       "<span style=\"color:cyan\"> |-dropout: 0.1475804346549933</span>"
      ],
      "text/plain": [
       "<IPython.core.display.HTML object>"
      ]
     },
     "metadata": {},
     "output_type": "display_data"
    },
    {
     "data": {
      "text/html": [
       "<span style=\"color:blue\"> |-learning_rate: 0.001</span>"
      ],
      "text/plain": [
       "<IPython.core.display.HTML object>"
      ]
     },
     "metadata": {},
     "output_type": "display_data"
    },
    {
     "data": {
      "text/html": [
       "<span style=\"color:cyan\"> |-units: 10</span>"
      ],
      "text/plain": [
       "<IPython.core.display.HTML object>"
      ]
     },
     "metadata": {},
     "output_type": "display_data"
    },
    {
     "data": {
      "text/html": [
       "<span style=\"color:#4527A0\"><h1 style=\"font-size:18px\">Trial complete</h1></span>"
      ],
      "text/plain": [
       "<IPython.core.display.HTML object>"
      ]
     },
     "metadata": {},
     "output_type": "display_data"
    },
    {
     "data": {
      "text/html": [
       "<span style=\"color:#4527A0\"><h1 style=\"font-size:18px\">Trial summary</h1></span>"
      ],
      "text/plain": [
       "<IPython.core.display.HTML object>"
      ]
     },
     "metadata": {},
     "output_type": "display_data"
    },
    {
     "data": {
      "text/html": [
       "<span style=\"color:cyan\"> |-Trial ID: d276cc3145467694aa49b5d43d6b64d8</span>"
      ],
      "text/plain": [
       "<IPython.core.display.HTML object>"
      ]
     },
     "metadata": {},
     "output_type": "display_data"
    },
    {
     "data": {
      "text/html": [
       "<span style=\"color:cyan\"> |-Score: 0.3785170912742615</span>"
      ],
      "text/plain": [
       "<IPython.core.display.HTML object>"
      ]
     },
     "metadata": {},
     "output_type": "display_data"
    },
    {
     "data": {
      "text/html": [
       "<span style=\"color:cyan\"> |-Best step: 0</span>"
      ],
      "text/plain": [
       "<IPython.core.display.HTML object>"
      ]
     },
     "metadata": {},
     "output_type": "display_data"
    },
    {
     "data": {
      "text/html": [
       "<span style=\"color:#7E57C2\"><h2 style=\"font-size:16px\">Hyperparameters:</h2></span>"
      ],
      "text/plain": [
       "<IPython.core.display.HTML object>"
      ]
     },
     "metadata": {},
     "output_type": "display_data"
    },
    {
     "data": {
      "text/html": [
       "<span style=\"color:cyan\"> |-dropout: 0.051785550332989524</span>"
      ],
      "text/plain": [
       "<IPython.core.display.HTML object>"
      ]
     },
     "metadata": {},
     "output_type": "display_data"
    },
    {
     "data": {
      "text/html": [
       "<span style=\"color:blue\"> |-learning_rate: 0.0001</span>"
      ],
      "text/plain": [
       "<IPython.core.display.HTML object>"
      ]
     },
     "metadata": {},
     "output_type": "display_data"
    },
    {
     "data": {
      "text/html": [
       "<span style=\"color:cyan\"> |-units: 30</span>"
      ],
      "text/plain": [
       "<IPython.core.display.HTML object>"
      ]
     },
     "metadata": {},
     "output_type": "display_data"
    },
    {
     "data": {
      "text/html": [
       "<span style=\"color:#4527A0\"><h1 style=\"font-size:18px\">Trial complete</h1></span>"
      ],
      "text/plain": [
       "<IPython.core.display.HTML object>"
      ]
     },
     "metadata": {},
     "output_type": "display_data"
    },
    {
     "data": {
      "text/html": [
       "<span style=\"color:#4527A0\"><h1 style=\"font-size:18px\">Trial summary</h1></span>"
      ],
      "text/plain": [
       "<IPython.core.display.HTML object>"
      ]
     },
     "metadata": {},
     "output_type": "display_data"
    },
    {
     "data": {
      "text/html": [
       "<span style=\"color:cyan\"> |-Trial ID: 493871a4ef64166d11acec261b86e1c4</span>"
      ],
      "text/plain": [
       "<IPython.core.display.HTML object>"
      ]
     },
     "metadata": {},
     "output_type": "display_data"
    },
    {
     "data": {
      "text/html": [
       "<span style=\"color:cyan\"> |-Score: 0.3461236357688904</span>"
      ],
      "text/plain": [
       "<IPython.core.display.HTML object>"
      ]
     },
     "metadata": {},
     "output_type": "display_data"
    },
    {
     "data": {
      "text/html": [
       "<span style=\"color:cyan\"> |-Best step: 0</span>"
      ],
      "text/plain": [
       "<IPython.core.display.HTML object>"
      ]
     },
     "metadata": {},
     "output_type": "display_data"
    },
    {
     "data": {
      "text/html": [
       "<span style=\"color:#7E57C2\"><h2 style=\"font-size:16px\">Hyperparameters:</h2></span>"
      ],
      "text/plain": [
       "<IPython.core.display.HTML object>"
      ]
     },
     "metadata": {},
     "output_type": "display_data"
    },
    {
     "data": {
      "text/html": [
       "<span style=\"color:cyan\"> |-dropout: 0.31054223808940734</span>"
      ],
      "text/plain": [
       "<IPython.core.display.HTML object>"
      ]
     },
     "metadata": {},
     "output_type": "display_data"
    },
    {
     "data": {
      "text/html": [
       "<span style=\"color:blue\"> |-learning_rate: 0.0001</span>"
      ],
      "text/plain": [
       "<IPython.core.display.HTML object>"
      ]
     },
     "metadata": {},
     "output_type": "display_data"
    },
    {
     "data": {
      "text/html": [
       "<span style=\"color:cyan\"> |-units: 40</span>"
      ],
      "text/plain": [
       "<IPython.core.display.HTML object>"
      ]
     },
     "metadata": {},
     "output_type": "display_data"
    },
    {
     "data": {
      "text/html": [
       "<span style=\"color:#4527A0\"><h1 style=\"font-size:18px\">Trial complete</h1></span>"
      ],
      "text/plain": [
       "<IPython.core.display.HTML object>"
      ]
     },
     "metadata": {},
     "output_type": "display_data"
    },
    {
     "data": {
      "text/html": [
       "<span style=\"color:#4527A0\"><h1 style=\"font-size:18px\">Trial summary</h1></span>"
      ],
      "text/plain": [
       "<IPython.core.display.HTML object>"
      ]
     },
     "metadata": {},
     "output_type": "display_data"
    },
    {
     "data": {
      "text/html": [
       "<span style=\"color:cyan\"> |-Trial ID: 81732c1258edc106308d236c17a831c9</span>"
      ],
      "text/plain": [
       "<IPython.core.display.HTML object>"
      ]
     },
     "metadata": {},
     "output_type": "display_data"
    },
    {
     "data": {
      "text/html": [
       "<span style=\"color:cyan\"> |-Score: 0.27199453115463257</span>"
      ],
      "text/plain": [
       "<IPython.core.display.HTML object>"
      ]
     },
     "metadata": {},
     "output_type": "display_data"
    },
    {
     "data": {
      "text/html": [
       "<span style=\"color:cyan\"> |-Best step: 0</span>"
      ],
      "text/plain": [
       "<IPython.core.display.HTML object>"
      ]
     },
     "metadata": {},
     "output_type": "display_data"
    },
    {
     "data": {
      "text/html": [
       "<span style=\"color:#7E57C2\"><h2 style=\"font-size:16px\">Hyperparameters:</h2></span>"
      ],
      "text/plain": [
       "<IPython.core.display.HTML object>"
      ]
     },
     "metadata": {},
     "output_type": "display_data"
    },
    {
     "data": {
      "text/html": [
       "<span style=\"color:cyan\"> |-dropout: 0.19338254738444097</span>"
      ],
      "text/plain": [
       "<IPython.core.display.HTML object>"
      ]
     },
     "metadata": {},
     "output_type": "display_data"
    },
    {
     "data": {
      "text/html": [
       "<span style=\"color:blue\"> |-learning_rate: 0.01</span>"
      ],
      "text/plain": [
       "<IPython.core.display.HTML object>"
      ]
     },
     "metadata": {},
     "output_type": "display_data"
    },
    {
     "data": {
      "text/html": [
       "<span style=\"color:cyan\"> |-units: 20</span>"
      ],
      "text/plain": [
       "<IPython.core.display.HTML object>"
      ]
     },
     "metadata": {},
     "output_type": "display_data"
    },
    {
     "data": {
      "text/html": [
       "<span style=\"color:#4527A0\"><h1 style=\"font-size:18px\">Trial complete</h1></span>"
      ],
      "text/plain": [
       "<IPython.core.display.HTML object>"
      ]
     },
     "metadata": {},
     "output_type": "display_data"
    },
    {
     "data": {
      "text/html": [
       "<span style=\"color:#4527A0\"><h1 style=\"font-size:18px\">Trial summary</h1></span>"
      ],
      "text/plain": [
       "<IPython.core.display.HTML object>"
      ]
     },
     "metadata": {},
     "output_type": "display_data"
    },
    {
     "data": {
      "text/html": [
       "<span style=\"color:cyan\"> |-Trial ID: 110afaf26359d8896bbaf69d7e1c436a</span>"
      ],
      "text/plain": [
       "<IPython.core.display.HTML object>"
      ]
     },
     "metadata": {},
     "output_type": "display_data"
    },
    {
     "data": {
      "text/html": [
       "<span style=\"color:cyan\"> |-Score: 0.2705683708190918</span>"
      ],
      "text/plain": [
       "<IPython.core.display.HTML object>"
      ]
     },
     "metadata": {},
     "output_type": "display_data"
    },
    {
     "data": {
      "text/html": [
       "<span style=\"color:cyan\"> |-Best step: 0</span>"
      ],
      "text/plain": [
       "<IPython.core.display.HTML object>"
      ]
     },
     "metadata": {},
     "output_type": "display_data"
    },
    {
     "data": {
      "text/html": [
       "<span style=\"color:#7E57C2\"><h2 style=\"font-size:16px\">Hyperparameters:</h2></span>"
      ],
      "text/plain": [
       "<IPython.core.display.HTML object>"
      ]
     },
     "metadata": {},
     "output_type": "display_data"
    },
    {
     "data": {
      "text/html": [
       "<span style=\"color:cyan\"> |-dropout: 0.12248935804509774</span>"
      ],
      "text/plain": [
       "<IPython.core.display.HTML object>"
      ]
     },
     "metadata": {},
     "output_type": "display_data"
    },
    {
     "data": {
      "text/html": [
       "<span style=\"color:blue\"> |-learning_rate: 0.01</span>"
      ],
      "text/plain": [
       "<IPython.core.display.HTML object>"
      ]
     },
     "metadata": {},
     "output_type": "display_data"
    },
    {
     "data": {
      "text/html": [
       "<span style=\"color:cyan\"> |-units: 40</span>"
      ],
      "text/plain": [
       "<IPython.core.display.HTML object>"
      ]
     },
     "metadata": {},
     "output_type": "display_data"
    },
    {
     "data": {
      "text/html": [
       "<span style=\"color:#4527A0\"><h1 style=\"font-size:18px\">Trial complete</h1></span>"
      ],
      "text/plain": [
       "<IPython.core.display.HTML object>"
      ]
     },
     "metadata": {},
     "output_type": "display_data"
    },
    {
     "data": {
      "text/html": [
       "<span style=\"color:#4527A0\"><h1 style=\"font-size:18px\">Trial summary</h1></span>"
      ],
      "text/plain": [
       "<IPython.core.display.HTML object>"
      ]
     },
     "metadata": {},
     "output_type": "display_data"
    },
    {
     "data": {
      "text/html": [
       "<span style=\"color:cyan\"> |-Trial ID: 057eb297bdc2dd6093273bad0a29e349</span>"
      ],
      "text/plain": [
       "<IPython.core.display.HTML object>"
      ]
     },
     "metadata": {},
     "output_type": "display_data"
    },
    {
     "data": {
      "text/html": [
       "<span style=\"color:cyan\"> |-Score: 0.27170151472091675</span>"
      ],
      "text/plain": [
       "<IPython.core.display.HTML object>"
      ]
     },
     "metadata": {},
     "output_type": "display_data"
    },
    {
     "data": {
      "text/html": [
       "<span style=\"color:cyan\"> |-Best step: 0</span>"
      ],
      "text/plain": [
       "<IPython.core.display.HTML object>"
      ]
     },
     "metadata": {},
     "output_type": "display_data"
    },
    {
     "data": {
      "text/html": [
       "<span style=\"color:#7E57C2\"><h2 style=\"font-size:16px\">Hyperparameters:</h2></span>"
      ],
      "text/plain": [
       "<IPython.core.display.HTML object>"
      ]
     },
     "metadata": {},
     "output_type": "display_data"
    },
    {
     "data": {
      "text/html": [
       "<span style=\"color:cyan\"> |-dropout: 0.15295553296672357</span>"
      ],
      "text/plain": [
       "<IPython.core.display.HTML object>"
      ]
     },
     "metadata": {},
     "output_type": "display_data"
    },
    {
     "data": {
      "text/html": [
       "<span style=\"color:blue\"> |-learning_rate: 0.01</span>"
      ],
      "text/plain": [
       "<IPython.core.display.HTML object>"
      ]
     },
     "metadata": {},
     "output_type": "display_data"
    },
    {
     "data": {
      "text/html": [
       "<span style=\"color:cyan\"> |-units: 30</span>"
      ],
      "text/plain": [
       "<IPython.core.display.HTML object>"
      ]
     },
     "metadata": {},
     "output_type": "display_data"
    },
    {
     "data": {
      "text/html": [
       "<span style=\"color:#4527A0\"><h1 style=\"font-size:18px\">Trial complete</h1></span>"
      ],
      "text/plain": [
       "<IPython.core.display.HTML object>"
      ]
     },
     "metadata": {},
     "output_type": "display_data"
    },
    {
     "data": {
      "text/html": [
       "<span style=\"color:#4527A0\"><h1 style=\"font-size:18px\">Trial summary</h1></span>"
      ],
      "text/plain": [
       "<IPython.core.display.HTML object>"
      ]
     },
     "metadata": {},
     "output_type": "display_data"
    },
    {
     "data": {
      "text/html": [
       "<span style=\"color:cyan\"> |-Trial ID: cf1f5750c7a09378fccbd151cdfde298</span>"
      ],
      "text/plain": [
       "<IPython.core.display.HTML object>"
      ]
     },
     "metadata": {},
     "output_type": "display_data"
    },
    {
     "data": {
      "text/html": [
       "<span style=\"color:cyan\"> |-Score: 0.2629111409187317</span>"
      ],
      "text/plain": [
       "<IPython.core.display.HTML object>"
      ]
     },
     "metadata": {},
     "output_type": "display_data"
    },
    {
     "data": {
      "text/html": [
       "<span style=\"color:cyan\"> |-Best step: 0</span>"
      ],
      "text/plain": [
       "<IPython.core.display.HTML object>"
      ]
     },
     "metadata": {},
     "output_type": "display_data"
    },
    {
     "data": {
      "text/html": [
       "<span style=\"color:#7E57C2\"><h2 style=\"font-size:16px\">Hyperparameters:</h2></span>"
      ],
      "text/plain": [
       "<IPython.core.display.HTML object>"
      ]
     },
     "metadata": {},
     "output_type": "display_data"
    },
    {
     "data": {
      "text/html": [
       "<span style=\"color:cyan\"> |-dropout: 0.17083626234991203</span>"
      ],
      "text/plain": [
       "<IPython.core.display.HTML object>"
      ]
     },
     "metadata": {},
     "output_type": "display_data"
    },
    {
     "data": {
      "text/html": [
       "<span style=\"color:blue\"> |-learning_rate: 0.001</span>"
      ],
      "text/plain": [
       "<IPython.core.display.HTML object>"
      ]
     },
     "metadata": {},
     "output_type": "display_data"
    },
    {
     "data": {
      "text/html": [
       "<span style=\"color:cyan\"> |-units: 40</span>"
      ],
      "text/plain": [
       "<IPython.core.display.HTML object>"
      ]
     },
     "metadata": {},
     "output_type": "display_data"
    },
    {
     "data": {
      "text/html": [
       "<span style=\"color:#4527A0\"><h1 style=\"font-size:18px\">Trial complete</h1></span>"
      ],
      "text/plain": [
       "<IPython.core.display.HTML object>"
      ]
     },
     "metadata": {},
     "output_type": "display_data"
    },
    {
     "data": {
      "text/html": [
       "<span style=\"color:#4527A0\"><h1 style=\"font-size:18px\">Trial summary</h1></span>"
      ],
      "text/plain": [
       "<IPython.core.display.HTML object>"
      ]
     },
     "metadata": {},
     "output_type": "display_data"
    },
    {
     "data": {
      "text/html": [
       "<span style=\"color:cyan\"> |-Trial ID: bc8c8ed3844bcd9fee82bf837af0adc1</span>"
      ],
      "text/plain": [
       "<IPython.core.display.HTML object>"
      ]
     },
     "metadata": {},
     "output_type": "display_data"
    },
    {
     "data": {
      "text/html": [
       "<span style=\"color:cyan\"> |-Score: 0.46982812881469727</span>"
      ],
      "text/plain": [
       "<IPython.core.display.HTML object>"
      ]
     },
     "metadata": {},
     "output_type": "display_data"
    },
    {
     "data": {
      "text/html": [
       "<span style=\"color:cyan\"> |-Best step: 0</span>"
      ],
      "text/plain": [
       "<IPython.core.display.HTML object>"
      ]
     },
     "metadata": {},
     "output_type": "display_data"
    },
    {
     "data": {
      "text/html": [
       "<span style=\"color:#7E57C2\"><h2 style=\"font-size:16px\">Hyperparameters:</h2></span>"
      ],
      "text/plain": [
       "<IPython.core.display.HTML object>"
      ]
     },
     "metadata": {},
     "output_type": "display_data"
    },
    {
     "data": {
      "text/html": [
       "<span style=\"color:cyan\"> |-dropout: 0.03656886490597193</span>"
      ],
      "text/plain": [
       "<IPython.core.display.HTML object>"
      ]
     },
     "metadata": {},
     "output_type": "display_data"
    },
    {
     "data": {
      "text/html": [
       "<span style=\"color:blue\"> |-learning_rate: 0.0001</span>"
      ],
      "text/plain": [
       "<IPython.core.display.HTML object>"
      ]
     },
     "metadata": {},
     "output_type": "display_data"
    },
    {
     "data": {
      "text/html": [
       "<span style=\"color:cyan\"> |-units: 20</span>"
      ],
      "text/plain": [
       "<IPython.core.display.HTML object>"
      ]
     },
     "metadata": {},
     "output_type": "display_data"
    },
    {
     "data": {
      "text/html": [
       "<span style=\"color:#4527A0\"><h1 style=\"font-size:18px\">Trial complete</h1></span>"
      ],
      "text/plain": [
       "<IPython.core.display.HTML object>"
      ]
     },
     "metadata": {},
     "output_type": "display_data"
    },
    {
     "data": {
      "text/html": [
       "<span style=\"color:#4527A0\"><h1 style=\"font-size:18px\">Trial summary</h1></span>"
      ],
      "text/plain": [
       "<IPython.core.display.HTML object>"
      ]
     },
     "metadata": {},
     "output_type": "display_data"
    },
    {
     "data": {
      "text/html": [
       "<span style=\"color:cyan\"> |-Trial ID: 30931e3410df1101b61fa80398a9b729</span>"
      ],
      "text/plain": [
       "<IPython.core.display.HTML object>"
      ]
     },
     "metadata": {},
     "output_type": "display_data"
    },
    {
     "data": {
      "text/html": [
       "<span style=\"color:cyan\"> |-Score: 0.3339860439300537</span>"
      ],
      "text/plain": [
       "<IPython.core.display.HTML object>"
      ]
     },
     "metadata": {},
     "output_type": "display_data"
    },
    {
     "data": {
      "text/html": [
       "<span style=\"color:cyan\"> |-Best step: 0</span>"
      ],
      "text/plain": [
       "<IPython.core.display.HTML object>"
      ]
     },
     "metadata": {},
     "output_type": "display_data"
    },
    {
     "data": {
      "text/html": [
       "<span style=\"color:#7E57C2\"><h2 style=\"font-size:16px\">Hyperparameters:</h2></span>"
      ],
      "text/plain": [
       "<IPython.core.display.HTML object>"
      ]
     },
     "metadata": {},
     "output_type": "display_data"
    },
    {
     "data": {
      "text/html": [
       "<span style=\"color:cyan\"> |-dropout: 0.21555268790590135</span>"
      ],
      "text/plain": [
       "<IPython.core.display.HTML object>"
      ]
     },
     "metadata": {},
     "output_type": "display_data"
    },
    {
     "data": {
      "text/html": [
       "<span style=\"color:blue\"> |-learning_rate: 0.0001</span>"
      ],
      "text/plain": [
       "<IPython.core.display.HTML object>"
      ]
     },
     "metadata": {},
     "output_type": "display_data"
    },
    {
     "data": {
      "text/html": [
       "<span style=\"color:cyan\"> |-units: 50</span>"
      ],
      "text/plain": [
       "<IPython.core.display.HTML object>"
      ]
     },
     "metadata": {},
     "output_type": "display_data"
    },
    {
     "data": {
      "text/html": [
       "<span style=\"color:#4527A0\"><h1 style=\"font-size:18px\">Trial complete</h1></span>"
      ],
      "text/plain": [
       "<IPython.core.display.HTML object>"
      ]
     },
     "metadata": {},
     "output_type": "display_data"
    },
    {
     "data": {
      "text/html": [
       "<span style=\"color:#4527A0\"><h1 style=\"font-size:18px\">Trial summary</h1></span>"
      ],
      "text/plain": [
       "<IPython.core.display.HTML object>"
      ]
     },
     "metadata": {},
     "output_type": "display_data"
    },
    {
     "data": {
      "text/html": [
       "<span style=\"color:cyan\"> |-Trial ID: 72bdd92822b1edd65f86294369133e4f</span>"
      ],
      "text/plain": [
       "<IPython.core.display.HTML object>"
      ]
     },
     "metadata": {},
     "output_type": "display_data"
    },
    {
     "data": {
      "text/html": [
       "<span style=\"color:cyan\"> |-Score: 0.26206856966018677</span>"
      ],
      "text/plain": [
       "<IPython.core.display.HTML object>"
      ]
     },
     "metadata": {},
     "output_type": "display_data"
    },
    {
     "data": {
      "text/html": [
       "<span style=\"color:cyan\"> |-Best step: 0</span>"
      ],
      "text/plain": [
       "<IPython.core.display.HTML object>"
      ]
     },
     "metadata": {},
     "output_type": "display_data"
    },
    {
     "data": {
      "text/html": [
       "<span style=\"color:#7E57C2\"><h2 style=\"font-size:16px\">Hyperparameters:</h2></span>"
      ],
      "text/plain": [
       "<IPython.core.display.HTML object>"
      ]
     },
     "metadata": {},
     "output_type": "display_data"
    },
    {
     "data": {
      "text/html": [
       "<span style=\"color:cyan\"> |-dropout: 0.0636109626165378</span>"
      ],
      "text/plain": [
       "<IPython.core.display.HTML object>"
      ]
     },
     "metadata": {},
     "output_type": "display_data"
    },
    {
     "data": {
      "text/html": [
       "<span style=\"color:blue\"> |-learning_rate: 0.001</span>"
      ],
      "text/plain": [
       "<IPython.core.display.HTML object>"
      ]
     },
     "metadata": {},
     "output_type": "display_data"
    },
    {
     "data": {
      "text/html": [
       "<span style=\"color:cyan\"> |-units: 30</span>"
      ],
      "text/plain": [
       "<IPython.core.display.HTML object>"
      ]
     },
     "metadata": {},
     "output_type": "display_data"
    },
    {
     "data": {
      "text/html": [
       "<span style=\"color:#4527A0\"><h1 style=\"font-size:18px\">Trial complete</h1></span>"
      ],
      "text/plain": [
       "<IPython.core.display.HTML object>"
      ]
     },
     "metadata": {},
     "output_type": "display_data"
    },
    {
     "data": {
      "text/html": [
       "<span style=\"color:#4527A0\"><h1 style=\"font-size:18px\">Trial summary</h1></span>"
      ],
      "text/plain": [
       "<IPython.core.display.HTML object>"
      ]
     },
     "metadata": {},
     "output_type": "display_data"
    },
    {
     "data": {
      "text/html": [
       "<span style=\"color:cyan\"> |-Trial ID: ef8fc081d9eae2502e62711eb9443785</span>"
      ],
      "text/plain": [
       "<IPython.core.display.HTML object>"
      ]
     },
     "metadata": {},
     "output_type": "display_data"
    },
    {
     "data": {
      "text/html": [
       "<span style=\"color:cyan\"> |-Score: 0.25993824005126953</span>"
      ],
      "text/plain": [
       "<IPython.core.display.HTML object>"
      ]
     },
     "metadata": {},
     "output_type": "display_data"
    },
    {
     "data": {
      "text/html": [
       "<span style=\"color:cyan\"> |-Best step: 0</span>"
      ],
      "text/plain": [
       "<IPython.core.display.HTML object>"
      ]
     },
     "metadata": {},
     "output_type": "display_data"
    },
    {
     "data": {
      "text/html": [
       "<span style=\"color:#7E57C2\"><h2 style=\"font-size:16px\">Hyperparameters:</h2></span>"
      ],
      "text/plain": [
       "<IPython.core.display.HTML object>"
      ]
     },
     "metadata": {},
     "output_type": "display_data"
    },
    {
     "data": {
      "text/html": [
       "<span style=\"color:cyan\"> |-dropout: 0.030695240253764928</span>"
      ],
      "text/plain": [
       "<IPython.core.display.HTML object>"
      ]
     },
     "metadata": {},
     "output_type": "display_data"
    },
    {
     "data": {
      "text/html": [
       "<span style=\"color:blue\"> |-learning_rate: 0.001</span>"
      ],
      "text/plain": [
       "<IPython.core.display.HTML object>"
      ]
     },
     "metadata": {},
     "output_type": "display_data"
    },
    {
     "data": {
      "text/html": [
       "<span style=\"color:cyan\"> |-units: 40</span>"
      ],
      "text/plain": [
       "<IPython.core.display.HTML object>"
      ]
     },
     "metadata": {},
     "output_type": "display_data"
    },
    {
     "data": {
      "text/html": [
       "<span style=\"color:#4527A0\"><h1 style=\"font-size:18px\">Trial complete</h1></span>"
      ],
      "text/plain": [
       "<IPython.core.display.HTML object>"
      ]
     },
     "metadata": {},
     "output_type": "display_data"
    },
    {
     "data": {
      "text/html": [
       "<span style=\"color:#4527A0\"><h1 style=\"font-size:18px\">Trial summary</h1></span>"
      ],
      "text/plain": [
       "<IPython.core.display.HTML object>"
      ]
     },
     "metadata": {},
     "output_type": "display_data"
    },
    {
     "data": {
      "text/html": [
       "<span style=\"color:cyan\"> |-Trial ID: 2dcc2f9bb65eb013d4190b56a4d24a0e</span>"
      ],
      "text/plain": [
       "<IPython.core.display.HTML object>"
      ]
     },
     "metadata": {},
     "output_type": "display_data"
    },
    {
     "data": {
      "text/html": [
       "<span style=\"color:cyan\"> |-Score: 0.2958037853240967</span>"
      ],
      "text/plain": [
       "<IPython.core.display.HTML object>"
      ]
     },
     "metadata": {},
     "output_type": "display_data"
    },
    {
     "data": {
      "text/html": [
       "<span style=\"color:cyan\"> |-Best step: 0</span>"
      ],
      "text/plain": [
       "<IPython.core.display.HTML object>"
      ]
     },
     "metadata": {},
     "output_type": "display_data"
    },
    {
     "data": {
      "text/html": [
       "<span style=\"color:#7E57C2\"><h2 style=\"font-size:16px\">Hyperparameters:</h2></span>"
      ],
      "text/plain": [
       "<IPython.core.display.HTML object>"
      ]
     },
     "metadata": {},
     "output_type": "display_data"
    },
    {
     "data": {
      "text/html": [
       "<span style=\"color:cyan\"> |-dropout: 0.32980653674449256</span>"
      ],
      "text/plain": [
       "<IPython.core.display.HTML object>"
      ]
     },
     "metadata": {},
     "output_type": "display_data"
    },
    {
     "data": {
      "text/html": [
       "<span style=\"color:blue\"> |-learning_rate: 0.001</span>"
      ],
      "text/plain": [
       "<IPython.core.display.HTML object>"
      ]
     },
     "metadata": {},
     "output_type": "display_data"
    },
    {
     "data": {
      "text/html": [
       "<span style=\"color:cyan\"> |-units: 20</span>"
      ],
      "text/plain": [
       "<IPython.core.display.HTML object>"
      ]
     },
     "metadata": {},
     "output_type": "display_data"
    },
    {
     "data": {
      "text/html": [
       "<span style=\"color:#4527A0\"><h1 style=\"font-size:18px\">Trial complete</h1></span>"
      ],
      "text/plain": [
       "<IPython.core.display.HTML object>"
      ]
     },
     "metadata": {},
     "output_type": "display_data"
    },
    {
     "data": {
      "text/html": [
       "<span style=\"color:#4527A0\"><h1 style=\"font-size:18px\">Trial summary</h1></span>"
      ],
      "text/plain": [
       "<IPython.core.display.HTML object>"
      ]
     },
     "metadata": {},
     "output_type": "display_data"
    },
    {
     "data": {
      "text/html": [
       "<span style=\"color:cyan\"> |-Trial ID: 76f9fb105be7b3b60c93aa76e0551ee2</span>"
      ],
      "text/plain": [
       "<IPython.core.display.HTML object>"
      ]
     },
     "metadata": {},
     "output_type": "display_data"
    },
    {
     "data": {
      "text/html": [
       "<span style=\"color:cyan\"> |-Score: 0.6528221368789673</span>"
      ],
      "text/plain": [
       "<IPython.core.display.HTML object>"
      ]
     },
     "metadata": {},
     "output_type": "display_data"
    },
    {
     "data": {
      "text/html": [
       "<span style=\"color:cyan\"> |-Best step: 0</span>"
      ],
      "text/plain": [
       "<IPython.core.display.HTML object>"
      ]
     },
     "metadata": {},
     "output_type": "display_data"
    },
    {
     "data": {
      "text/html": [
       "<span style=\"color:#7E57C2\"><h2 style=\"font-size:16px\">Hyperparameters:</h2></span>"
      ],
      "text/plain": [
       "<IPython.core.display.HTML object>"
      ]
     },
     "metadata": {},
     "output_type": "display_data"
    },
    {
     "data": {
      "text/html": [
       "<span style=\"color:cyan\"> |-dropout: 0.21950494950725405</span>"
      ],
      "text/plain": [
       "<IPython.core.display.HTML object>"
      ]
     },
     "metadata": {},
     "output_type": "display_data"
    },
    {
     "data": {
      "text/html": [
       "<span style=\"color:blue\"> |-learning_rate: 0.0</span>"
      ],
      "text/plain": [
       "<IPython.core.display.HTML object>"
      ]
     },
     "metadata": {},
     "output_type": "display_data"
    },
    {
     "data": {
      "text/html": [
       "<span style=\"color:cyan\"> |-units: 30</span>"
      ],
      "text/plain": [
       "<IPython.core.display.HTML object>"
      ]
     },
     "metadata": {},
     "output_type": "display_data"
    },
    {
     "data": {
      "text/html": [
       "<span style=\"color:#4527A0\"><h1 style=\"font-size:18px\">Trial complete</h1></span>"
      ],
      "text/plain": [
       "<IPython.core.display.HTML object>"
      ]
     },
     "metadata": {},
     "output_type": "display_data"
    },
    {
     "data": {
      "text/html": [
       "<span style=\"color:#4527A0\"><h1 style=\"font-size:18px\">Trial summary</h1></span>"
      ],
      "text/plain": [
       "<IPython.core.display.HTML object>"
      ]
     },
     "metadata": {},
     "output_type": "display_data"
    },
    {
     "data": {
      "text/html": [
       "<span style=\"color:cyan\"> |-Trial ID: 5adb3fa1a829292fa3111f4cf692f479</span>"
      ],
      "text/plain": [
       "<IPython.core.display.HTML object>"
      ]
     },
     "metadata": {},
     "output_type": "display_data"
    },
    {
     "data": {
      "text/html": [
       "<span style=\"color:cyan\"> |-Score: 0.5974932909011841</span>"
      ],
      "text/plain": [
       "<IPython.core.display.HTML object>"
      ]
     },
     "metadata": {},
     "output_type": "display_data"
    },
    {
     "data": {
      "text/html": [
       "<span style=\"color:cyan\"> |-Best step: 0</span>"
      ],
      "text/plain": [
       "<IPython.core.display.HTML object>"
      ]
     },
     "metadata": {},
     "output_type": "display_data"
    },
    {
     "data": {
      "text/html": [
       "<span style=\"color:#7E57C2\"><h2 style=\"font-size:16px\">Hyperparameters:</h2></span>"
      ],
      "text/plain": [
       "<IPython.core.display.HTML object>"
      ]
     },
     "metadata": {},
     "output_type": "display_data"
    },
    {
     "data": {
      "text/html": [
       "<span style=\"color:cyan\"> |-dropout: 0.02350067230579317</span>"
      ],
      "text/plain": [
       "<IPython.core.display.HTML object>"
      ]
     },
     "metadata": {},
     "output_type": "display_data"
    },
    {
     "data": {
      "text/html": [
       "<span style=\"color:blue\"> |-learning_rate: 0.0</span>"
      ],
      "text/plain": [
       "<IPython.core.display.HTML object>"
      ]
     },
     "metadata": {},
     "output_type": "display_data"
    },
    {
     "data": {
      "text/html": [
       "<span style=\"color:cyan\"> |-units: 20</span>"
      ],
      "text/plain": [
       "<IPython.core.display.HTML object>"
      ]
     },
     "metadata": {},
     "output_type": "display_data"
    },
    {
     "data": {
      "text/html": [
       "<span style=\"color:#4527A0\"><h1 style=\"font-size:18px\">Trial complete</h1></span>"
      ],
      "text/plain": [
       "<IPython.core.display.HTML object>"
      ]
     },
     "metadata": {},
     "output_type": "display_data"
    },
    {
     "data": {
      "text/html": [
       "<span style=\"color:#4527A0\"><h1 style=\"font-size:18px\">Trial summary</h1></span>"
      ],
      "text/plain": [
       "<IPython.core.display.HTML object>"
      ]
     },
     "metadata": {},
     "output_type": "display_data"
    },
    {
     "data": {
      "text/html": [
       "<span style=\"color:cyan\"> |-Trial ID: ea8842321d8342a0288e4eaa3ad988b0</span>"
      ],
      "text/plain": [
       "<IPython.core.display.HTML object>"
      ]
     },
     "metadata": {},
     "output_type": "display_data"
    },
    {
     "data": {
      "text/html": [
       "<span style=\"color:cyan\"> |-Score: 0.6166040897369385</span>"
      ],
      "text/plain": [
       "<IPython.core.display.HTML object>"
      ]
     },
     "metadata": {},
     "output_type": "display_data"
    },
    {
     "data": {
      "text/html": [
       "<span style=\"color:cyan\"> |-Best step: 0</span>"
      ],
      "text/plain": [
       "<IPython.core.display.HTML object>"
      ]
     },
     "metadata": {},
     "output_type": "display_data"
    },
    {
     "data": {
      "text/html": [
       "<span style=\"color:#7E57C2\"><h2 style=\"font-size:16px\">Hyperparameters:</h2></span>"
      ],
      "text/plain": [
       "<IPython.core.display.HTML object>"
      ]
     },
     "metadata": {},
     "output_type": "display_data"
    },
    {
     "data": {
      "text/html": [
       "<span style=\"color:cyan\"> |-dropout: 0.31236394641710613</span>"
      ],
      "text/plain": [
       "<IPython.core.display.HTML object>"
      ]
     },
     "metadata": {},
     "output_type": "display_data"
    },
    {
     "data": {
      "text/html": [
       "<span style=\"color:blue\"> |-learning_rate: 0.0</span>"
      ],
      "text/plain": [
       "<IPython.core.display.HTML object>"
      ]
     },
     "metadata": {},
     "output_type": "display_data"
    },
    {
     "data": {
      "text/html": [
       "<span style=\"color:cyan\"> |-units: 20</span>"
      ],
      "text/plain": [
       "<IPython.core.display.HTML object>"
      ]
     },
     "metadata": {},
     "output_type": "display_data"
    },
    {
     "data": {
      "text/html": [
       "<span style=\"color:#4527A0\"><h1 style=\"font-size:18px\">Trial complete</h1></span>"
      ],
      "text/plain": [
       "<IPython.core.display.HTML object>"
      ]
     },
     "metadata": {},
     "output_type": "display_data"
    },
    {
     "data": {
      "text/html": [
       "<span style=\"color:#4527A0\"><h1 style=\"font-size:18px\">Trial summary</h1></span>"
      ],
      "text/plain": [
       "<IPython.core.display.HTML object>"
      ]
     },
     "metadata": {},
     "output_type": "display_data"
    },
    {
     "data": {
      "text/html": [
       "<span style=\"color:cyan\"> |-Trial ID: 587e4b1db006a03790d89d8e35c6869f</span>"
      ],
      "text/plain": [
       "<IPython.core.display.HTML object>"
      ]
     },
     "metadata": {},
     "output_type": "display_data"
    },
    {
     "data": {
      "text/html": [
       "<span style=\"color:cyan\"> |-Score: 0.273783802986145</span>"
      ],
      "text/plain": [
       "<IPython.core.display.HTML object>"
      ]
     },
     "metadata": {},
     "output_type": "display_data"
    },
    {
     "data": {
      "text/html": [
       "<span style=\"color:cyan\"> |-Best step: 0</span>"
      ],
      "text/plain": [
       "<IPython.core.display.HTML object>"
      ]
     },
     "metadata": {},
     "output_type": "display_data"
    },
    {
     "data": {
      "text/html": [
       "<span style=\"color:#7E57C2\"><h2 style=\"font-size:16px\">Hyperparameters:</h2></span>"
      ],
      "text/plain": [
       "<IPython.core.display.HTML object>"
      ]
     },
     "metadata": {},
     "output_type": "display_data"
    },
    {
     "data": {
      "text/html": [
       "<span style=\"color:cyan\"> |-dropout: 0.01011049627691444</span>"
      ],
      "text/plain": [
       "<IPython.core.display.HTML object>"
      ]
     },
     "metadata": {},
     "output_type": "display_data"
    },
    {
     "data": {
      "text/html": [
       "<span style=\"color:blue\"> |-learning_rate: 0.001</span>"
      ],
      "text/plain": [
       "<IPython.core.display.HTML object>"
      ]
     },
     "metadata": {},
     "output_type": "display_data"
    },
    {
     "data": {
      "text/html": [
       "<span style=\"color:cyan\"> |-units: 10</span>"
      ],
      "text/plain": [
       "<IPython.core.display.HTML object>"
      ]
     },
     "metadata": {},
     "output_type": "display_data"
    },
    {
     "data": {
      "text/html": [
       "<span style=\"color:#4527A0\"><h1 style=\"font-size:18px\">Trial complete</h1></span>"
      ],
      "text/plain": [
       "<IPython.core.display.HTML object>"
      ]
     },
     "metadata": {},
     "output_type": "display_data"
    },
    {
     "data": {
      "text/html": [
       "<span style=\"color:#4527A0\"><h1 style=\"font-size:18px\">Trial summary</h1></span>"
      ],
      "text/plain": [
       "<IPython.core.display.HTML object>"
      ]
     },
     "metadata": {},
     "output_type": "display_data"
    },
    {
     "data": {
      "text/html": [
       "<span style=\"color:cyan\"> |-Trial ID: daae91cefa1fc1be3356991b5ce5f4b3</span>"
      ],
      "text/plain": [
       "<IPython.core.display.HTML object>"
      ]
     },
     "metadata": {},
     "output_type": "display_data"
    },
    {
     "data": {
      "text/html": [
       "<span style=\"color:cyan\"> |-Score: 0.6126363277435303</span>"
      ],
      "text/plain": [
       "<IPython.core.display.HTML object>"
      ]
     },
     "metadata": {},
     "output_type": "display_data"
    },
    {
     "data": {
      "text/html": [
       "<span style=\"color:cyan\"> |-Best step: 0</span>"
      ],
      "text/plain": [
       "<IPython.core.display.HTML object>"
      ]
     },
     "metadata": {},
     "output_type": "display_data"
    },
    {
     "data": {
      "text/html": [
       "<span style=\"color:#7E57C2\"><h2 style=\"font-size:16px\">Hyperparameters:</h2></span>"
      ],
      "text/plain": [
       "<IPython.core.display.HTML object>"
      ]
     },
     "metadata": {},
     "output_type": "display_data"
    },
    {
     "data": {
      "text/html": [
       "<span style=\"color:cyan\"> |-dropout: 0.19586286697305963</span>"
      ],
      "text/plain": [
       "<IPython.core.display.HTML object>"
      ]
     },
     "metadata": {},
     "output_type": "display_data"
    },
    {
     "data": {
      "text/html": [
       "<span style=\"color:blue\"> |-learning_rate: 0.0</span>"
      ],
      "text/plain": [
       "<IPython.core.display.HTML object>"
      ]
     },
     "metadata": {},
     "output_type": "display_data"
    },
    {
     "data": {
      "text/html": [
       "<span style=\"color:cyan\"> |-units: 50</span>"
      ],
      "text/plain": [
       "<IPython.core.display.HTML object>"
      ]
     },
     "metadata": {},
     "output_type": "display_data"
    },
    {
     "data": {
      "text/html": [
       "<span style=\"color:#4527A0\"><h1 style=\"font-size:18px\">Trial complete</h1></span>"
      ],
      "text/plain": [
       "<IPython.core.display.HTML object>"
      ]
     },
     "metadata": {},
     "output_type": "display_data"
    },
    {
     "data": {
      "text/html": [
       "<span style=\"color:#4527A0\"><h1 style=\"font-size:18px\">Trial summary</h1></span>"
      ],
      "text/plain": [
       "<IPython.core.display.HTML object>"
      ]
     },
     "metadata": {},
     "output_type": "display_data"
    },
    {
     "data": {
      "text/html": [
       "<span style=\"color:cyan\"> |-Trial ID: c20ca676c3abf4c50170b6f7271b95a7</span>"
      ],
      "text/plain": [
       "<IPython.core.display.HTML object>"
      ]
     },
     "metadata": {},
     "output_type": "display_data"
    },
    {
     "data": {
      "text/html": [
       "<span style=\"color:cyan\"> |-Score: 0.2663612961769104</span>"
      ],
      "text/plain": [
       "<IPython.core.display.HTML object>"
      ]
     },
     "metadata": {},
     "output_type": "display_data"
    },
    {
     "data": {
      "text/html": [
       "<span style=\"color:cyan\"> |-Best step: 0</span>"
      ],
      "text/plain": [
       "<IPython.core.display.HTML object>"
      ]
     },
     "metadata": {},
     "output_type": "display_data"
    },
    {
     "data": {
      "text/html": [
       "<span style=\"color:#7E57C2\"><h2 style=\"font-size:16px\">Hyperparameters:</h2></span>"
      ],
      "text/plain": [
       "<IPython.core.display.HTML object>"
      ]
     },
     "metadata": {},
     "output_type": "display_data"
    },
    {
     "data": {
      "text/html": [
       "<span style=\"color:cyan\"> |-dropout: 0.003688926813133143</span>"
      ],
      "text/plain": [
       "<IPython.core.display.HTML object>"
      ]
     },
     "metadata": {},
     "output_type": "display_data"
    },
    {
     "data": {
      "text/html": [
       "<span style=\"color:blue\"> |-learning_rate: 0.01</span>"
      ],
      "text/plain": [
       "<IPython.core.display.HTML object>"
      ]
     },
     "metadata": {},
     "output_type": "display_data"
    },
    {
     "data": {
      "text/html": [
       "<span style=\"color:cyan\"> |-units: 30</span>"
      ],
      "text/plain": [
       "<IPython.core.display.HTML object>"
      ]
     },
     "metadata": {},
     "output_type": "display_data"
    },
    {
     "data": {
      "text/html": [
       "<span style=\"color:#4527A0\"><h1 style=\"font-size:18px\">Trial complete</h1></span>"
      ],
      "text/plain": [
       "<IPython.core.display.HTML object>"
      ]
     },
     "metadata": {},
     "output_type": "display_data"
    },
    {
     "data": {
      "text/html": [
       "<span style=\"color:#4527A0\"><h1 style=\"font-size:18px\">Trial summary</h1></span>"
      ],
      "text/plain": [
       "<IPython.core.display.HTML object>"
      ]
     },
     "metadata": {},
     "output_type": "display_data"
    },
    {
     "data": {
      "text/html": [
       "<span style=\"color:cyan\"> |-Trial ID: 412ec5228515434928bf971a9da12e21</span>"
      ],
      "text/plain": [
       "<IPython.core.display.HTML object>"
      ]
     },
     "metadata": {},
     "output_type": "display_data"
    },
    {
     "data": {
      "text/html": [
       "<span style=\"color:cyan\"> |-Score: 0.2829136848449707</span>"
      ],
      "text/plain": [
       "<IPython.core.display.HTML object>"
      ]
     },
     "metadata": {},
     "output_type": "display_data"
    },
    {
     "data": {
      "text/html": [
       "<span style=\"color:cyan\"> |-Best step: 0</span>"
      ],
      "text/plain": [
       "<IPython.core.display.HTML object>"
      ]
     },
     "metadata": {},
     "output_type": "display_data"
    },
    {
     "data": {
      "text/html": [
       "<span style=\"color:#7E57C2\"><h2 style=\"font-size:16px\">Hyperparameters:</h2></span>"
      ],
      "text/plain": [
       "<IPython.core.display.HTML object>"
      ]
     },
     "metadata": {},
     "output_type": "display_data"
    },
    {
     "data": {
      "text/html": [
       "<span style=\"color:cyan\"> |-dropout: 0.3186414386445293</span>"
      ],
      "text/plain": [
       "<IPython.core.display.HTML object>"
      ]
     },
     "metadata": {},
     "output_type": "display_data"
    },
    {
     "data": {
      "text/html": [
       "<span style=\"color:blue\"> |-learning_rate: 0.001</span>"
      ],
      "text/plain": [
       "<IPython.core.display.HTML object>"
      ]
     },
     "metadata": {},
     "output_type": "display_data"
    },
    {
     "data": {
      "text/html": [
       "<span style=\"color:cyan\"> |-units: 40</span>"
      ],
      "text/plain": [
       "<IPython.core.display.HTML object>"
      ]
     },
     "metadata": {},
     "output_type": "display_data"
    },
    {
     "data": {
      "text/html": [
       "<span style=\"color:#4527A0\"><h1 style=\"font-size:18px\">Trial complete</h1></span>"
      ],
      "text/plain": [
       "<IPython.core.display.HTML object>"
      ]
     },
     "metadata": {},
     "output_type": "display_data"
    },
    {
     "data": {
      "text/html": [
       "<span style=\"color:#4527A0\"><h1 style=\"font-size:18px\">Trial summary</h1></span>"
      ],
      "text/plain": [
       "<IPython.core.display.HTML object>"
      ]
     },
     "metadata": {},
     "output_type": "display_data"
    },
    {
     "data": {
      "text/html": [
       "<span style=\"color:cyan\"> |-Trial ID: bf330919fd1c833ceeaf3c938924c867</span>"
      ],
      "text/plain": [
       "<IPython.core.display.HTML object>"
      ]
     },
     "metadata": {},
     "output_type": "display_data"
    },
    {
     "data": {
      "text/html": [
       "<span style=\"color:cyan\"> |-Score: 0.26550373435020447</span>"
      ],
      "text/plain": [
       "<IPython.core.display.HTML object>"
      ]
     },
     "metadata": {},
     "output_type": "display_data"
    },
    {
     "data": {
      "text/html": [
       "<span style=\"color:cyan\"> |-Best step: 0</span>"
      ],
      "text/plain": [
       "<IPython.core.display.HTML object>"
      ]
     },
     "metadata": {},
     "output_type": "display_data"
    },
    {
     "data": {
      "text/html": [
       "<span style=\"color:#7E57C2\"><h2 style=\"font-size:16px\">Hyperparameters:</h2></span>"
      ],
      "text/plain": [
       "<IPython.core.display.HTML object>"
      ]
     },
     "metadata": {},
     "output_type": "display_data"
    },
    {
     "data": {
      "text/html": [
       "<span style=\"color:cyan\"> |-dropout: 0.30479857206000716</span>"
      ],
      "text/plain": [
       "<IPython.core.display.HTML object>"
      ]
     },
     "metadata": {},
     "output_type": "display_data"
    },
    {
     "data": {
      "text/html": [
       "<span style=\"color:blue\"> |-learning_rate: 0.01</span>"
      ],
      "text/plain": [
       "<IPython.core.display.HTML object>"
      ]
     },
     "metadata": {},
     "output_type": "display_data"
    },
    {
     "data": {
      "text/html": [
       "<span style=\"color:cyan\"> |-units: 40</span>"
      ],
      "text/plain": [
       "<IPython.core.display.HTML object>"
      ]
     },
     "metadata": {},
     "output_type": "display_data"
    },
    {
     "data": {
      "text/html": [
       "<span style=\"color:#4527A0\"><h1 style=\"font-size:18px\">Trial complete</h1></span>"
      ],
      "text/plain": [
       "<IPython.core.display.HTML object>"
      ]
     },
     "metadata": {},
     "output_type": "display_data"
    },
    {
     "data": {
      "text/html": [
       "<span style=\"color:#4527A0\"><h1 style=\"font-size:18px\">Trial summary</h1></span>"
      ],
      "text/plain": [
       "<IPython.core.display.HTML object>"
      ]
     },
     "metadata": {},
     "output_type": "display_data"
    },
    {
     "data": {
      "text/html": [
       "<span style=\"color:cyan\"> |-Trial ID: b10e3e1e9b89543d6cfbd6ab726c15a1</span>"
      ],
      "text/plain": [
       "<IPython.core.display.HTML object>"
      ]
     },
     "metadata": {},
     "output_type": "display_data"
    },
    {
     "data": {
      "text/html": [
       "<span style=\"color:cyan\"> |-Score: 0.3657345771789551</span>"
      ],
      "text/plain": [
       "<IPython.core.display.HTML object>"
      ]
     },
     "metadata": {},
     "output_type": "display_data"
    },
    {
     "data": {
      "text/html": [
       "<span style=\"color:cyan\"> |-Best step: 0</span>"
      ],
      "text/plain": [
       "<IPython.core.display.HTML object>"
      ]
     },
     "metadata": {},
     "output_type": "display_data"
    },
    {
     "data": {
      "text/html": [
       "<span style=\"color:#7E57C2\"><h2 style=\"font-size:16px\">Hyperparameters:</h2></span>"
      ],
      "text/plain": [
       "<IPython.core.display.HTML object>"
      ]
     },
     "metadata": {},
     "output_type": "display_data"
    },
    {
     "data": {
      "text/html": [
       "<span style=\"color:cyan\"> |-dropout: 0.028283031251973425</span>"
      ],
      "text/plain": [
       "<IPython.core.display.HTML object>"
      ]
     },
     "metadata": {},
     "output_type": "display_data"
    },
    {
     "data": {
      "text/html": [
       "<span style=\"color:blue\"> |-learning_rate: 0.0001</span>"
      ],
      "text/plain": [
       "<IPython.core.display.HTML object>"
      ]
     },
     "metadata": {},
     "output_type": "display_data"
    },
    {
     "data": {
      "text/html": [
       "<span style=\"color:cyan\"> |-units: 40</span>"
      ],
      "text/plain": [
       "<IPython.core.display.HTML object>"
      ]
     },
     "metadata": {},
     "output_type": "display_data"
    },
    {
     "data": {
      "text/html": [
       "<span style=\"color:#4527A0\"><h1 style=\"font-size:18px\">Trial complete</h1></span>"
      ],
      "text/plain": [
       "<IPython.core.display.HTML object>"
      ]
     },
     "metadata": {},
     "output_type": "display_data"
    },
    {
     "data": {
      "text/html": [
       "<span style=\"color:#4527A0\"><h1 style=\"font-size:18px\">Trial summary</h1></span>"
      ],
      "text/plain": [
       "<IPython.core.display.HTML object>"
      ]
     },
     "metadata": {},
     "output_type": "display_data"
    },
    {
     "data": {
      "text/html": [
       "<span style=\"color:cyan\"> |-Trial ID: b0616b43aa6444c276dcc7dbd46488a5</span>"
      ],
      "text/plain": [
       "<IPython.core.display.HTML object>"
      ]
     },
     "metadata": {},
     "output_type": "display_data"
    },
    {
     "data": {
      "text/html": [
       "<span style=\"color:cyan\"> |-Score: 0.6372673511505127</span>"
      ],
      "text/plain": [
       "<IPython.core.display.HTML object>"
      ]
     },
     "metadata": {},
     "output_type": "display_data"
    },
    {
     "data": {
      "text/html": [
       "<span style=\"color:cyan\"> |-Best step: 0</span>"
      ],
      "text/plain": [
       "<IPython.core.display.HTML object>"
      ]
     },
     "metadata": {},
     "output_type": "display_data"
    },
    {
     "data": {
      "text/html": [
       "<span style=\"color:#7E57C2\"><h2 style=\"font-size:16px\">Hyperparameters:</h2></span>"
      ],
      "text/plain": [
       "<IPython.core.display.HTML object>"
      ]
     },
     "metadata": {},
     "output_type": "display_data"
    },
    {
     "data": {
      "text/html": [
       "<span style=\"color:cyan\"> |-dropout: 0.25720608849681326</span>"
      ],
      "text/plain": [
       "<IPython.core.display.HTML object>"
      ]
     },
     "metadata": {},
     "output_type": "display_data"
    },
    {
     "data": {
      "text/html": [
       "<span style=\"color:blue\"> |-learning_rate: 0.0</span>"
      ],
      "text/plain": [
       "<IPython.core.display.HTML object>"
      ]
     },
     "metadata": {},
     "output_type": "display_data"
    },
    {
     "data": {
      "text/html": [
       "<span style=\"color:cyan\"> |-units: 30</span>"
      ],
      "text/plain": [
       "<IPython.core.display.HTML object>"
      ]
     },
     "metadata": {},
     "output_type": "display_data"
    },
    {
     "data": {
      "text/html": [
       "<span style=\"color:#4527A0\"><h1 style=\"font-size:18px\">Trial complete</h1></span>"
      ],
      "text/plain": [
       "<IPython.core.display.HTML object>"
      ]
     },
     "metadata": {},
     "output_type": "display_data"
    },
    {
     "data": {
      "text/html": [
       "<span style=\"color:#4527A0\"><h1 style=\"font-size:18px\">Trial summary</h1></span>"
      ],
      "text/plain": [
       "<IPython.core.display.HTML object>"
      ]
     },
     "metadata": {},
     "output_type": "display_data"
    },
    {
     "data": {
      "text/html": [
       "<span style=\"color:cyan\"> |-Trial ID: 0fde9e0a66a50f45b38ab40f23b25579</span>"
      ],
      "text/plain": [
       "<IPython.core.display.HTML object>"
      ]
     },
     "metadata": {},
     "output_type": "display_data"
    },
    {
     "data": {
      "text/html": [
       "<span style=\"color:cyan\"> |-Score: 0.32956576347351074</span>"
      ],
      "text/plain": [
       "<IPython.core.display.HTML object>"
      ]
     },
     "metadata": {},
     "output_type": "display_data"
    },
    {
     "data": {
      "text/html": [
       "<span style=\"color:cyan\"> |-Best step: 0</span>"
      ],
      "text/plain": [
       "<IPython.core.display.HTML object>"
      ]
     },
     "metadata": {},
     "output_type": "display_data"
    },
    {
     "data": {
      "text/html": [
       "<span style=\"color:#7E57C2\"><h2 style=\"font-size:16px\">Hyperparameters:</h2></span>"
      ],
      "text/plain": [
       "<IPython.core.display.HTML object>"
      ]
     },
     "metadata": {},
     "output_type": "display_data"
    },
    {
     "data": {
      "text/html": [
       "<span style=\"color:cyan\"> |-dropout: 0.022725774106596472</span>"
      ],
      "text/plain": [
       "<IPython.core.display.HTML object>"
      ]
     },
     "metadata": {},
     "output_type": "display_data"
    },
    {
     "data": {
      "text/html": [
       "<span style=\"color:blue\"> |-learning_rate: 0.0001</span>"
      ],
      "text/plain": [
       "<IPython.core.display.HTML object>"
      ]
     },
     "metadata": {},
     "output_type": "display_data"
    },
    {
     "data": {
      "text/html": [
       "<span style=\"color:cyan\"> |-units: 50</span>"
      ],
      "text/plain": [
       "<IPython.core.display.HTML object>"
      ]
     },
     "metadata": {},
     "output_type": "display_data"
    },
    {
     "data": {
      "text/html": [
       "<span style=\"color:#4527A0\"><h1 style=\"font-size:18px\">Trial complete</h1></span>"
      ],
      "text/plain": [
       "<IPython.core.display.HTML object>"
      ]
     },
     "metadata": {},
     "output_type": "display_data"
    },
    {
     "data": {
      "text/html": [
       "<span style=\"color:#4527A0\"><h1 style=\"font-size:18px\">Trial summary</h1></span>"
      ],
      "text/plain": [
       "<IPython.core.display.HTML object>"
      ]
     },
     "metadata": {},
     "output_type": "display_data"
    },
    {
     "data": {
      "text/html": [
       "<span style=\"color:cyan\"> |-Trial ID: 2ed3045f921b32ce3d61b0eadfbb10bb</span>"
      ],
      "text/plain": [
       "<IPython.core.display.HTML object>"
      ]
     },
     "metadata": {},
     "output_type": "display_data"
    },
    {
     "data": {
      "text/html": [
       "<span style=\"color:cyan\"> |-Score: 0.6463824510574341</span>"
      ],
      "text/plain": [
       "<IPython.core.display.HTML object>"
      ]
     },
     "metadata": {},
     "output_type": "display_data"
    },
    {
     "data": {
      "text/html": [
       "<span style=\"color:cyan\"> |-Best step: 0</span>"
      ],
      "text/plain": [
       "<IPython.core.display.HTML object>"
      ]
     },
     "metadata": {},
     "output_type": "display_data"
    },
    {
     "data": {
      "text/html": [
       "<span style=\"color:#7E57C2\"><h2 style=\"font-size:16px\">Hyperparameters:</h2></span>"
      ],
      "text/plain": [
       "<IPython.core.display.HTML object>"
      ]
     },
     "metadata": {},
     "output_type": "display_data"
    },
    {
     "data": {
      "text/html": [
       "<span style=\"color:cyan\"> |-dropout: 0.009797850545659454</span>"
      ],
      "text/plain": [
       "<IPython.core.display.HTML object>"
      ]
     },
     "metadata": {},
     "output_type": "display_data"
    },
    {
     "data": {
      "text/html": [
       "<span style=\"color:blue\"> |-learning_rate: 0.0</span>"
      ],
      "text/plain": [
       "<IPython.core.display.HTML object>"
      ]
     },
     "metadata": {},
     "output_type": "display_data"
    },
    {
     "data": {
      "text/html": [
       "<span style=\"color:cyan\"> |-units: 10</span>"
      ],
      "text/plain": [
       "<IPython.core.display.HTML object>"
      ]
     },
     "metadata": {},
     "output_type": "display_data"
    },
    {
     "data": {
      "text/html": [
       "<span style=\"color:#4527A0\"><h1 style=\"font-size:18px\">Trial complete</h1></span>"
      ],
      "text/plain": [
       "<IPython.core.display.HTML object>"
      ]
     },
     "metadata": {},
     "output_type": "display_data"
    },
    {
     "data": {
      "text/html": [
       "<span style=\"color:#4527A0\"><h1 style=\"font-size:18px\">Trial summary</h1></span>"
      ],
      "text/plain": [
       "<IPython.core.display.HTML object>"
      ]
     },
     "metadata": {},
     "output_type": "display_data"
    },
    {
     "data": {
      "text/html": [
       "<span style=\"color:cyan\"> |-Trial ID: f632c236a78d42afd9bc04119163a4cf</span>"
      ],
      "text/plain": [
       "<IPython.core.display.HTML object>"
      ]
     },
     "metadata": {},
     "output_type": "display_data"
    },
    {
     "data": {
      "text/html": [
       "<span style=\"color:cyan\"> |-Score: 0.2711971402168274</span>"
      ],
      "text/plain": [
       "<IPython.core.display.HTML object>"
      ]
     },
     "metadata": {},
     "output_type": "display_data"
    },
    {
     "data": {
      "text/html": [
       "<span style=\"color:cyan\"> |-Best step: 0</span>"
      ],
      "text/plain": [
       "<IPython.core.display.HTML object>"
      ]
     },
     "metadata": {},
     "output_type": "display_data"
    },
    {
     "data": {
      "text/html": [
       "<span style=\"color:#7E57C2\"><h2 style=\"font-size:16px\">Hyperparameters:</h2></span>"
      ],
      "text/plain": [
       "<IPython.core.display.HTML object>"
      ]
     },
     "metadata": {},
     "output_type": "display_data"
    },
    {
     "data": {
      "text/html": [
       "<span style=\"color:cyan\"> |-dropout: 0.29536324650700335</span>"
      ],
      "text/plain": [
       "<IPython.core.display.HTML object>"
      ]
     },
     "metadata": {},
     "output_type": "display_data"
    },
    {
     "data": {
      "text/html": [
       "<span style=\"color:blue\"> |-learning_rate: 0.01</span>"
      ],
      "text/plain": [
       "<IPython.core.display.HTML object>"
      ]
     },
     "metadata": {},
     "output_type": "display_data"
    },
    {
     "data": {
      "text/html": [
       "<span style=\"color:cyan\"> |-units: 30</span>"
      ],
      "text/plain": [
       "<IPython.core.display.HTML object>"
      ]
     },
     "metadata": {},
     "output_type": "display_data"
    },
    {
     "data": {
      "text/html": [
       "<span style=\"color:#4527A0\"><h1 style=\"font-size:18px\">Trial complete</h1></span>"
      ],
      "text/plain": [
       "<IPython.core.display.HTML object>"
      ]
     },
     "metadata": {},
     "output_type": "display_data"
    },
    {
     "data": {
      "text/html": [
       "<span style=\"color:#4527A0\"><h1 style=\"font-size:18px\">Trial summary</h1></span>"
      ],
      "text/plain": [
       "<IPython.core.display.HTML object>"
      ]
     },
     "metadata": {},
     "output_type": "display_data"
    },
    {
     "data": {
      "text/html": [
       "<span style=\"color:cyan\"> |-Trial ID: ad67191f34753a819ea5cb64753eb63d</span>"
      ],
      "text/plain": [
       "<IPython.core.display.HTML object>"
      ]
     },
     "metadata": {},
     "output_type": "display_data"
    },
    {
     "data": {
      "text/html": [
       "<span style=\"color:cyan\"> |-Score: 0.2737041711807251</span>"
      ],
      "text/plain": [
       "<IPython.core.display.HTML object>"
      ]
     },
     "metadata": {},
     "output_type": "display_data"
    },
    {
     "data": {
      "text/html": [
       "<span style=\"color:cyan\"> |-Best step: 0</span>"
      ],
      "text/plain": [
       "<IPython.core.display.HTML object>"
      ]
     },
     "metadata": {},
     "output_type": "display_data"
    },
    {
     "data": {
      "text/html": [
       "<span style=\"color:#7E57C2\"><h2 style=\"font-size:16px\">Hyperparameters:</h2></span>"
      ],
      "text/plain": [
       "<IPython.core.display.HTML object>"
      ]
     },
     "metadata": {},
     "output_type": "display_data"
    },
    {
     "data": {
      "text/html": [
       "<span style=\"color:cyan\"> |-dropout: 0.1905862251050955</span>"
      ],
      "text/plain": [
       "<IPython.core.display.HTML object>"
      ]
     },
     "metadata": {},
     "output_type": "display_data"
    },
    {
     "data": {
      "text/html": [
       "<span style=\"color:blue\"> |-learning_rate: 0.01</span>"
      ],
      "text/plain": [
       "<IPython.core.display.HTML object>"
      ]
     },
     "metadata": {},
     "output_type": "display_data"
    },
    {
     "data": {
      "text/html": [
       "<span style=\"color:cyan\"> |-units: 20</span>"
      ],
      "text/plain": [
       "<IPython.core.display.HTML object>"
      ]
     },
     "metadata": {},
     "output_type": "display_data"
    },
    {
     "data": {
      "text/html": [
       "<span style=\"color:#4527A0\"><h1 style=\"font-size:18px\">Trial complete</h1></span>"
      ],
      "text/plain": [
       "<IPython.core.display.HTML object>"
      ]
     },
     "metadata": {},
     "output_type": "display_data"
    },
    {
     "data": {
      "text/html": [
       "<span style=\"color:#4527A0\"><h1 style=\"font-size:18px\">Trial summary</h1></span>"
      ],
      "text/plain": [
       "<IPython.core.display.HTML object>"
      ]
     },
     "metadata": {},
     "output_type": "display_data"
    },
    {
     "data": {
      "text/html": [
       "<span style=\"color:cyan\"> |-Trial ID: 5cdc7c24e6ee127ea3d32f8c4a574e7a</span>"
      ],
      "text/plain": [
       "<IPython.core.display.HTML object>"
      ]
     },
     "metadata": {},
     "output_type": "display_data"
    },
    {
     "data": {
      "text/html": [
       "<span style=\"color:cyan\"> |-Score: 0.4475666582584381</span>"
      ],
      "text/plain": [
       "<IPython.core.display.HTML object>"
      ]
     },
     "metadata": {},
     "output_type": "display_data"
    },
    {
     "data": {
      "text/html": [
       "<span style=\"color:cyan\"> |-Best step: 0</span>"
      ],
      "text/plain": [
       "<IPython.core.display.HTML object>"
      ]
     },
     "metadata": {},
     "output_type": "display_data"
    },
    {
     "data": {
      "text/html": [
       "<span style=\"color:#7E57C2\"><h2 style=\"font-size:16px\">Hyperparameters:</h2></span>"
      ],
      "text/plain": [
       "<IPython.core.display.HTML object>"
      ]
     },
     "metadata": {},
     "output_type": "display_data"
    },
    {
     "data": {
      "text/html": [
       "<span style=\"color:cyan\"> |-dropout: 0.1797557789274803</span>"
      ],
      "text/plain": [
       "<IPython.core.display.HTML object>"
      ]
     },
     "metadata": {},
     "output_type": "display_data"
    },
    {
     "data": {
      "text/html": [
       "<span style=\"color:blue\"> |-learning_rate: 0.0001</span>"
      ],
      "text/plain": [
       "<IPython.core.display.HTML object>"
      ]
     },
     "metadata": {},
     "output_type": "display_data"
    },
    {
     "data": {
      "text/html": [
       "<span style=\"color:cyan\"> |-units: 30</span>"
      ],
      "text/plain": [
       "<IPython.core.display.HTML object>"
      ]
     },
     "metadata": {},
     "output_type": "display_data"
    },
    {
     "name": "stdout",
     "output_type": "stream",
     "text": [
      "INFO:tensorflow:Oracle triggered exit\n",
      "Train on 250 samples, validate on 108 samples\n",
      "Epoch 1/100\n",
      "250/250 [==============================] - 1s 4ms/sample - loss: 0.2589 - mean_absolute_error: 0.2589 - rmse: 0.3313 - val_loss: 0.2430 - val_mean_absolute_error: 0.2430 - val_rmse: 0.2948\n",
      "Epoch 2/100\n",
      "250/250 [==============================] - 0s 84us/sample - loss: 0.2360 - mean_absolute_error: 0.2360 - rmse: 0.2959 - val_loss: 0.2769 - val_mean_absolute_error: 0.2769 - val_rmse: 0.3288\n",
      "Epoch 3/100\n",
      "250/250 [==============================] - 0s 76us/sample - loss: 0.2226 - mean_absolute_error: 0.2226 - rmse: 0.2774 - val_loss: 0.3046 - val_mean_absolute_error: 0.3046 - val_rmse: 0.3563\n",
      "Epoch 4/100\n",
      "250/250 [==============================] - 0s 72us/sample - loss: 0.2153 - mean_absolute_error: 0.2153 - rmse: 0.2702 - val_loss: 0.3153 - val_mean_absolute_error: 0.3153 - val_rmse: 0.3663\n",
      "Epoch 5/100\n",
      "250/250 [==============================] - 0s 100us/sample - loss: 0.2096 - mean_absolute_error: 0.2096 - rmse: 0.2648 - val_loss: 0.3130 - val_mean_absolute_error: 0.3130 - val_rmse: 0.3627\n",
      "Epoch 6/100\n",
      "250/250 [==============================] - 0s 88us/sample - loss: 0.2055 - mean_absolute_error: 0.2055 - rmse: 0.2616 - val_loss: 0.3039 - val_mean_absolute_error: 0.3039 - val_rmse: 0.3526\n",
      "Epoch 7/100\n",
      "250/250 [==============================] - 0s 106us/sample - loss: 0.2009 - mean_absolute_error: 0.2009 - rmse: 0.2569 - val_loss: 0.2934 - val_mean_absolute_error: 0.2934 - val_rmse: 0.3405\n",
      "Epoch 8/100\n",
      "250/250 [==============================] - 0s 80us/sample - loss: 0.1994 - mean_absolute_error: 0.1994 - rmse: 0.2552 - val_loss: 0.2843 - val_mean_absolute_error: 0.2843 - val_rmse: 0.3291\n",
      "Epoch 9/100\n",
      "250/250 [==============================] - 0s 102us/sample - loss: 0.1952 - mean_absolute_error: 0.1952 - rmse: 0.2496 - val_loss: 0.2790 - val_mean_absolute_error: 0.2790 - val_rmse: 0.3214\n",
      "Epoch 10/100\n",
      "250/250 [==============================] - 0s 99us/sample - loss: 0.1932 - mean_absolute_error: 0.1932 - rmse: 0.2460 - val_loss: 0.2768 - val_mean_absolute_error: 0.2768 - val_rmse: 0.3178\n",
      "Epoch 11/100\n",
      "250/250 [==============================] - 0s 76us/sample - loss: 0.1879 - mean_absolute_error: 0.1879 - rmse: 0.2387 - val_loss: 0.2784 - val_mean_absolute_error: 0.2784 - val_rmse: 0.3191\n",
      "Epoch 12/100\n",
      "250/250 [==============================] - 0s 92us/sample - loss: 0.1873 - mean_absolute_error: 0.1873 - rmse: 0.2374 - val_loss: 0.2817 - val_mean_absolute_error: 0.2817 - val_rmse: 0.3228\n",
      "Epoch 13/100\n",
      "250/250 [==============================] - 0s 101us/sample - loss: 0.1876 - mean_absolute_error: 0.1876 - rmse: 0.2369 - val_loss: 0.2842 - val_mean_absolute_error: 0.2842 - val_rmse: 0.3258\n",
      "Epoch 14/100\n",
      "250/250 [==============================] - 0s 76us/sample - loss: 0.1878 - mean_absolute_error: 0.1878 - rmse: 0.2376 - val_loss: 0.2849 - val_mean_absolute_error: 0.2849 - val_rmse: 0.3269\n",
      "Epoch 15/100\n",
      "250/250 [==============================] - 0s 88us/sample - loss: 0.1892 - mean_absolute_error: 0.1892 - rmse: 0.2393 - val_loss: 0.2839 - val_mean_absolute_error: 0.2839 - val_rmse: 0.3259\n",
      "Epoch 16/100\n",
      "250/250 [==============================] - 0s 62us/sample - loss: 0.1861 - mean_absolute_error: 0.1861 - rmse: 0.2357 - val_loss: 0.2823 - val_mean_absolute_error: 0.2823 - val_rmse: 0.3243\n",
      "Epoch 17/100\n",
      "250/250 [==============================] - 0s 70us/sample - loss: 0.1870 - mean_absolute_error: 0.1870 - rmse: 0.2373 - val_loss: 0.2805 - val_mean_absolute_error: 0.2805 - val_rmse: 0.3223\n",
      "Epoch 18/100\n",
      "250/250 [==============================] - 0s 66us/sample - loss: 0.1860 - mean_absolute_error: 0.1860 - rmse: 0.2363 - val_loss: 0.2801 - val_mean_absolute_error: 0.2801 - val_rmse: 0.3220\n",
      "Epoch 19/100\n",
      "250/250 [==============================] - 0s 60us/sample - loss: 0.1848 - mean_absolute_error: 0.1848 - rmse: 0.2351 - val_loss: 0.2815 - val_mean_absolute_error: 0.2815 - val_rmse: 0.3236\n",
      "Epoch 20/100\n",
      "250/250 [==============================] - 0s 66us/sample - loss: 0.1853 - mean_absolute_error: 0.1853 - rmse: 0.2365 - val_loss: 0.2841 - val_mean_absolute_error: 0.2841 - val_rmse: 0.3264\n",
      "Epoch 21/100\n",
      "250/250 [==============================] - 0s 58us/sample - loss: 0.1827 - mean_absolute_error: 0.1827 - rmse: 0.2337 - val_loss: 0.2870 - val_mean_absolute_error: 0.2870 - val_rmse: 0.3295\n",
      "Epoch 22/100\n",
      "250/250 [==============================] - 0s 56us/sample - loss: 0.1835 - mean_absolute_error: 0.1835 - rmse: 0.2351 - val_loss: 0.2888 - val_mean_absolute_error: 0.2888 - val_rmse: 0.3315\n",
      "Epoch 23/100\n",
      "250/250 [==============================] - 0s 62us/sample - loss: 0.1827 - mean_absolute_error: 0.1827 - rmse: 0.2342 - val_loss: 0.2885 - val_mean_absolute_error: 0.2885 - val_rmse: 0.3311\n",
      "Epoch 24/100\n",
      "250/250 [==============================] - 0s 58us/sample - loss: 0.1818 - mean_absolute_error: 0.1818 - rmse: 0.2335 - val_loss: 0.2871 - val_mean_absolute_error: 0.2871 - val_rmse: 0.3294\n",
      "Epoch 25/100\n",
      "250/250 [==============================] - 0s 58us/sample - loss: 0.1807 - mean_absolute_error: 0.1807 - rmse: 0.2326 - val_loss: 0.2852 - val_mean_absolute_error: 0.2852 - val_rmse: 0.3274\n",
      "Epoch 26/100\n",
      "250/250 [==============================] - 0s 60us/sample - loss: 0.1805 - mean_absolute_error: 0.1805 - rmse: 0.2327 - val_loss: 0.2839 - val_mean_absolute_error: 0.2839 - val_rmse: 0.3259\n",
      "Epoch 27/100\n",
      "250/250 [==============================] - 0s 68us/sample - loss: 0.1805 - mean_absolute_error: 0.1805 - rmse: 0.2328 - val_loss: 0.2829 - val_mean_absolute_error: 0.2829 - val_rmse: 0.3248\n",
      "Epoch 28/100\n",
      "250/250 [==============================] - 0s 60us/sample - loss: 0.1802 - mean_absolute_error: 0.1802 - rmse: 0.2326 - val_loss: 0.2824 - val_mean_absolute_error: 0.2824 - val_rmse: 0.3241\n",
      "Epoch 29/100\n",
      "250/250 [==============================] - 0s 58us/sample - loss: 0.1790 - mean_absolute_error: 0.1790 - rmse: 0.2308 - val_loss: 0.2825 - val_mean_absolute_error: 0.2825 - val_rmse: 0.3241\n",
      "Epoch 30/100\n",
      "250/250 [==============================] - 0s 54us/sample - loss: 0.1784 - mean_absolute_error: 0.1784 - rmse: 0.2297 - val_loss: 0.2823 - val_mean_absolute_error: 0.2823 - val_rmse: 0.3238\n",
      "Epoch 31/100\n",
      "250/250 [==============================] - 0s 64us/sample - loss: 0.1782 - mean_absolute_error: 0.1782 - rmse: 0.2292 - val_loss: 0.2817 - val_mean_absolute_error: 0.2817 - val_rmse: 0.3232\n",
      "Epoch 32/100\n",
      "250/250 [==============================] - 0s 64us/sample - loss: 0.1785 - mean_absolute_error: 0.1785 - rmse: 0.2292 - val_loss: 0.2800 - val_mean_absolute_error: 0.2800 - val_rmse: 0.3213\n",
      "Epoch 33/100\n",
      "250/250 [==============================] - 0s 54us/sample - loss: 0.1774 - mean_absolute_error: 0.1774 - rmse: 0.2274 - val_loss: 0.2777 - val_mean_absolute_error: 0.2777 - val_rmse: 0.3187\n",
      "Epoch 34/100\n",
      "250/250 [==============================] - 0s 70us/sample - loss: 0.1768 - mean_absolute_error: 0.1768 - rmse: 0.2266 - val_loss: 0.2757 - val_mean_absolute_error: 0.2757 - val_rmse: 0.3165\n",
      "Epoch 35/100\n",
      "250/250 [==============================] - 0s 72us/sample - loss: 0.1757 - mean_absolute_error: 0.1757 - rmse: 0.2253 - val_loss: 0.2752 - val_mean_absolute_error: 0.2752 - val_rmse: 0.3159\n",
      "Epoch 36/100\n",
      "250/250 [==============================] - 0s 62us/sample - loss: 0.1752 - mean_absolute_error: 0.1752 - rmse: 0.2248 - val_loss: 0.2766 - val_mean_absolute_error: 0.2766 - val_rmse: 0.3175\n",
      "Epoch 37/100\n",
      "250/250 [==============================] - 0s 56us/sample - loss: 0.1761 - mean_absolute_error: 0.1761 - rmse: 0.2258 - val_loss: 0.2771 - val_mean_absolute_error: 0.2771 - val_rmse: 0.3180\n",
      "Epoch 38/100\n",
      "250/250 [==============================] - 0s 64us/sample - loss: 0.1761 - mean_absolute_error: 0.1761 - rmse: 0.2259 - val_loss: 0.2762 - val_mean_absolute_error: 0.2762 - val_rmse: 0.3169\n",
      "Epoch 39/100\n",
      "250/250 [==============================] - 0s 60us/sample - loss: 0.1761 - mean_absolute_error: 0.1761 - rmse: 0.2263 - val_loss: 0.2749 - val_mean_absolute_error: 0.2749 - val_rmse: 0.3154\n",
      "Epoch 40/100\n",
      "250/250 [==============================] - 0s 58us/sample - loss: 0.1758 - mean_absolute_error: 0.1758 - rmse: 0.2262 - val_loss: 0.2735 - val_mean_absolute_error: 0.2735 - val_rmse: 0.3137\n",
      "Epoch 41/100\n",
      "250/250 [==============================] - 0s 60us/sample - loss: 0.1753 - mean_absolute_error: 0.1753 - rmse: 0.2259 - val_loss: 0.2735 - val_mean_absolute_error: 0.2735 - val_rmse: 0.3137\n",
      "Epoch 42/100\n",
      "250/250 [==============================] - 0s 57us/sample - loss: 0.1750 - mean_absolute_error: 0.1750 - rmse: 0.2256 - val_loss: 0.2752 - val_mean_absolute_error: 0.2752 - val_rmse: 0.3155\n",
      "Epoch 43/100\n",
      "250/250 [==============================] - 0s 70us/sample - loss: 0.1749 - mean_absolute_error: 0.1749 - rmse: 0.2255 - val_loss: 0.2767 - val_mean_absolute_error: 0.2767 - val_rmse: 0.3171\n",
      "Epoch 44/100\n",
      "250/250 [==============================] - 0s 61us/sample - loss: 0.1748 - mean_absolute_error: 0.1748 - rmse: 0.2253 - val_loss: 0.2768 - val_mean_absolute_error: 0.2768 - val_rmse: 0.3172\n",
      "Epoch 45/100\n",
      "250/250 [==============================] - 0s 60us/sample - loss: 0.1739 - mean_absolute_error: 0.1739 - rmse: 0.2245 - val_loss: 0.2766 - val_mean_absolute_error: 0.2766 - val_rmse: 0.3170\n",
      "Epoch 46/100\n",
      "250/250 [==============================] - 0s 76us/sample - loss: 0.1743 - mean_absolute_error: 0.1743 - rmse: 0.2249 - val_loss: 0.2762 - val_mean_absolute_error: 0.2762 - val_rmse: 0.3168\n",
      "Epoch 47/100\n",
      "250/250 [==============================] - 0s 64us/sample - loss: 0.1737 - mean_absolute_error: 0.1737 - rmse: 0.2244 - val_loss: 0.2762 - val_mean_absolute_error: 0.2762 - val_rmse: 0.3168\n",
      "Epoch 48/100\n",
      "250/250 [==============================] - 0s 64us/sample - loss: 0.1740 - mean_absolute_error: 0.1740 - rmse: 0.2244 - val_loss: 0.2764 - val_mean_absolute_error: 0.2764 - val_rmse: 0.3172\n",
      "Epoch 49/100\n",
      "250/250 [==============================] - 0s 58us/sample - loss: 0.1733 - mean_absolute_error: 0.1733 - rmse: 0.2238 - val_loss: 0.2779 - val_mean_absolute_error: 0.2779 - val_rmse: 0.3189\n",
      "Epoch 50/100\n",
      "250/250 [==============================] - 0s 295us/sample - loss: 0.1737 - mean_absolute_error: 0.1737 - rmse: 0.2242 - val_loss: 0.2778 - val_mean_absolute_error: 0.2778 - val_rmse: 0.3188\n",
      "Epoch 51/100\n",
      "250/250 [==============================] - 0s 74us/sample - loss: 0.1730 - mean_absolute_error: 0.1730 - rmse: 0.2233 - val_loss: 0.2769 - val_mean_absolute_error: 0.2769 - val_rmse: 0.3179\n",
      "Epoch 52/100\n",
      "250/250 [==============================] - 0s 66us/sample - loss: 0.1727 - mean_absolute_error: 0.1727 - rmse: 0.2231 - val_loss: 0.2767 - val_mean_absolute_error: 0.2767 - val_rmse: 0.3176\n",
      "Epoch 53/100\n",
      "250/250 [==============================] - 0s 66us/sample - loss: 0.1730 - mean_absolute_error: 0.1730 - rmse: 0.2232 - val_loss: 0.2772 - val_mean_absolute_error: 0.2772 - val_rmse: 0.3181\n",
      "Epoch 54/100\n",
      "250/250 [==============================] - 0s 72us/sample - loss: 0.1735 - mean_absolute_error: 0.1735 - rmse: 0.2235 - val_loss: 0.2769 - val_mean_absolute_error: 0.2769 - val_rmse: 0.3176\n",
      "Epoch 55/100\n",
      "250/250 [==============================] - 0s 77us/sample - loss: 0.1728 - mean_absolute_error: 0.1728 - rmse: 0.2229 - val_loss: 0.2759 - val_mean_absolute_error: 0.2759 - val_rmse: 0.3164\n",
      "Epoch 56/100\n",
      "250/250 [==============================] - 0s 81us/sample - loss: 0.1732 - mean_absolute_error: 0.1732 - rmse: 0.2232 - val_loss: 0.2753 - val_mean_absolute_error: 0.2753 - val_rmse: 0.3156\n",
      "Epoch 57/100\n",
      "250/250 [==============================] - 0s 82us/sample - loss: 0.1726 - mean_absolute_error: 0.1726 - rmse: 0.2227 - val_loss: 0.2744 - val_mean_absolute_error: 0.2744 - val_rmse: 0.3146\n",
      "Epoch 58/100\n",
      "250/250 [==============================] - 0s 76us/sample - loss: 0.1732 - mean_absolute_error: 0.1732 - rmse: 0.2235 - val_loss: 0.2744 - val_mean_absolute_error: 0.2744 - val_rmse: 0.3146\n",
      "Epoch 59/100\n",
      "250/250 [==============================] - 0s 76us/sample - loss: 0.1726 - mean_absolute_error: 0.1726 - rmse: 0.2228 - val_loss: 0.2762 - val_mean_absolute_error: 0.2762 - val_rmse: 0.3166\n",
      "Epoch 60/100\n",
      "250/250 [==============================] - 0s 66us/sample - loss: 0.1725 - mean_absolute_error: 0.1725 - rmse: 0.2228 - val_loss: 0.2766 - val_mean_absolute_error: 0.2766 - val_rmse: 0.3172\n",
      "Epoch 61/100\n",
      "250/250 [==============================] - 0s 188us/sample - loss: 0.1726 - mean_absolute_error: 0.1726 - rmse: 0.2230 - val_loss: 0.2753 - val_mean_absolute_error: 0.2753 - val_rmse: 0.3157\n",
      "Epoch 62/100\n",
      "250/250 [==============================] - 0s 85us/sample - loss: 0.1727 - mean_absolute_error: 0.1727 - rmse: 0.2232 - val_loss: 0.2724 - val_mean_absolute_error: 0.2724 - val_rmse: 0.3126\n",
      "Epoch 63/100\n",
      "250/250 [==============================] - 0s 60us/sample - loss: 0.1721 - mean_absolute_error: 0.1721 - rmse: 0.2227 - val_loss: 0.2714 - val_mean_absolute_error: 0.2714 - val_rmse: 0.3115\n",
      "Epoch 64/100\n",
      "250/250 [==============================] - 0s 70us/sample - loss: 0.1726 - mean_absolute_error: 0.1726 - rmse: 0.2233 - val_loss: 0.2715 - val_mean_absolute_error: 0.2715 - val_rmse: 0.3117\n",
      "Epoch 65/100\n",
      "250/250 [==============================] - 0s 64us/sample - loss: 0.1720 - mean_absolute_error: 0.1720 - rmse: 0.2228 - val_loss: 0.2746 - val_mean_absolute_error: 0.2746 - val_rmse: 0.3151\n",
      "Epoch 66/100\n",
      "250/250 [==============================] - 0s 62us/sample - loss: 0.1721 - mean_absolute_error: 0.1721 - rmse: 0.2226 - val_loss: 0.2765 - val_mean_absolute_error: 0.2765 - val_rmse: 0.3172\n",
      "Epoch 67/100\n",
      "250/250 [==============================] - 0s 63us/sample - loss: 0.1721 - mean_absolute_error: 0.1721 - rmse: 0.2226 - val_loss: 0.2765 - val_mean_absolute_error: 0.2765 - val_rmse: 0.3171\n",
      "Epoch 68/100\n",
      "250/250 [==============================] - 0s 66us/sample - loss: 0.1720 - mean_absolute_error: 0.1720 - rmse: 0.2224 - val_loss: 0.2741 - val_mean_absolute_error: 0.2741 - val_rmse: 0.3144\n",
      "Epoch 69/100\n",
      "250/250 [==============================] - 0s 66us/sample - loss: 0.1724 - mean_absolute_error: 0.1724 - rmse: 0.2228 - val_loss: 0.2704 - val_mean_absolute_error: 0.2704 - val_rmse: 0.3104\n",
      "Epoch 70/100\n",
      "250/250 [==============================] - 0s 67us/sample - loss: 0.1719 - mean_absolute_error: 0.1719 - rmse: 0.2223 - val_loss: 0.2697 - val_mean_absolute_error: 0.2697 - val_rmse: 0.3096\n",
      "Epoch 71/100\n",
      "250/250 [==============================] - 0s 70us/sample - loss: 0.1718 - mean_absolute_error: 0.1718 - rmse: 0.2222 - val_loss: 0.2726 - val_mean_absolute_error: 0.2726 - val_rmse: 0.3127\n",
      "Epoch 72/100\n",
      "250/250 [==============================] - 0s 65us/sample - loss: 0.1715 - mean_absolute_error: 0.1715 - rmse: 0.2220 - val_loss: 0.2762 - val_mean_absolute_error: 0.2762 - val_rmse: 0.3167\n",
      "Epoch 73/100\n",
      "250/250 [==============================] - 0s 69us/sample - loss: 0.1717 - mean_absolute_error: 0.1717 - rmse: 0.2220 - val_loss: 0.2760 - val_mean_absolute_error: 0.2760 - val_rmse: 0.3165\n",
      "Epoch 74/100\n",
      "250/250 [==============================] - 0s 64us/sample - loss: 0.1722 - mean_absolute_error: 0.1722 - rmse: 0.2225 - val_loss: 0.2728 - val_mean_absolute_error: 0.2728 - val_rmse: 0.3129\n",
      "Epoch 75/100\n",
      "250/250 [==============================] - 0s 50us/sample - loss: 0.1717 - mean_absolute_error: 0.1717 - rmse: 0.2220 - val_loss: 0.2694 - val_mean_absolute_error: 0.2694 - val_rmse: 0.3093\n",
      "Epoch 76/100\n",
      "250/250 [==============================] - 0s 56us/sample - loss: 0.1715 - mean_absolute_error: 0.1715 - rmse: 0.2220 - val_loss: 0.2703 - val_mean_absolute_error: 0.2703 - val_rmse: 0.3102\n",
      "Epoch 77/100\n",
      "250/250 [==============================] - 0s 64us/sample - loss: 0.1716 - mean_absolute_error: 0.1716 - rmse: 0.2220 - val_loss: 0.2742 - val_mean_absolute_error: 0.2742 - val_rmse: 0.3145\n",
      "Epoch 78/100\n",
      "250/250 [==============================] - 0s 66us/sample - loss: 0.1714 - mean_absolute_error: 0.1714 - rmse: 0.2218 - val_loss: 0.2777 - val_mean_absolute_error: 0.2777 - val_rmse: 0.3185\n",
      "Epoch 79/100\n",
      "250/250 [==============================] - 0s 62us/sample - loss: 0.1714 - mean_absolute_error: 0.1714 - rmse: 0.2217 - val_loss: 0.2765 - val_mean_absolute_error: 0.2765 - val_rmse: 0.3171\n",
      "Epoch 80/100\n",
      "250/250 [==============================] - 0s 58us/sample - loss: 0.1718 - mean_absolute_error: 0.1718 - rmse: 0.2220 - val_loss: 0.2716 - val_mean_absolute_error: 0.2716 - val_rmse: 0.3116\n",
      "Epoch 81/100\n",
      "250/250 [==============================] - 0s 62us/sample - loss: 0.1713 - mean_absolute_error: 0.1713 - rmse: 0.2216 - val_loss: 0.2692 - val_mean_absolute_error: 0.2692 - val_rmse: 0.3091\n",
      "Epoch 82/100\n",
      "250/250 [==============================] - 0s 58us/sample - loss: 0.1715 - mean_absolute_error: 0.1715 - rmse: 0.2220 - val_loss: 0.2713 - val_mean_absolute_error: 0.2713 - val_rmse: 0.3113\n",
      "Epoch 83/100\n",
      "250/250 [==============================] - 0s 54us/sample - loss: 0.1709 - mean_absolute_error: 0.1709 - rmse: 0.2213 - val_loss: 0.2766 - val_mean_absolute_error: 0.2766 - val_rmse: 0.3171\n",
      "Epoch 84/100\n",
      "250/250 [==============================] - 0s 58us/sample - loss: 0.1712 - mean_absolute_error: 0.1712 - rmse: 0.2213 - val_loss: 0.2788 - val_mean_absolute_error: 0.2788 - val_rmse: 0.3196\n",
      "Epoch 85/100\n",
      "250/250 [==============================] - 0s 65us/sample - loss: 0.1712 - mean_absolute_error: 0.1712 - rmse: 0.2213 - val_loss: 0.2762 - val_mean_absolute_error: 0.2762 - val_rmse: 0.3167\n",
      "Epoch 86/100\n",
      "250/250 [==============================] - 0s 56us/sample - loss: 0.1713 - mean_absolute_error: 0.1713 - rmse: 0.2216 - val_loss: 0.2716 - val_mean_absolute_error: 0.2716 - val_rmse: 0.3117\n",
      "Epoch 87/100\n",
      "250/250 [==============================] - 0s 62us/sample - loss: 0.1710 - mean_absolute_error: 0.1710 - rmse: 0.2215 - val_loss: 0.2689 - val_mean_absolute_error: 0.2689 - val_rmse: 0.3088\n",
      "Epoch 88/100\n",
      "250/250 [==============================] - 0s 59us/sample - loss: 0.1717 - mean_absolute_error: 0.1717 - rmse: 0.2224 - val_loss: 0.2710 - val_mean_absolute_error: 0.2710 - val_rmse: 0.3111\n",
      "Epoch 89/100\n",
      "250/250 [==============================] - 0s 66us/sample - loss: 0.1711 - mean_absolute_error: 0.1711 - rmse: 0.2216 - val_loss: 0.2752 - val_mean_absolute_error: 0.2752 - val_rmse: 0.3157\n",
      "Epoch 90/100\n",
      "250/250 [==============================] - 0s 60us/sample - loss: 0.1712 - mean_absolute_error: 0.1712 - rmse: 0.2216 - val_loss: 0.2776 - val_mean_absolute_error: 0.2776 - val_rmse: 0.3183\n",
      "Epoch 91/100\n",
      "250/250 [==============================] - 0s 110us/sample - loss: 0.1712 - mean_absolute_error: 0.1712 - rmse: 0.2213 - val_loss: 0.2737 - val_mean_absolute_error: 0.2737 - val_rmse: 0.3140\n",
      "Epoch 92/100\n",
      "250/250 [==============================] - 0s 57us/sample - loss: 0.1707 - mean_absolute_error: 0.1707 - rmse: 0.2211 - val_loss: 0.2692 - val_mean_absolute_error: 0.2692 - val_rmse: 0.3091\n",
      "Epoch 93/100\n",
      "250/250 [==============================] - 0s 58us/sample - loss: 0.1709 - mean_absolute_error: 0.1709 - rmse: 0.2215 - val_loss: 0.2676 - val_mean_absolute_error: 0.2676 - val_rmse: 0.3074\n",
      "Epoch 94/100\n",
      "250/250 [==============================] - 0s 62us/sample - loss: 0.1712 - mean_absolute_error: 0.1712 - rmse: 0.2219 - val_loss: 0.2715 - val_mean_absolute_error: 0.2715 - val_rmse: 0.3116\n",
      "Epoch 95/100\n",
      "250/250 [==============================] - 0s 64us/sample - loss: 0.1708 - mean_absolute_error: 0.1708 - rmse: 0.2212 - val_loss: 0.2760 - val_mean_absolute_error: 0.2760 - val_rmse: 0.3165\n",
      "Epoch 96/100\n",
      "250/250 [==============================] - 0s 60us/sample - loss: 0.1708 - mean_absolute_error: 0.1708 - rmse: 0.2211 - val_loss: 0.2775 - val_mean_absolute_error: 0.2775 - val_rmse: 0.3182\n",
      "Epoch 97/100\n",
      "250/250 [==============================] - 0s 56us/sample - loss: 0.1707 - mean_absolute_error: 0.1707 - rmse: 0.2210 - val_loss: 0.2741 - val_mean_absolute_error: 0.2741 - val_rmse: 0.3145\n",
      "Epoch 98/100\n",
      "250/250 [==============================] - 0s 56us/sample - loss: 0.1703 - mean_absolute_error: 0.1703 - rmse: 0.2207 - val_loss: 0.2710 - val_mean_absolute_error: 0.2710 - val_rmse: 0.3110\n",
      "Epoch 99/100\n",
      "250/250 [==============================] - 0s 70us/sample - loss: 0.1705 - mean_absolute_error: 0.1705 - rmse: 0.2208 - val_loss: 0.2702 - val_mean_absolute_error: 0.2702 - val_rmse: 0.3102\n",
      "Epoch 100/100\n",
      "250/250 [==============================] - 0s 59us/sample - loss: 0.1703 - mean_absolute_error: 0.1703 - rmse: 0.2208 - val_loss: 0.2725 - val_mean_absolute_error: 0.2725 - val_rmse: 0.3127\n",
      "dict_keys(['loss', 'mean_absolute_error', 'rmse', 'val_loss', 'val_mean_absolute_error', 'val_rmse'])\n",
      "{'loss': [0.25891050696372986, 0.23600074648857117, 0.2226354479789734, 0.2152605652809143, 0.2096473127603531, 0.20547549426555634, 0.20088261365890503, 0.1993580013513565, 0.1951759159564972, 0.19316118955612183, 0.18794183433055878, 0.18734687566757202, 0.18759025633335114, 0.18780910968780518, 0.18923768401145935, 0.18611055612564087, 0.1870431751012802, 0.1859644055366516, 0.1847539246082306, 0.185272216796875, 0.18274962902069092, 0.18345606327056885, 0.18271294236183167, 0.1817561835050583, 0.1806563436985016, 0.18050912022590637, 0.1805419623851776, 0.1801997721195221, 0.17896372079849243, 0.17844243347644806, 0.17822062969207764, 0.17853394150733948, 0.1773701310157776, 0.1768454909324646, 0.17568819224834442, 0.17519906163215637, 0.17606838047504425, 0.17612171173095703, 0.1760549545288086, 0.17575983703136444, 0.17529872059822083, 0.1750391572713852, 0.17493830621242523, 0.17476138472557068, 0.1739477813243866, 0.17425279319286346, 0.1737339347600937, 0.17395085096359253, 0.17325440049171448, 0.17373134195804596, 0.17297811806201935, 0.17274068295955658, 0.1729542762041092, 0.17352382838726044, 0.17279380559921265, 0.17316140234470367, 0.1725945621728897, 0.173225536942482, 0.17255543172359467, 0.1725229024887085, 0.17259371280670166, 0.17269931733608246, 0.17213919758796692, 0.17259132862091064, 0.1720207780599594, 0.17213235795497894, 0.1721208393573761, 0.17201262712478638, 0.17243355512619019, 0.17193202674388885, 0.17182816565036774, 0.17153771221637726, 0.17173919081687927, 0.17218199372291565, 0.17168651521205902, 0.171486496925354, 0.1716242879629135, 0.1714262217283249, 0.17137156426906586, 0.1717720925807953, 0.17132322490215302, 0.171518936753273, 0.17090590298175812, 0.17123158276081085, 0.17118215560913086, 0.17127956449985504, 0.17104436457157135, 0.17171502113342285, 0.17109744250774384, 0.17119698226451874, 0.1711924970149994, 0.170697420835495, 0.1709287166595459, 0.1712014079093933, 0.17076687514781952, 0.17075790464878082, 0.17074371874332428, 0.1703004091978073, 0.17046643793582916, 0.1703222244977951], 'mean_absolute_error': [0.2589105, 0.23600075, 0.22263545, 0.21526057, 0.20964731, 0.2054755, 0.20088261, 0.199358, 0.19517592, 0.19316119, 0.18794183, 0.18734688, 0.18759026, 0.18780911, 0.18923768, 0.18611056, 0.18704318, 0.1859644, 0.18475392, 0.18527222, 0.18274963, 0.18345606, 0.18271294, 0.18175618, 0.18065634, 0.18050912, 0.18054196, 0.18019977, 0.17896372, 0.17844243, 0.17822063, 0.17853394, 0.17737013, 0.17684549, 0.17568819, 0.17519906, 0.17606838, 0.17612171, 0.17605495, 0.17575984, 0.17529872, 0.17503916, 0.1749383, 0.17476138, 0.17394778, 0.1742528, 0.17373393, 0.17395085, 0.1732544, 0.17373134, 0.17297812, 0.17274068, 0.17295428, 0.17352383, 0.1727938, 0.1731614, 0.17259456, 0.17322554, 0.17255543, 0.1725229, 0.17259371, 0.17269932, 0.1721392, 0.17259133, 0.17202078, 0.17213236, 0.17212084, 0.17201263, 0.17243356, 0.17193203, 0.17182817, 0.17153771, 0.17173919, 0.172182, 0.17168652, 0.1714865, 0.17162429, 0.17142622, 0.17137156, 0.1717721, 0.17132322, 0.17151894, 0.1709059, 0.17123158, 0.17118216, 0.17127956, 0.17104436, 0.17171502, 0.17109744, 0.17119698, 0.1711925, 0.17069742, 0.17092872, 0.17120141, 0.17076688, 0.1707579, 0.17074372, 0.17030041, 0.17046644, 0.17032222], 'rmse': [0.33125335, 0.2959007, 0.27736098, 0.27023685, 0.26483488, 0.26164412, 0.25691006, 0.25516158, 0.24955644, 0.24598032, 0.23869045, 0.23738211, 0.23688248, 0.23757471, 0.23926625, 0.23566529, 0.23728722, 0.2362787, 0.23512322, 0.23647477, 0.23370624, 0.23507355, 0.23424716, 0.23349531, 0.23264118, 0.23265775, 0.23277548, 0.23263048, 0.23082219, 0.22966117, 0.22916105, 0.22916064, 0.22744288, 0.22663397, 0.22526892, 0.2248192, 0.22582904, 0.22586893, 0.22628608, 0.226183, 0.22593957, 0.22558916, 0.22554874, 0.2252616, 0.22449182, 0.22493778, 0.22437903, 0.22443482, 0.22378018, 0.22422588, 0.22326985, 0.22308683, 0.22316429, 0.22353378, 0.22290663, 0.22322536, 0.22273467, 0.22347693, 0.2227853, 0.22284915, 0.22297376, 0.22318608, 0.22270598, 0.22327676, 0.22281788, 0.22255062, 0.22262804, 0.22241025, 0.22282894, 0.22228982, 0.2222181, 0.22200124, 0.2220141, 0.22249763, 0.22198476, 0.22199148, 0.22199897, 0.22182141, 0.22165632, 0.22195692, 0.22164409, 0.22204442, 0.2212778, 0.22132568, 0.22133145, 0.22160994, 0.22148836, 0.22241393, 0.22157954, 0.22158141, 0.22134608, 0.22107677, 0.22145669, 0.22186211, 0.22119538, 0.2210539, 0.22101977, 0.22067557, 0.22077198, 0.2208113], 'val_loss': [0.24297919869422913, 0.2768580913543701, 0.3046268820762634, 0.3152867555618286, 0.31296026706695557, 0.30394724011421204, 0.29341697692871094, 0.2843363285064697, 0.27900031208992004, 0.27683010697364807, 0.27838608622550964, 0.2816673517227173, 0.2841721177101135, 0.2849075496196747, 0.28389009833335876, 0.282319039106369, 0.28050458431243896, 0.28011560440063477, 0.28151175379753113, 0.28413787484169006, 0.286983460187912, 0.28881487250328064, 0.28853800892829895, 0.28705331683158875, 0.28523993492126465, 0.2838573753833771, 0.2829115092754364, 0.28235378861427307, 0.2824963927268982, 0.282258540391922, 0.2816643714904785, 0.2800101041793823, 0.2777130603790283, 0.27574461698532104, 0.27520883083343506, 0.2765936553478241, 0.27710840106010437, 0.27617764472961426, 0.27492374181747437, 0.27345484495162964, 0.2734586000442505, 0.2752002775669098, 0.27671822905540466, 0.2767811119556427, 0.2765549123287201, 0.2762458920478821, 0.2761930525302887, 0.2763846814632416, 0.27789172530174255, 0.27778396010398865, 0.27694693207740784, 0.2766789495944977, 0.2772480249404907, 0.2768975496292114, 0.2758789360523224, 0.27526238560676575, 0.27437224984169006, 0.2743794918060303, 0.2761716842651367, 0.27660998702049255, 0.2752581834793091, 0.2723753750324249, 0.2713623344898224, 0.27145254611968994, 0.27464649081230164, 0.2764851450920105, 0.2764890491962433, 0.2740658223628998, 0.27041810750961304, 0.26967853307724, 0.27259528636932373, 0.2762232720851898, 0.2760169804096222, 0.2728029489517212, 0.26944634318351746, 0.27031680941581726, 0.2741582989692688, 0.2777329683303833, 0.2765437662601471, 0.27158620953559875, 0.26924729347229004, 0.27134475111961365, 0.2765657305717468, 0.27882978320121765, 0.27621251344680786, 0.2716360092163086, 0.26888906955718994, 0.2710418999195099, 0.27524006366729736, 0.2776186466217041, 0.2737106382846832, 0.26916390657424927, 0.26762956380844116, 0.27154409885406494, 0.2759777009487152, 0.2775196433067322, 0.27413105964660645, 0.2709926962852478, 0.270208477973938, 0.2725488543510437], 'val_mean_absolute_error': [0.2429792, 0.2768581, 0.30462688, 0.31528676, 0.31296027, 0.30394724, 0.29341698, 0.28433633, 0.2790003, 0.2768301, 0.2783861, 0.28166735, 0.28417212, 0.28490755, 0.2838901, 0.28231904, 0.28050458, 0.2801156, 0.28151175, 0.28413787, 0.28698346, 0.28881487, 0.288538, 0.28705332, 0.28523993, 0.28385738, 0.2829115, 0.2823538, 0.2824964, 0.28225854, 0.28166437, 0.2800101, 0.27771306, 0.27574462, 0.27520883, 0.27659366, 0.2771084, 0.27617764, 0.27492374, 0.27345484, 0.2734586, 0.27520028, 0.27671823, 0.2767811, 0.2765549, 0.2762459, 0.27619305, 0.27638468, 0.27789173, 0.27778396, 0.27694693, 0.27667895, 0.27724802, 0.27689755, 0.27587894, 0.2752624, 0.27437225, 0.2743795, 0.27617168, 0.27661, 0.27525818, 0.27237538, 0.27136233, 0.27145255, 0.2746465, 0.27648515, 0.27648905, 0.27406582, 0.2704181, 0.26967853, 0.2725953, 0.27622327, 0.27601698, 0.27280295, 0.26944634, 0.2703168, 0.2741583, 0.27773297, 0.27654377, 0.2715862, 0.2692473, 0.27134475, 0.27656573, 0.27882978, 0.2762125, 0.271636, 0.26888907, 0.2710419, 0.27524006, 0.27761865, 0.27371064, 0.2691639, 0.26762956, 0.2715441, 0.2759777, 0.27751964, 0.27413106, 0.2709927, 0.27020848, 0.27254885], 'val_rmse': [0.29480433, 0.32881415, 0.35632887, 0.3663386, 0.3627391, 0.35258752, 0.34046316, 0.32909176, 0.32140753, 0.31775397, 0.3191196, 0.32283643, 0.32581657, 0.3268691, 0.3258899, 0.32426447, 0.3223482, 0.32200095, 0.32356167, 0.32639945, 0.32948142, 0.3314509, 0.33109495, 0.32942542, 0.3274182, 0.32586983, 0.32475692, 0.324057, 0.32413632, 0.3238291, 0.3231547, 0.3213049, 0.31872788, 0.31652358, 0.31592628, 0.31745902, 0.31799096, 0.31690645, 0.31543678, 0.3137362, 0.3136512, 0.31548443, 0.31712046, 0.317196, 0.31701392, 0.316762, 0.31681743, 0.3171507, 0.31890956, 0.3188342, 0.31790856, 0.31755862, 0.31810364, 0.31761923, 0.31638664, 0.31562266, 0.3145926, 0.3145902, 0.31660846, 0.3171519, 0.31571504, 0.31259733, 0.31154242, 0.3116563, 0.31514776, 0.31716165, 0.31713194, 0.31441236, 0.31037894, 0.30955246, 0.31270018, 0.31670535, 0.31648216, 0.31293425, 0.30928376, 0.31024694, 0.31448898, 0.31847093, 0.3171303, 0.31162107, 0.30905387, 0.31131977, 0.31708485, 0.31962314, 0.31672993, 0.3117084, 0.30876616, 0.31109127, 0.3157033, 0.31834385, 0.31400642, 0.3090505, 0.307411, 0.31164244, 0.31652725, 0.31823358, 0.3144675, 0.31102374, 0.31017795, 0.31274948]}\n",
      "{'batch_size': 1024, 'epochs': 100, 'steps': 1, 'samples': 250, 'verbose': 0, 'do_validation': True, 'metrics': ['loss', 'mean_absolute_error', 'rmse', 'val_loss', 'val_mean_absolute_error', 'val_rmse']}\n"
     ]
    }
   ],
   "source": [
    "# Model training:\n",
    "with tf.device('/gpu:0'): \n",
    "    # Create optimizer\n",
    "    gruOptimizer = RandomSearch(build_model, \n",
    "                                objective = objective,\n",
    "                                max_trials = trials, \n",
    "                                executions_per_trial = executions,\n",
    "                                project_name = projectNameRS,\n",
    "                                overwrite=True)\n",
    "    \n",
    "    # gruOptimizer.search_space_summary()\n",
    "\n",
    "    # Search execution with epochs\n",
    "    initialTime = time.time()\n",
    "    gruOptimizer.search(x = xtrain,\n",
    "                        y = ytrain, \n",
    "                        epochs = epchs,\n",
    "                        batch_size = batch,\n",
    "                        validation_data = (xval, yval),\n",
    "                        verbose = 0)\n",
    "    finalTime = time.time()\n",
    "\n",
    "    # Get best model generated\n",
    "    model = gruOptimizer.get_best_models(num_models = numBestModels)[0]\n",
    "\n",
    "    # Model training with epochs \n",
    "    history = model.fit(\n",
    "                xtrain,\n",
    "                ytrain,\n",
    "                epochs = epchs,\n",
    "                batch_size = batch,\n",
    "                validation_data=(xval, yval))\n",
    "\n",
    "    # Show model info\n",
    "    print(history.history.keys())\n",
    "    print(model.history.history)\n",
    "    print(model.history.params)"
   ]
  },
  {
   "cell_type": "code",
   "execution_count": 138,
   "metadata": {},
   "outputs": [
    {
     "name": "stdout",
     "output_type": "stream",
     "text": [
      "------------------------------------------------------\n",
      "SUMMARY\n",
      "------------------------------------------------------\n",
      "Tiempo de entrenamiento (en segundos):\t321.44586634635925\n"
     ]
    },
    {
     "data": {
      "image/png": "[encoded data removed]",
      "text/plain": [
       "<Figure size 432x288 with 1 Axes>"
      ]
     },
     "metadata": {
      "needs_background": "light"
     },
     "output_type": "display_data"
    },
    {
     "data": {
      "text/html": [
       "<span style=\"color:#4527A0\"><h1 style=\"font-size:18px\">Results summary</h1></span>"
      ],
      "text/plain": [
       "<IPython.core.display.HTML object>"
      ]
     },
     "metadata": {},
     "output_type": "display_data"
    },
    {
     "data": {
      "text/html": [
       "<span style=\"color:cyan\"> |-Results in .\\W7_PV-gru-rs</span>"
      ],
      "text/plain": [
       "<IPython.core.display.HTML object>"
      ]
     },
     "metadata": {},
     "output_type": "display_data"
    },
    {
     "data": {
      "text/html": [
       "<span style=\"color:cyan\"> |-Showing 1 best trials</span>"
      ],
      "text/plain": [
       "<IPython.core.display.HTML object>"
      ]
     },
     "metadata": {},
     "output_type": "display_data"
    },
    {
     "data": {
      "text/html": [
       "<span style=\"color:cyan\"> |-Objective(name='val_mean_absolute_error', direction='min')</span>"
      ],
      "text/plain": [
       "<IPython.core.display.HTML object>"
      ]
     },
     "metadata": {},
     "output_type": "display_data"
    },
    {
     "data": {
      "text/html": [
       "<span style=\"color:#4527A0\"><h1 style=\"font-size:18px\">Trial summary</h1></span>"
      ],
      "text/plain": [
       "<IPython.core.display.HTML object>"
      ]
     },
     "metadata": {},
     "output_type": "display_data"
    },
    {
     "data": {
      "text/html": [
       "<span style=\"color:cyan\"> |-Trial ID: 357eaf48c2a8a359bf4aaac72bd96484</span>"
      ],
      "text/plain": [
       "<IPython.core.display.HTML object>"
      ]
     },
     "metadata": {},
     "output_type": "display_data"
    },
    {
     "data": {
      "text/html": [
       "<span style=\"color:cyan\"> |-Score: 0.2467525154352188</span>"
      ],
      "text/plain": [
       "<IPython.core.display.HTML object>"
      ]
     },
     "metadata": {},
     "output_type": "display_data"
    },
    {
     "data": {
      "text/html": [
       "<span style=\"color:cyan\"> |-Best step: 0</span>"
      ],
      "text/plain": [
       "<IPython.core.display.HTML object>"
      ]
     },
     "metadata": {},
     "output_type": "display_data"
    },
    {
     "data": {
      "text/html": [
       "<span style=\"color:#7E57C2\"><h2 style=\"font-size:16px\">Hyperparameters:</h2></span>"
      ],
      "text/plain": [
       "<IPython.core.display.HTML object>"
      ]
     },
     "metadata": {},
     "output_type": "display_data"
    },
    {
     "data": {
      "text/html": [
       "<span style=\"color:cyan\"> |-dropout: 0.1250724304355518</span>"
      ],
      "text/plain": [
       "<IPython.core.display.HTML object>"
      ]
     },
     "metadata": {},
     "output_type": "display_data"
    },
    {
     "data": {
      "text/html": [
       "<span style=\"color:blue\"> |-learning_rate: 0.01</span>"
      ],
      "text/plain": [
       "<IPython.core.display.HTML object>"
      ]
     },
     "metadata": {},
     "output_type": "display_data"
    },
    {
     "data": {
      "text/html": [
       "<span style=\"color:cyan\"> |-units: 50</span>"
      ],
      "text/plain": [
       "<IPython.core.display.HTML object>"
      ]
     },
     "metadata": {},
     "output_type": "display_data"
    },
    {
     "name": "stdout",
     "output_type": "stream",
     "text": [
      "359/359 [==============================] - ETA: 0s - loss: 0.3067 - mean_absolute_error: 0.3067 - rmse: 0.36 - 0s 99us/sample - loss: 0.2095 - mean_absolute_error: 0.2091 - rmse: 0.2619\n",
      "Score: [0.20951591178899356, 0.20910352, 0.26192418]\n"
     ]
    }
   ],
   "source": [
    "# Model evaluation:\n",
    "print(\"------------------------------------------------------\")\n",
    "print(\"SUMMARY\")\n",
    "print(\"------------------------------------------------------\")\n",
    "\n",
    "print(\"Tiempo de entrenamiento (en segundos):\\t\"+str(finalTime - initialTime))\n",
    "\n",
    "# Training and Validation loss curves\n",
    "plt.plot(history.history['loss'], label = 'Training loss')\n",
    "plt.plot(history.history['val_loss'], label = 'Validation loss')\n",
    "plt.legend()\n",
    "plt.show()\n",
    "\n",
    "# Results summary\n",
    "gruOptimizer.results_summary(num_trials = 1)\n",
    "\n",
    "# Model evaluation with test data\n",
    "score = model.evaluate(xtest, ytest)\n",
    "print('Score:', score)"
   ]
  },
  {
   "cell_type": "code",
   "execution_count": 139,
   "metadata": {},
   "outputs": [
    {
     "data": {
      "text/html": [
       "<span style=\"color:#4527A0\"><h1 style=\"font-size:18px\">Trial complete</h1></span>"
      ],
      "text/plain": [
       "<IPython.core.display.HTML object>"
      ]
     },
     "metadata": {},
     "output_type": "display_data"
    },
    {
     "data": {
      "text/html": [
       "<span style=\"color:#4527A0\"><h1 style=\"font-size:18px\">Trial summary</h1></span>"
      ],
      "text/plain": [
       "<IPython.core.display.HTML object>"
      ]
     },
     "metadata": {},
     "output_type": "display_data"
    },
    {
     "data": {
      "text/html": [
       "<span style=\"color:cyan\"> |-Trial ID: 6d045a80165844a783011fbd14016509</span>"
      ],
      "text/plain": [
       "<IPython.core.display.HTML object>"
      ]
     },
     "metadata": {},
     "output_type": "display_data"
    },
    {
     "data": {
      "text/html": [
       "<span style=\"color:cyan\"> |-Score: 0.39825505018234253</span>"
      ],
      "text/plain": [
       "<IPython.core.display.HTML object>"
      ]
     },
     "metadata": {},
     "output_type": "display_data"
    },
    {
     "data": {
      "text/html": [
       "<span style=\"color:cyan\"> |-Best step: 0</span>"
      ],
      "text/plain": [
       "<IPython.core.display.HTML object>"
      ]
     },
     "metadata": {},
     "output_type": "display_data"
    },
    {
     "data": {
      "text/html": [
       "<span style=\"color:#7E57C2\"><h2 style=\"font-size:16px\">Hyperparameters:</h2></span>"
      ],
      "text/plain": [
       "<IPython.core.display.HTML object>"
      ]
     },
     "metadata": {},
     "output_type": "display_data"
    },
    {
     "data": {
      "text/html": [
       "<span style=\"color:cyan\"> |-dropout: 0.20007949056841035</span>"
      ],
      "text/plain": [
       "<IPython.core.display.HTML object>"
      ]
     },
     "metadata": {},
     "output_type": "display_data"
    },
    {
     "data": {
      "text/html": [
       "<span style=\"color:blue\"> |-learning_rate: 0.0001</span>"
      ],
      "text/plain": [
       "<IPython.core.display.HTML object>"
      ]
     },
     "metadata": {},
     "output_type": "display_data"
    },
    {
     "data": {
      "text/html": [
       "<span style=\"color:cyan\"> |-units: 30</span>"
      ],
      "text/plain": [
       "<IPython.core.display.HTML object>"
      ]
     },
     "metadata": {},
     "output_type": "display_data"
    },
    {
     "data": {
      "text/html": [
       "<span style=\"color:#4527A0\"><h1 style=\"font-size:18px\">Trial complete</h1></span>"
      ],
      "text/plain": [
       "<IPython.core.display.HTML object>"
      ]
     },
     "metadata": {},
     "output_type": "display_data"
    },
    {
     "data": {
      "text/html": [
       "<span style=\"color:#4527A0\"><h1 style=\"font-size:18px\">Trial summary</h1></span>"
      ],
      "text/plain": [
       "<IPython.core.display.HTML object>"
      ]
     },
     "metadata": {},
     "output_type": "display_data"
    },
    {
     "data": {
      "text/html": [
       "<span style=\"color:cyan\"> |-Trial ID: afa8984a029de11d3384dadab86fac0d</span>"
      ],
      "text/plain": [
       "<IPython.core.display.HTML object>"
      ]
     },
     "metadata": {},
     "output_type": "display_data"
    },
    {
     "data": {
      "text/html": [
       "<span style=\"color:cyan\"> |-Score: 0.5840561389923096</span>"
      ],
      "text/plain": [
       "<IPython.core.display.HTML object>"
      ]
     },
     "metadata": {},
     "output_type": "display_data"
    },
    {
     "data": {
      "text/html": [
       "<span style=\"color:cyan\"> |-Best step: 0</span>"
      ],
      "text/plain": [
       "<IPython.core.display.HTML object>"
      ]
     },
     "metadata": {},
     "output_type": "display_data"
    },
    {
     "data": {
      "text/html": [
       "<span style=\"color:#7E57C2\"><h2 style=\"font-size:16px\">Hyperparameters:</h2></span>"
      ],
      "text/plain": [
       "<IPython.core.display.HTML object>"
      ]
     },
     "metadata": {},
     "output_type": "display_data"
    },
    {
     "data": {
      "text/html": [
       "<span style=\"color:cyan\"> |-dropout: 0.2357941626110951</span>"
      ],
      "text/plain": [
       "<IPython.core.display.HTML object>"
      ]
     },
     "metadata": {},
     "output_type": "display_data"
    },
    {
     "data": {
      "text/html": [
       "<span style=\"color:blue\"> |-learning_rate: 0.0</span>"
      ],
      "text/plain": [
       "<IPython.core.display.HTML object>"
      ]
     },
     "metadata": {},
     "output_type": "display_data"
    },
    {
     "data": {
      "text/html": [
       "<span style=\"color:cyan\"> |-units: 20</span>"
      ],
      "text/plain": [
       "<IPython.core.display.HTML object>"
      ]
     },
     "metadata": {},
     "output_type": "display_data"
    },
    {
     "data": {
      "text/html": [
       "<span style=\"color:#4527A0\"><h1 style=\"font-size:18px\">Trial complete</h1></span>"
      ],
      "text/plain": [
       "<IPython.core.display.HTML object>"
      ]
     },
     "metadata": {},
     "output_type": "display_data"
    },
    {
     "data": {
      "text/html": [
       "<span style=\"color:#4527A0\"><h1 style=\"font-size:18px\">Trial summary</h1></span>"
      ],
      "text/plain": [
       "<IPython.core.display.HTML object>"
      ]
     },
     "metadata": {},
     "output_type": "display_data"
    },
    {
     "data": {
      "text/html": [
       "<span style=\"color:cyan\"> |-Trial ID: 704a7928762796311abd45efba0b35f1</span>"
      ],
      "text/plain": [
       "<IPython.core.display.HTML object>"
      ]
     },
     "metadata": {},
     "output_type": "display_data"
    },
    {
     "data": {
      "text/html": [
       "<span style=\"color:cyan\"> |-Score: 0.35643428564071655</span>"
      ],
      "text/plain": [
       "<IPython.core.display.HTML object>"
      ]
     },
     "metadata": {},
     "output_type": "display_data"
    },
    {
     "data": {
      "text/html": [
       "<span style=\"color:cyan\"> |-Best step: 0</span>"
      ],
      "text/plain": [
       "<IPython.core.display.HTML object>"
      ]
     },
     "metadata": {},
     "output_type": "display_data"
    },
    {
     "data": {
      "text/html": [
       "<span style=\"color:#7E57C2\"><h2 style=\"font-size:16px\">Hyperparameters:</h2></span>"
      ],
      "text/plain": [
       "<IPython.core.display.HTML object>"
      ]
     },
     "metadata": {},
     "output_type": "display_data"
    },
    {
     "data": {
      "text/html": [
       "<span style=\"color:cyan\"> |-dropout: 0.2090777637175782</span>"
      ],
      "text/plain": [
       "<IPython.core.display.HTML object>"
      ]
     },
     "metadata": {},
     "output_type": "display_data"
    },
    {
     "data": {
      "text/html": [
       "<span style=\"color:blue\"> |-learning_rate: 0.0001</span>"
      ],
      "text/plain": [
       "<IPython.core.display.HTML object>"
      ]
     },
     "metadata": {},
     "output_type": "display_data"
    },
    {
     "data": {
      "text/html": [
       "<span style=\"color:cyan\"> |-units: 30</span>"
      ],
      "text/plain": [
       "<IPython.core.display.HTML object>"
      ]
     },
     "metadata": {},
     "output_type": "display_data"
    },
    {
     "data": {
      "text/html": [
       "<span style=\"color:#4527A0\"><h1 style=\"font-size:18px\">Trial complete</h1></span>"
      ],
      "text/plain": [
       "<IPython.core.display.HTML object>"
      ]
     },
     "metadata": {},
     "output_type": "display_data"
    },
    {
     "data": {
      "text/html": [
       "<span style=\"color:#4527A0\"><h1 style=\"font-size:18px\">Trial summary</h1></span>"
      ],
      "text/plain": [
       "<IPython.core.display.HTML object>"
      ]
     },
     "metadata": {},
     "output_type": "display_data"
    },
    {
     "data": {
      "text/html": [
       "<span style=\"color:cyan\"> |-Trial ID: 773fd51c582ee192c902aa37d521ec9f</span>"
      ],
      "text/plain": [
       "<IPython.core.display.HTML object>"
      ]
     },
     "metadata": {},
     "output_type": "display_data"
    },
    {
     "data": {
      "text/html": [
       "<span style=\"color:cyan\"> |-Score: 0.40425384044647217</span>"
      ],
      "text/plain": [
       "<IPython.core.display.HTML object>"
      ]
     },
     "metadata": {},
     "output_type": "display_data"
    },
    {
     "data": {
      "text/html": [
       "<span style=\"color:cyan\"> |-Best step: 0</span>"
      ],
      "text/plain": [
       "<IPython.core.display.HTML object>"
      ]
     },
     "metadata": {},
     "output_type": "display_data"
    },
    {
     "data": {
      "text/html": [
       "<span style=\"color:#7E57C2\"><h2 style=\"font-size:16px\">Hyperparameters:</h2></span>"
      ],
      "text/plain": [
       "<IPython.core.display.HTML object>"
      ]
     },
     "metadata": {},
     "output_type": "display_data"
    },
    {
     "data": {
      "text/html": [
       "<span style=\"color:cyan\"> |-dropout: 0.24389137701151517</span>"
      ],
      "text/plain": [
       "<IPython.core.display.HTML object>"
      ]
     },
     "metadata": {},
     "output_type": "display_data"
    },
    {
     "data": {
      "text/html": [
       "<span style=\"color:blue\"> |-learning_rate: 0.0001</span>"
      ],
      "text/plain": [
       "<IPython.core.display.HTML object>"
      ]
     },
     "metadata": {},
     "output_type": "display_data"
    },
    {
     "data": {
      "text/html": [
       "<span style=\"color:cyan\"> |-units: 30</span>"
      ],
      "text/plain": [
       "<IPython.core.display.HTML object>"
      ]
     },
     "metadata": {},
     "output_type": "display_data"
    },
    {
     "data": {
      "text/html": [
       "<span style=\"color:#4527A0\"><h1 style=\"font-size:18px\">Trial complete</h1></span>"
      ],
      "text/plain": [
       "<IPython.core.display.HTML object>"
      ]
     },
     "metadata": {},
     "output_type": "display_data"
    },
    {
     "data": {
      "text/html": [
       "<span style=\"color:#4527A0\"><h1 style=\"font-size:18px\">Trial summary</h1></span>"
      ],
      "text/plain": [
       "<IPython.core.display.HTML object>"
      ]
     },
     "metadata": {},
     "output_type": "display_data"
    },
    {
     "data": {
      "text/html": [
       "<span style=\"color:cyan\"> |-Trial ID: d336c07cde742d10e485d19699abdb07</span>"
      ],
      "text/plain": [
       "<IPython.core.display.HTML object>"
      ]
     },
     "metadata": {},
     "output_type": "display_data"
    },
    {
     "data": {
      "text/html": [
       "<span style=\"color:cyan\"> |-Score: 0.43130767345428467</span>"
      ],
      "text/plain": [
       "<IPython.core.display.HTML object>"
      ]
     },
     "metadata": {},
     "output_type": "display_data"
    },
    {
     "data": {
      "text/html": [
       "<span style=\"color:cyan\"> |-Best step: 0</span>"
      ],
      "text/plain": [
       "<IPython.core.display.HTML object>"
      ]
     },
     "metadata": {},
     "output_type": "display_data"
    },
    {
     "data": {
      "text/html": [
       "<span style=\"color:#7E57C2\"><h2 style=\"font-size:16px\">Hyperparameters:</h2></span>"
      ],
      "text/plain": [
       "<IPython.core.display.HTML object>"
      ]
     },
     "metadata": {},
     "output_type": "display_data"
    },
    {
     "data": {
      "text/html": [
       "<span style=\"color:cyan\"> |-dropout: 0.22017283487559358</span>"
      ],
      "text/plain": [
       "<IPython.core.display.HTML object>"
      ]
     },
     "metadata": {},
     "output_type": "display_data"
    },
    {
     "data": {
      "text/html": [
       "<span style=\"color:blue\"> |-learning_rate: 0.0001</span>"
      ],
      "text/plain": [
       "<IPython.core.display.HTML object>"
      ]
     },
     "metadata": {},
     "output_type": "display_data"
    },
    {
     "data": {
      "text/html": [
       "<span style=\"color:cyan\"> |-units: 30</span>"
      ],
      "text/plain": [
       "<IPython.core.display.HTML object>"
      ]
     },
     "metadata": {},
     "output_type": "display_data"
    },
    {
     "data": {
      "text/html": [
       "<span style=\"color:#4527A0\"><h1 style=\"font-size:18px\">Trial complete</h1></span>"
      ],
      "text/plain": [
       "<IPython.core.display.HTML object>"
      ]
     },
     "metadata": {},
     "output_type": "display_data"
    },
    {
     "data": {
      "text/html": [
       "<span style=\"color:#4527A0\"><h1 style=\"font-size:18px\">Trial summary</h1></span>"
      ],
      "text/plain": [
       "<IPython.core.display.HTML object>"
      ]
     },
     "metadata": {},
     "output_type": "display_data"
    },
    {
     "data": {
      "text/html": [
       "<span style=\"color:cyan\"> |-Trial ID: fb7d5ad9c52d3c311c05945a44242f6a</span>"
      ],
      "text/plain": [
       "<IPython.core.display.HTML object>"
      ]
     },
     "metadata": {},
     "output_type": "display_data"
    },
    {
     "data": {
      "text/html": [
       "<span style=\"color:cyan\"> |-Score: 0.46988165378570557</span>"
      ],
      "text/plain": [
       "<IPython.core.display.HTML object>"
      ]
     },
     "metadata": {},
     "output_type": "display_data"
    },
    {
     "data": {
      "text/html": [
       "<span style=\"color:cyan\"> |-Best step: 0</span>"
      ],
      "text/plain": [
       "<IPython.core.display.HTML object>"
      ]
     },
     "metadata": {},
     "output_type": "display_data"
    },
    {
     "data": {
      "text/html": [
       "<span style=\"color:#7E57C2\"><h2 style=\"font-size:16px\">Hyperparameters:</h2></span>"
      ],
      "text/plain": [
       "<IPython.core.display.HTML object>"
      ]
     },
     "metadata": {},
     "output_type": "display_data"
    },
    {
     "data": {
      "text/html": [
       "<span style=\"color:cyan\"> |-dropout: 0.20795337882668957</span>"
      ],
      "text/plain": [
       "<IPython.core.display.HTML object>"
      ]
     },
     "metadata": {},
     "output_type": "display_data"
    },
    {
     "data": {
      "text/html": [
       "<span style=\"color:blue\"> |-learning_rate: 0.0001</span>"
      ],
      "text/plain": [
       "<IPython.core.display.HTML object>"
      ]
     },
     "metadata": {},
     "output_type": "display_data"
    },
    {
     "data": {
      "text/html": [
       "<span style=\"color:cyan\"> |-units: 30</span>"
      ],
      "text/plain": [
       "<IPython.core.display.HTML object>"
      ]
     },
     "metadata": {},
     "output_type": "display_data"
    },
    {
     "name": "stderr",
     "output_type": "stream",
     "text": [
      "c:\\Users\\hecto\\.conda\\envs\\myenv\\lib\\site-packages\\sklearn\\gaussian_process\\kernels.py:409: ConvergenceWarning: The optimal value found for dimension 0 of parameter length_scale is close to the specified lower bound 1e-05. Decreasing the bound and calling fit again may find a better value.\n",
      "  ConvergenceWarning)\n"
     ]
    },
    {
     "data": {
      "text/html": [
       "<span style=\"color:#4527A0\"><h1 style=\"font-size:18px\">Trial complete</h1></span>"
      ],
      "text/plain": [
       "<IPython.core.display.HTML object>"
      ]
     },
     "metadata": {},
     "output_type": "display_data"
    },
    {
     "data": {
      "text/html": [
       "<span style=\"color:#4527A0\"><h1 style=\"font-size:18px\">Trial summary</h1></span>"
      ],
      "text/plain": [
       "<IPython.core.display.HTML object>"
      ]
     },
     "metadata": {},
     "output_type": "display_data"
    },
    {
     "data": {
      "text/html": [
       "<span style=\"color:cyan\"> |-Trial ID: 65081e58525fb2c0ab8cc6ee52f439f8</span>"
      ],
      "text/plain": [
       "<IPython.core.display.HTML object>"
      ]
     },
     "metadata": {},
     "output_type": "display_data"
    },
    {
     "data": {
      "text/html": [
       "<span style=\"color:cyan\"> |-Score: 0.4765264391899109</span>"
      ],
      "text/plain": [
       "<IPython.core.display.HTML object>"
      ]
     },
     "metadata": {},
     "output_type": "display_data"
    },
    {
     "data": {
      "text/html": [
       "<span style=\"color:cyan\"> |-Best step: 0</span>"
      ],
      "text/plain": [
       "<IPython.core.display.HTML object>"
      ]
     },
     "metadata": {},
     "output_type": "display_data"
    },
    {
     "data": {
      "text/html": [
       "<span style=\"color:#7E57C2\"><h2 style=\"font-size:16px\">Hyperparameters:</h2></span>"
      ],
      "text/plain": [
       "<IPython.core.display.HTML object>"
      ]
     },
     "metadata": {},
     "output_type": "display_data"
    },
    {
     "data": {
      "text/html": [
       "<span style=\"color:cyan\"> |-dropout: 0.17093817868256814</span>"
      ],
      "text/plain": [
       "<IPython.core.display.HTML object>"
      ]
     },
     "metadata": {},
     "output_type": "display_data"
    },
    {
     "data": {
      "text/html": [
       "<span style=\"color:blue\"> |-learning_rate: 0.0001</span>"
      ],
      "text/plain": [
       "<IPython.core.display.HTML object>"
      ]
     },
     "metadata": {},
     "output_type": "display_data"
    },
    {
     "data": {
      "text/html": [
       "<span style=\"color:cyan\"> |-units: 20</span>"
      ],
      "text/plain": [
       "<IPython.core.display.HTML object>"
      ]
     },
     "metadata": {},
     "output_type": "display_data"
    },
    {
     "name": "stderr",
     "output_type": "stream",
     "text": [
      "c:\\Users\\hecto\\.conda\\envs\\myenv\\lib\\site-packages\\sklearn\\gaussian_process\\kernels.py:409: ConvergenceWarning: The optimal value found for dimension 0 of parameter length_scale is close to the specified lower bound 1e-05. Decreasing the bound and calling fit again may find a better value.\n",
      "  ConvergenceWarning)\n"
     ]
    },
    {
     "data": {
      "text/html": [
       "<span style=\"color:#4527A0\"><h1 style=\"font-size:18px\">Trial complete</h1></span>"
      ],
      "text/plain": [
       "<IPython.core.display.HTML object>"
      ]
     },
     "metadata": {},
     "output_type": "display_data"
    },
    {
     "data": {
      "text/html": [
       "<span style=\"color:#4527A0\"><h1 style=\"font-size:18px\">Trial summary</h1></span>"
      ],
      "text/plain": [
       "<IPython.core.display.HTML object>"
      ]
     },
     "metadata": {},
     "output_type": "display_data"
    },
    {
     "data": {
      "text/html": [
       "<span style=\"color:cyan\"> |-Trial ID: a399e42fe4a9c1673e18b8a1d35c0727</span>"
      ],
      "text/plain": [
       "<IPython.core.display.HTML object>"
      ]
     },
     "metadata": {},
     "output_type": "display_data"
    },
    {
     "data": {
      "text/html": [
       "<span style=\"color:cyan\"> |-Score: 0.2715246081352234</span>"
      ],
      "text/plain": [
       "<IPython.core.display.HTML object>"
      ]
     },
     "metadata": {},
     "output_type": "display_data"
    },
    {
     "data": {
      "text/html": [
       "<span style=\"color:cyan\"> |-Best step: 0</span>"
      ],
      "text/plain": [
       "<IPython.core.display.HTML object>"
      ]
     },
     "metadata": {},
     "output_type": "display_data"
    },
    {
     "data": {
      "text/html": [
       "<span style=\"color:#7E57C2\"><h2 style=\"font-size:16px\">Hyperparameters:</h2></span>"
      ],
      "text/plain": [
       "<IPython.core.display.HTML object>"
      ]
     },
     "metadata": {},
     "output_type": "display_data"
    },
    {
     "data": {
      "text/html": [
       "<span style=\"color:cyan\"> |-dropout: 0.1761481753770146</span>"
      ],
      "text/plain": [
       "<IPython.core.display.HTML object>"
      ]
     },
     "metadata": {},
     "output_type": "display_data"
    },
    {
     "data": {
      "text/html": [
       "<span style=\"color:blue\"> |-learning_rate: 0.001</span>"
      ],
      "text/plain": [
       "<IPython.core.display.HTML object>"
      ]
     },
     "metadata": {},
     "output_type": "display_data"
    },
    {
     "data": {
      "text/html": [
       "<span style=\"color:cyan\"> |-units: 40</span>"
      ],
      "text/plain": [
       "<IPython.core.display.HTML object>"
      ]
     },
     "metadata": {},
     "output_type": "display_data"
    },
    {
     "name": "stderr",
     "output_type": "stream",
     "text": [
      "c:\\Users\\hecto\\.conda\\envs\\myenv\\lib\\site-packages\\sklearn\\gaussian_process\\kernels.py:409: ConvergenceWarning: The optimal value found for dimension 0 of parameter length_scale is close to the specified lower bound 1e-05. Decreasing the bound and calling fit again may find a better value.\n",
      "  ConvergenceWarning)\n"
     ]
    },
    {
     "data": {
      "text/html": [
       "<span style=\"color:#4527A0\"><h1 style=\"font-size:18px\">Trial complete</h1></span>"
      ],
      "text/plain": [
       "<IPython.core.display.HTML object>"
      ]
     },
     "metadata": {},
     "output_type": "display_data"
    },
    {
     "data": {
      "text/html": [
       "<span style=\"color:#4527A0\"><h1 style=\"font-size:18px\">Trial summary</h1></span>"
      ],
      "text/plain": [
       "<IPython.core.display.HTML object>"
      ]
     },
     "metadata": {},
     "output_type": "display_data"
    },
    {
     "data": {
      "text/html": [
       "<span style=\"color:cyan\"> |-Trial ID: ad1b8d395d2040c4dc3cf582c2cebeb7</span>"
      ],
      "text/plain": [
       "<IPython.core.display.HTML object>"
      ]
     },
     "metadata": {},
     "output_type": "display_data"
    },
    {
     "data": {
      "text/html": [
       "<span style=\"color:cyan\"> |-Score: 0.5182585120201111</span>"
      ],
      "text/plain": [
       "<IPython.core.display.HTML object>"
      ]
     },
     "metadata": {},
     "output_type": "display_data"
    },
    {
     "data": {
      "text/html": [
       "<span style=\"color:cyan\"> |-Best step: 0</span>"
      ],
      "text/plain": [
       "<IPython.core.display.HTML object>"
      ]
     },
     "metadata": {},
     "output_type": "display_data"
    },
    {
     "data": {
      "text/html": [
       "<span style=\"color:#7E57C2\"><h2 style=\"font-size:16px\">Hyperparameters:</h2></span>"
      ],
      "text/plain": [
       "<IPython.core.display.HTML object>"
      ]
     },
     "metadata": {},
     "output_type": "display_data"
    },
    {
     "data": {
      "text/html": [
       "<span style=\"color:cyan\"> |-dropout: 0.3198195072989088</span>"
      ],
      "text/plain": [
       "<IPython.core.display.HTML object>"
      ]
     },
     "metadata": {},
     "output_type": "display_data"
    },
    {
     "data": {
      "text/html": [
       "<span style=\"color:blue\"> |-learning_rate: 0.0001</span>"
      ],
      "text/plain": [
       "<IPython.core.display.HTML object>"
      ]
     },
     "metadata": {},
     "output_type": "display_data"
    },
    {
     "data": {
      "text/html": [
       "<span style=\"color:cyan\"> |-units: 10</span>"
      ],
      "text/plain": [
       "<IPython.core.display.HTML object>"
      ]
     },
     "metadata": {},
     "output_type": "display_data"
    },
    {
     "name": "stderr",
     "output_type": "stream",
     "text": [
      "c:\\Users\\hecto\\.conda\\envs\\myenv\\lib\\site-packages\\sklearn\\gaussian_process\\kernels.py:409: ConvergenceWarning: The optimal value found for dimension 0 of parameter length_scale is close to the specified lower bound 1e-05. Decreasing the bound and calling fit again may find a better value.\n",
      "  ConvergenceWarning)\n"
     ]
    },
    {
     "data": {
      "text/html": [
       "<span style=\"color:#4527A0\"><h1 style=\"font-size:18px\">Trial complete</h1></span>"
      ],
      "text/plain": [
       "<IPython.core.display.HTML object>"
      ]
     },
     "metadata": {},
     "output_type": "display_data"
    },
    {
     "data": {
      "text/html": [
       "<span style=\"color:#4527A0\"><h1 style=\"font-size:18px\">Trial summary</h1></span>"
      ],
      "text/plain": [
       "<IPython.core.display.HTML object>"
      ]
     },
     "metadata": {},
     "output_type": "display_data"
    },
    {
     "data": {
      "text/html": [
       "<span style=\"color:cyan\"> |-Trial ID: eb0fc793289ea08e85c5b1c8d464e244</span>"
      ],
      "text/plain": [
       "<IPython.core.display.HTML object>"
      ]
     },
     "metadata": {},
     "output_type": "display_data"
    },
    {
     "data": {
      "text/html": [
       "<span style=\"color:cyan\"> |-Score: 0.6174997091293335</span>"
      ],
      "text/plain": [
       "<IPython.core.display.HTML object>"
      ]
     },
     "metadata": {},
     "output_type": "display_data"
    },
    {
     "data": {
      "text/html": [
       "<span style=\"color:cyan\"> |-Best step: 0</span>"
      ],
      "text/plain": [
       "<IPython.core.display.HTML object>"
      ]
     },
     "metadata": {},
     "output_type": "display_data"
    },
    {
     "data": {
      "text/html": [
       "<span style=\"color:#7E57C2\"><h2 style=\"font-size:16px\">Hyperparameters:</h2></span>"
      ],
      "text/plain": [
       "<IPython.core.display.HTML object>"
      ]
     },
     "metadata": {},
     "output_type": "display_data"
    },
    {
     "data": {
      "text/html": [
       "<span style=\"color:cyan\"> |-dropout: 0.1924471668649037</span>"
      ],
      "text/plain": [
       "<IPython.core.display.HTML object>"
      ]
     },
     "metadata": {},
     "output_type": "display_data"
    },
    {
     "data": {
      "text/html": [
       "<span style=\"color:blue\"> |-learning_rate: 0.0</span>"
      ],
      "text/plain": [
       "<IPython.core.display.HTML object>"
      ]
     },
     "metadata": {},
     "output_type": "display_data"
    },
    {
     "data": {
      "text/html": [
       "<span style=\"color:cyan\"> |-units: 20</span>"
      ],
      "text/plain": [
       "<IPython.core.display.HTML object>"
      ]
     },
     "metadata": {},
     "output_type": "display_data"
    },
    {
     "name": "stderr",
     "output_type": "stream",
     "text": [
      "c:\\Users\\hecto\\.conda\\envs\\myenv\\lib\\site-packages\\sklearn\\gaussian_process\\kernels.py:409: ConvergenceWarning: The optimal value found for dimension 0 of parameter length_scale is close to the specified lower bound 1e-05. Decreasing the bound and calling fit again may find a better value.\n",
      "  ConvergenceWarning)\n"
     ]
    },
    {
     "data": {
      "text/html": [
       "<span style=\"color:#4527A0\"><h1 style=\"font-size:18px\">Trial complete</h1></span>"
      ],
      "text/plain": [
       "<IPython.core.display.HTML object>"
      ]
     },
     "metadata": {},
     "output_type": "display_data"
    },
    {
     "data": {
      "text/html": [
       "<span style=\"color:#4527A0\"><h1 style=\"font-size:18px\">Trial summary</h1></span>"
      ],
      "text/plain": [
       "<IPython.core.display.HTML object>"
      ]
     },
     "metadata": {},
     "output_type": "display_data"
    },
    {
     "data": {
      "text/html": [
       "<span style=\"color:cyan\"> |-Trial ID: 6ce5f8c6f13338f22bc17835b0554125</span>"
      ],
      "text/plain": [
       "<IPython.core.display.HTML object>"
      ]
     },
     "metadata": {},
     "output_type": "display_data"
    },
    {
     "data": {
      "text/html": [
       "<span style=\"color:cyan\"> |-Score: 0.6094319820404053</span>"
      ],
      "text/plain": [
       "<IPython.core.display.HTML object>"
      ]
     },
     "metadata": {},
     "output_type": "display_data"
    },
    {
     "data": {
      "text/html": [
       "<span style=\"color:cyan\"> |-Best step: 0</span>"
      ],
      "text/plain": [
       "<IPython.core.display.HTML object>"
      ]
     },
     "metadata": {},
     "output_type": "display_data"
    },
    {
     "data": {
      "text/html": [
       "<span style=\"color:#7E57C2\"><h2 style=\"font-size:16px\">Hyperparameters:</h2></span>"
      ],
      "text/plain": [
       "<IPython.core.display.HTML object>"
      ]
     },
     "metadata": {},
     "output_type": "display_data"
    },
    {
     "data": {
      "text/html": [
       "<span style=\"color:cyan\"> |-dropout: 0.03607733489095338</span>"
      ],
      "text/plain": [
       "<IPython.core.display.HTML object>"
      ]
     },
     "metadata": {},
     "output_type": "display_data"
    },
    {
     "data": {
      "text/html": [
       "<span style=\"color:blue\"> |-learning_rate: 0.0</span>"
      ],
      "text/plain": [
       "<IPython.core.display.HTML object>"
      ]
     },
     "metadata": {},
     "output_type": "display_data"
    },
    {
     "data": {
      "text/html": [
       "<span style=\"color:cyan\"> |-units: 20</span>"
      ],
      "text/plain": [
       "<IPython.core.display.HTML object>"
      ]
     },
     "metadata": {},
     "output_type": "display_data"
    },
    {
     "name": "stderr",
     "output_type": "stream",
     "text": [
      "c:\\Users\\hecto\\.conda\\envs\\myenv\\lib\\site-packages\\sklearn\\gaussian_process\\kernels.py:409: ConvergenceWarning: The optimal value found for dimension 0 of parameter length_scale is close to the specified lower bound 1e-05. Decreasing the bound and calling fit again may find a better value.\n",
      "  ConvergenceWarning)\n"
     ]
    },
    {
     "data": {
      "text/html": [
       "<span style=\"color:#4527A0\"><h1 style=\"font-size:18px\">Trial complete</h1></span>"
      ],
      "text/plain": [
       "<IPython.core.display.HTML object>"
      ]
     },
     "metadata": {},
     "output_type": "display_data"
    },
    {
     "data": {
      "text/html": [
       "<span style=\"color:#4527A0\"><h1 style=\"font-size:18px\">Trial summary</h1></span>"
      ],
      "text/plain": [
       "<IPython.core.display.HTML object>"
      ]
     },
     "metadata": {},
     "output_type": "display_data"
    },
    {
     "data": {
      "text/html": [
       "<span style=\"color:cyan\"> |-Trial ID: ba20d47c60b50b76596b103ce8969f62</span>"
      ],
      "text/plain": [
       "<IPython.core.display.HTML object>"
      ]
     },
     "metadata": {},
     "output_type": "display_data"
    },
    {
     "data": {
      "text/html": [
       "<span style=\"color:cyan\"> |-Score: 0.2747812271118164</span>"
      ],
      "text/plain": [
       "<IPython.core.display.HTML object>"
      ]
     },
     "metadata": {},
     "output_type": "display_data"
    },
    {
     "data": {
      "text/html": [
       "<span style=\"color:cyan\"> |-Best step: 0</span>"
      ],
      "text/plain": [
       "<IPython.core.display.HTML object>"
      ]
     },
     "metadata": {},
     "output_type": "display_data"
    },
    {
     "data": {
      "text/html": [
       "<span style=\"color:#7E57C2\"><h2 style=\"font-size:16px\">Hyperparameters:</h2></span>"
      ],
      "text/plain": [
       "<IPython.core.display.HTML object>"
      ]
     },
     "metadata": {},
     "output_type": "display_data"
    },
    {
     "data": {
      "text/html": [
       "<span style=\"color:cyan\"> |-dropout: 0.254763613851674</span>"
      ],
      "text/plain": [
       "<IPython.core.display.HTML object>"
      ]
     },
     "metadata": {},
     "output_type": "display_data"
    },
    {
     "data": {
      "text/html": [
       "<span style=\"color:blue\"> |-learning_rate: 0.001</span>"
      ],
      "text/plain": [
       "<IPython.core.display.HTML object>"
      ]
     },
     "metadata": {},
     "output_type": "display_data"
    },
    {
     "data": {
      "text/html": [
       "<span style=\"color:cyan\"> |-units: 30</span>"
      ],
      "text/plain": [
       "<IPython.core.display.HTML object>"
      ]
     },
     "metadata": {},
     "output_type": "display_data"
    },
    {
     "name": "stderr",
     "output_type": "stream",
     "text": [
      "c:\\Users\\hecto\\.conda\\envs\\myenv\\lib\\site-packages\\sklearn\\gaussian_process\\kernels.py:409: ConvergenceWarning: The optimal value found for dimension 0 of parameter length_scale is close to the specified lower bound 1e-05. Decreasing the bound and calling fit again may find a better value.\n",
      "  ConvergenceWarning)\n"
     ]
    },
    {
     "data": {
      "text/html": [
       "<span style=\"color:#4527A0\"><h1 style=\"font-size:18px\">Trial complete</h1></span>"
      ],
      "text/plain": [
       "<IPython.core.display.HTML object>"
      ]
     },
     "metadata": {},
     "output_type": "display_data"
    },
    {
     "data": {
      "text/html": [
       "<span style=\"color:#4527A0\"><h1 style=\"font-size:18px\">Trial summary</h1></span>"
      ],
      "text/plain": [
       "<IPython.core.display.HTML object>"
      ]
     },
     "metadata": {},
     "output_type": "display_data"
    },
    {
     "data": {
      "text/html": [
       "<span style=\"color:cyan\"> |-Trial ID: cdbc63a1ec3556ab05029583e4c4a5ae</span>"
      ],
      "text/plain": [
       "<IPython.core.display.HTML object>"
      ]
     },
     "metadata": {},
     "output_type": "display_data"
    },
    {
     "data": {
      "text/html": [
       "<span style=\"color:cyan\"> |-Score: 0.3579486608505249</span>"
      ],
      "text/plain": [
       "<IPython.core.display.HTML object>"
      ]
     },
     "metadata": {},
     "output_type": "display_data"
    },
    {
     "data": {
      "text/html": [
       "<span style=\"color:cyan\"> |-Best step: 0</span>"
      ],
      "text/plain": [
       "<IPython.core.display.HTML object>"
      ]
     },
     "metadata": {},
     "output_type": "display_data"
    },
    {
     "data": {
      "text/html": [
       "<span style=\"color:#7E57C2\"><h2 style=\"font-size:16px\">Hyperparameters:</h2></span>"
      ],
      "text/plain": [
       "<IPython.core.display.HTML object>"
      ]
     },
     "metadata": {},
     "output_type": "display_data"
    },
    {
     "data": {
      "text/html": [
       "<span style=\"color:cyan\"> |-dropout: 0.2847331661304927</span>"
      ],
      "text/plain": [
       "<IPython.core.display.HTML object>"
      ]
     },
     "metadata": {},
     "output_type": "display_data"
    },
    {
     "data": {
      "text/html": [
       "<span style=\"color:blue\"> |-learning_rate: 0.0001</span>"
      ],
      "text/plain": [
       "<IPython.core.display.HTML object>"
      ]
     },
     "metadata": {},
     "output_type": "display_data"
    },
    {
     "data": {
      "text/html": [
       "<span style=\"color:cyan\"> |-units: 40</span>"
      ],
      "text/plain": [
       "<IPython.core.display.HTML object>"
      ]
     },
     "metadata": {},
     "output_type": "display_data"
    },
    {
     "name": "stderr",
     "output_type": "stream",
     "text": [
      "c:\\Users\\hecto\\.conda\\envs\\myenv\\lib\\site-packages\\sklearn\\gaussian_process\\kernels.py:409: ConvergenceWarning: The optimal value found for dimension 0 of parameter length_scale is close to the specified lower bound 1e-05. Decreasing the bound and calling fit again may find a better value.\n",
      "  ConvergenceWarning)\n"
     ]
    },
    {
     "data": {
      "text/html": [
       "<span style=\"color:#4527A0\"><h1 style=\"font-size:18px\">Trial complete</h1></span>"
      ],
      "text/plain": [
       "<IPython.core.display.HTML object>"
      ]
     },
     "metadata": {},
     "output_type": "display_data"
    },
    {
     "data": {
      "text/html": [
       "<span style=\"color:#4527A0\"><h1 style=\"font-size:18px\">Trial summary</h1></span>"
      ],
      "text/plain": [
       "<IPython.core.display.HTML object>"
      ]
     },
     "metadata": {},
     "output_type": "display_data"
    },
    {
     "data": {
      "text/html": [
       "<span style=\"color:cyan\"> |-Trial ID: 20e7387562b3f53c0c447f6509960dc0</span>"
      ],
      "text/plain": [
       "<IPython.core.display.HTML object>"
      ]
     },
     "metadata": {},
     "output_type": "display_data"
    },
    {
     "data": {
      "text/html": [
       "<span style=\"color:cyan\"> |-Score: 0.2732066214084625</span>"
      ],
      "text/plain": [
       "<IPython.core.display.HTML object>"
      ]
     },
     "metadata": {},
     "output_type": "display_data"
    },
    {
     "data": {
      "text/html": [
       "<span style=\"color:cyan\"> |-Best step: 0</span>"
      ],
      "text/plain": [
       "<IPython.core.display.HTML object>"
      ]
     },
     "metadata": {},
     "output_type": "display_data"
    },
    {
     "data": {
      "text/html": [
       "<span style=\"color:#7E57C2\"><h2 style=\"font-size:16px\">Hyperparameters:</h2></span>"
      ],
      "text/plain": [
       "<IPython.core.display.HTML object>"
      ]
     },
     "metadata": {},
     "output_type": "display_data"
    },
    {
     "data": {
      "text/html": [
       "<span style=\"color:cyan\"> |-dropout: 0.09595280560482342</span>"
      ],
      "text/plain": [
       "<IPython.core.display.HTML object>"
      ]
     },
     "metadata": {},
     "output_type": "display_data"
    },
    {
     "data": {
      "text/html": [
       "<span style=\"color:blue\"> |-learning_rate: 0.001</span>"
      ],
      "text/plain": [
       "<IPython.core.display.HTML object>"
      ]
     },
     "metadata": {},
     "output_type": "display_data"
    },
    {
     "data": {
      "text/html": [
       "<span style=\"color:cyan\"> |-units: 20</span>"
      ],
      "text/plain": [
       "<IPython.core.display.HTML object>"
      ]
     },
     "metadata": {},
     "output_type": "display_data"
    },
    {
     "name": "stderr",
     "output_type": "stream",
     "text": [
      "c:\\Users\\hecto\\.conda\\envs\\myenv\\lib\\site-packages\\sklearn\\gaussian_process\\kernels.py:409: ConvergenceWarning: The optimal value found for dimension 0 of parameter length_scale is close to the specified lower bound 1e-05. Decreasing the bound and calling fit again may find a better value.\n",
      "  ConvergenceWarning)\n"
     ]
    },
    {
     "data": {
      "text/html": [
       "<span style=\"color:#4527A0\"><h1 style=\"font-size:18px\">Trial complete</h1></span>"
      ],
      "text/plain": [
       "<IPython.core.display.HTML object>"
      ]
     },
     "metadata": {},
     "output_type": "display_data"
    },
    {
     "data": {
      "text/html": [
       "<span style=\"color:#4527A0\"><h1 style=\"font-size:18px\">Trial summary</h1></span>"
      ],
      "text/plain": [
       "<IPython.core.display.HTML object>"
      ]
     },
     "metadata": {},
     "output_type": "display_data"
    },
    {
     "data": {
      "text/html": [
       "<span style=\"color:cyan\"> |-Trial ID: 062624c85f4127306282608175ddb426</span>"
      ],
      "text/plain": [
       "<IPython.core.display.HTML object>"
      ]
     },
     "metadata": {},
     "output_type": "display_data"
    },
    {
     "data": {
      "text/html": [
       "<span style=\"color:cyan\"> |-Score: 0.2694045305252075</span>"
      ],
      "text/plain": [
       "<IPython.core.display.HTML object>"
      ]
     },
     "metadata": {},
     "output_type": "display_data"
    },
    {
     "data": {
      "text/html": [
       "<span style=\"color:cyan\"> |-Best step: 0</span>"
      ],
      "text/plain": [
       "<IPython.core.display.HTML object>"
      ]
     },
     "metadata": {},
     "output_type": "display_data"
    },
    {
     "data": {
      "text/html": [
       "<span style=\"color:#7E57C2\"><h2 style=\"font-size:16px\">Hyperparameters:</h2></span>"
      ],
      "text/plain": [
       "<IPython.core.display.HTML object>"
      ]
     },
     "metadata": {},
     "output_type": "display_data"
    },
    {
     "data": {
      "text/html": [
       "<span style=\"color:cyan\"> |-dropout: 0.17072371668261602</span>"
      ],
      "text/plain": [
       "<IPython.core.display.HTML object>"
      ]
     },
     "metadata": {},
     "output_type": "display_data"
    },
    {
     "data": {
      "text/html": [
       "<span style=\"color:blue\"> |-learning_rate: 0.001</span>"
      ],
      "text/plain": [
       "<IPython.core.display.HTML object>"
      ]
     },
     "metadata": {},
     "output_type": "display_data"
    },
    {
     "data": {
      "text/html": [
       "<span style=\"color:cyan\"> |-units: 30</span>"
      ],
      "text/plain": [
       "<IPython.core.display.HTML object>"
      ]
     },
     "metadata": {},
     "output_type": "display_data"
    },
    {
     "name": "stderr",
     "output_type": "stream",
     "text": [
      "c:\\Users\\hecto\\.conda\\envs\\myenv\\lib\\site-packages\\sklearn\\gaussian_process\\kernels.py:409: ConvergenceWarning: The optimal value found for dimension 0 of parameter length_scale is close to the specified lower bound 1e-05. Decreasing the bound and calling fit again may find a better value.\n",
      "  ConvergenceWarning)\n"
     ]
    },
    {
     "data": {
      "text/html": [
       "<span style=\"color:#4527A0\"><h1 style=\"font-size:18px\">Trial complete</h1></span>"
      ],
      "text/plain": [
       "<IPython.core.display.HTML object>"
      ]
     },
     "metadata": {},
     "output_type": "display_data"
    },
    {
     "data": {
      "text/html": [
       "<span style=\"color:#4527A0\"><h1 style=\"font-size:18px\">Trial summary</h1></span>"
      ],
      "text/plain": [
       "<IPython.core.display.HTML object>"
      ]
     },
     "metadata": {},
     "output_type": "display_data"
    },
    {
     "data": {
      "text/html": [
       "<span style=\"color:cyan\"> |-Trial ID: cd9cecd442a88e2593cc898b3cbd9b5e</span>"
      ],
      "text/plain": [
       "<IPython.core.display.HTML object>"
      ]
     },
     "metadata": {},
     "output_type": "display_data"
    },
    {
     "data": {
      "text/html": [
       "<span style=\"color:cyan\"> |-Score: 0.2984030246734619</span>"
      ],
      "text/plain": [
       "<IPython.core.display.HTML object>"
      ]
     },
     "metadata": {},
     "output_type": "display_data"
    },
    {
     "data": {
      "text/html": [
       "<span style=\"color:cyan\"> |-Best step: 0</span>"
      ],
      "text/plain": [
       "<IPython.core.display.HTML object>"
      ]
     },
     "metadata": {},
     "output_type": "display_data"
    },
    {
     "data": {
      "text/html": [
       "<span style=\"color:#7E57C2\"><h2 style=\"font-size:16px\">Hyperparameters:</h2></span>"
      ],
      "text/plain": [
       "<IPython.core.display.HTML object>"
      ]
     },
     "metadata": {},
     "output_type": "display_data"
    },
    {
     "data": {
      "text/html": [
       "<span style=\"color:cyan\"> |-dropout: 0.2950787962510087</span>"
      ],
      "text/plain": [
       "<IPython.core.display.HTML object>"
      ]
     },
     "metadata": {},
     "output_type": "display_data"
    },
    {
     "data": {
      "text/html": [
       "<span style=\"color:blue\"> |-learning_rate: 0.001</span>"
      ],
      "text/plain": [
       "<IPython.core.display.HTML object>"
      ]
     },
     "metadata": {},
     "output_type": "display_data"
    },
    {
     "data": {
      "text/html": [
       "<span style=\"color:cyan\"> |-units: 20</span>"
      ],
      "text/plain": [
       "<IPython.core.display.HTML object>"
      ]
     },
     "metadata": {},
     "output_type": "display_data"
    },
    {
     "name": "stderr",
     "output_type": "stream",
     "text": [
      "c:\\Users\\hecto\\.conda\\envs\\myenv\\lib\\site-packages\\sklearn\\gaussian_process\\kernels.py:409: ConvergenceWarning: The optimal value found for dimension 0 of parameter length_scale is close to the specified lower bound 1e-05. Decreasing the bound and calling fit again may find a better value.\n",
      "  ConvergenceWarning)\n"
     ]
    },
    {
     "data": {
      "text/html": [
       "<span style=\"color:#4527A0\"><h1 style=\"font-size:18px\">Trial complete</h1></span>"
      ],
      "text/plain": [
       "<IPython.core.display.HTML object>"
      ]
     },
     "metadata": {},
     "output_type": "display_data"
    },
    {
     "data": {
      "text/html": [
       "<span style=\"color:#4527A0\"><h1 style=\"font-size:18px\">Trial summary</h1></span>"
      ],
      "text/plain": [
       "<IPython.core.display.HTML object>"
      ]
     },
     "metadata": {},
     "output_type": "display_data"
    },
    {
     "data": {
      "text/html": [
       "<span style=\"color:cyan\"> |-Trial ID: 6722663d67ac7882ec09716a3a75c5c3</span>"
      ],
      "text/plain": [
       "<IPython.core.display.HTML object>"
      ]
     },
     "metadata": {},
     "output_type": "display_data"
    },
    {
     "data": {
      "text/html": [
       "<span style=\"color:cyan\"> |-Score: 0.2446974813938141</span>"
      ],
      "text/plain": [
       "<IPython.core.display.HTML object>"
      ]
     },
     "metadata": {},
     "output_type": "display_data"
    },
    {
     "data": {
      "text/html": [
       "<span style=\"color:cyan\"> |-Best step: 0</span>"
      ],
      "text/plain": [
       "<IPython.core.display.HTML object>"
      ]
     },
     "metadata": {},
     "output_type": "display_data"
    },
    {
     "data": {
      "text/html": [
       "<span style=\"color:#7E57C2\"><h2 style=\"font-size:16px\">Hyperparameters:</h2></span>"
      ],
      "text/plain": [
       "<IPython.core.display.HTML object>"
      ]
     },
     "metadata": {},
     "output_type": "display_data"
    },
    {
     "data": {
      "text/html": [
       "<span style=\"color:cyan\"> |-dropout: 0.013919329848432844</span>"
      ],
      "text/plain": [
       "<IPython.core.display.HTML object>"
      ]
     },
     "metadata": {},
     "output_type": "display_data"
    },
    {
     "data": {
      "text/html": [
       "<span style=\"color:blue\"> |-learning_rate: 0.01</span>"
      ],
      "text/plain": [
       "<IPython.core.display.HTML object>"
      ]
     },
     "metadata": {},
     "output_type": "display_data"
    },
    {
     "data": {
      "text/html": [
       "<span style=\"color:cyan\"> |-units: 50</span>"
      ],
      "text/plain": [
       "<IPython.core.display.HTML object>"
      ]
     },
     "metadata": {},
     "output_type": "display_data"
    },
    {
     "name": "stderr",
     "output_type": "stream",
     "text": [
      "c:\\Users\\hecto\\.conda\\envs\\myenv\\lib\\site-packages\\sklearn\\gaussian_process\\kernels.py:409: ConvergenceWarning: The optimal value found for dimension 0 of parameter length_scale is close to the specified lower bound 1e-05. Decreasing the bound and calling fit again may find a better value.\n",
      "  ConvergenceWarning)\n"
     ]
    },
    {
     "data": {
      "text/html": [
       "<span style=\"color:#4527A0\"><h1 style=\"font-size:18px\">Trial complete</h1></span>"
      ],
      "text/plain": [
       "<IPython.core.display.HTML object>"
      ]
     },
     "metadata": {},
     "output_type": "display_data"
    },
    {
     "data": {
      "text/html": [
       "<span style=\"color:#4527A0\"><h1 style=\"font-size:18px\">Trial summary</h1></span>"
      ],
      "text/plain": [
       "<IPython.core.display.HTML object>"
      ]
     },
     "metadata": {},
     "output_type": "display_data"
    },
    {
     "data": {
      "text/html": [
       "<span style=\"color:cyan\"> |-Trial ID: 6d9baba9954b5a461e1df1d989212ba7</span>"
      ],
      "text/plain": [
       "<IPython.core.display.HTML object>"
      ]
     },
     "metadata": {},
     "output_type": "display_data"
    },
    {
     "data": {
      "text/html": [
       "<span style=\"color:cyan\"> |-Score: 0.6835265159606934</span>"
      ],
      "text/plain": [
       "<IPython.core.display.HTML object>"
      ]
     },
     "metadata": {},
     "output_type": "display_data"
    },
    {
     "data": {
      "text/html": [
       "<span style=\"color:cyan\"> |-Best step: 0</span>"
      ],
      "text/plain": [
       "<IPython.core.display.HTML object>"
      ]
     },
     "metadata": {},
     "output_type": "display_data"
    },
    {
     "data": {
      "text/html": [
       "<span style=\"color:#7E57C2\"><h2 style=\"font-size:16px\">Hyperparameters:</h2></span>"
      ],
      "text/plain": [
       "<IPython.core.display.HTML object>"
      ]
     },
     "metadata": {},
     "output_type": "display_data"
    },
    {
     "data": {
      "text/html": [
       "<span style=\"color:cyan\"> |-dropout: 0.12881627116462613</span>"
      ],
      "text/plain": [
       "<IPython.core.display.HTML object>"
      ]
     },
     "metadata": {},
     "output_type": "display_data"
    },
    {
     "data": {
      "text/html": [
       "<span style=\"color:blue\"> |-learning_rate: 0.0</span>"
      ],
      "text/plain": [
       "<IPython.core.display.HTML object>"
      ]
     },
     "metadata": {},
     "output_type": "display_data"
    },
    {
     "data": {
      "text/html": [
       "<span style=\"color:cyan\"> |-units: 30</span>"
      ],
      "text/plain": [
       "<IPython.core.display.HTML object>"
      ]
     },
     "metadata": {},
     "output_type": "display_data"
    },
    {
     "name": "stderr",
     "output_type": "stream",
     "text": [
      "c:\\Users\\hecto\\.conda\\envs\\myenv\\lib\\site-packages\\sklearn\\gaussian_process\\kernels.py:409: ConvergenceWarning: The optimal value found for dimension 0 of parameter length_scale is close to the specified lower bound 1e-05. Decreasing the bound and calling fit again may find a better value.\n",
      "  ConvergenceWarning)\n"
     ]
    },
    {
     "data": {
      "text/html": [
       "<span style=\"color:#4527A0\"><h1 style=\"font-size:18px\">Trial complete</h1></span>"
      ],
      "text/plain": [
       "<IPython.core.display.HTML object>"
      ]
     },
     "metadata": {},
     "output_type": "display_data"
    },
    {
     "data": {
      "text/html": [
       "<span style=\"color:#4527A0\"><h1 style=\"font-size:18px\">Trial summary</h1></span>"
      ],
      "text/plain": [
       "<IPython.core.display.HTML object>"
      ]
     },
     "metadata": {},
     "output_type": "display_data"
    },
    {
     "data": {
      "text/html": [
       "<span style=\"color:cyan\"> |-Trial ID: 724d6bddeae9d89a4e5c152b24ebd7f2</span>"
      ],
      "text/plain": [
       "<IPython.core.display.HTML object>"
      ]
     },
     "metadata": {},
     "output_type": "display_data"
    },
    {
     "data": {
      "text/html": [
       "<span style=\"color:cyan\"> |-Score: 0.38555532693862915</span>"
      ],
      "text/plain": [
       "<IPython.core.display.HTML object>"
      ]
     },
     "metadata": {},
     "output_type": "display_data"
    },
    {
     "data": {
      "text/html": [
       "<span style=\"color:cyan\"> |-Best step: 0</span>"
      ],
      "text/plain": [
       "<IPython.core.display.HTML object>"
      ]
     },
     "metadata": {},
     "output_type": "display_data"
    },
    {
     "data": {
      "text/html": [
       "<span style=\"color:#7E57C2\"><h2 style=\"font-size:16px\">Hyperparameters:</h2></span>"
      ],
      "text/plain": [
       "<IPython.core.display.HTML object>"
      ]
     },
     "metadata": {},
     "output_type": "display_data"
    },
    {
     "data": {
      "text/html": [
       "<span style=\"color:cyan\"> |-dropout: 0.15405646468011866</span>"
      ],
      "text/plain": [
       "<IPython.core.display.HTML object>"
      ]
     },
     "metadata": {},
     "output_type": "display_data"
    },
    {
     "data": {
      "text/html": [
       "<span style=\"color:blue\"> |-learning_rate: 0.0001</span>"
      ],
      "text/plain": [
       "<IPython.core.display.HTML object>"
      ]
     },
     "metadata": {},
     "output_type": "display_data"
    },
    {
     "data": {
      "text/html": [
       "<span style=\"color:cyan\"> |-units: 30</span>"
      ],
      "text/plain": [
       "<IPython.core.display.HTML object>"
      ]
     },
     "metadata": {},
     "output_type": "display_data"
    },
    {
     "name": "stderr",
     "output_type": "stream",
     "text": [
      "c:\\Users\\hecto\\.conda\\envs\\myenv\\lib\\site-packages\\sklearn\\gaussian_process\\kernels.py:409: ConvergenceWarning: The optimal value found for dimension 0 of parameter length_scale is close to the specified lower bound 1e-05. Decreasing the bound and calling fit again may find a better value.\n",
      "  ConvergenceWarning)\n"
     ]
    },
    {
     "data": {
      "text/html": [
       "<span style=\"color:#4527A0\"><h1 style=\"font-size:18px\">Trial complete</h1></span>"
      ],
      "text/plain": [
       "<IPython.core.display.HTML object>"
      ]
     },
     "metadata": {},
     "output_type": "display_data"
    },
    {
     "data": {
      "text/html": [
       "<span style=\"color:#4527A0\"><h1 style=\"font-size:18px\">Trial summary</h1></span>"
      ],
      "text/plain": [
       "<IPython.core.display.HTML object>"
      ]
     },
     "metadata": {},
     "output_type": "display_data"
    },
    {
     "data": {
      "text/html": [
       "<span style=\"color:cyan\"> |-Trial ID: 5d38197cb1299238846c82bc5f460ff3</span>"
      ],
      "text/plain": [
       "<IPython.core.display.HTML object>"
      ]
     },
     "metadata": {},
     "output_type": "display_data"
    },
    {
     "data": {
      "text/html": [
       "<span style=\"color:cyan\"> |-Score: 0.4492281675338745</span>"
      ],
      "text/plain": [
       "<IPython.core.display.HTML object>"
      ]
     },
     "metadata": {},
     "output_type": "display_data"
    },
    {
     "data": {
      "text/html": [
       "<span style=\"color:cyan\"> |-Best step: 0</span>"
      ],
      "text/plain": [
       "<IPython.core.display.HTML object>"
      ]
     },
     "metadata": {},
     "output_type": "display_data"
    },
    {
     "data": {
      "text/html": [
       "<span style=\"color:#7E57C2\"><h2 style=\"font-size:16px\">Hyperparameters:</h2></span>"
      ],
      "text/plain": [
       "<IPython.core.display.HTML object>"
      ]
     },
     "metadata": {},
     "output_type": "display_data"
    },
    {
     "data": {
      "text/html": [
       "<span style=\"color:cyan\"> |-dropout: 0.19644603260530524</span>"
      ],
      "text/plain": [
       "<IPython.core.display.HTML object>"
      ]
     },
     "metadata": {},
     "output_type": "display_data"
    },
    {
     "data": {
      "text/html": [
       "<span style=\"color:blue\"> |-learning_rate: 0.0001</span>"
      ],
      "text/plain": [
       "<IPython.core.display.HTML object>"
      ]
     },
     "metadata": {},
     "output_type": "display_data"
    },
    {
     "data": {
      "text/html": [
       "<span style=\"color:cyan\"> |-units: 20</span>"
      ],
      "text/plain": [
       "<IPython.core.display.HTML object>"
      ]
     },
     "metadata": {},
     "output_type": "display_data"
    },
    {
     "name": "stderr",
     "output_type": "stream",
     "text": [
      "c:\\Users\\hecto\\.conda\\envs\\myenv\\lib\\site-packages\\sklearn\\gaussian_process\\kernels.py:409: ConvergenceWarning: The optimal value found for dimension 0 of parameter length_scale is close to the specified lower bound 1e-05. Decreasing the bound and calling fit again may find a better value.\n",
      "  ConvergenceWarning)\n"
     ]
    },
    {
     "data": {
      "text/html": [
       "<span style=\"color:#4527A0\"><h1 style=\"font-size:18px\">Trial complete</h1></span>"
      ],
      "text/plain": [
       "<IPython.core.display.HTML object>"
      ]
     },
     "metadata": {},
     "output_type": "display_data"
    },
    {
     "data": {
      "text/html": [
       "<span style=\"color:#4527A0\"><h1 style=\"font-size:18px\">Trial summary</h1></span>"
      ],
      "text/plain": [
       "<IPython.core.display.HTML object>"
      ]
     },
     "metadata": {},
     "output_type": "display_data"
    },
    {
     "data": {
      "text/html": [
       "<span style=\"color:cyan\"> |-Trial ID: 331775a11f6a3698f905a1add26e55b4</span>"
      ],
      "text/plain": [
       "<IPython.core.display.HTML object>"
      ]
     },
     "metadata": {},
     "output_type": "display_data"
    },
    {
     "data": {
      "text/html": [
       "<span style=\"color:cyan\"> |-Score: 0.2791893482208252</span>"
      ],
      "text/plain": [
       "<IPython.core.display.HTML object>"
      ]
     },
     "metadata": {},
     "output_type": "display_data"
    },
    {
     "data": {
      "text/html": [
       "<span style=\"color:cyan\"> |-Best step: 0</span>"
      ],
      "text/plain": [
       "<IPython.core.display.HTML object>"
      ]
     },
     "metadata": {},
     "output_type": "display_data"
    },
    {
     "data": {
      "text/html": [
       "<span style=\"color:#7E57C2\"><h2 style=\"font-size:16px\">Hyperparameters:</h2></span>"
      ],
      "text/plain": [
       "<IPython.core.display.HTML object>"
      ]
     },
     "metadata": {},
     "output_type": "display_data"
    },
    {
     "data": {
      "text/html": [
       "<span style=\"color:cyan\"> |-dropout: 0.20571298923281758</span>"
      ],
      "text/plain": [
       "<IPython.core.display.HTML object>"
      ]
     },
     "metadata": {},
     "output_type": "display_data"
    },
    {
     "data": {
      "text/html": [
       "<span style=\"color:blue\"> |-learning_rate: 0.001</span>"
      ],
      "text/plain": [
       "<IPython.core.display.HTML object>"
      ]
     },
     "metadata": {},
     "output_type": "display_data"
    },
    {
     "data": {
      "text/html": [
       "<span style=\"color:cyan\"> |-units: 30</span>"
      ],
      "text/plain": [
       "<IPython.core.display.HTML object>"
      ]
     },
     "metadata": {},
     "output_type": "display_data"
    },
    {
     "name": "stderr",
     "output_type": "stream",
     "text": [
      "c:\\Users\\hecto\\.conda\\envs\\myenv\\lib\\site-packages\\sklearn\\gaussian_process\\kernels.py:409: ConvergenceWarning: The optimal value found for dimension 0 of parameter length_scale is close to the specified lower bound 1e-05. Decreasing the bound and calling fit again may find a better value.\n",
      "  ConvergenceWarning)\n"
     ]
    },
    {
     "data": {
      "text/html": [
       "<span style=\"color:#4527A0\"><h1 style=\"font-size:18px\">Trial complete</h1></span>"
      ],
      "text/plain": [
       "<IPython.core.display.HTML object>"
      ]
     },
     "metadata": {},
     "output_type": "display_data"
    },
    {
     "data": {
      "text/html": [
       "<span style=\"color:#4527A0\"><h1 style=\"font-size:18px\">Trial summary</h1></span>"
      ],
      "text/plain": [
       "<IPython.core.display.HTML object>"
      ]
     },
     "metadata": {},
     "output_type": "display_data"
    },
    {
     "data": {
      "text/html": [
       "<span style=\"color:cyan\"> |-Trial ID: 24407b9e95cb389302ab2e6768a64a4f</span>"
      ],
      "text/plain": [
       "<IPython.core.display.HTML object>"
      ]
     },
     "metadata": {},
     "output_type": "display_data"
    },
    {
     "data": {
      "text/html": [
       "<span style=\"color:cyan\"> |-Score: 0.6304906606674194</span>"
      ],
      "text/plain": [
       "<IPython.core.display.HTML object>"
      ]
     },
     "metadata": {},
     "output_type": "display_data"
    },
    {
     "data": {
      "text/html": [
       "<span style=\"color:cyan\"> |-Best step: 0</span>"
      ],
      "text/plain": [
       "<IPython.core.display.HTML object>"
      ]
     },
     "metadata": {},
     "output_type": "display_data"
    },
    {
     "data": {
      "text/html": [
       "<span style=\"color:#7E57C2\"><h2 style=\"font-size:16px\">Hyperparameters:</h2></span>"
      ],
      "text/plain": [
       "<IPython.core.display.HTML object>"
      ]
     },
     "metadata": {},
     "output_type": "display_data"
    },
    {
     "data": {
      "text/html": [
       "<span style=\"color:cyan\"> |-dropout: 0.32565976882542524</span>"
      ],
      "text/plain": [
       "<IPython.core.display.HTML object>"
      ]
     },
     "metadata": {},
     "output_type": "display_data"
    },
    {
     "data": {
      "text/html": [
       "<span style=\"color:blue\"> |-learning_rate: 0.0</span>"
      ],
      "text/plain": [
       "<IPython.core.display.HTML object>"
      ]
     },
     "metadata": {},
     "output_type": "display_data"
    },
    {
     "data": {
      "text/html": [
       "<span style=\"color:cyan\"> |-units: 10</span>"
      ],
      "text/plain": [
       "<IPython.core.display.HTML object>"
      ]
     },
     "metadata": {},
     "output_type": "display_data"
    },
    {
     "name": "stderr",
     "output_type": "stream",
     "text": [
      "c:\\Users\\hecto\\.conda\\envs\\myenv\\lib\\site-packages\\sklearn\\gaussian_process\\kernels.py:409: ConvergenceWarning: The optimal value found for dimension 0 of parameter length_scale is close to the specified lower bound 1e-05. Decreasing the bound and calling fit again may find a better value.\n",
      "  ConvergenceWarning)\n"
     ]
    },
    {
     "data": {
      "text/html": [
       "<span style=\"color:#4527A0\"><h1 style=\"font-size:18px\">Trial complete</h1></span>"
      ],
      "text/plain": [
       "<IPython.core.display.HTML object>"
      ]
     },
     "metadata": {},
     "output_type": "display_data"
    },
    {
     "data": {
      "text/html": [
       "<span style=\"color:#4527A0\"><h1 style=\"font-size:18px\">Trial summary</h1></span>"
      ],
      "text/plain": [
       "<IPython.core.display.HTML object>"
      ]
     },
     "metadata": {},
     "output_type": "display_data"
    },
    {
     "data": {
      "text/html": [
       "<span style=\"color:cyan\"> |-Trial ID: 77eaf7bc42c66164d17196326884b975</span>"
      ],
      "text/plain": [
       "<IPython.core.display.HTML object>"
      ]
     },
     "metadata": {},
     "output_type": "display_data"
    },
    {
     "data": {
      "text/html": [
       "<span style=\"color:cyan\"> |-Score: 0.6443378925323486</span>"
      ],
      "text/plain": [
       "<IPython.core.display.HTML object>"
      ]
     },
     "metadata": {},
     "output_type": "display_data"
    },
    {
     "data": {
      "text/html": [
       "<span style=\"color:cyan\"> |-Best step: 0</span>"
      ],
      "text/plain": [
       "<IPython.core.display.HTML object>"
      ]
     },
     "metadata": {},
     "output_type": "display_data"
    },
    {
     "data": {
      "text/html": [
       "<span style=\"color:#7E57C2\"><h2 style=\"font-size:16px\">Hyperparameters:</h2></span>"
      ],
      "text/plain": [
       "<IPython.core.display.HTML object>"
      ]
     },
     "metadata": {},
     "output_type": "display_data"
    },
    {
     "data": {
      "text/html": [
       "<span style=\"color:cyan\"> |-dropout: 0.17891819393321484</span>"
      ],
      "text/plain": [
       "<IPython.core.display.HTML object>"
      ]
     },
     "metadata": {},
     "output_type": "display_data"
    },
    {
     "data": {
      "text/html": [
       "<span style=\"color:blue\"> |-learning_rate: 0.0</span>"
      ],
      "text/plain": [
       "<IPython.core.display.HTML object>"
      ]
     },
     "metadata": {},
     "output_type": "display_data"
    },
    {
     "data": {
      "text/html": [
       "<span style=\"color:cyan\"> |-units: 40</span>"
      ],
      "text/plain": [
       "<IPython.core.display.HTML object>"
      ]
     },
     "metadata": {},
     "output_type": "display_data"
    },
    {
     "name": "stderr",
     "output_type": "stream",
     "text": [
      "c:\\Users\\hecto\\.conda\\envs\\myenv\\lib\\site-packages\\sklearn\\gaussian_process\\kernels.py:409: ConvergenceWarning: The optimal value found for dimension 0 of parameter length_scale is close to the specified lower bound 1e-05. Decreasing the bound and calling fit again may find a better value.\n",
      "  ConvergenceWarning)\n"
     ]
    },
    {
     "data": {
      "text/html": [
       "<span style=\"color:#4527A0\"><h1 style=\"font-size:18px\">Trial complete</h1></span>"
      ],
      "text/plain": [
       "<IPython.core.display.HTML object>"
      ]
     },
     "metadata": {},
     "output_type": "display_data"
    },
    {
     "data": {
      "text/html": [
       "<span style=\"color:#4527A0\"><h1 style=\"font-size:18px\">Trial summary</h1></span>"
      ],
      "text/plain": [
       "<IPython.core.display.HTML object>"
      ]
     },
     "metadata": {},
     "output_type": "display_data"
    },
    {
     "data": {
      "text/html": [
       "<span style=\"color:cyan\"> |-Trial ID: ea9137d86502d3065f4ef5e12224051d</span>"
      ],
      "text/plain": [
       "<IPython.core.display.HTML object>"
      ]
     },
     "metadata": {},
     "output_type": "display_data"
    },
    {
     "data": {
      "text/html": [
       "<span style=\"color:cyan\"> |-Score: 0.27220672369003296</span>"
      ],
      "text/plain": [
       "<IPython.core.display.HTML object>"
      ]
     },
     "metadata": {},
     "output_type": "display_data"
    },
    {
     "data": {
      "text/html": [
       "<span style=\"color:cyan\"> |-Best step: 0</span>"
      ],
      "text/plain": [
       "<IPython.core.display.HTML object>"
      ]
     },
     "metadata": {},
     "output_type": "display_data"
    },
    {
     "data": {
      "text/html": [
       "<span style=\"color:#7E57C2\"><h2 style=\"font-size:16px\">Hyperparameters:</h2></span>"
      ],
      "text/plain": [
       "<IPython.core.display.HTML object>"
      ]
     },
     "metadata": {},
     "output_type": "display_data"
    },
    {
     "data": {
      "text/html": [
       "<span style=\"color:cyan\"> |-dropout: 0.13532775369544783</span>"
      ],
      "text/plain": [
       "<IPython.core.display.HTML object>"
      ]
     },
     "metadata": {},
     "output_type": "display_data"
    },
    {
     "data": {
      "text/html": [
       "<span style=\"color:blue\"> |-learning_rate: 0.01</span>"
      ],
      "text/plain": [
       "<IPython.core.display.HTML object>"
      ]
     },
     "metadata": {},
     "output_type": "display_data"
    },
    {
     "data": {
      "text/html": [
       "<span style=\"color:cyan\"> |-units: 20</span>"
      ],
      "text/plain": [
       "<IPython.core.display.HTML object>"
      ]
     },
     "metadata": {},
     "output_type": "display_data"
    },
    {
     "name": "stderr",
     "output_type": "stream",
     "text": [
      "c:\\Users\\hecto\\.conda\\envs\\myenv\\lib\\site-packages\\sklearn\\gaussian_process\\kernels.py:409: ConvergenceWarning: The optimal value found for dimension 0 of parameter length_scale is close to the specified lower bound 1e-05. Decreasing the bound and calling fit again may find a better value.\n",
      "  ConvergenceWarning)\n"
     ]
    },
    {
     "data": {
      "text/html": [
       "<span style=\"color:#4527A0\"><h1 style=\"font-size:18px\">Trial complete</h1></span>"
      ],
      "text/plain": [
       "<IPython.core.display.HTML object>"
      ]
     },
     "metadata": {},
     "output_type": "display_data"
    },
    {
     "data": {
      "text/html": [
       "<span style=\"color:#4527A0\"><h1 style=\"font-size:18px\">Trial summary</h1></span>"
      ],
      "text/plain": [
       "<IPython.core.display.HTML object>"
      ]
     },
     "metadata": {},
     "output_type": "display_data"
    },
    {
     "data": {
      "text/html": [
       "<span style=\"color:cyan\"> |-Trial ID: 654e3bc3bace0102d949fb8fa16d86ab</span>"
      ],
      "text/plain": [
       "<IPython.core.display.HTML object>"
      ]
     },
     "metadata": {},
     "output_type": "display_data"
    },
    {
     "data": {
      "text/html": [
       "<span style=\"color:cyan\"> |-Score: 0.2591535449028015</span>"
      ],
      "text/plain": [
       "<IPython.core.display.HTML object>"
      ]
     },
     "metadata": {},
     "output_type": "display_data"
    },
    {
     "data": {
      "text/html": [
       "<span style=\"color:cyan\"> |-Best step: 0</span>"
      ],
      "text/plain": [
       "<IPython.core.display.HTML object>"
      ]
     },
     "metadata": {},
     "output_type": "display_data"
    },
    {
     "data": {
      "text/html": [
       "<span style=\"color:#7E57C2\"><h2 style=\"font-size:16px\">Hyperparameters:</h2></span>"
      ],
      "text/plain": [
       "<IPython.core.display.HTML object>"
      ]
     },
     "metadata": {},
     "output_type": "display_data"
    },
    {
     "data": {
      "text/html": [
       "<span style=\"color:cyan\"> |-dropout: 0.024422506689404575</span>"
      ],
      "text/plain": [
       "<IPython.core.display.HTML object>"
      ]
     },
     "metadata": {},
     "output_type": "display_data"
    },
    {
     "data": {
      "text/html": [
       "<span style=\"color:blue\"> |-learning_rate: 0.001</span>"
      ],
      "text/plain": [
       "<IPython.core.display.HTML object>"
      ]
     },
     "metadata": {},
     "output_type": "display_data"
    },
    {
     "data": {
      "text/html": [
       "<span style=\"color:cyan\"> |-units: 20</span>"
      ],
      "text/plain": [
       "<IPython.core.display.HTML object>"
      ]
     },
     "metadata": {},
     "output_type": "display_data"
    },
    {
     "name": "stderr",
     "output_type": "stream",
     "text": [
      "c:\\Users\\hecto\\.conda\\envs\\myenv\\lib\\site-packages\\sklearn\\gaussian_process\\kernels.py:409: ConvergenceWarning: The optimal value found for dimension 0 of parameter length_scale is close to the specified lower bound 1e-05. Decreasing the bound and calling fit again may find a better value.\n",
      "  ConvergenceWarning)\n"
     ]
    },
    {
     "data": {
      "text/html": [
       "<span style=\"color:#4527A0\"><h1 style=\"font-size:18px\">Trial complete</h1></span>"
      ],
      "text/plain": [
       "<IPython.core.display.HTML object>"
      ]
     },
     "metadata": {},
     "output_type": "display_data"
    },
    {
     "data": {
      "text/html": [
       "<span style=\"color:#4527A0\"><h1 style=\"font-size:18px\">Trial summary</h1></span>"
      ],
      "text/plain": [
       "<IPython.core.display.HTML object>"
      ]
     },
     "metadata": {},
     "output_type": "display_data"
    },
    {
     "data": {
      "text/html": [
       "<span style=\"color:cyan\"> |-Trial ID: f7b99d0192b97c21f38058c4f75b87fa</span>"
      ],
      "text/plain": [
       "<IPython.core.display.HTML object>"
      ]
     },
     "metadata": {},
     "output_type": "display_data"
    },
    {
     "data": {
      "text/html": [
       "<span style=\"color:cyan\"> |-Score: 0.36673441529273987</span>"
      ],
      "text/plain": [
       "<IPython.core.display.HTML object>"
      ]
     },
     "metadata": {},
     "output_type": "display_data"
    },
    {
     "data": {
      "text/html": [
       "<span style=\"color:cyan\"> |-Best step: 0</span>"
      ],
      "text/plain": [
       "<IPython.core.display.HTML object>"
      ]
     },
     "metadata": {},
     "output_type": "display_data"
    },
    {
     "data": {
      "text/html": [
       "<span style=\"color:#7E57C2\"><h2 style=\"font-size:16px\">Hyperparameters:</h2></span>"
      ],
      "text/plain": [
       "<IPython.core.display.HTML object>"
      ]
     },
     "metadata": {},
     "output_type": "display_data"
    },
    {
     "data": {
      "text/html": [
       "<span style=\"color:cyan\"> |-dropout: 0.08812817100732973</span>"
      ],
      "text/plain": [
       "<IPython.core.display.HTML object>"
      ]
     },
     "metadata": {},
     "output_type": "display_data"
    },
    {
     "data": {
      "text/html": [
       "<span style=\"color:blue\"> |-learning_rate: 0.0001</span>"
      ],
      "text/plain": [
       "<IPython.core.display.HTML object>"
      ]
     },
     "metadata": {},
     "output_type": "display_data"
    },
    {
     "data": {
      "text/html": [
       "<span style=\"color:cyan\"> |-units: 30</span>"
      ],
      "text/plain": [
       "<IPython.core.display.HTML object>"
      ]
     },
     "metadata": {},
     "output_type": "display_data"
    },
    {
     "name": "stderr",
     "output_type": "stream",
     "text": [
      "c:\\Users\\hecto\\.conda\\envs\\myenv\\lib\\site-packages\\sklearn\\gaussian_process\\kernels.py:409: ConvergenceWarning: The optimal value found for dimension 0 of parameter length_scale is close to the specified lower bound 1e-05. Decreasing the bound and calling fit again may find a better value.\n",
      "  ConvergenceWarning)\n"
     ]
    },
    {
     "data": {
      "text/html": [
       "<span style=\"color:#4527A0\"><h1 style=\"font-size:18px\">Trial complete</h1></span>"
      ],
      "text/plain": [
       "<IPython.core.display.HTML object>"
      ]
     },
     "metadata": {},
     "output_type": "display_data"
    },
    {
     "data": {
      "text/html": [
       "<span style=\"color:#4527A0\"><h1 style=\"font-size:18px\">Trial summary</h1></span>"
      ],
      "text/plain": [
       "<IPython.core.display.HTML object>"
      ]
     },
     "metadata": {},
     "output_type": "display_data"
    },
    {
     "data": {
      "text/html": [
       "<span style=\"color:cyan\"> |-Trial ID: 1c9de70089c0012d5488b6089c170bb8</span>"
      ],
      "text/plain": [
       "<IPython.core.display.HTML object>"
      ]
     },
     "metadata": {},
     "output_type": "display_data"
    },
    {
     "data": {
      "text/html": [
       "<span style=\"color:cyan\"> |-Score: 0.2670290470123291</span>"
      ],
      "text/plain": [
       "<IPython.core.display.HTML object>"
      ]
     },
     "metadata": {},
     "output_type": "display_data"
    },
    {
     "data": {
      "text/html": [
       "<span style=\"color:cyan\"> |-Best step: 0</span>"
      ],
      "text/plain": [
       "<IPython.core.display.HTML object>"
      ]
     },
     "metadata": {},
     "output_type": "display_data"
    },
    {
     "data": {
      "text/html": [
       "<span style=\"color:#7E57C2\"><h2 style=\"font-size:16px\">Hyperparameters:</h2></span>"
      ],
      "text/plain": [
       "<IPython.core.display.HTML object>"
      ]
     },
     "metadata": {},
     "output_type": "display_data"
    },
    {
     "data": {
      "text/html": [
       "<span style=\"color:cyan\"> |-dropout: 0.10639327926948856</span>"
      ],
      "text/plain": [
       "<IPython.core.display.HTML object>"
      ]
     },
     "metadata": {},
     "output_type": "display_data"
    },
    {
     "data": {
      "text/html": [
       "<span style=\"color:blue\"> |-learning_rate: 0.01</span>"
      ],
      "text/plain": [
       "<IPython.core.display.HTML object>"
      ]
     },
     "metadata": {},
     "output_type": "display_data"
    },
    {
     "data": {
      "text/html": [
       "<span style=\"color:cyan\"> |-units: 30</span>"
      ],
      "text/plain": [
       "<IPython.core.display.HTML object>"
      ]
     },
     "metadata": {},
     "output_type": "display_data"
    },
    {
     "name": "stderr",
     "output_type": "stream",
     "text": [
      "c:\\Users\\hecto\\.conda\\envs\\myenv\\lib\\site-packages\\sklearn\\gaussian_process\\kernels.py:409: ConvergenceWarning: The optimal value found for dimension 0 of parameter length_scale is close to the specified lower bound 1e-05. Decreasing the bound and calling fit again may find a better value.\n",
      "  ConvergenceWarning)\n"
     ]
    },
    {
     "data": {
      "text/html": [
       "<span style=\"color:#4527A0\"><h1 style=\"font-size:18px\">Trial complete</h1></span>"
      ],
      "text/plain": [
       "<IPython.core.display.HTML object>"
      ]
     },
     "metadata": {},
     "output_type": "display_data"
    },
    {
     "data": {
      "text/html": [
       "<span style=\"color:#4527A0\"><h1 style=\"font-size:18px\">Trial summary</h1></span>"
      ],
      "text/plain": [
       "<IPython.core.display.HTML object>"
      ]
     },
     "metadata": {},
     "output_type": "display_data"
    },
    {
     "data": {
      "text/html": [
       "<span style=\"color:cyan\"> |-Trial ID: 3e84d5a183ad5447c4323ebc0e7b324a</span>"
      ],
      "text/plain": [
       "<IPython.core.display.HTML object>"
      ]
     },
     "metadata": {},
     "output_type": "display_data"
    },
    {
     "data": {
      "text/html": [
       "<span style=\"color:cyan\"> |-Score: 0.45984652638435364</span>"
      ],
      "text/plain": [
       "<IPython.core.display.HTML object>"
      ]
     },
     "metadata": {},
     "output_type": "display_data"
    },
    {
     "data": {
      "text/html": [
       "<span style=\"color:cyan\"> |-Best step: 0</span>"
      ],
      "text/plain": [
       "<IPython.core.display.HTML object>"
      ]
     },
     "metadata": {},
     "output_type": "display_data"
    },
    {
     "data": {
      "text/html": [
       "<span style=\"color:#7E57C2\"><h2 style=\"font-size:16px\">Hyperparameters:</h2></span>"
      ],
      "text/plain": [
       "<IPython.core.display.HTML object>"
      ]
     },
     "metadata": {},
     "output_type": "display_data"
    },
    {
     "data": {
      "text/html": [
       "<span style=\"color:cyan\"> |-dropout: 0.2683016047402728</span>"
      ],
      "text/plain": [
       "<IPython.core.display.HTML object>"
      ]
     },
     "metadata": {},
     "output_type": "display_data"
    },
    {
     "data": {
      "text/html": [
       "<span style=\"color:blue\"> |-learning_rate: 0.0001</span>"
      ],
      "text/plain": [
       "<IPython.core.display.HTML object>"
      ]
     },
     "metadata": {},
     "output_type": "display_data"
    },
    {
     "data": {
      "text/html": [
       "<span style=\"color:cyan\"> |-units: 30</span>"
      ],
      "text/plain": [
       "<IPython.core.display.HTML object>"
      ]
     },
     "metadata": {},
     "output_type": "display_data"
    },
    {
     "name": "stderr",
     "output_type": "stream",
     "text": [
      "c:\\Users\\hecto\\.conda\\envs\\myenv\\lib\\site-packages\\sklearn\\gaussian_process\\kernels.py:409: ConvergenceWarning: The optimal value found for dimension 0 of parameter length_scale is close to the specified lower bound 1e-05. Decreasing the bound and calling fit again may find a better value.\n",
      "  ConvergenceWarning)\n"
     ]
    },
    {
     "data": {
      "text/html": [
       "<span style=\"color:#4527A0\"><h1 style=\"font-size:18px\">Trial complete</h1></span>"
      ],
      "text/plain": [
       "<IPython.core.display.HTML object>"
      ]
     },
     "metadata": {},
     "output_type": "display_data"
    },
    {
     "data": {
      "text/html": [
       "<span style=\"color:#4527A0\"><h1 style=\"font-size:18px\">Trial summary</h1></span>"
      ],
      "text/plain": [
       "<IPython.core.display.HTML object>"
      ]
     },
     "metadata": {},
     "output_type": "display_data"
    },
    {
     "data": {
      "text/html": [
       "<span style=\"color:cyan\"> |-Trial ID: 5386142c3080eca59eacd39d18150242</span>"
      ],
      "text/plain": [
       "<IPython.core.display.HTML object>"
      ]
     },
     "metadata": {},
     "output_type": "display_data"
    },
    {
     "data": {
      "text/html": [
       "<span style=\"color:cyan\"> |-Score: 0.2733150124549866</span>"
      ],
      "text/plain": [
       "<IPython.core.display.HTML object>"
      ]
     },
     "metadata": {},
     "output_type": "display_data"
    },
    {
     "data": {
      "text/html": [
       "<span style=\"color:cyan\"> |-Best step: 0</span>"
      ],
      "text/plain": [
       "<IPython.core.display.HTML object>"
      ]
     },
     "metadata": {},
     "output_type": "display_data"
    },
    {
     "data": {
      "text/html": [
       "<span style=\"color:#7E57C2\"><h2 style=\"font-size:16px\">Hyperparameters:</h2></span>"
      ],
      "text/plain": [
       "<IPython.core.display.HTML object>"
      ]
     },
     "metadata": {},
     "output_type": "display_data"
    },
    {
     "data": {
      "text/html": [
       "<span style=\"color:cyan\"> |-dropout: 0.1016520085610802</span>"
      ],
      "text/plain": [
       "<IPython.core.display.HTML object>"
      ]
     },
     "metadata": {},
     "output_type": "display_data"
    },
    {
     "data": {
      "text/html": [
       "<span style=\"color:blue\"> |-learning_rate: 0.01</span>"
      ],
      "text/plain": [
       "<IPython.core.display.HTML object>"
      ]
     },
     "metadata": {},
     "output_type": "display_data"
    },
    {
     "data": {
      "text/html": [
       "<span style=\"color:cyan\"> |-units: 10</span>"
      ],
      "text/plain": [
       "<IPython.core.display.HTML object>"
      ]
     },
     "metadata": {},
     "output_type": "display_data"
    },
    {
     "name": "stderr",
     "output_type": "stream",
     "text": [
      "c:\\Users\\hecto\\.conda\\envs\\myenv\\lib\\site-packages\\sklearn\\gaussian_process\\kernels.py:409: ConvergenceWarning: The optimal value found for dimension 0 of parameter length_scale is close to the specified lower bound 1e-05. Decreasing the bound and calling fit again may find a better value.\n",
      "  ConvergenceWarning)\n"
     ]
    },
    {
     "data": {
      "text/html": [
       "<span style=\"color:#4527A0\"><h1 style=\"font-size:18px\">Trial complete</h1></span>"
      ],
      "text/plain": [
       "<IPython.core.display.HTML object>"
      ]
     },
     "metadata": {},
     "output_type": "display_data"
    },
    {
     "data": {
      "text/html": [
       "<span style=\"color:#4527A0\"><h1 style=\"font-size:18px\">Trial summary</h1></span>"
      ],
      "text/plain": [
       "<IPython.core.display.HTML object>"
      ]
     },
     "metadata": {},
     "output_type": "display_data"
    },
    {
     "data": {
      "text/html": [
       "<span style=\"color:cyan\"> |-Trial ID: f1818e94a0892d750eb7672cce72e5cc</span>"
      ],
      "text/plain": [
       "<IPython.core.display.HTML object>"
      ]
     },
     "metadata": {},
     "output_type": "display_data"
    },
    {
     "data": {
      "text/html": [
       "<span style=\"color:cyan\"> |-Score: 0.6690158843994141</span>"
      ],
      "text/plain": [
       "<IPython.core.display.HTML object>"
      ]
     },
     "metadata": {},
     "output_type": "display_data"
    },
    {
     "data": {
      "text/html": [
       "<span style=\"color:cyan\"> |-Best step: 0</span>"
      ],
      "text/plain": [
       "<IPython.core.display.HTML object>"
      ]
     },
     "metadata": {},
     "output_type": "display_data"
    },
    {
     "data": {
      "text/html": [
       "<span style=\"color:#7E57C2\"><h2 style=\"font-size:16px\">Hyperparameters:</h2></span>"
      ],
      "text/plain": [
       "<IPython.core.display.HTML object>"
      ]
     },
     "metadata": {},
     "output_type": "display_data"
    },
    {
     "data": {
      "text/html": [
       "<span style=\"color:cyan\"> |-dropout: 0.1196637403835609</span>"
      ],
      "text/plain": [
       "<IPython.core.display.HTML object>"
      ]
     },
     "metadata": {},
     "output_type": "display_data"
    },
    {
     "data": {
      "text/html": [
       "<span style=\"color:blue\"> |-learning_rate: 0.0</span>"
      ],
      "text/plain": [
       "<IPython.core.display.HTML object>"
      ]
     },
     "metadata": {},
     "output_type": "display_data"
    },
    {
     "data": {
      "text/html": [
       "<span style=\"color:cyan\"> |-units: 30</span>"
      ],
      "text/plain": [
       "<IPython.core.display.HTML object>"
      ]
     },
     "metadata": {},
     "output_type": "display_data"
    },
    {
     "name": "stderr",
     "output_type": "stream",
     "text": [
      "c:\\Users\\hecto\\.conda\\envs\\myenv\\lib\\site-packages\\sklearn\\gaussian_process\\kernels.py:409: ConvergenceWarning: The optimal value found for dimension 0 of parameter length_scale is close to the specified lower bound 1e-05. Decreasing the bound and calling fit again may find a better value.\n",
      "  ConvergenceWarning)\n"
     ]
    },
    {
     "data": {
      "text/html": [
       "<span style=\"color:#4527A0\"><h1 style=\"font-size:18px\">Trial complete</h1></span>"
      ],
      "text/plain": [
       "<IPython.core.display.HTML object>"
      ]
     },
     "metadata": {},
     "output_type": "display_data"
    },
    {
     "data": {
      "text/html": [
       "<span style=\"color:#4527A0\"><h1 style=\"font-size:18px\">Trial summary</h1></span>"
      ],
      "text/plain": [
       "<IPython.core.display.HTML object>"
      ]
     },
     "metadata": {},
     "output_type": "display_data"
    },
    {
     "data": {
      "text/html": [
       "<span style=\"color:cyan\"> |-Trial ID: 9e72860003c32b887497fe51823582b5</span>"
      ],
      "text/plain": [
       "<IPython.core.display.HTML object>"
      ]
     },
     "metadata": {},
     "output_type": "display_data"
    },
    {
     "data": {
      "text/html": [
       "<span style=\"color:cyan\"> |-Score: 0.351950079202652</span>"
      ],
      "text/plain": [
       "<IPython.core.display.HTML object>"
      ]
     },
     "metadata": {},
     "output_type": "display_data"
    },
    {
     "data": {
      "text/html": [
       "<span style=\"color:cyan\"> |-Best step: 0</span>"
      ],
      "text/plain": [
       "<IPython.core.display.HTML object>"
      ]
     },
     "metadata": {},
     "output_type": "display_data"
    },
    {
     "data": {
      "text/html": [
       "<span style=\"color:#7E57C2\"><h2 style=\"font-size:16px\">Hyperparameters:</h2></span>"
      ],
      "text/plain": [
       "<IPython.core.display.HTML object>"
      ]
     },
     "metadata": {},
     "output_type": "display_data"
    },
    {
     "data": {
      "text/html": [
       "<span style=\"color:cyan\"> |-dropout: 0.3237238796248274</span>"
      ],
      "text/plain": [
       "<IPython.core.display.HTML object>"
      ]
     },
     "metadata": {},
     "output_type": "display_data"
    },
    {
     "data": {
      "text/html": [
       "<span style=\"color:blue\"> |-learning_rate: 0.0001</span>"
      ],
      "text/plain": [
       "<IPython.core.display.HTML object>"
      ]
     },
     "metadata": {},
     "output_type": "display_data"
    },
    {
     "data": {
      "text/html": [
       "<span style=\"color:cyan\"> |-units: 40</span>"
      ],
      "text/plain": [
       "<IPython.core.display.HTML object>"
      ]
     },
     "metadata": {},
     "output_type": "display_data"
    },
    {
     "name": "stderr",
     "output_type": "stream",
     "text": [
      "c:\\Users\\hecto\\.conda\\envs\\myenv\\lib\\site-packages\\sklearn\\gaussian_process\\kernels.py:409: ConvergenceWarning: The optimal value found for dimension 0 of parameter length_scale is close to the specified lower bound 1e-05. Decreasing the bound and calling fit again may find a better value.\n",
      "  ConvergenceWarning)\n"
     ]
    },
    {
     "data": {
      "text/html": [
       "<span style=\"color:#4527A0\"><h1 style=\"font-size:18px\">Trial complete</h1></span>"
      ],
      "text/plain": [
       "<IPython.core.display.HTML object>"
      ]
     },
     "metadata": {},
     "output_type": "display_data"
    },
    {
     "data": {
      "text/html": [
       "<span style=\"color:#4527A0\"><h1 style=\"font-size:18px\">Trial summary</h1></span>"
      ],
      "text/plain": [
       "<IPython.core.display.HTML object>"
      ]
     },
     "metadata": {},
     "output_type": "display_data"
    },
    {
     "data": {
      "text/html": [
       "<span style=\"color:cyan\"> |-Trial ID: c78b33daef6afa3d5584f50f4cd9ac69</span>"
      ],
      "text/plain": [
       "<IPython.core.display.HTML object>"
      ]
     },
     "metadata": {},
     "output_type": "display_data"
    },
    {
     "data": {
      "text/html": [
       "<span style=\"color:cyan\"> |-Score: 0.46979033946990967</span>"
      ],
      "text/plain": [
       "<IPython.core.display.HTML object>"
      ]
     },
     "metadata": {},
     "output_type": "display_data"
    },
    {
     "data": {
      "text/html": [
       "<span style=\"color:cyan\"> |-Best step: 0</span>"
      ],
      "text/plain": [
       "<IPython.core.display.HTML object>"
      ]
     },
     "metadata": {},
     "output_type": "display_data"
    },
    {
     "data": {
      "text/html": [
       "<span style=\"color:#7E57C2\"><h2 style=\"font-size:16px\">Hyperparameters:</h2></span>"
      ],
      "text/plain": [
       "<IPython.core.display.HTML object>"
      ]
     },
     "metadata": {},
     "output_type": "display_data"
    },
    {
     "data": {
      "text/html": [
       "<span style=\"color:cyan\"> |-dropout: 0.2770425594678805</span>"
      ],
      "text/plain": [
       "<IPython.core.display.HTML object>"
      ]
     },
     "metadata": {},
     "output_type": "display_data"
    },
    {
     "data": {
      "text/html": [
       "<span style=\"color:blue\"> |-learning_rate: 0.0001</span>"
      ],
      "text/plain": [
       "<IPython.core.display.HTML object>"
      ]
     },
     "metadata": {},
     "output_type": "display_data"
    },
    {
     "data": {
      "text/html": [
       "<span style=\"color:cyan\"> |-units: 20</span>"
      ],
      "text/plain": [
       "<IPython.core.display.HTML object>"
      ]
     },
     "metadata": {},
     "output_type": "display_data"
    },
    {
     "name": "stderr",
     "output_type": "stream",
     "text": [
      "c:\\Users\\hecto\\.conda\\envs\\myenv\\lib\\site-packages\\sklearn\\gaussian_process\\kernels.py:409: ConvergenceWarning: The optimal value found for dimension 0 of parameter length_scale is close to the specified lower bound 1e-05. Decreasing the bound and calling fit again may find a better value.\n",
      "  ConvergenceWarning)\n"
     ]
    },
    {
     "data": {
      "text/html": [
       "<span style=\"color:#4527A0\"><h1 style=\"font-size:18px\">Trial complete</h1></span>"
      ],
      "text/plain": [
       "<IPython.core.display.HTML object>"
      ]
     },
     "metadata": {},
     "output_type": "display_data"
    },
    {
     "data": {
      "text/html": [
       "<span style=\"color:#4527A0\"><h1 style=\"font-size:18px\">Trial summary</h1></span>"
      ],
      "text/plain": [
       "<IPython.core.display.HTML object>"
      ]
     },
     "metadata": {},
     "output_type": "display_data"
    },
    {
     "data": {
      "text/html": [
       "<span style=\"color:cyan\"> |-Trial ID: f1300f8f1b09e378cf12bb8605faf1a6</span>"
      ],
      "text/plain": [
       "<IPython.core.display.HTML object>"
      ]
     },
     "metadata": {},
     "output_type": "display_data"
    },
    {
     "data": {
      "text/html": [
       "<span style=\"color:cyan\"> |-Score: 0.26993438601493835</span>"
      ],
      "text/plain": [
       "<IPython.core.display.HTML object>"
      ]
     },
     "metadata": {},
     "output_type": "display_data"
    },
    {
     "data": {
      "text/html": [
       "<span style=\"color:cyan\"> |-Best step: 0</span>"
      ],
      "text/plain": [
       "<IPython.core.display.HTML object>"
      ]
     },
     "metadata": {},
     "output_type": "display_data"
    },
    {
     "data": {
      "text/html": [
       "<span style=\"color:#7E57C2\"><h2 style=\"font-size:16px\">Hyperparameters:</h2></span>"
      ],
      "text/plain": [
       "<IPython.core.display.HTML object>"
      ]
     },
     "metadata": {},
     "output_type": "display_data"
    },
    {
     "data": {
      "text/html": [
       "<span style=\"color:cyan\"> |-dropout: 0.22785347010971127</span>"
      ],
      "text/plain": [
       "<IPython.core.display.HTML object>"
      ]
     },
     "metadata": {},
     "output_type": "display_data"
    },
    {
     "data": {
      "text/html": [
       "<span style=\"color:blue\"> |-learning_rate: 0.01</span>"
      ],
      "text/plain": [
       "<IPython.core.display.HTML object>"
      ]
     },
     "metadata": {},
     "output_type": "display_data"
    },
    {
     "data": {
      "text/html": [
       "<span style=\"color:cyan\"> |-units: 50</span>"
      ],
      "text/plain": [
       "<IPython.core.display.HTML object>"
      ]
     },
     "metadata": {},
     "output_type": "display_data"
    },
    {
     "name": "stderr",
     "output_type": "stream",
     "text": [
      "c:\\Users\\hecto\\.conda\\envs\\myenv\\lib\\site-packages\\sklearn\\gaussian_process\\kernels.py:409: ConvergenceWarning: The optimal value found for dimension 0 of parameter length_scale is close to the specified lower bound 1e-05. Decreasing the bound and calling fit again may find a better value.\n",
      "  ConvergenceWarning)\n"
     ]
    },
    {
     "data": {
      "text/html": [
       "<span style=\"color:#4527A0\"><h1 style=\"font-size:18px\">Trial complete</h1></span>"
      ],
      "text/plain": [
       "<IPython.core.display.HTML object>"
      ]
     },
     "metadata": {},
     "output_type": "display_data"
    },
    {
     "data": {
      "text/html": [
       "<span style=\"color:#4527A0\"><h1 style=\"font-size:18px\">Trial summary</h1></span>"
      ],
      "text/plain": [
       "<IPython.core.display.HTML object>"
      ]
     },
     "metadata": {},
     "output_type": "display_data"
    },
    {
     "data": {
      "text/html": [
       "<span style=\"color:cyan\"> |-Trial ID: dab4a600c4799c49934aa79f39977e1b</span>"
      ],
      "text/plain": [
       "<IPython.core.display.HTML object>"
      ]
     },
     "metadata": {},
     "output_type": "display_data"
    },
    {
     "data": {
      "text/html": [
       "<span style=\"color:cyan\"> |-Score: 0.2727713882923126</span>"
      ],
      "text/plain": [
       "<IPython.core.display.HTML object>"
      ]
     },
     "metadata": {},
     "output_type": "display_data"
    },
    {
     "data": {
      "text/html": [
       "<span style=\"color:cyan\"> |-Best step: 0</span>"
      ],
      "text/plain": [
       "<IPython.core.display.HTML object>"
      ]
     },
     "metadata": {},
     "output_type": "display_data"
    },
    {
     "data": {
      "text/html": [
       "<span style=\"color:#7E57C2\"><h2 style=\"font-size:16px\">Hyperparameters:</h2></span>"
      ],
      "text/plain": [
       "<IPython.core.display.HTML object>"
      ]
     },
     "metadata": {},
     "output_type": "display_data"
    },
    {
     "data": {
      "text/html": [
       "<span style=\"color:cyan\"> |-dropout: 0.274745007393208</span>"
      ],
      "text/plain": [
       "<IPython.core.display.HTML object>"
      ]
     },
     "metadata": {},
     "output_type": "display_data"
    },
    {
     "data": {
      "text/html": [
       "<span style=\"color:blue\"> |-learning_rate: 0.001</span>"
      ],
      "text/plain": [
       "<IPython.core.display.HTML object>"
      ]
     },
     "metadata": {},
     "output_type": "display_data"
    },
    {
     "data": {
      "text/html": [
       "<span style=\"color:cyan\"> |-units: 40</span>"
      ],
      "text/plain": [
       "<IPython.core.display.HTML object>"
      ]
     },
     "metadata": {},
     "output_type": "display_data"
    },
    {
     "name": "stderr",
     "output_type": "stream",
     "text": [
      "c:\\Users\\hecto\\.conda\\envs\\myenv\\lib\\site-packages\\sklearn\\gaussian_process\\kernels.py:409: ConvergenceWarning: The optimal value found for dimension 0 of parameter length_scale is close to the specified lower bound 1e-05. Decreasing the bound and calling fit again may find a better value.\n",
      "  ConvergenceWarning)\n"
     ]
    },
    {
     "data": {
      "text/html": [
       "<span style=\"color:#4527A0\"><h1 style=\"font-size:18px\">Trial complete</h1></span>"
      ],
      "text/plain": [
       "<IPython.core.display.HTML object>"
      ]
     },
     "metadata": {},
     "output_type": "display_data"
    },
    {
     "data": {
      "text/html": [
       "<span style=\"color:#4527A0\"><h1 style=\"font-size:18px\">Trial summary</h1></span>"
      ],
      "text/plain": [
       "<IPython.core.display.HTML object>"
      ]
     },
     "metadata": {},
     "output_type": "display_data"
    },
    {
     "data": {
      "text/html": [
       "<span style=\"color:cyan\"> |-Trial ID: dbc4e22841871b1a50f0b9eac3f6d1f1</span>"
      ],
      "text/plain": [
       "<IPython.core.display.HTML object>"
      ]
     },
     "metadata": {},
     "output_type": "display_data"
    },
    {
     "data": {
      "text/html": [
       "<span style=\"color:cyan\"> |-Score: 0.4165615141391754</span>"
      ],
      "text/plain": [
       "<IPython.core.display.HTML object>"
      ]
     },
     "metadata": {},
     "output_type": "display_data"
    },
    {
     "data": {
      "text/html": [
       "<span style=\"color:cyan\"> |-Best step: 0</span>"
      ],
      "text/plain": [
       "<IPython.core.display.HTML object>"
      ]
     },
     "metadata": {},
     "output_type": "display_data"
    },
    {
     "data": {
      "text/html": [
       "<span style=\"color:#7E57C2\"><h2 style=\"font-size:16px\">Hyperparameters:</h2></span>"
      ],
      "text/plain": [
       "<IPython.core.display.HTML object>"
      ]
     },
     "metadata": {},
     "output_type": "display_data"
    },
    {
     "data": {
      "text/html": [
       "<span style=\"color:cyan\"> |-dropout: 0.30726148255868146</span>"
      ],
      "text/plain": [
       "<IPython.core.display.HTML object>"
      ]
     },
     "metadata": {},
     "output_type": "display_data"
    },
    {
     "data": {
      "text/html": [
       "<span style=\"color:blue\"> |-learning_rate: 0.0001</span>"
      ],
      "text/plain": [
       "<IPython.core.display.HTML object>"
      ]
     },
     "metadata": {},
     "output_type": "display_data"
    },
    {
     "data": {
      "text/html": [
       "<span style=\"color:cyan\"> |-units: 20</span>"
      ],
      "text/plain": [
       "<IPython.core.display.HTML object>"
      ]
     },
     "metadata": {},
     "output_type": "display_data"
    },
    {
     "name": "stderr",
     "output_type": "stream",
     "text": [
      "c:\\Users\\hecto\\.conda\\envs\\myenv\\lib\\site-packages\\sklearn\\gaussian_process\\kernels.py:409: ConvergenceWarning: The optimal value found for dimension 0 of parameter length_scale is close to the specified lower bound 1e-05. Decreasing the bound and calling fit again may find a better value.\n",
      "  ConvergenceWarning)\n"
     ]
    },
    {
     "data": {
      "text/html": [
       "<span style=\"color:#4527A0\"><h1 style=\"font-size:18px\">Trial complete</h1></span>"
      ],
      "text/plain": [
       "<IPython.core.display.HTML object>"
      ]
     },
     "metadata": {},
     "output_type": "display_data"
    },
    {
     "data": {
      "text/html": [
       "<span style=\"color:#4527A0\"><h1 style=\"font-size:18px\">Trial summary</h1></span>"
      ],
      "text/plain": [
       "<IPython.core.display.HTML object>"
      ]
     },
     "metadata": {},
     "output_type": "display_data"
    },
    {
     "data": {
      "text/html": [
       "<span style=\"color:cyan\"> |-Trial ID: 80ded5a0df46f9bbc80355a0a45a29f2</span>"
      ],
      "text/plain": [
       "<IPython.core.display.HTML object>"
      ]
     },
     "metadata": {},
     "output_type": "display_data"
    },
    {
     "data": {
      "text/html": [
       "<span style=\"color:cyan\"> |-Score: 0.6834683418273926</span>"
      ],
      "text/plain": [
       "<IPython.core.display.HTML object>"
      ]
     },
     "metadata": {},
     "output_type": "display_data"
    },
    {
     "data": {
      "text/html": [
       "<span style=\"color:cyan\"> |-Best step: 0</span>"
      ],
      "text/plain": [
       "<IPython.core.display.HTML object>"
      ]
     },
     "metadata": {},
     "output_type": "display_data"
    },
    {
     "data": {
      "text/html": [
       "<span style=\"color:#7E57C2\"><h2 style=\"font-size:16px\">Hyperparameters:</h2></span>"
      ],
      "text/plain": [
       "<IPython.core.display.HTML object>"
      ]
     },
     "metadata": {},
     "output_type": "display_data"
    },
    {
     "data": {
      "text/html": [
       "<span style=\"color:cyan\"> |-dropout: 0.17318744354395094</span>"
      ],
      "text/plain": [
       "<IPython.core.display.HTML object>"
      ]
     },
     "metadata": {},
     "output_type": "display_data"
    },
    {
     "data": {
      "text/html": [
       "<span style=\"color:blue\"> |-learning_rate: 0.0</span>"
      ],
      "text/plain": [
       "<IPython.core.display.HTML object>"
      ]
     },
     "metadata": {},
     "output_type": "display_data"
    },
    {
     "data": {
      "text/html": [
       "<span style=\"color:cyan\"> |-units: 30</span>"
      ],
      "text/plain": [
       "<IPython.core.display.HTML object>"
      ]
     },
     "metadata": {},
     "output_type": "display_data"
    },
    {
     "name": "stderr",
     "output_type": "stream",
     "text": [
      "c:\\Users\\hecto\\.conda\\envs\\myenv\\lib\\site-packages\\sklearn\\gaussian_process\\kernels.py:409: ConvergenceWarning: The optimal value found for dimension 0 of parameter length_scale is close to the specified lower bound 1e-05. Decreasing the bound and calling fit again may find a better value.\n",
      "  ConvergenceWarning)\n"
     ]
    },
    {
     "data": {
      "text/html": [
       "<span style=\"color:#4527A0\"><h1 style=\"font-size:18px\">Trial complete</h1></span>"
      ],
      "text/plain": [
       "<IPython.core.display.HTML object>"
      ]
     },
     "metadata": {},
     "output_type": "display_data"
    },
    {
     "data": {
      "text/html": [
       "<span style=\"color:#4527A0\"><h1 style=\"font-size:18px\">Trial summary</h1></span>"
      ],
      "text/plain": [
       "<IPython.core.display.HTML object>"
      ]
     },
     "metadata": {},
     "output_type": "display_data"
    },
    {
     "data": {
      "text/html": [
       "<span style=\"color:cyan\"> |-Trial ID: cdb52d9b832547e65b9d72ebc3954858</span>"
      ],
      "text/plain": [
       "<IPython.core.display.HTML object>"
      ]
     },
     "metadata": {},
     "output_type": "display_data"
    },
    {
     "data": {
      "text/html": [
       "<span style=\"color:cyan\"> |-Score: 0.2661176323890686</span>"
      ],
      "text/plain": [
       "<IPython.core.display.HTML object>"
      ]
     },
     "metadata": {},
     "output_type": "display_data"
    },
    {
     "data": {
      "text/html": [
       "<span style=\"color:cyan\"> |-Best step: 0</span>"
      ],
      "text/plain": [
       "<IPython.core.display.HTML object>"
      ]
     },
     "metadata": {},
     "output_type": "display_data"
    },
    {
     "data": {
      "text/html": [
       "<span style=\"color:#7E57C2\"><h2 style=\"font-size:16px\">Hyperparameters:</h2></span>"
      ],
      "text/plain": [
       "<IPython.core.display.HTML object>"
      ]
     },
     "metadata": {},
     "output_type": "display_data"
    },
    {
     "data": {
      "text/html": [
       "<span style=\"color:cyan\"> |-dropout: 0.04400859969927471</span>"
      ],
      "text/plain": [
       "<IPython.core.display.HTML object>"
      ]
     },
     "metadata": {},
     "output_type": "display_data"
    },
    {
     "data": {
      "text/html": [
       "<span style=\"color:blue\"> |-learning_rate: 0.01</span>"
      ],
      "text/plain": [
       "<IPython.core.display.HTML object>"
      ]
     },
     "metadata": {},
     "output_type": "display_data"
    },
    {
     "data": {
      "text/html": [
       "<span style=\"color:cyan\"> |-units: 30</span>"
      ],
      "text/plain": [
       "<IPython.core.display.HTML object>"
      ]
     },
     "metadata": {},
     "output_type": "display_data"
    },
    {
     "name": "stderr",
     "output_type": "stream",
     "text": [
      "c:\\Users\\hecto\\.conda\\envs\\myenv\\lib\\site-packages\\sklearn\\gaussian_process\\kernels.py:409: ConvergenceWarning: The optimal value found for dimension 0 of parameter length_scale is close to the specified lower bound 1e-05. Decreasing the bound and calling fit again may find a better value.\n",
      "  ConvergenceWarning)\n"
     ]
    },
    {
     "data": {
      "text/html": [
       "<span style=\"color:#4527A0\"><h1 style=\"font-size:18px\">Trial complete</h1></span>"
      ],
      "text/plain": [
       "<IPython.core.display.HTML object>"
      ]
     },
     "metadata": {},
     "output_type": "display_data"
    },
    {
     "data": {
      "text/html": [
       "<span style=\"color:#4527A0\"><h1 style=\"font-size:18px\">Trial summary</h1></span>"
      ],
      "text/plain": [
       "<IPython.core.display.HTML object>"
      ]
     },
     "metadata": {},
     "output_type": "display_data"
    },
    {
     "data": {
      "text/html": [
       "<span style=\"color:cyan\"> |-Trial ID: 59d83204f3b62ce8ab59b8c8e6761da1</span>"
      ],
      "text/plain": [
       "<IPython.core.display.HTML object>"
      ]
     },
     "metadata": {},
     "output_type": "display_data"
    },
    {
     "data": {
      "text/html": [
       "<span style=\"color:cyan\"> |-Score: 0.25254571437835693</span>"
      ],
      "text/plain": [
       "<IPython.core.display.HTML object>"
      ]
     },
     "metadata": {},
     "output_type": "display_data"
    },
    {
     "data": {
      "text/html": [
       "<span style=\"color:cyan\"> |-Best step: 0</span>"
      ],
      "text/plain": [
       "<IPython.core.display.HTML object>"
      ]
     },
     "metadata": {},
     "output_type": "display_data"
    },
    {
     "data": {
      "text/html": [
       "<span style=\"color:#7E57C2\"><h2 style=\"font-size:16px\">Hyperparameters:</h2></span>"
      ],
      "text/plain": [
       "<IPython.core.display.HTML object>"
      ]
     },
     "metadata": {},
     "output_type": "display_data"
    },
    {
     "data": {
      "text/html": [
       "<span style=\"color:cyan\"> |-dropout: 0.0780559599429807</span>"
      ],
      "text/plain": [
       "<IPython.core.display.HTML object>"
      ]
     },
     "metadata": {},
     "output_type": "display_data"
    },
    {
     "data": {
      "text/html": [
       "<span style=\"color:blue\"> |-learning_rate: 0.001</span>"
      ],
      "text/plain": [
       "<IPython.core.display.HTML object>"
      ]
     },
     "metadata": {},
     "output_type": "display_data"
    },
    {
     "data": {
      "text/html": [
       "<span style=\"color:cyan\"> |-units: 50</span>"
      ],
      "text/plain": [
       "<IPython.core.display.HTML object>"
      ]
     },
     "metadata": {},
     "output_type": "display_data"
    },
    {
     "name": "stderr",
     "output_type": "stream",
     "text": [
      "c:\\Users\\hecto\\.conda\\envs\\myenv\\lib\\site-packages\\sklearn\\gaussian_process\\kernels.py:409: ConvergenceWarning: The optimal value found for dimension 0 of parameter length_scale is close to the specified lower bound 1e-05. Decreasing the bound and calling fit again may find a better value.\n",
      "  ConvergenceWarning)\n"
     ]
    },
    {
     "data": {
      "text/html": [
       "<span style=\"color:#4527A0\"><h1 style=\"font-size:18px\">Trial complete</h1></span>"
      ],
      "text/plain": [
       "<IPython.core.display.HTML object>"
      ]
     },
     "metadata": {},
     "output_type": "display_data"
    },
    {
     "data": {
      "text/html": [
       "<span style=\"color:#4527A0\"><h1 style=\"font-size:18px\">Trial summary</h1></span>"
      ],
      "text/plain": [
       "<IPython.core.display.HTML object>"
      ]
     },
     "metadata": {},
     "output_type": "display_data"
    },
    {
     "data": {
      "text/html": [
       "<span style=\"color:cyan\"> |-Trial ID: 63c4a6334af1ccd560ac420a9a8ddbaf</span>"
      ],
      "text/plain": [
       "<IPython.core.display.HTML object>"
      ]
     },
     "metadata": {},
     "output_type": "display_data"
    },
    {
     "data": {
      "text/html": [
       "<span style=\"color:cyan\"> |-Score: 0.2736586332321167</span>"
      ],
      "text/plain": [
       "<IPython.core.display.HTML object>"
      ]
     },
     "metadata": {},
     "output_type": "display_data"
    },
    {
     "data": {
      "text/html": [
       "<span style=\"color:cyan\"> |-Best step: 0</span>"
      ],
      "text/plain": [
       "<IPython.core.display.HTML object>"
      ]
     },
     "metadata": {},
     "output_type": "display_data"
    },
    {
     "data": {
      "text/html": [
       "<span style=\"color:#7E57C2\"><h2 style=\"font-size:16px\">Hyperparameters:</h2></span>"
      ],
      "text/plain": [
       "<IPython.core.display.HTML object>"
      ]
     },
     "metadata": {},
     "output_type": "display_data"
    },
    {
     "data": {
      "text/html": [
       "<span style=\"color:cyan\"> |-dropout: 0.2139535917850938</span>"
      ],
      "text/plain": [
       "<IPython.core.display.HTML object>"
      ]
     },
     "metadata": {},
     "output_type": "display_data"
    },
    {
     "data": {
      "text/html": [
       "<span style=\"color:blue\"> |-learning_rate: 0.01</span>"
      ],
      "text/plain": [
       "<IPython.core.display.HTML object>"
      ]
     },
     "metadata": {},
     "output_type": "display_data"
    },
    {
     "data": {
      "text/html": [
       "<span style=\"color:cyan\"> |-units: 20</span>"
      ],
      "text/plain": [
       "<IPython.core.display.HTML object>"
      ]
     },
     "metadata": {},
     "output_type": "display_data"
    },
    {
     "name": "stderr",
     "output_type": "stream",
     "text": [
      "c:\\Users\\hecto\\.conda\\envs\\myenv\\lib\\site-packages\\sklearn\\gaussian_process\\kernels.py:409: ConvergenceWarning: The optimal value found for dimension 0 of parameter length_scale is close to the specified lower bound 1e-05. Decreasing the bound and calling fit again may find a better value.\n",
      "  ConvergenceWarning)\n"
     ]
    },
    {
     "data": {
      "text/html": [
       "<span style=\"color:#4527A0\"><h1 style=\"font-size:18px\">Trial complete</h1></span>"
      ],
      "text/plain": [
       "<IPython.core.display.HTML object>"
      ]
     },
     "metadata": {},
     "output_type": "display_data"
    },
    {
     "data": {
      "text/html": [
       "<span style=\"color:#4527A0\"><h1 style=\"font-size:18px\">Trial summary</h1></span>"
      ],
      "text/plain": [
       "<IPython.core.display.HTML object>"
      ]
     },
     "metadata": {},
     "output_type": "display_data"
    },
    {
     "data": {
      "text/html": [
       "<span style=\"color:cyan\"> |-Trial ID: f47a54590d228b47b3cf2263c57b6ddf</span>"
      ],
      "text/plain": [
       "<IPython.core.display.HTML object>"
      ]
     },
     "metadata": {},
     "output_type": "display_data"
    },
    {
     "data": {
      "text/html": [
       "<span style=\"color:cyan\"> |-Score: 0.627342700958252</span>"
      ],
      "text/plain": [
       "<IPython.core.display.HTML object>"
      ]
     },
     "metadata": {},
     "output_type": "display_data"
    },
    {
     "data": {
      "text/html": [
       "<span style=\"color:cyan\"> |-Best step: 0</span>"
      ],
      "text/plain": [
       "<IPython.core.display.HTML object>"
      ]
     },
     "metadata": {},
     "output_type": "display_data"
    },
    {
     "data": {
      "text/html": [
       "<span style=\"color:#7E57C2\"><h2 style=\"font-size:16px\">Hyperparameters:</h2></span>"
      ],
      "text/plain": [
       "<IPython.core.display.HTML object>"
      ]
     },
     "metadata": {},
     "output_type": "display_data"
    },
    {
     "data": {
      "text/html": [
       "<span style=\"color:cyan\"> |-dropout: 0.13912091410779392</span>"
      ],
      "text/plain": [
       "<IPython.core.display.HTML object>"
      ]
     },
     "metadata": {},
     "output_type": "display_data"
    },
    {
     "data": {
      "text/html": [
       "<span style=\"color:blue\"> |-learning_rate: 0.0</span>"
      ],
      "text/plain": [
       "<IPython.core.display.HTML object>"
      ]
     },
     "metadata": {},
     "output_type": "display_data"
    },
    {
     "data": {
      "text/html": [
       "<span style=\"color:cyan\"> |-units: 20</span>"
      ],
      "text/plain": [
       "<IPython.core.display.HTML object>"
      ]
     },
     "metadata": {},
     "output_type": "display_data"
    },
    {
     "name": "stdout",
     "output_type": "stream",
     "text": [
      "INFO:tensorflow:Oracle triggered exit\n",
      "Train on 250 samples, validate on 108 samples\n",
      "Epoch 1/100\n",
      "250/250 [==============================] - 1s 4ms/sample - loss: 0.2049 - mean_absolute_error: 0.2049 - rmse: 0.2562 - val_loss: 0.2679 - val_mean_absolute_error: 0.2679 - val_rmse: 0.3215\n",
      "Epoch 2/100\n",
      "250/250 [==============================] - 0s 132us/sample - loss: 0.2155 - mean_absolute_error: 0.2155 - rmse: 0.2695 - val_loss: 0.2783 - val_mean_absolute_error: 0.2783 - val_rmse: 0.3317\n",
      "Epoch 3/100\n",
      "250/250 [==============================] - 0s 130us/sample - loss: 0.2117 - mean_absolute_error: 0.2117 - rmse: 0.2661 - val_loss: 0.2763 - val_mean_absolute_error: 0.2763 - val_rmse: 0.3262\n",
      "Epoch 4/100\n",
      "250/250 [==============================] - 0s 72us/sample - loss: 0.1977 - mean_absolute_error: 0.1977 - rmse: 0.2511 - val_loss: 0.2757 - val_mean_absolute_error: 0.2757 - val_rmse: 0.3231\n",
      "Epoch 5/100\n",
      "250/250 [==============================] - 0s 80us/sample - loss: 0.1895 - mean_absolute_error: 0.1895 - rmse: 0.2408 - val_loss: 0.2780 - val_mean_absolute_error: 0.2780 - val_rmse: 0.3240\n",
      "Epoch 6/100\n",
      "250/250 [==============================] - 0s 103us/sample - loss: 0.1875 - mean_absolute_error: 0.1875 - rmse: 0.2375 - val_loss: 0.2808 - val_mean_absolute_error: 0.2808 - val_rmse: 0.3262\n",
      "Epoch 7/100\n",
      "250/250 [==============================] - 0s 120us/sample - loss: 0.1849 - mean_absolute_error: 0.1849 - rmse: 0.2344 - val_loss: 0.2830 - val_mean_absolute_error: 0.2830 - val_rmse: 0.3276\n",
      "Epoch 8/100\n",
      "250/250 [==============================] - 0s 88us/sample - loss: 0.1855 - mean_absolute_error: 0.1855 - rmse: 0.2354 - val_loss: 0.2837 - val_mean_absolute_error: 0.2837 - val_rmse: 0.3272\n",
      "Epoch 9/100\n",
      "250/250 [==============================] - 0s 98us/sample - loss: 0.1845 - mean_absolute_error: 0.1845 - rmse: 0.2348 - val_loss: 0.2832 - val_mean_absolute_error: 0.2832 - val_rmse: 0.3255\n",
      "Epoch 10/100\n",
      "250/250 [==============================] - 0s 176us/sample - loss: 0.1821 - mean_absolute_error: 0.1821 - rmse: 0.2328 - val_loss: 0.2817 - val_mean_absolute_error: 0.2817 - val_rmse: 0.3233\n",
      "Epoch 11/100\n",
      "250/250 [==============================] - 0s 129us/sample - loss: 0.1811 - mean_absolute_error: 0.1811 - rmse: 0.2326 - val_loss: 0.2787 - val_mean_absolute_error: 0.2787 - val_rmse: 0.3199\n",
      "Epoch 12/100\n",
      "250/250 [==============================] - 0s 70us/sample - loss: 0.1801 - mean_absolute_error: 0.1801 - rmse: 0.2319 - val_loss: 0.2746 - val_mean_absolute_error: 0.2746 - val_rmse: 0.3157\n",
      "Epoch 13/100\n",
      "250/250 [==============================] - 0s 68us/sample - loss: 0.1786 - mean_absolute_error: 0.1786 - rmse: 0.2303 - val_loss: 0.2706 - val_mean_absolute_error: 0.2706 - val_rmse: 0.3119\n",
      "Epoch 14/100\n",
      "250/250 [==============================] - 0s 67us/sample - loss: 0.1776 - mean_absolute_error: 0.1776 - rmse: 0.2289 - val_loss: 0.2684 - val_mean_absolute_error: 0.2684 - val_rmse: 0.3098\n",
      "Epoch 15/100\n",
      "250/250 [==============================] - 0s 68us/sample - loss: 0.1767 - mean_absolute_error: 0.1767 - rmse: 0.2277 - val_loss: 0.2683 - val_mean_absolute_error: 0.2683 - val_rmse: 0.3100\n",
      "Epoch 16/100\n",
      "250/250 [==============================] - 0s 62us/sample - loss: 0.1773 - mean_absolute_error: 0.1773 - rmse: 0.2283 - val_loss: 0.2697 - val_mean_absolute_error: 0.2697 - val_rmse: 0.3116\n",
      "Epoch 17/100\n",
      "250/250 [==============================] - 0s 86us/sample - loss: 0.1767 - mean_absolute_error: 0.1767 - rmse: 0.2275 - val_loss: 0.2720 - val_mean_absolute_error: 0.2720 - val_rmse: 0.3139\n",
      "Epoch 18/100\n",
      "250/250 [==============================] - 0s 58us/sample - loss: 0.1759 - mean_absolute_error: 0.1759 - rmse: 0.2265 - val_loss: 0.2743 - val_mean_absolute_error: 0.2743 - val_rmse: 0.3161\n",
      "Epoch 19/100\n",
      "250/250 [==============================] - 0s 58us/sample - loss: 0.1740 - mean_absolute_error: 0.1740 - rmse: 0.2242 - val_loss: 0.2764 - val_mean_absolute_error: 0.2764 - val_rmse: 0.3179\n",
      "Epoch 20/100\n",
      "250/250 [==============================] - 0s 68us/sample - loss: 0.1743 - mean_absolute_error: 0.1743 - rmse: 0.2246 - val_loss: 0.2773 - val_mean_absolute_error: 0.2773 - val_rmse: 0.3182\n",
      "Epoch 21/100\n",
      "250/250 [==============================] - 0s 58us/sample - loss: 0.1749 - mean_absolute_error: 0.1749 - rmse: 0.2253 - val_loss: 0.2765 - val_mean_absolute_error: 0.2765 - val_rmse: 0.3167\n",
      "Epoch 22/100\n",
      "250/250 [==============================] - 0s 72us/sample - loss: 0.1748 - mean_absolute_error: 0.1748 - rmse: 0.2252 - val_loss: 0.2744 - val_mean_absolute_error: 0.2744 - val_rmse: 0.3139\n",
      "Epoch 23/100\n",
      "250/250 [==============================] - 0s 52us/sample - loss: 0.1744 - mean_absolute_error: 0.1744 - rmse: 0.2245 - val_loss: 0.2721 - val_mean_absolute_error: 0.2721 - val_rmse: 0.3111\n",
      "Epoch 24/100\n",
      "250/250 [==============================] - 0s 56us/sample - loss: 0.1735 - mean_absolute_error: 0.1735 - rmse: 0.2235 - val_loss: 0.2706 - val_mean_absolute_error: 0.2706 - val_rmse: 0.3096\n",
      "Epoch 25/100\n",
      "250/250 [==============================] - 0s 62us/sample - loss: 0.1729 - mean_absolute_error: 0.1729 - rmse: 0.2226 - val_loss: 0.2704 - val_mean_absolute_error: 0.2704 - val_rmse: 0.3097\n",
      "Epoch 26/100\n",
      "250/250 [==============================] - 0s 57us/sample - loss: 0.1741 - mean_absolute_error: 0.1741 - rmse: 0.2239 - val_loss: 0.2709 - val_mean_absolute_error: 0.2709 - val_rmse: 0.3106\n",
      "Epoch 27/100\n",
      "250/250 [==============================] - 0s 58us/sample - loss: 0.1721 - mean_absolute_error: 0.1721 - rmse: 0.2219 - val_loss: 0.2719 - val_mean_absolute_error: 0.2719 - val_rmse: 0.3120\n",
      "Epoch 28/100\n",
      "250/250 [==============================] - 0s 52us/sample - loss: 0.1731 - mean_absolute_error: 0.1731 - rmse: 0.2232 - val_loss: 0.2723 - val_mean_absolute_error: 0.2723 - val_rmse: 0.3125\n",
      "Epoch 29/100\n",
      "250/250 [==============================] - 0s 58us/sample - loss: 0.1731 - mean_absolute_error: 0.1731 - rmse: 0.2238 - val_loss: 0.2719 - val_mean_absolute_error: 0.2719 - val_rmse: 0.3121\n",
      "Epoch 30/100\n",
      "250/250 [==============================] - 0s 62us/sample - loss: 0.1716 - mean_absolute_error: 0.1716 - rmse: 0.2223 - val_loss: 0.2712 - val_mean_absolute_error: 0.2712 - val_rmse: 0.3113\n",
      "Epoch 31/100\n",
      "250/250 [==============================] - 0s 58us/sample - loss: 0.1724 - mean_absolute_error: 0.1724 - rmse: 0.2234 - val_loss: 0.2703 - val_mean_absolute_error: 0.2703 - val_rmse: 0.3102\n",
      "Epoch 32/100\n",
      "250/250 [==============================] - 0s 57us/sample - loss: 0.1733 - mean_absolute_error: 0.1733 - rmse: 0.2246 - val_loss: 0.2696 - val_mean_absolute_error: 0.2696 - val_rmse: 0.3093\n",
      "Epoch 33/100\n",
      "250/250 [==============================] - 0s 58us/sample - loss: 0.1720 - mean_absolute_error: 0.1720 - rmse: 0.2231 - val_loss: 0.2699 - val_mean_absolute_error: 0.2699 - val_rmse: 0.3095\n",
      "Epoch 34/100\n",
      "250/250 [==============================] - 0s 62us/sample - loss: 0.1731 - mean_absolute_error: 0.1731 - rmse: 0.2240 - val_loss: 0.2708 - val_mean_absolute_error: 0.2708 - val_rmse: 0.3106\n",
      "Epoch 35/100\n",
      "250/250 [==============================] - 0s 56us/sample - loss: 0.1717 - mean_absolute_error: 0.1717 - rmse: 0.2222 - val_loss: 0.2722 - val_mean_absolute_error: 0.2722 - val_rmse: 0.3122\n",
      "Epoch 36/100\n",
      "250/250 [==============================] - 0s 64us/sample - loss: 0.1715 - mean_absolute_error: 0.1715 - rmse: 0.2218 - val_loss: 0.2735 - val_mean_absolute_error: 0.2735 - val_rmse: 0.3137\n",
      "Epoch 37/100\n",
      "250/250 [==============================] - 0s 58us/sample - loss: 0.1708 - mean_absolute_error: 0.1708 - rmse: 0.2210 - val_loss: 0.2740 - val_mean_absolute_error: 0.2740 - val_rmse: 0.3142\n",
      "Epoch 38/100\n",
      "250/250 [==============================] - 0s 60us/sample - loss: 0.1718 - mean_absolute_error: 0.1718 - rmse: 0.2221 - val_loss: 0.2732 - val_mean_absolute_error: 0.2732 - val_rmse: 0.3131\n",
      "Epoch 39/100\n",
      "250/250 [==============================] - 0s 60us/sample - loss: 0.1717 - mean_absolute_error: 0.1717 - rmse: 0.2220 - val_loss: 0.2715 - val_mean_absolute_error: 0.2715 - val_rmse: 0.3110\n",
      "Epoch 40/100\n",
      "250/250 [==============================] - 0s 64us/sample - loss: 0.1708 - mean_absolute_error: 0.1708 - rmse: 0.2211 - val_loss: 0.2702 - val_mean_absolute_error: 0.2702 - val_rmse: 0.3094\n",
      "Epoch 41/100\n",
      "250/250 [==============================] - 0s 64us/sample - loss: 0.1705 - mean_absolute_error: 0.1705 - rmse: 0.2208 - val_loss: 0.2701 - val_mean_absolute_error: 0.2701 - val_rmse: 0.3094\n",
      "Epoch 42/100\n",
      "250/250 [==============================] - 0s 121us/sample - loss: 0.1712 - mean_absolute_error: 0.1712 - rmse: 0.2215 - val_loss: 0.2709 - val_mean_absolute_error: 0.2709 - val_rmse: 0.3103\n",
      "Epoch 43/100\n",
      "250/250 [==============================] - 0s 64us/sample - loss: 0.1721 - mean_absolute_error: 0.1721 - rmse: 0.2227 - val_loss: 0.2715 - val_mean_absolute_error: 0.2715 - val_rmse: 0.3111\n",
      "Epoch 44/100\n",
      "250/250 [==============================] - 0s 61us/sample - loss: 0.1704 - mean_absolute_error: 0.1704 - rmse: 0.2205 - val_loss: 0.2720 - val_mean_absolute_error: 0.2720 - val_rmse: 0.3118\n",
      "Epoch 45/100\n",
      "250/250 [==============================] - 0s 62us/sample - loss: 0.1707 - mean_absolute_error: 0.1707 - rmse: 0.2208 - val_loss: 0.2721 - val_mean_absolute_error: 0.2721 - val_rmse: 0.3119\n",
      "Epoch 46/100\n",
      "250/250 [==============================] - 0s 65us/sample - loss: 0.1706 - mean_absolute_error: 0.1706 - rmse: 0.2208 - val_loss: 0.2716 - val_mean_absolute_error: 0.2716 - val_rmse: 0.3114\n",
      "Epoch 47/100\n",
      "250/250 [==============================] - 0s 56us/sample - loss: 0.1698 - mean_absolute_error: 0.1698 - rmse: 0.2200 - val_loss: 0.2719 - val_mean_absolute_error: 0.2719 - val_rmse: 0.3118\n",
      "Epoch 48/100\n",
      "250/250 [==============================] - 0s 68us/sample - loss: 0.1708 - mean_absolute_error: 0.1708 - rmse: 0.2213 - val_loss: 0.2725 - val_mean_absolute_error: 0.2725 - val_rmse: 0.3125\n",
      "Epoch 49/100\n",
      "250/250 [==============================] - 0s 61us/sample - loss: 0.1706 - mean_absolute_error: 0.1706 - rmse: 0.2214 - val_loss: 0.2732 - val_mean_absolute_error: 0.2732 - val_rmse: 0.3134\n",
      "Epoch 50/100\n",
      "250/250 [==============================] - 0s 62us/sample - loss: 0.1705 - mean_absolute_error: 0.1705 - rmse: 0.2213 - val_loss: 0.2738 - val_mean_absolute_error: 0.2738 - val_rmse: 0.3141\n",
      "Epoch 51/100\n",
      "250/250 [==============================] - 0s 60us/sample - loss: 0.1704 - mean_absolute_error: 0.1704 - rmse: 0.2212 - val_loss: 0.2736 - val_mean_absolute_error: 0.2736 - val_rmse: 0.3138\n",
      "Epoch 52/100\n",
      "250/250 [==============================] - 0s 64us/sample - loss: 0.1705 - mean_absolute_error: 0.1705 - rmse: 0.2213 - val_loss: 0.2727 - val_mean_absolute_error: 0.2727 - val_rmse: 0.3127\n",
      "Epoch 53/100\n",
      "250/250 [==============================] - 0s 55us/sample - loss: 0.1701 - mean_absolute_error: 0.1701 - rmse: 0.2207 - val_loss: 0.2719 - val_mean_absolute_error: 0.2719 - val_rmse: 0.3118\n",
      "Epoch 54/100\n",
      "250/250 [==============================] - 0s 64us/sample - loss: 0.1696 - mean_absolute_error: 0.1696 - rmse: 0.2200 - val_loss: 0.2722 - val_mean_absolute_error: 0.2722 - val_rmse: 0.3120\n",
      "Epoch 55/100\n",
      "250/250 [==============================] - 0s 66us/sample - loss: 0.1704 - mean_absolute_error: 0.1704 - rmse: 0.2209 - val_loss: 0.2724 - val_mean_absolute_error: 0.2724 - val_rmse: 0.3123\n",
      "Epoch 56/100\n",
      "250/250 [==============================] - 0s 64us/sample - loss: 0.1700 - mean_absolute_error: 0.1700 - rmse: 0.2203 - val_loss: 0.2729 - val_mean_absolute_error: 0.2729 - val_rmse: 0.3128\n",
      "Epoch 57/100\n",
      "250/250 [==============================] - 0s 56us/sample - loss: 0.1707 - mean_absolute_error: 0.1707 - rmse: 0.2210 - val_loss: 0.2730 - val_mean_absolute_error: 0.2730 - val_rmse: 0.3129\n",
      "Epoch 58/100\n",
      "250/250 [==============================] - 0s 56us/sample - loss: 0.1695 - mean_absolute_error: 0.1695 - rmse: 0.2199 - val_loss: 0.2731 - val_mean_absolute_error: 0.2731 - val_rmse: 0.3132\n",
      "Epoch 59/100\n",
      "250/250 [==============================] - 0s 60us/sample - loss: 0.1701 - mean_absolute_error: 0.1701 - rmse: 0.2206 - val_loss: 0.2732 - val_mean_absolute_error: 0.2732 - val_rmse: 0.3134\n",
      "Epoch 60/100\n",
      "250/250 [==============================] - 0s 60us/sample - loss: 0.1708 - mean_absolute_error: 0.1708 - rmse: 0.2214 - val_loss: 0.2725 - val_mean_absolute_error: 0.2725 - val_rmse: 0.3125\n",
      "Epoch 61/100\n",
      "250/250 [==============================] - 0s 58us/sample - loss: 0.1704 - mean_absolute_error: 0.1704 - rmse: 0.2210 - val_loss: 0.2718 - val_mean_absolute_error: 0.2718 - val_rmse: 0.3117\n",
      "Epoch 62/100\n",
      "250/250 [==============================] - 0s 64us/sample - loss: 0.1701 - mean_absolute_error: 0.1701 - rmse: 0.2207 - val_loss: 0.2721 - val_mean_absolute_error: 0.2721 - val_rmse: 0.3120\n",
      "Epoch 63/100\n",
      "250/250 [==============================] - 0s 58us/sample - loss: 0.1697 - mean_absolute_error: 0.1697 - rmse: 0.2202 - val_loss: 0.2731 - val_mean_absolute_error: 0.2731 - val_rmse: 0.3131\n",
      "Epoch 64/100\n",
      "250/250 [==============================] - 0s 62us/sample - loss: 0.1697 - mean_absolute_error: 0.1697 - rmse: 0.2201 - val_loss: 0.2739 - val_mean_absolute_error: 0.2739 - val_rmse: 0.3140\n",
      "Epoch 65/100\n",
      "250/250 [==============================] - 0s 58us/sample - loss: 0.1698 - mean_absolute_error: 0.1698 - rmse: 0.2201 - val_loss: 0.2734 - val_mean_absolute_error: 0.2734 - val_rmse: 0.3135\n",
      "Epoch 66/100\n",
      "250/250 [==============================] - 0s 62us/sample - loss: 0.1698 - mean_absolute_error: 0.1698 - rmse: 0.2202 - val_loss: 0.2722 - val_mean_absolute_error: 0.2722 - val_rmse: 0.3121\n",
      "Epoch 67/100\n",
      "250/250 [==============================] - 0s 66us/sample - loss: 0.1695 - mean_absolute_error: 0.1695 - rmse: 0.2198 - val_loss: 0.2715 - val_mean_absolute_error: 0.2715 - val_rmse: 0.3113\n",
      "Epoch 68/100\n",
      "250/250 [==============================] - 0s 60us/sample - loss: 0.1696 - mean_absolute_error: 0.1696 - rmse: 0.2200 - val_loss: 0.2721 - val_mean_absolute_error: 0.2721 - val_rmse: 0.3120\n",
      "Epoch 69/100\n",
      "250/250 [==============================] - 0s 64us/sample - loss: 0.1700 - mean_absolute_error: 0.1700 - rmse: 0.2206 - val_loss: 0.2731 - val_mean_absolute_error: 0.2731 - val_rmse: 0.3132\n",
      "Epoch 70/100\n",
      "250/250 [==============================] - 0s 58us/sample - loss: 0.1700 - mean_absolute_error: 0.1700 - rmse: 0.2206 - val_loss: 0.2737 - val_mean_absolute_error: 0.2737 - val_rmse: 0.3139\n",
      "Epoch 71/100\n",
      "250/250 [==============================] - 0s 60us/sample - loss: 0.1703 - mean_absolute_error: 0.1703 - rmse: 0.2210 - val_loss: 0.2730 - val_mean_absolute_error: 0.2730 - val_rmse: 0.3131\n",
      "Epoch 72/100\n",
      "250/250 [==============================] - 0s 66us/sample - loss: 0.1696 - mean_absolute_error: 0.1696 - rmse: 0.2202 - val_loss: 0.2726 - val_mean_absolute_error: 0.2726 - val_rmse: 0.3126\n",
      "Epoch 73/100\n",
      "250/250 [==============================] - 0s 58us/sample - loss: 0.1704 - mean_absolute_error: 0.1704 - rmse: 0.2209 - val_loss: 0.2719 - val_mean_absolute_error: 0.2719 - val_rmse: 0.3119\n",
      "Epoch 74/100\n",
      "250/250 [==============================] - 0s 102us/sample - loss: 0.1697 - mean_absolute_error: 0.1697 - rmse: 0.2201 - val_loss: 0.2718 - val_mean_absolute_error: 0.2718 - val_rmse: 0.3117\n",
      "Epoch 75/100\n",
      "250/250 [==============================] - 0s 91us/sample - loss: 0.1689 - mean_absolute_error: 0.1689 - rmse: 0.2192 - val_loss: 0.2729 - val_mean_absolute_error: 0.2729 - val_rmse: 0.3130\n",
      "Epoch 76/100\n",
      "250/250 [==============================] - 0s 78us/sample - loss: 0.1697 - mean_absolute_error: 0.1697 - rmse: 0.2201 - val_loss: 0.2736 - val_mean_absolute_error: 0.2736 - val_rmse: 0.3138\n",
      "Epoch 77/100\n",
      "250/250 [==============================] - 0s 71us/sample - loss: 0.1691 - mean_absolute_error: 0.1691 - rmse: 0.2194 - val_loss: 0.2736 - val_mean_absolute_error: 0.2736 - val_rmse: 0.3137\n",
      "Epoch 78/100\n",
      "250/250 [==============================] - 0s 58us/sample - loss: 0.1693 - mean_absolute_error: 0.1693 - rmse: 0.2198 - val_loss: 0.2730 - val_mean_absolute_error: 0.2730 - val_rmse: 0.3130\n",
      "Epoch 79/100\n",
      "250/250 [==============================] - 0s 68us/sample - loss: 0.1692 - mean_absolute_error: 0.1692 - rmse: 0.2198 - val_loss: 0.2723 - val_mean_absolute_error: 0.2723 - val_rmse: 0.3122\n",
      "Epoch 80/100\n",
      "250/250 [==============================] - 0s 66us/sample - loss: 0.1689 - mean_absolute_error: 0.1689 - rmse: 0.2194 - val_loss: 0.2725 - val_mean_absolute_error: 0.2725 - val_rmse: 0.3125\n",
      "Epoch 81/100\n",
      "250/250 [==============================] - 0s 66us/sample - loss: 0.1699 - mean_absolute_error: 0.1699 - rmse: 0.2205 - val_loss: 0.2726 - val_mean_absolute_error: 0.2726 - val_rmse: 0.3127\n",
      "Epoch 82/100\n",
      "250/250 [==============================] - 0s 62us/sample - loss: 0.1698 - mean_absolute_error: 0.1698 - rmse: 0.2203 - val_loss: 0.2724 - val_mean_absolute_error: 0.2724 - val_rmse: 0.3125\n",
      "Epoch 83/100\n",
      "250/250 [==============================] - 0s 68us/sample - loss: 0.1694 - mean_absolute_error: 0.1694 - rmse: 0.2198 - val_loss: 0.2723 - val_mean_absolute_error: 0.2723 - val_rmse: 0.3123\n",
      "Epoch 84/100\n",
      "250/250 [==============================] - 0s 64us/sample - loss: 0.1693 - mean_absolute_error: 0.1693 - rmse: 0.2197 - val_loss: 0.2727 - val_mean_absolute_error: 0.2727 - val_rmse: 0.3127\n",
      "Epoch 85/100\n",
      "250/250 [==============================] - 0s 54us/sample - loss: 0.1702 - mean_absolute_error: 0.1702 - rmse: 0.2205 - val_loss: 0.2724 - val_mean_absolute_error: 0.2724 - val_rmse: 0.3124\n",
      "Epoch 86/100\n",
      "250/250 [==============================] - 0s 61us/sample - loss: 0.1690 - mean_absolute_error: 0.1690 - rmse: 0.2193 - val_loss: 0.2728 - val_mean_absolute_error: 0.2728 - val_rmse: 0.3128\n",
      "Epoch 87/100\n",
      "250/250 [==============================] - 0s 66us/sample - loss: 0.1695 - mean_absolute_error: 0.1695 - rmse: 0.2201 - val_loss: 0.2728 - val_mean_absolute_error: 0.2728 - val_rmse: 0.3129\n",
      "Epoch 88/100\n",
      "250/250 [==============================] - 0s 68us/sample - loss: 0.1690 - mean_absolute_error: 0.1690 - rmse: 0.2195 - val_loss: 0.2730 - val_mean_absolute_error: 0.2730 - val_rmse: 0.3131\n",
      "Epoch 89/100\n",
      "250/250 [==============================] - 0s 64us/sample - loss: 0.1692 - mean_absolute_error: 0.1692 - rmse: 0.2198 - val_loss: 0.2728 - val_mean_absolute_error: 0.2728 - val_rmse: 0.3130\n",
      "Epoch 90/100\n",
      "250/250 [==============================] - 0s 61us/sample - loss: 0.1695 - mean_absolute_error: 0.1695 - rmse: 0.2199 - val_loss: 0.2724 - val_mean_absolute_error: 0.2724 - val_rmse: 0.3124\n",
      "Epoch 91/100\n",
      "250/250 [==============================] - 0s 59us/sample - loss: 0.1693 - mean_absolute_error: 0.1693 - rmse: 0.2197 - val_loss: 0.2726 - val_mean_absolute_error: 0.2726 - val_rmse: 0.3127\n",
      "Epoch 92/100\n",
      "250/250 [==============================] - 0s 65us/sample - loss: 0.1693 - mean_absolute_error: 0.1693 - rmse: 0.2199 - val_loss: 0.2731 - val_mean_absolute_error: 0.2731 - val_rmse: 0.3133\n",
      "Epoch 93/100\n",
      "250/250 [==============================] - 0s 54us/sample - loss: 0.1698 - mean_absolute_error: 0.1698 - rmse: 0.2204 - val_loss: 0.2727 - val_mean_absolute_error: 0.2727 - val_rmse: 0.3128\n",
      "Epoch 94/100\n",
      "250/250 [==============================] - 0s 68us/sample - loss: 0.1697 - mean_absolute_error: 0.1697 - rmse: 0.2201 - val_loss: 0.2719 - val_mean_absolute_error: 0.2719 - val_rmse: 0.3119\n",
      "Epoch 95/100\n",
      "250/250 [==============================] - 0s 58us/sample - loss: 0.1694 - mean_absolute_error: 0.1694 - rmse: 0.2200 - val_loss: 0.2718 - val_mean_absolute_error: 0.2718 - val_rmse: 0.3117\n",
      "Epoch 96/100\n",
      "250/250 [==============================] - 0s 64us/sample - loss: 0.1696 - mean_absolute_error: 0.1696 - rmse: 0.2200 - val_loss: 0.2723 - val_mean_absolute_error: 0.2723 - val_rmse: 0.3123\n",
      "Epoch 97/100\n",
      "250/250 [==============================] - 0s 61us/sample - loss: 0.1695 - mean_absolute_error: 0.1695 - rmse: 0.2200 - val_loss: 0.2729 - val_mean_absolute_error: 0.2729 - val_rmse: 0.3130\n",
      "Epoch 98/100\n",
      "250/250 [==============================] - 0s 70us/sample - loss: 0.1695 - mean_absolute_error: 0.1695 - rmse: 0.2199 - val_loss: 0.2728 - val_mean_absolute_error: 0.2728 - val_rmse: 0.3129\n",
      "Epoch 99/100\n",
      "250/250 [==============================] - 0s 70us/sample - loss: 0.1692 - mean_absolute_error: 0.1692 - rmse: 0.2196 - val_loss: 0.2723 - val_mean_absolute_error: 0.2723 - val_rmse: 0.3123\n",
      "Epoch 100/100\n",
      "250/250 [==============================] - 0s 60us/sample - loss: 0.1697 - mean_absolute_error: 0.1697 - rmse: 0.2201 - val_loss: 0.2717 - val_mean_absolute_error: 0.2717 - val_rmse: 0.3116\n",
      "dict_keys(['loss', 'mean_absolute_error', 'rmse', 'val_loss', 'val_mean_absolute_error', 'val_rmse'])\n",
      "{'loss': [0.20488522946834564, 0.21551434695720673, 0.21174462139606476, 0.19770698249340057, 0.18946494162082672, 0.18750141561031342, 0.1849176287651062, 0.18550871312618256, 0.18450921773910522, 0.1820521056652069, 0.18107281625270844, 0.18013295531272888, 0.17863215506076813, 0.1775943487882614, 0.17673493921756744, 0.1773330122232437, 0.1766723394393921, 0.17593760788440704, 0.1739504635334015, 0.17433638870716095, 0.17492984235286713, 0.17483755946159363, 0.17439649999141693, 0.17353194952011108, 0.17291651666164398, 0.17411556839942932, 0.17213433980941772, 0.17309974133968353, 0.17311394214630127, 0.17162366211414337, 0.17235428094863892, 0.17330673336982727, 0.17198841273784637, 0.1730695366859436, 0.17169354856014252, 0.17153003811836243, 0.17081859707832336, 0.1718134731054306, 0.17169365286827087, 0.17083822190761566, 0.17053888738155365, 0.17118743062019348, 0.17211847007274628, 0.17042042315006256, 0.170724555850029, 0.17064160108566284, 0.16980545222759247, 0.1707603633403778, 0.1705940067768097, 0.17054571211338043, 0.17042940855026245, 0.17048735916614532, 0.17005690932273865, 0.16960394382476807, 0.17043724656105042, 0.17002928256988525, 0.17066550254821777, 0.16952009499073029, 0.17013218998908997, 0.17079223692417145, 0.1704372763633728, 0.1700560599565506, 0.16971853375434875, 0.16970159113407135, 0.16979694366455078, 0.16984906792640686, 0.16946646571159363, 0.1696075052022934, 0.16999651491641998, 0.17003004252910614, 0.17032550275325775, 0.16957885026931763, 0.1704084277153015, 0.1696622520685196, 0.1688973754644394, 0.16973116993904114, 0.16910162568092346, 0.16932456195354462, 0.16917946934700012, 0.16892847418785095, 0.1698760986328125, 0.16979223489761353, 0.1694466918706894, 0.16929620504379272, 0.17016731202602386, 0.16899216175079346, 0.16953957080841064, 0.16897116601467133, 0.16923381388187408, 0.16947002708911896, 0.16925452649593353, 0.1693490594625473, 0.16979588568210602, 0.1696690171957016, 0.16944321990013123, 0.1695781946182251, 0.16949991881847382, 0.16945040225982666, 0.16919447481632233, 0.16971254348754883], 'mean_absolute_error': [0.20488523, 0.21551435, 0.21174462, 0.19770698, 0.18946494, 0.18750142, 0.18491763, 0.18550871, 0.18450922, 0.1820521, 0.18107282, 0.18013296, 0.17863216, 0.17759435, 0.17673494, 0.17733301, 0.17667234, 0.17593761, 0.17395046, 0.17433639, 0.17492984, 0.17483756, 0.1743965, 0.17353195, 0.17291652, 0.17411557, 0.17213434, 0.17309974, 0.17311394, 0.17162366, 0.17235428, 0.17330673, 0.17198841, 0.17306954, 0.17169355, 0.17153004, 0.1708186, 0.17181347, 0.17169365, 0.17083822, 0.17053889, 0.17118743, 0.17211847, 0.17042042, 0.17072456, 0.1706416, 0.16980545, 0.17076036, 0.170594, 0.17054571, 0.17042941, 0.17048736, 0.17005691, 0.16960394, 0.17043725, 0.17002928, 0.1706655, 0.1695201, 0.17013219, 0.17079224, 0.17043728, 0.17005606, 0.16971853, 0.16970159, 0.16979694, 0.16984907, 0.16946647, 0.1696075, 0.16999651, 0.17003004, 0.1703255, 0.16957885, 0.17040843, 0.16966225, 0.16889738, 0.16973117, 0.16910163, 0.16932456, 0.16917947, 0.16892847, 0.1698761, 0.16979223, 0.16944669, 0.1692962, 0.17016731, 0.16899216, 0.16953957, 0.16897117, 0.16923381, 0.16947003, 0.16925453, 0.16934906, 0.16979589, 0.16966902, 0.16944322, 0.1695782, 0.16949992, 0.1694504, 0.16919447, 0.16971254], 'rmse': [0.25623596, 0.26950788, 0.26614493, 0.25107402, 0.24078557, 0.2374991, 0.23444712, 0.23539145, 0.23484123, 0.23282333, 0.232562, 0.23189408, 0.23025951, 0.22885709, 0.227659, 0.22831255, 0.22745943, 0.22654237, 0.2242167, 0.22462103, 0.22533275, 0.22516473, 0.22449495, 0.22347592, 0.22257173, 0.22387308, 0.22190243, 0.22321744, 0.22378562, 0.22233805, 0.22337197, 0.22458608, 0.22311848, 0.22399978, 0.22221719, 0.22181977, 0.22099395, 0.22212954, 0.22204177, 0.22113653, 0.22083642, 0.22148326, 0.2226613, 0.22047012, 0.22082314, 0.22077408, 0.21999395, 0.22132775, 0.22139253, 0.221291, 0.22123179, 0.22126186, 0.22068596, 0.22004806, 0.22087914, 0.22034563, 0.22104843, 0.21990754, 0.22057177, 0.22135678, 0.22095315, 0.22067207, 0.22016996, 0.22010066, 0.22008862, 0.22016892, 0.21981195, 0.21997714, 0.22061878, 0.22063328, 0.22104119, 0.22016622, 0.22093382, 0.22010289, 0.21921006, 0.22009659, 0.21941876, 0.21983641, 0.21977384, 0.21944548, 0.22046466, 0.22027357, 0.21980341, 0.21968554, 0.22054698, 0.21934846, 0.2200551, 0.21947378, 0.21977696, 0.21992196, 0.21972337, 0.21986134, 0.22043462, 0.22013645, 0.22002995, 0.21996559, 0.2199535, 0.2199356, 0.2195528, 0.22011325], 'val_loss': [0.26786643266677856, 0.27828335762023926, 0.27629703283309937, 0.2757183611392975, 0.27795982360839844, 0.2808108925819397, 0.28299838304519653, 0.28374817967414856, 0.2831953465938568, 0.2817038893699646, 0.2787099778652191, 0.27455949783325195, 0.27059492468833923, 0.2683524191379547, 0.26827359199523926, 0.26968705654144287, 0.2720101475715637, 0.2743081748485565, 0.2764158844947815, 0.27729326486587524, 0.27646952867507935, 0.2743853032588959, 0.2721115052700043, 0.2705932855606079, 0.2703637182712555, 0.2708800435066223, 0.27186423540115356, 0.27228742837905884, 0.27191537618637085, 0.271232008934021, 0.2703004777431488, 0.26959189772605896, 0.2699071764945984, 0.2708142399787903, 0.27218595147132874, 0.27347344160079956, 0.2739830017089844, 0.27319392561912537, 0.27151525020599365, 0.27019548416137695, 0.2701408863067627, 0.27086159586906433, 0.2714930474758148, 0.2720143795013428, 0.2720501124858856, 0.2715860605239868, 0.2718874216079712, 0.2725081443786621, 0.2732356786727905, 0.2738436758518219, 0.2735942006111145, 0.27267196774482727, 0.271935373544693, 0.27215585112571716, 0.27241379022598267, 0.27292442321777344, 0.2729651629924774, 0.2731359601020813, 0.27321872115135193, 0.2724512815475464, 0.2717827558517456, 0.2720630466938019, 0.2730776071548462, 0.2739065885543823, 0.2734220623970032, 0.272194504737854, 0.2714845836162567, 0.2720520794391632, 0.2730885446071625, 0.2737226188182831, 0.2730444669723511, 0.27256807684898376, 0.2719181776046753, 0.27177494764328003, 0.2728934586048126, 0.2736471891403198, 0.27361637353897095, 0.2729777991771698, 0.272289901971817, 0.27250829339027405, 0.2726086378097534, 0.27243712544441223, 0.2722703814506531, 0.27268606424331665, 0.27244675159454346, 0.27277612686157227, 0.27283093333244324, 0.2730100154876709, 0.27284616231918335, 0.2723541557788849, 0.2726016938686371, 0.27309364080429077, 0.2727189064025879, 0.2718992531299591, 0.2717576026916504, 0.2723087966442108, 0.27292707562446594, 0.2728188633918762, 0.27225369215011597, 0.27166005969047546], 'val_mean_absolute_error': [0.26786643, 0.27828336, 0.27629703, 0.27571836, 0.27795982, 0.2808109, 0.28299838, 0.28374818, 0.28319535, 0.2817039, 0.27870998, 0.2745595, 0.27059492, 0.26835242, 0.2682736, 0.26968706, 0.27201015, 0.27430817, 0.27641588, 0.27729326, 0.27646953, 0.2743853, 0.2721115, 0.2705933, 0.27036372, 0.27088004, 0.27186424, 0.27228743, 0.27191538, 0.271232, 0.27030048, 0.2695919, 0.26990718, 0.27081424, 0.27218595, 0.27347344, 0.273983, 0.27319393, 0.27151525, 0.27019548, 0.2701409, 0.2708616, 0.27149305, 0.27201438, 0.2720501, 0.27158606, 0.27188742, 0.27250814, 0.27323568, 0.27384368, 0.2735942, 0.27267197, 0.27193537, 0.27215585, 0.2724138, 0.27292442, 0.27296516, 0.27313596, 0.27321872, 0.27245128, 0.27178276, 0.27206305, 0.2730776, 0.2739066, 0.27342206, 0.2721945, 0.27148458, 0.27205208, 0.27308854, 0.27372262, 0.27304447, 0.27256808, 0.27191818, 0.27177495, 0.27289346, 0.2736472, 0.27361637, 0.2729778, 0.2722899, 0.2725083, 0.27260864, 0.27243713, 0.27227038, 0.27268606, 0.27244675, 0.27277613, 0.27283093, 0.27301002, 0.27284616, 0.27235416, 0.2726017, 0.27309364, 0.2727189, 0.27189925, 0.2717576, 0.2723088, 0.27292708, 0.27281886, 0.2722537, 0.27166006], 'val_rmse': [0.32146746, 0.3316517, 0.3262302, 0.3230599, 0.3240273, 0.3262061, 0.32760864, 0.327201, 0.3255089, 0.3232818, 0.3199465, 0.31573513, 0.31185135, 0.30981883, 0.31002927, 0.31157768, 0.31392092, 0.31609538, 0.31788695, 0.31821382, 0.31670657, 0.31391528, 0.3111434, 0.30958024, 0.3096817, 0.31059605, 0.3119602, 0.31252146, 0.31213012, 0.31132445, 0.31018582, 0.3092693, 0.3095453, 0.31055218, 0.3121588, 0.31365484, 0.31416112, 0.31310126, 0.31102705, 0.3094491, 0.3093892, 0.3102668, 0.31107053, 0.3117582, 0.31187117, 0.31138197, 0.31175137, 0.31250572, 0.31338271, 0.31411645, 0.3138281, 0.31271577, 0.31180683, 0.3120092, 0.31225586, 0.3128372, 0.3129335, 0.31320462, 0.3133603, 0.31248572, 0.31168675, 0.31195846, 0.3130814, 0.31402352, 0.31347984, 0.3121033, 0.3113217, 0.3119783, 0.31317374, 0.31391457, 0.31314892, 0.31260806, 0.3118714, 0.31170613, 0.31295183, 0.31378725, 0.31372207, 0.31298453, 0.31223667, 0.31253105, 0.3126892, 0.31249943, 0.31225944, 0.31268582, 0.31240374, 0.31277803, 0.3128653, 0.31311923, 0.31298652, 0.31243455, 0.3127128, 0.3132579, 0.3128164, 0.31186172, 0.31169608, 0.31232488, 0.31302625, 0.31291768, 0.31229624, 0.3116392]}\n",
      "{'batch_size': 1024, 'epochs': 100, 'steps': 1, 'samples': 250, 'verbose': 0, 'do_validation': True, 'metrics': ['loss', 'mean_absolute_error', 'rmse', 'val_loss', 'val_mean_absolute_error', 'val_rmse']}\n"
     ]
    }
   ],
   "source": [
    "# Model training:\n",
    "with tf.device('/gpu:0'): \n",
    "    # Create optimizer\n",
    "    gruOptimizerBO = BayesianOptimization(build_model, \n",
    "                                objective = objective,\n",
    "                                max_trials = trials, \n",
    "                                executions_per_trial = executions,\n",
    "                                project_name = projectNameBO,\n",
    "                                overwrite=True)\n",
    "    \n",
    "    # gruOptimizerBO.search_space_summary()\n",
    "\n",
    "    # Search execution with epochs\n",
    "    initialTime = time.time()\n",
    "    gruOptimizerBO.search(x = xtrain,\n",
    "                        y = ytrain, \n",
    "                        epochs = epchs,\n",
    "                        batch_size = batch,\n",
    "                        validation_data = (xval, yval),\n",
    "                        verbose = 0)\n",
    "    finalTime = time.time()\n",
    "\n",
    "    # Get best model generated\n",
    "    model = gruOptimizerBO.get_best_models(num_models = numBestModels)[0]\n",
    "\n",
    "    # Model training with epochs \n",
    "    history = model.fit(\n",
    "                xtrain,\n",
    "                ytrain,\n",
    "                epochs = epchs,\n",
    "                batch_size = batch,\n",
    "                validation_data=(xval, yval))\n",
    "\n",
    "    # Show model info\n",
    "    print(history.history.keys())\n",
    "    print(model.history.history)\n",
    "    print(model.history.params)"
   ]
  },
  {
   "cell_type": "code",
   "execution_count": 140,
   "metadata": {},
   "outputs": [
    {
     "name": "stdout",
     "output_type": "stream",
     "text": [
      "------------------------------------------------------\n",
      "SUMMARY BO\n",
      "------------------------------------------------------\n",
      "Tiempo de entrenamiento (en segundos):\t345.2744183540344\n"
     ]
    },
    {
     "data": {
      "image/png": "[encoded data removed]",
      "text/plain": [
       "<Figure size 432x288 with 1 Axes>"
      ]
     },
     "metadata": {
      "needs_background": "light"
     },
     "output_type": "display_data"
    },
    {
     "data": {
      "text/html": [
       "<span style=\"color:#4527A0\"><h1 style=\"font-size:18px\">Results summary</h1></span>"
      ],
      "text/plain": [
       "<IPython.core.display.HTML object>"
      ]
     },
     "metadata": {},
     "output_type": "display_data"
    },
    {
     "data": {
      "text/html": [
       "<span style=\"color:cyan\"> |-Results in .\\W7_PV-gru-bo</span>"
      ],
      "text/plain": [
       "<IPython.core.display.HTML object>"
      ]
     },
     "metadata": {},
     "output_type": "display_data"
    },
    {
     "data": {
      "text/html": [
       "<span style=\"color:cyan\"> |-Showing 1 best trials</span>"
      ],
      "text/plain": [
       "<IPython.core.display.HTML object>"
      ]
     },
     "metadata": {},
     "output_type": "display_data"
    },
    {
     "data": {
      "text/html": [
       "<span style=\"color:cyan\"> |-Objective(name='val_mean_absolute_error', direction='min')</span>"
      ],
      "text/plain": [
       "<IPython.core.display.HTML object>"
      ]
     },
     "metadata": {},
     "output_type": "display_data"
    },
    {
     "data": {
      "text/html": [
       "<span style=\"color:#4527A0\"><h1 style=\"font-size:18px\">Trial summary</h1></span>"
      ],
      "text/plain": [
       "<IPython.core.display.HTML object>"
      ]
     },
     "metadata": {},
     "output_type": "display_data"
    },
    {
     "data": {
      "text/html": [
       "<span style=\"color:cyan\"> |-Trial ID: 6722663d67ac7882ec09716a3a75c5c3</span>"
      ],
      "text/plain": [
       "<IPython.core.display.HTML object>"
      ]
     },
     "metadata": {},
     "output_type": "display_data"
    },
    {
     "data": {
      "text/html": [
       "<span style=\"color:cyan\"> |-Score: 0.2446974813938141</span>"
      ],
      "text/plain": [
       "<IPython.core.display.HTML object>"
      ]
     },
     "metadata": {},
     "output_type": "display_data"
    },
    {
     "data": {
      "text/html": [
       "<span style=\"color:cyan\"> |-Best step: 0</span>"
      ],
      "text/plain": [
       "<IPython.core.display.HTML object>"
      ]
     },
     "metadata": {},
     "output_type": "display_data"
    },
    {
     "data": {
      "text/html": [
       "<span style=\"color:#7E57C2\"><h2 style=\"font-size:16px\">Hyperparameters:</h2></span>"
      ],
      "text/plain": [
       "<IPython.core.display.HTML object>"
      ]
     },
     "metadata": {},
     "output_type": "display_data"
    },
    {
     "data": {
      "text/html": [
       "<span style=\"color:cyan\"> |-dropout: 0.013919329848432844</span>"
      ],
      "text/plain": [
       "<IPython.core.display.HTML object>"
      ]
     },
     "metadata": {},
     "output_type": "display_data"
    },
    {
     "data": {
      "text/html": [
       "<span style=\"color:blue\"> |-learning_rate: 0.01</span>"
      ],
      "text/plain": [
       "<IPython.core.display.HTML object>"
      ]
     },
     "metadata": {},
     "output_type": "display_data"
    },
    {
     "data": {
      "text/html": [
       "<span style=\"color:cyan\"> |-units: 50</span>"
      ],
      "text/plain": [
       "<IPython.core.display.HTML object>"
      ]
     },
     "metadata": {},
     "output_type": "display_data"
    },
    {
     "name": "stdout",
     "output_type": "stream",
     "text": [
      "359/359 [==============================] - ETA: 0s - loss: 0.3083 - mean_absolute_error: 0.3083 - rmse: 0.36 - 0s 114us/sample - loss: 0.2093 - mean_absolute_error: 0.2089 - rmse: 0.2615\n",
      "Score: [0.2092817211549594, 0.20888357, 0.2615485]\n"
     ]
    }
   ],
   "source": [
    "# Model evaluation:\n",
    "print(\"------------------------------------------------------\")\n",
    "print(\"SUMMARY BO\")\n",
    "print(\"------------------------------------------------------\")\n",
    "\n",
    "print(\"Tiempo de entrenamiento (en segundos):\\t\"+str(finalTime - initialTime))\n",
    "\n",
    "# Training and Validation loss curves\n",
    "plt.plot(history.history['loss'], label = 'Training loss')\n",
    "plt.plot(history.history['val_loss'], label = 'Validation loss')\n",
    "plt.legend()\n",
    "plt.show()\n",
    "\n",
    "# Results summary\n",
    "gruOptimizerBO.results_summary(num_trials = 1)\n",
    "\n",
    "# Model evaluation with validation data\n",
    "score = model.evaluate(xtest, ytest)\n",
    "print('Score:', score)"
   ]
  }
 ],
 "metadata": {
  "kernelspec": {
   "display_name": "myenv",
   "language": "python",
   "name": "python3"
  },
  "language_info": {
   "codemirror_mode": {
    "name": "ipython",
    "version": 3
   },
   "file_extension": ".py",
   "mimetype": "text/x-python",
   "name": "python",
   "nbconvert_exporter": "python",
   "pygments_lexer": "ipython3",
   "version": "3.6.13"
  }
 },
 "nbformat": 4,
 "nbformat_minor": 2
}
